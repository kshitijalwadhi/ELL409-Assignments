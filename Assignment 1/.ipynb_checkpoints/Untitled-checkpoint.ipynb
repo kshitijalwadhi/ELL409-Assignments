{
 "cells": [
  {
   "cell_type": "code",
   "execution_count": 47,
   "metadata": {},
   "outputs": [],
   "source": [
    "import numpy as np\n",
    "import argparse\n",
    "import csv\n",
    "import matplotlib.pyplot as plt"
   ]
  },
  {
   "cell_type": "code",
   "execution_count": 33,
   "metadata": {},
   "outputs": [],
   "source": [
    "def readData(filename):\n",
    "    X = []\n",
    "    y = []\n",
    "    with open(filename) as csv_file:\n",
    "        csv_reader = csv.reader(csv_file, delimiter=',')\n",
    "        for row in csv_reader:\n",
    "            X.append(float(row[0]))\n",
    "            y.append(float(row[1]))\n",
    "    return X,t\n",
    "X,y = readData('gaussian.csv')"
   ]
  },
  {
   "cell_type": "code",
   "execution_count": 34,
   "metadata": {},
   "outputs": [],
   "source": [
    "Xsub = X[:20]\n",
    "ysub = y[:20]"
   ]
  },
  {
   "cell_type": "code",
   "execution_count": 35,
   "metadata": {},
   "outputs": [],
   "source": [
    "# highest power is m here\n",
    "def makeDesignMat(X,m):\n",
    "    return np.vander(X,m+1,increasing=True)"
   ]
  },
  {
   "cell_type": "code",
   "execution_count": 56,
   "metadata": {},
   "outputs": [],
   "source": [
    "Xdes = makeDesignMat(Xsub,5)"
   ]
  },
  {
   "cell_type": "code",
   "execution_count": 58,
   "metadata": {},
   "outputs": [],
   "source": [
    "# θ = (X'X)−1 . X' . y\n",
    "theta = np.dot(np.linalg.inv(np.dot(Xdes.transpose(),Xdes)),np.dot(Xdes.transpose(),ysub))"
   ]
  },
  {
   "cell_type": "code",
   "execution_count": 62,
   "metadata": {},
   "outputs": [
    {
     "data": {
      "image/png": "[encoded data removed]",
      "text/plain": [
       "<Figure size 432x288 with 1 Axes>"
      ]
     },
     "metadata": {
      "needs_background": "light"
     },
     "output_type": "display_data"
    }
   ],
   "source": [
    "def plot_reg(x,y,theta):\n",
    "    def aux(X_line,theta):\n",
    "        temp = 0\n",
    "        for i in range(len(theta)):\n",
    "            temp += np.power(X_line,i) * theta[i]\n",
    "        return temp\n",
    "    plt.scatter(x,y,color='m',marker ='o',s=30)\n",
    "    x_line = np.linspace(min(Xsub),max(Xsub),100)\n",
    "    y_pred = aux(x_line,theta)\n",
    "    plt.plot(x_line,y_pred, color='g')\n",
    "    plt.xlabel('X')\n",
    "    plt.ylabel('y')\n",
    "    plt.show()\n",
    "plot_reg(Xsub,ysub,theta)"
   ]
  },
  {
   "cell_type": "code",
   "execution_count": null,
   "metadata": {},
   "outputs": [],
   "source": []
  }
 ],
 "metadata": {
  "kernelspec": {
   "display_name": "Python 3",
   "language": "python",
   "name": "python3"
  },
  "language_info": {
   "codemirror_mode": {
    "name": "ipython",
    "version": 3
   },
   "file_extension": ".py",
   "mimetype": "text/x-python",
   "name": "python",
   "nbconvert_exporter": "python",
   "pygments_lexer": "ipython3",
   "version": "3.7.6"
  }
 },
 "nbformat": 4,
 "nbformat_minor": 4
}
