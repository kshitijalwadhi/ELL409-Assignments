{
 "cells": [
  {
   "cell_type": "code",
   "execution_count": 127,
   "metadata": {},
   "outputs": [],
   "source": [
    "import numpy as np\n",
    "import argparse\n",
    "import csv\n",
    "import matplotlib.pyplot as plt\n",
    "from tqdm.notebook import tqdm\n",
    "np.random.seed(42)\n",
    "import math\n",
    "import random\n",
    "random.seed(42)\n",
    "from sklearn import preprocessing\n",
    "import pandas as pd"
   ]
  },
  {
   "cell_type": "code",
   "execution_count": 128,
   "metadata": {},
   "outputs": [],
   "source": [
    "MAX_POWER_M = 3\n",
    "MAX_POWER_Y = 3\n",
    "N_FOLDS = 10\n",
    "REGULARIZATION_LAMBDA = 0.05"
   ]
  },
  {
   "cell_type": "code",
   "execution_count": 129,
   "metadata": {},
   "outputs": [],
   "source": [
    "df = pd.read_csv('train.csv')"
   ]
  },
  {
   "cell_type": "code",
   "execution_count": 130,
   "metadata": {},
   "outputs": [
    {
     "data": {
      "text/html": [
       "<div>\n",
       "<style scoped>\n",
       "    .dataframe tbody tr th:only-of-type {\n",
       "        vertical-align: middle;\n",
       "    }\n",
       "\n",
       "    .dataframe tbody tr th {\n",
       "        vertical-align: top;\n",
       "    }\n",
       "\n",
       "    .dataframe thead th {\n",
       "        text-align: right;\n",
       "    }\n",
       "</style>\n",
       "<table border=\"1\" class=\"dataframe\">\n",
       "  <thead>\n",
       "    <tr style=\"text-align: right;\">\n",
       "      <th></th>\n",
       "      <th>id</th>\n",
       "      <th>value</th>\n",
       "    </tr>\n",
       "  </thead>\n",
       "  <tbody>\n",
       "    <tr>\n",
       "      <th>0</th>\n",
       "      <td>11/1/04</td>\n",
       "      <td>0.5992</td>\n",
       "    </tr>\n",
       "    <tr>\n",
       "      <th>1</th>\n",
       "      <td>10/1/12</td>\n",
       "      <td>0.9259</td>\n",
       "    </tr>\n",
       "    <tr>\n",
       "      <th>2</th>\n",
       "      <td>1/1/07</td>\n",
       "      <td>5.9182</td>\n",
       "    </tr>\n",
       "    <tr>\n",
       "      <th>3</th>\n",
       "      <td>2/1/06</td>\n",
       "      <td>9.2365</td>\n",
       "    </tr>\n",
       "    <tr>\n",
       "      <th>4</th>\n",
       "      <td>6/1/07</td>\n",
       "      <td>22.7446</td>\n",
       "    </tr>\n",
       "    <tr>\n",
       "      <th>...</th>\n",
       "      <td>...</td>\n",
       "      <td>...</td>\n",
       "    </tr>\n",
       "    <tr>\n",
       "      <th>105</th>\n",
       "      <td>9/1/06</td>\n",
       "      <td>3.2992</td>\n",
       "    </tr>\n",
       "    <tr>\n",
       "      <th>106</th>\n",
       "      <td>4/1/06</td>\n",
       "      <td>22.0183</td>\n",
       "    </tr>\n",
       "    <tr>\n",
       "      <th>107</th>\n",
       "      <td>7/1/05</td>\n",
       "      <td>22.2829</td>\n",
       "    </tr>\n",
       "    <tr>\n",
       "      <th>108</th>\n",
       "      <td>6/1/08</td>\n",
       "      <td>23.1280</td>\n",
       "    </tr>\n",
       "    <tr>\n",
       "      <th>109</th>\n",
       "      <td>10/1/10</td>\n",
       "      <td>3.1507</td>\n",
       "    </tr>\n",
       "  </tbody>\n",
       "</table>\n",
       "<p>110 rows × 2 columns</p>\n",
       "</div>"
      ],
      "text/plain": [
       "          id    value\n",
       "0    11/1/04   0.5992\n",
       "1    10/1/12   0.9259\n",
       "2     1/1/07   5.9182\n",
       "3     2/1/06   9.2365\n",
       "4     6/1/07  22.7446\n",
       "..       ...      ...\n",
       "105   9/1/06   3.2992\n",
       "106   4/1/06  22.0183\n",
       "107   7/1/05  22.2829\n",
       "108   6/1/08  23.1280\n",
       "109  10/1/10   3.1507\n",
       "\n",
       "[110 rows x 2 columns]"
      ]
     },
     "execution_count": 130,
     "metadata": {},
     "output_type": "execute_result"
    }
   ],
   "source": [
    "df"
   ]
  },
  {
   "cell_type": "code",
   "execution_count": 131,
   "metadata": {},
   "outputs": [],
   "source": [
    "df[['month','date','year']] = df['id'].str.split('/',expand = True)"
   ]
  },
  {
   "cell_type": "code",
   "execution_count": 132,
   "metadata": {},
   "outputs": [
    {
     "data": {
      "text/html": [
       "<div>\n",
       "<style scoped>\n",
       "    .dataframe tbody tr th:only-of-type {\n",
       "        vertical-align: middle;\n",
       "    }\n",
       "\n",
       "    .dataframe tbody tr th {\n",
       "        vertical-align: top;\n",
       "    }\n",
       "\n",
       "    .dataframe thead th {\n",
       "        text-align: right;\n",
       "    }\n",
       "</style>\n",
       "<table border=\"1\" class=\"dataframe\">\n",
       "  <thead>\n",
       "    <tr style=\"text-align: right;\">\n",
       "      <th></th>\n",
       "      <th>id</th>\n",
       "      <th>value</th>\n",
       "      <th>month</th>\n",
       "      <th>date</th>\n",
       "      <th>year</th>\n",
       "    </tr>\n",
       "  </thead>\n",
       "  <tbody>\n",
       "    <tr>\n",
       "      <th>0</th>\n",
       "      <td>11/1/04</td>\n",
       "      <td>0.5992</td>\n",
       "      <td>11</td>\n",
       "      <td>1</td>\n",
       "      <td>04</td>\n",
       "    </tr>\n",
       "    <tr>\n",
       "      <th>1</th>\n",
       "      <td>10/1/12</td>\n",
       "      <td>0.9259</td>\n",
       "      <td>10</td>\n",
       "      <td>1</td>\n",
       "      <td>12</td>\n",
       "    </tr>\n",
       "    <tr>\n",
       "      <th>2</th>\n",
       "      <td>1/1/07</td>\n",
       "      <td>5.9182</td>\n",
       "      <td>1</td>\n",
       "      <td>1</td>\n",
       "      <td>07</td>\n",
       "    </tr>\n",
       "    <tr>\n",
       "      <th>3</th>\n",
       "      <td>2/1/06</td>\n",
       "      <td>9.2365</td>\n",
       "      <td>2</td>\n",
       "      <td>1</td>\n",
       "      <td>06</td>\n",
       "    </tr>\n",
       "    <tr>\n",
       "      <th>4</th>\n",
       "      <td>6/1/07</td>\n",
       "      <td>22.7446</td>\n",
       "      <td>6</td>\n",
       "      <td>1</td>\n",
       "      <td>07</td>\n",
       "    </tr>\n",
       "    <tr>\n",
       "      <th>...</th>\n",
       "      <td>...</td>\n",
       "      <td>...</td>\n",
       "      <td>...</td>\n",
       "      <td>...</td>\n",
       "      <td>...</td>\n",
       "    </tr>\n",
       "    <tr>\n",
       "      <th>105</th>\n",
       "      <td>9/1/06</td>\n",
       "      <td>3.2992</td>\n",
       "      <td>9</td>\n",
       "      <td>1</td>\n",
       "      <td>06</td>\n",
       "    </tr>\n",
       "    <tr>\n",
       "      <th>106</th>\n",
       "      <td>4/1/06</td>\n",
       "      <td>22.0183</td>\n",
       "      <td>4</td>\n",
       "      <td>1</td>\n",
       "      <td>06</td>\n",
       "    </tr>\n",
       "    <tr>\n",
       "      <th>107</th>\n",
       "      <td>7/1/05</td>\n",
       "      <td>22.2829</td>\n",
       "      <td>7</td>\n",
       "      <td>1</td>\n",
       "      <td>05</td>\n",
       "    </tr>\n",
       "    <tr>\n",
       "      <th>108</th>\n",
       "      <td>6/1/08</td>\n",
       "      <td>23.1280</td>\n",
       "      <td>6</td>\n",
       "      <td>1</td>\n",
       "      <td>08</td>\n",
       "    </tr>\n",
       "    <tr>\n",
       "      <th>109</th>\n",
       "      <td>10/1/10</td>\n",
       "      <td>3.1507</td>\n",
       "      <td>10</td>\n",
       "      <td>1</td>\n",
       "      <td>10</td>\n",
       "    </tr>\n",
       "  </tbody>\n",
       "</table>\n",
       "<p>110 rows × 5 columns</p>\n",
       "</div>"
      ],
      "text/plain": [
       "          id    value month date year\n",
       "0    11/1/04   0.5992    11    1   04\n",
       "1    10/1/12   0.9259    10    1   12\n",
       "2     1/1/07   5.9182     1    1   07\n",
       "3     2/1/06   9.2365     2    1   06\n",
       "4     6/1/07  22.7446     6    1   07\n",
       "..       ...      ...   ...  ...  ...\n",
       "105   9/1/06   3.2992     9    1   06\n",
       "106   4/1/06  22.0183     4    1   06\n",
       "107   7/1/05  22.2829     7    1   05\n",
       "108   6/1/08  23.1280     6    1   08\n",
       "109  10/1/10   3.1507    10    1   10\n",
       "\n",
       "[110 rows x 5 columns]"
      ]
     },
     "execution_count": 132,
     "metadata": {},
     "output_type": "execute_result"
    }
   ],
   "source": [
    "df"
   ]
  },
  {
   "cell_type": "code",
   "execution_count": 44,
   "metadata": {},
   "outputs": [
    {
     "data": {
      "text/plain": [
       "26.551599999999997"
      ]
     },
     "execution_count": 44,
     "metadata": {},
     "output_type": "execute_result"
    }
   ],
   "source": [
    "np.mean(df[df['month']=='5']['value'])"
   ]
  },
  {
   "cell_type": "code",
   "execution_count": 8,
   "metadata": {},
   "outputs": [
    {
     "data": {
      "text/html": [
       "<div>\n",
       "<style scoped>\n",
       "    .dataframe tbody tr th:only-of-type {\n",
       "        vertical-align: middle;\n",
       "    }\n",
       "\n",
       "    .dataframe tbody tr th {\n",
       "        vertical-align: top;\n",
       "    }\n",
       "\n",
       "    .dataframe thead th {\n",
       "        text-align: right;\n",
       "    }\n",
       "</style>\n",
       "<table border=\"1\" class=\"dataframe\">\n",
       "  <thead>\n",
       "    <tr style=\"text-align: right;\">\n",
       "      <th></th>\n",
       "      <th>id</th>\n",
       "      <th>value</th>\n",
       "      <th>month</th>\n",
       "      <th>date</th>\n",
       "      <th>year</th>\n",
       "    </tr>\n",
       "  </thead>\n",
       "  <tbody>\n",
       "    <tr>\n",
       "      <th>12</th>\n",
       "      <td>1/1/05</td>\n",
       "      <td>-1.2773</td>\n",
       "      <td>1</td>\n",
       "      <td>1</td>\n",
       "      <td>05</td>\n",
       "    </tr>\n",
       "    <tr>\n",
       "      <th>24</th>\n",
       "      <td>11/1/05</td>\n",
       "      <td>-1.0235</td>\n",
       "      <td>11</td>\n",
       "      <td>1</td>\n",
       "      <td>05</td>\n",
       "    </tr>\n",
       "    <tr>\n",
       "      <th>44</th>\n",
       "      <td>10/1/05</td>\n",
       "      <td>6.6850</td>\n",
       "      <td>10</td>\n",
       "      <td>1</td>\n",
       "      <td>05</td>\n",
       "    </tr>\n",
       "    <tr>\n",
       "      <th>46</th>\n",
       "      <td>2/1/05</td>\n",
       "      <td>8.9098</td>\n",
       "      <td>2</td>\n",
       "      <td>1</td>\n",
       "      <td>05</td>\n",
       "    </tr>\n",
       "    <tr>\n",
       "      <th>48</th>\n",
       "      <td>5/1/05</td>\n",
       "      <td>30.1723</td>\n",
       "      <td>5</td>\n",
       "      <td>1</td>\n",
       "      <td>05</td>\n",
       "    </tr>\n",
       "    <tr>\n",
       "      <th>53</th>\n",
       "      <td>6/1/05</td>\n",
       "      <td>25.3528</td>\n",
       "      <td>6</td>\n",
       "      <td>1</td>\n",
       "      <td>05</td>\n",
       "    </tr>\n",
       "    <tr>\n",
       "      <th>58</th>\n",
       "      <td>12/1/05</td>\n",
       "      <td>-3.8558</td>\n",
       "      <td>12</td>\n",
       "      <td>1</td>\n",
       "      <td>05</td>\n",
       "    </tr>\n",
       "    <tr>\n",
       "      <th>63</th>\n",
       "      <td>9/1/05</td>\n",
       "      <td>6.7498</td>\n",
       "      <td>9</td>\n",
       "      <td>1</td>\n",
       "      <td>05</td>\n",
       "    </tr>\n",
       "    <tr>\n",
       "      <th>92</th>\n",
       "      <td>8/1/05</td>\n",
       "      <td>12.2146</td>\n",
       "      <td>8</td>\n",
       "      <td>1</td>\n",
       "      <td>05</td>\n",
       "    </tr>\n",
       "    <tr>\n",
       "      <th>96</th>\n",
       "      <td>4/1/05</td>\n",
       "      <td>23.9407</td>\n",
       "      <td>4</td>\n",
       "      <td>1</td>\n",
       "      <td>05</td>\n",
       "    </tr>\n",
       "    <tr>\n",
       "      <th>100</th>\n",
       "      <td>3/1/05</td>\n",
       "      <td>14.0236</td>\n",
       "      <td>3</td>\n",
       "      <td>1</td>\n",
       "      <td>05</td>\n",
       "    </tr>\n",
       "    <tr>\n",
       "      <th>107</th>\n",
       "      <td>7/1/05</td>\n",
       "      <td>22.2829</td>\n",
       "      <td>7</td>\n",
       "      <td>1</td>\n",
       "      <td>05</td>\n",
       "    </tr>\n",
       "  </tbody>\n",
       "</table>\n",
       "</div>"
      ],
      "text/plain": [
       "          id    value month date year\n",
       "12    1/1/05  -1.2773     1    1   05\n",
       "24   11/1/05  -1.0235    11    1   05\n",
       "44   10/1/05   6.6850    10    1   05\n",
       "46    2/1/05   8.9098     2    1   05\n",
       "48    5/1/05  30.1723     5    1   05\n",
       "53    6/1/05  25.3528     6    1   05\n",
       "58   12/1/05  -3.8558    12    1   05\n",
       "63    9/1/05   6.7498     9    1   05\n",
       "92    8/1/05  12.2146     8    1   05\n",
       "96    4/1/05  23.9407     4    1   05\n",
       "100   3/1/05  14.0236     3    1   05\n",
       "107   7/1/05  22.2829     7    1   05"
      ]
     },
     "execution_count": 8,
     "metadata": {},
     "output_type": "execute_result"
    }
   ],
   "source": [
    "df[df['year']=='05']"
   ]
  },
  {
   "cell_type": "code",
   "execution_count": 9,
   "metadata": {},
   "outputs": [
    {
     "data": {
      "text/html": [
       "<div>\n",
       "<style scoped>\n",
       "    .dataframe tbody tr th:only-of-type {\n",
       "        vertical-align: middle;\n",
       "    }\n",
       "\n",
       "    .dataframe tbody tr th {\n",
       "        vertical-align: top;\n",
       "    }\n",
       "\n",
       "    .dataframe thead th {\n",
       "        text-align: right;\n",
       "    }\n",
       "</style>\n",
       "<table border=\"1\" class=\"dataframe\">\n",
       "  <thead>\n",
       "    <tr style=\"text-align: right;\">\n",
       "      <th></th>\n",
       "      <th>id</th>\n",
       "      <th>value</th>\n",
       "      <th>month</th>\n",
       "      <th>date</th>\n",
       "      <th>year</th>\n",
       "    </tr>\n",
       "  </thead>\n",
       "  <tbody>\n",
       "    <tr>\n",
       "      <th>3</th>\n",
       "      <td>2/1/06</td>\n",
       "      <td>9.2365</td>\n",
       "      <td>2</td>\n",
       "      <td>1</td>\n",
       "      <td>06</td>\n",
       "    </tr>\n",
       "    <tr>\n",
       "      <th>10</th>\n",
       "      <td>6/1/06</td>\n",
       "      <td>27.1375</td>\n",
       "      <td>6</td>\n",
       "      <td>1</td>\n",
       "      <td>06</td>\n",
       "    </tr>\n",
       "    <tr>\n",
       "      <th>32</th>\n",
       "      <td>5/1/06</td>\n",
       "      <td>31.6249</td>\n",
       "      <td>5</td>\n",
       "      <td>1</td>\n",
       "      <td>06</td>\n",
       "    </tr>\n",
       "    <tr>\n",
       "      <th>36</th>\n",
       "      <td>7/1/06</td>\n",
       "      <td>23.1523</td>\n",
       "      <td>7</td>\n",
       "      <td>1</td>\n",
       "      <td>06</td>\n",
       "    </tr>\n",
       "    <tr>\n",
       "      <th>37</th>\n",
       "      <td>12/1/06</td>\n",
       "      <td>-5.4002</td>\n",
       "      <td>12</td>\n",
       "      <td>1</td>\n",
       "      <td>06</td>\n",
       "    </tr>\n",
       "    <tr>\n",
       "      <th>54</th>\n",
       "      <td>11/1/06</td>\n",
       "      <td>1.0582</td>\n",
       "      <td>11</td>\n",
       "      <td>1</td>\n",
       "      <td>06</td>\n",
       "    </tr>\n",
       "    <tr>\n",
       "      <th>55</th>\n",
       "      <td>8/1/06</td>\n",
       "      <td>12.3766</td>\n",
       "      <td>8</td>\n",
       "      <td>1</td>\n",
       "      <td>06</td>\n",
       "    </tr>\n",
       "    <tr>\n",
       "      <th>60</th>\n",
       "      <td>10/1/06</td>\n",
       "      <td>-1.7417</td>\n",
       "      <td>10</td>\n",
       "      <td>1</td>\n",
       "      <td>06</td>\n",
       "    </tr>\n",
       "    <tr>\n",
       "      <th>94</th>\n",
       "      <td>3/1/06</td>\n",
       "      <td>17.0746</td>\n",
       "      <td>3</td>\n",
       "      <td>1</td>\n",
       "      <td>06</td>\n",
       "    </tr>\n",
       "    <tr>\n",
       "      <th>105</th>\n",
       "      <td>9/1/06</td>\n",
       "      <td>3.2992</td>\n",
       "      <td>9</td>\n",
       "      <td>1</td>\n",
       "      <td>06</td>\n",
       "    </tr>\n",
       "    <tr>\n",
       "      <th>106</th>\n",
       "      <td>4/1/06</td>\n",
       "      <td>22.0183</td>\n",
       "      <td>4</td>\n",
       "      <td>1</td>\n",
       "      <td>06</td>\n",
       "    </tr>\n",
       "  </tbody>\n",
       "</table>\n",
       "</div>"
      ],
      "text/plain": [
       "          id    value month date year\n",
       "3     2/1/06   9.2365     2    1   06\n",
       "10    6/1/06  27.1375     6    1   06\n",
       "32    5/1/06  31.6249     5    1   06\n",
       "36    7/1/06  23.1523     7    1   06\n",
       "37   12/1/06  -5.4002    12    1   06\n",
       "54   11/1/06   1.0582    11    1   06\n",
       "55    8/1/06  12.3766     8    1   06\n",
       "60   10/1/06  -1.7417    10    1   06\n",
       "94    3/1/06  17.0746     3    1   06\n",
       "105   9/1/06   3.2992     9    1   06\n",
       "106   4/1/06  22.0183     4    1   06"
      ]
     },
     "execution_count": 9,
     "metadata": {},
     "output_type": "execute_result"
    }
   ],
   "source": [
    "df[df['year']=='06']"
   ]
  },
  {
   "cell_type": "code",
   "execution_count": 133,
   "metadata": {},
   "outputs": [],
   "source": [
    "dataset = []\n",
    "for row in df.iterrows():\n",
    "    dataset.append([int(row[1]['month']),int(row[1]['year']),float(row[1]['value'])])"
   ]
  },
  {
   "cell_type": "code",
   "execution_count": 11,
   "metadata": {},
   "outputs": [],
   "source": [
    "def normdes(des):\n",
    "    des = np.array(des)\n",
    "    scaler = preprocessing.StandardScaler().fit(des)\n",
    "    return scaler.transform(des)"
   ]
  },
  {
   "cell_type": "code",
   "execution_count": 12,
   "metadata": {},
   "outputs": [],
   "source": [
    "# dataset = np.array(dataset)\n",
    "# # max year 14, min year 4, month usual\n",
    "# temp = []\n",
    "# for e in dataset:\n",
    "#     monthnorm = (e[0]-1)/12\n",
    "#     yearnorm = (e[1]-4)/10\n",
    "#     temp.append([monthnorm,yearnorm,e[2]])\n",
    "# dataset = temp"
   ]
  },
  {
   "cell_type": "code",
   "execution_count": 40,
   "metadata": {},
   "outputs": [],
   "source": [
    "def cross_validation_split(dataset):\n",
    "    dataset_split = list()\n",
    "    dataset_copy = list(dataset)\n",
    "    fold_size = int(len(dataset) / N_FOLDS)\n",
    "    for i in range(N_FOLDS):\n",
    "        fold = list()\n",
    "        while len(fold) < fold_size:\n",
    "            index = random.randrange(len(dataset_copy))\n",
    "            fold.append(dataset_copy.pop(index))\n",
    "        dataset_split.append(fold)\n",
    "    return dataset_split"
   ]
  },
  {
   "cell_type": "code",
   "execution_count": 134,
   "metadata": {},
   "outputs": [],
   "source": [
    "# highest power is m\n",
    "def makeDesignMat(x1,x2,m,y):\n",
    "    m1 =  np.vander(x1,m+1,increasing=True)\n",
    "    m2 = np.vander(x2,y+1,increasing=True)\n",
    "    return np.concatenate((m1,m2[:,1:]),axis=1)\n",
    "#temp = makeDesignMat(np.array(dataset)[:,0],np.array(dataset)[:,1],MAX_POWER_M,MAX_POWER_Y)"
   ]
  },
  {
   "cell_type": "code",
   "execution_count": null,
   "metadata": {},
   "outputs": [],
   "source": []
  },
  {
   "cell_type": "code",
   "execution_count": 34,
   "metadata": {},
   "outputs": [],
   "source": [
    "def testError(testX1,testX2,testY,w):\n",
    "    testX = makeDesignMat(testX1,testX2,MAX_POWER_M,MAX_POWER_Y)\n",
    "    #testX = normdes(testX)\n",
    "    pred = np.dot(testX,w)\n",
    "    err = 0.5 * (np.sum(np.square(pred-testY)))/len(testY)\n",
    "    return err"
   ]
  },
  {
   "cell_type": "code",
   "execution_count": 52,
   "metadata": {},
   "outputs": [],
   "source": [
    "def evaluate_moorepenrose(dataset):\n",
    "    folds = cross_validation_split(dataset)\n",
    "    err_list = []\n",
    "    for fold in folds:\n",
    "        trainDS = list(folds)\n",
    "        trainDS.remove(fold)\n",
    "        trainDS = np.array(trainDS)\n",
    "        trainX1 = []\n",
    "        trainX2 = []\n",
    "        trainY = []\n",
    "        for i in range(len(trainDS)):\n",
    "            trainX1.extend(trainDS[i][:,0])\n",
    "            trainX2.extend(trainDS[i][:,1])\n",
    "            trainY.extend(trainDS[i][:,2])\n",
    "        testDS = np.array(fold)\n",
    "        testX1 = testDS[:,0]\n",
    "        testX2 = testDS[:,1]\n",
    "        testY = testDS[:,2]\n",
    "        X = makeDesignMat(trainX1,trainX2,MAX_POWER_M,MAX_POWER_Y)\n",
    "        #X = normdes(X)\n",
    "        #w = np.dot(np.linalg.inv(np.dot(X.transpose(),X)),np.dot(X.transpose(),trainY))\n",
    "        w = np.dot(np.linalg.inv(np.dot(X.transpose(),X) + REGULARIZATION_LAMBDA * np.identity(MAX_POWER_M+MAX_POWER_Y+1) ),np.dot(X.transpose(),trainY))\n",
    "        err = testError(testX1,testX2,testY,w)\n",
    "#         print(f\"Error is: {err}\")\n",
    "#         print(f\"Weights are: {w}\")\n",
    "        err_list.append(err)\n",
    "    avg_error = np.mean(err_list)\n",
    "    #print(err_list)\n",
    "    return avg_error"
   ]
  },
  {
   "cell_type": "code",
   "execution_count": 135,
   "metadata": {},
   "outputs": [],
   "source": [
    "MAX_POWER_M = 6\n",
    "MAX_POWER_Y = 0\n",
    "N_FOLDS = 10\n",
    "REGULARIZATION_LAMBDA = 0.15"
   ]
  },
  {
   "cell_type": "code",
   "execution_count": 50,
   "metadata": {},
   "outputs": [
    {
     "name": "stdout",
     "output_type": "stream",
     "text": [
      "Error is: 3.253786069411533\n",
      "Weights are: [ 1.55985710e+00 -4.26909015e-01  7.10169264e-01  9.08852815e-01\n",
      " -2.77439730e-01  2.58161967e-02 -7.83771745e-04]\n",
      "Error is: 4.061911994196426\n",
      "Weights are: [ 1.84457998e+00  1.79954910e-01  6.95632836e-02  1.17324466e+00\n",
      " -3.26291113e-01  2.98410841e-02 -9.04649219e-04]\n",
      "Error is: 2.4720661554012726\n",
      "Weights are: [ 2.35680966e+00 -3.05293299e-01  2.07061275e-01  1.14048005e+00\n",
      " -3.20754134e-01  2.93933111e-02 -8.91674369e-04]\n",
      "Error is: 1.1990219247288487\n",
      "Weights are: [ 1.29268960e+00  6.46565021e-01 -2.44804644e-01  1.25171828e+00\n",
      " -3.33145935e-01  2.99547145e-02 -8.98457862e-04]\n",
      "Error is: 1.0651125264570256\n",
      "Weights are: [ 5.39774912e-01  8.86021830e-01  4.76440027e-02  1.09439008e+00\n",
      " -3.05973091e-01  2.79874802e-02 -8.46985034e-04]\n",
      "Error is: 4.876506767898063\n",
      "Weights are: [ 1.44222136e+00 -1.28477233e-01  5.99194763e-01  9.39397972e-01\n",
      " -2.84157998e-01  2.65196271e-02 -8.09119320e-04]\n",
      "Error is: 2.0207845270565814\n",
      "Weights are: [ 1.65162329e+00 -2.34430054e-01  3.01246498e-01  1.11131788e+00\n",
      " -3.16938175e-01  2.91468431e-02 -8.85452236e-04]\n",
      "Error is: 3.8539009212424573\n",
      "Weights are: [ 4.00310099e-01  1.39910580e+00 -3.81008437e-01  1.21733926e+00\n",
      " -3.20951825e-01  2.87648339e-02 -8.60095035e-04]\n",
      "Error is: 8.646393699661996\n",
      "Weights are: [ 6.75944119e-01  1.10255787e+00 -3.52153899e-02  1.08379681e+00\n",
      " -2.99996614e-01  2.73696787e-02 -8.28299312e-04]\n",
      "Error is: 3.8787630124431987\n",
      "Weights are: [ 1.67644816e+00 -4.20808203e-02  2.57801863e-02  1.20137581e+00\n",
      " -3.28002059e-01  2.96522586e-02 -8.90103328e-04]\n"
     ]
    },
    {
     "data": {
      "text/plain": [
       "3.5328247598497398"
      ]
     },
     "execution_count": 50,
     "metadata": {},
     "output_type": "execute_result"
    }
   ],
   "source": [
    "evaluate_moorepenrose(dataset)"
   ]
  },
  {
   "cell_type": "code",
   "execution_count": 65,
   "metadata": {},
   "outputs": [
    {
     "data": {
      "application/vnd.jupyter.widget-view+json": {
       "model_id": "361d63c3d230429abd02355c07668061",
       "version_major": 2,
       "version_minor": 0
      },
      "text/plain": [
       "HBox(children=(FloatProgress(value=0.0, max=15.0), HTML(value='')))"
      ]
     },
     "metadata": {},
     "output_type": "display_data"
    },
    {
     "data": {
      "application/vnd.jupyter.widget-view+json": {
       "model_id": "e1e5e5302098443eaf2ae53f6af97f58",
       "version_major": 2,
       "version_minor": 0
      },
      "text/plain": [
       "HBox(children=(FloatProgress(value=0.0, max=15.0), HTML(value='')))"
      ]
     },
     "metadata": {},
     "output_type": "display_data"
    },
    {
     "name": "stdout",
     "output_type": "stream",
     "text": [
      "\n"
     ]
    },
    {
     "data": {
      "application/vnd.jupyter.widget-view+json": {
       "model_id": "d17202468f4c4e9480d18701a23ac317",
       "version_major": 2,
       "version_minor": 0
      },
      "text/plain": [
       "HBox(children=(FloatProgress(value=0.0, max=15.0), HTML(value='')))"
      ]
     },
     "metadata": {},
     "output_type": "display_data"
    },
    {
     "name": "stdout",
     "output_type": "stream",
     "text": [
      "\n"
     ]
    },
    {
     "data": {
      "application/vnd.jupyter.widget-view+json": {
       "model_id": "e886113f697545eab0647af6019fe521",
       "version_major": 2,
       "version_minor": 0
      },
      "text/plain": [
       "HBox(children=(FloatProgress(value=0.0, max=15.0), HTML(value='')))"
      ]
     },
     "metadata": {},
     "output_type": "display_data"
    },
    {
     "name": "stdout",
     "output_type": "stream",
     "text": [
      "\n"
     ]
    },
    {
     "data": {
      "application/vnd.jupyter.widget-view+json": {
       "model_id": "0c721efd2dad44fea6835dfde1d86600",
       "version_major": 2,
       "version_minor": 0
      },
      "text/plain": [
       "HBox(children=(FloatProgress(value=0.0, max=15.0), HTML(value='')))"
      ]
     },
     "metadata": {},
     "output_type": "display_data"
    },
    {
     "name": "stdout",
     "output_type": "stream",
     "text": [
      "\n"
     ]
    },
    {
     "data": {
      "application/vnd.jupyter.widget-view+json": {
       "model_id": "03f9a7c72d194fee81bcdde56e830be5",
       "version_major": 2,
       "version_minor": 0
      },
      "text/plain": [
       "HBox(children=(FloatProgress(value=0.0, max=15.0), HTML(value='')))"
      ]
     },
     "metadata": {},
     "output_type": "display_data"
    },
    {
     "name": "stdout",
     "output_type": "stream",
     "text": [
      "\n"
     ]
    },
    {
     "data": {
      "application/vnd.jupyter.widget-view+json": {
       "model_id": "1eadbd97107c4e95959e2bd1cc12b270",
       "version_major": 2,
       "version_minor": 0
      },
      "text/plain": [
       "HBox(children=(FloatProgress(value=0.0, max=15.0), HTML(value='')))"
      ]
     },
     "metadata": {},
     "output_type": "display_data"
    },
    {
     "name": "stdout",
     "output_type": "stream",
     "text": [
      "\n"
     ]
    },
    {
     "data": {
      "application/vnd.jupyter.widget-view+json": {
       "model_id": "c9683472e1144bf18ff06a09f1e3e6ff",
       "version_major": 2,
       "version_minor": 0
      },
      "text/plain": [
       "HBox(children=(FloatProgress(value=0.0, max=15.0), HTML(value='')))"
      ]
     },
     "metadata": {},
     "output_type": "display_data"
    },
    {
     "name": "stdout",
     "output_type": "stream",
     "text": [
      "\n"
     ]
    },
    {
     "data": {
      "application/vnd.jupyter.widget-view+json": {
       "model_id": "42bec41b9a874175a00771c252f89cbc",
       "version_major": 2,
       "version_minor": 0
      },
      "text/plain": [
       "HBox(children=(FloatProgress(value=0.0, max=15.0), HTML(value='')))"
      ]
     },
     "metadata": {},
     "output_type": "display_data"
    },
    {
     "name": "stdout",
     "output_type": "stream",
     "text": [
      "\n"
     ]
    },
    {
     "data": {
      "application/vnd.jupyter.widget-view+json": {
       "model_id": "6c58212910594dd886ce0f932c0be903",
       "version_major": 2,
       "version_minor": 0
      },
      "text/plain": [
       "HBox(children=(FloatProgress(value=0.0, max=15.0), HTML(value='')))"
      ]
     },
     "metadata": {},
     "output_type": "display_data"
    },
    {
     "name": "stdout",
     "output_type": "stream",
     "text": [
      "\n"
     ]
    },
    {
     "data": {
      "application/vnd.jupyter.widget-view+json": {
       "model_id": "b6e9b0a5868c445091705cecd17d82d8",
       "version_major": 2,
       "version_minor": 0
      },
      "text/plain": [
       "HBox(children=(FloatProgress(value=0.0, max=15.0), HTML(value='')))"
      ]
     },
     "metadata": {},
     "output_type": "display_data"
    },
    {
     "name": "stdout",
     "output_type": "stream",
     "text": [
      "\n"
     ]
    },
    {
     "data": {
      "application/vnd.jupyter.widget-view+json": {
       "model_id": "ed28270b52514b25b51aa5997a066bab",
       "version_major": 2,
       "version_minor": 0
      },
      "text/plain": [
       "HBox(children=(FloatProgress(value=0.0, max=15.0), HTML(value='')))"
      ]
     },
     "metadata": {},
     "output_type": "display_data"
    },
    {
     "name": "stdout",
     "output_type": "stream",
     "text": [
      "\n"
     ]
    },
    {
     "data": {
      "application/vnd.jupyter.widget-view+json": {
       "model_id": "12765dfc77b54374bf70d88dfc2a8f27",
       "version_major": 2,
       "version_minor": 0
      },
      "text/plain": [
       "HBox(children=(FloatProgress(value=0.0, max=15.0), HTML(value='')))"
      ]
     },
     "metadata": {},
     "output_type": "display_data"
    },
    {
     "name": "stdout",
     "output_type": "stream",
     "text": [
      "\n"
     ]
    },
    {
     "data": {
      "application/vnd.jupyter.widget-view+json": {
       "model_id": "928d5c097dd24c2a9eea9c10e40c22a9",
       "version_major": 2,
       "version_minor": 0
      },
      "text/plain": [
       "HBox(children=(FloatProgress(value=0.0, max=15.0), HTML(value='')))"
      ]
     },
     "metadata": {},
     "output_type": "display_data"
    },
    {
     "name": "stdout",
     "output_type": "stream",
     "text": [
      "\n"
     ]
    },
    {
     "data": {
      "application/vnd.jupyter.widget-view+json": {
       "model_id": "ee490499db244aa1bebe8f51e7895179",
       "version_major": 2,
       "version_minor": 0
      },
      "text/plain": [
       "HBox(children=(FloatProgress(value=0.0, max=15.0), HTML(value='')))"
      ]
     },
     "metadata": {},
     "output_type": "display_data"
    },
    {
     "name": "stdout",
     "output_type": "stream",
     "text": [
      "\n"
     ]
    },
    {
     "data": {
      "application/vnd.jupyter.widget-view+json": {
       "model_id": "55fd6b1f06154d2fbeb1fdb6f62b3266",
       "version_major": 2,
       "version_minor": 0
      },
      "text/plain": [
       "HBox(children=(FloatProgress(value=0.0, max=15.0), HTML(value='')))"
      ]
     },
     "metadata": {},
     "output_type": "display_data"
    },
    {
     "name": "stdout",
     "output_type": "stream",
     "text": [
      "\n",
      "\n"
     ]
    }
   ],
   "source": [
    "leasterr = 99999\n",
    "bestM,bestY,bestLambd = 0,0,0\n",
    "for MAX_POWER_M in tqdm(range(0,15)):\n",
    "    for MAX_POWER_Y in tqdm(range(0,15)):\n",
    "        for REGULARIZATION_LAMBDA in [1e-12,1e-10,1e-8,1e-4,1e-3,1e-2,0.05,0.1,0.15,0.2,0.25,0.3,0.35,0.4]:\n",
    "            sumerr = 0\n",
    "            for i in range(5):\n",
    "                err = evaluate_moorepenrose(dataset)\n",
    "                sumerr+=err\n",
    "            sumerr/=5\n",
    "            if sumerr<leasterr:\n",
    "                leasterr = sumerr\n",
    "                bestM = MAX_POWER_M\n",
    "                bestY = MAX_POWER_Y\n",
    "                bestLambd = REGULARIZATION_LAMBDA"
   ]
  },
  {
   "cell_type": "code",
   "execution_count": 66,
   "metadata": {},
   "outputs": [
    {
     "name": "stdout",
     "output_type": "stream",
     "text": [
      "6 0 0.35\n"
     ]
    }
   ],
   "source": [
    "print(bestM,bestY,bestLambd)"
   ]
  },
  {
   "cell_type": "code",
   "execution_count": 61,
   "metadata": {},
   "outputs": [
    {
     "data": {
      "text/plain": [
       "[3.488932396159446,\n",
       " 3.5584242408727107,\n",
       " 3.6436918648522485,\n",
       " 3.587922804067671,\n",
       " 3.4914752235656343,\n",
       " 3.5797970046202656,\n",
       " 3.7158708291901967,\n",
       " 3.667160713985794,\n",
       " 3.6791562172180563,\n",
       " 3.8782490016921245,\n",
       " 3.95336491645935,\n",
       " 21.32524867924618]"
      ]
     },
     "execution_count": 61,
     "metadata": {},
     "output_type": "execute_result"
    }
   ],
   "source": [
    "MAX_POWER_M = 6\n",
    "err_list = []\n",
    "for MAX_POWER_Y in range(0,12):\n",
    "    sumerr = 0\n",
    "    for i in range(5):\n",
    "        err = evaluate_moorepenrose(dataset)\n",
    "        sumerr+=err\n",
    "    sumerr/=5\n",
    "    err_list.append(sumerr)\n",
    "err_list"
   ]
  },
  {
   "cell_type": "code",
   "execution_count": 65,
   "metadata": {},
   "outputs": [
    {
     "data": {
      "image/png": "[encoded data removed]",
      "text/plain": [
       "<Figure size 432x288 with 1 Axes>"
      ]
     },
     "metadata": {
      "needs_background": "light"
     },
     "output_type": "display_data"
    }
   ],
   "source": [
    "plt.clf()\n",
    "x_axis = np.arange(0,12)\n",
    "plt.plot(x_axis,err_list)\n",
    "plt.xlabel(\"Degree of Year feature\")\n",
    "plt.ylabel(\"Error\")\n",
    "plt.title(\"Cross Validation test set average error vs Degree year\")\n",
    "plt.savefig(f'varYear.png',dpi=1200)\n",
    "plt.show()"
   ]
  },
  {
   "cell_type": "code",
   "execution_count": 70,
   "metadata": {},
   "outputs": [
    {
     "data": {
      "text/plain": [
       "[3.555964975205255,\n",
       " 3.6062427700632504,\n",
       " 3.5067830410962566,\n",
       " 3.5204317409789296,\n",
       " 3.4437691961608037,\n",
       " 3.443494907044271,\n",
       " 3.362138835790218,\n",
       " 18.860152008387338,\n",
       " 39.55669569963389]"
      ]
     },
     "execution_count": 70,
     "metadata": {},
     "output_type": "execute_result"
    }
   ],
   "source": [
    "MAX_POWER_Y = 0\n",
    "MAX_POWER_M = 6\n",
    "err_list = []\n",
    "for REGULARIZATION_LAMBDA in [1e-12,1e-10,1e-8,1e-4,1e-2,1,1e2,1e4,1e6]:\n",
    "    sumerr = 0\n",
    "    for i in range(5):\n",
    "        err = evaluate_moorepenrose(dataset)\n",
    "        sumerr+=err\n",
    "    sumerr/=5\n",
    "    err_list.append(sumerr)\n",
    "err_list"
   ]
  },
  {
   "cell_type": "code",
   "execution_count": 74,
   "metadata": {},
   "outputs": [
    {
     "data": {
      "image/png": "[encoded data removed]",
      "text/plain": [
       "<Figure size 432x288 with 1 Axes>"
      ]
     },
     "metadata": {
      "needs_background": "light"
     },
     "output_type": "display_data"
    }
   ],
   "source": [
    "plt.clf()\n",
    "x_axis = np.arange(-12,6,2)\n",
    "plt.plot(x_axis,err_list)\n",
    "plt.xlabel(\"log(lambda)\")\n",
    "plt.ylabel(\"Error\")\n",
    "plt.title(\"Cross Validation test set average error vs Regularization Lambda\")\n",
    "plt.savefig(f'varLambda.png',dpi=1200)\n",
    "plt.show()"
   ]
  },
  {
   "cell_type": "code",
   "execution_count": 67,
   "metadata": {},
   "outputs": [
    {
     "data": {
      "image/png": "[encoded data removed]",
      "text/plain": [
       "<Figure size 432x288 with 1 Axes>"
      ]
     },
     "metadata": {
      "needs_background": "light"
     },
     "output_type": "display_data"
    }
   ],
   "source": [
    "plt.clf()\n",
    "x_axis = np.arange(0,12)\n",
    "plt.plot(x_axis,err_list)\n",
    "plt.xlabel(\"Degree of Month feature\")\n",
    "plt.ylabel(\"Error\")\n",
    "plt.title(\"Cross Validation test set average error vs Degree month\")\n",
    "plt.savefig(f'varMonth.png',dpi=1200)\n",
    "plt.show()"
   ]
  },
  {
   "cell_type": "code",
   "execution_count": null,
   "metadata": {},
   "outputs": [],
   "source": [
    "MAX_POWER_Y = 0\n",
    "MAX_POWER_M = 6\n",
    "err_list = []\n",
    "for MAX_POWER_M in range(0,12):\n",
    "    sumerr = 0\n",
    "    for i in range(5):\n",
    "        err = evaluate_moorepenrose(dataset)\n",
    "        sumerr+=err\n",
    "    sumerr/=5\n",
    "    err_list.append(sumerr)\n",
    "err_list"
   ]
  },
  {
   "cell_type": "code",
   "execution_count": 111,
   "metadata": {},
   "outputs": [],
   "source": [
    "MAX_POWER_M = 6\n",
    "MAX_POWER_Y = 0\n",
    "N_FOLDS = 10\n",
    "REGULARIZATION_LAMBDA = 0.35"
   ]
  },
  {
   "cell_type": "code",
   "execution_count": 137,
   "metadata": {},
   "outputs": [
    {
     "data": {
      "text/plain": [
       "3.423701709118313"
      ]
     },
     "execution_count": 137,
     "metadata": {},
     "output_type": "execute_result"
    }
   ],
   "source": [
    "evaluate_moorepenrose(dataset)"
   ]
  },
  {
   "cell_type": "code",
   "execution_count": null,
   "metadata": {},
   "outputs": [],
   "source": []
  },
  {
   "cell_type": "code",
   "execution_count": 138,
   "metadata": {},
   "outputs": [],
   "source": [
    "testdf = pd.read_csv('test.csv')"
   ]
  },
  {
   "cell_type": "code",
   "execution_count": 139,
   "metadata": {},
   "outputs": [],
   "source": [
    "testdf[['month','date','year']] = testdf['id'].str.split('/',expand = True)"
   ]
  },
  {
   "cell_type": "code",
   "execution_count": 140,
   "metadata": {},
   "outputs": [],
   "source": [
    "testdataset = []\n",
    "for row in testdf.iterrows():\n",
    "    testdataset.append([int(row[1]['month']),int(row[1]['year'])])"
   ]
  },
  {
   "cell_type": "code",
   "execution_count": 141,
   "metadata": {},
   "outputs": [],
   "source": [
    "def trainModel(dataset):\n",
    "    dataset = np.array(dataset)\n",
    "    trainXX1 = dataset[:,0]\n",
    "    trainXX2 = dataset[:,1]\n",
    "    trainYY = dataset[:,2]\n",
    "    finXX = makeDesignMat(trainXX1,trainXX2,MAX_POWER_M,MAX_POWER_Y)\n",
    "    w = np.dot(np.linalg.inv(np.dot(finXX.transpose(),finXX) + REGULARIZATION_LAMBDA * np.identity(MAX_POWER_M+MAX_POWER_Y+1) ),np.dot(finXX.transpose(),trainYY))\n",
    "    return w"
   ]
  },
  {
   "cell_type": "code",
   "execution_count": 142,
   "metadata": {},
   "outputs": [],
   "source": [
    "def getPreds(testdataset):\n",
    "    XX = np.array(testdataset)\n",
    "    XX1 = XX[:,0]\n",
    "    XX2 = XX[:,1]\n",
    "    finX = makeDesignMat(XX1,XX2,MAX_POWER_M,MAX_POWER_Y)\n",
    "    w = trainModel(dataset)\n",
    "    pred = np.dot(finX,w)\n",
    "    return pred"
   ]
  },
  {
   "cell_type": "code",
   "execution_count": 143,
   "metadata": {},
   "outputs": [],
   "source": [
    "preds = getPreds(testdataset)"
   ]
  },
  {
   "cell_type": "code",
   "execution_count": 144,
   "metadata": {},
   "outputs": [
    {
     "data": {
      "text/plain": [
       "array([26.00127005, 21.73032962,  5.22114612,  2.59927324,  7.24824572,\n",
       "       12.87456752, 25.63189133, 14.53288773, -0.43367944, 20.65845357])"
      ]
     },
     "execution_count": 144,
     "metadata": {},
     "output_type": "execute_result"
    }
   ],
   "source": [
    "preds"
   ]
  },
  {
   "cell_type": "code",
   "execution_count": 145,
   "metadata": {},
   "outputs": [
    {
     "data": {
      "text/plain": [
       "[[5, 10],\n",
       " [4, 9],\n",
       " [9, 13],\n",
       " [1, 6],\n",
       " [2, 7],\n",
       " [8, 12],\n",
       " [6, 14],\n",
       " [3, 8],\n",
       " [12, 4],\n",
       " [7, 11]]"
      ]
     },
     "execution_count": 145,
     "metadata": {},
     "output_type": "execute_result"
    }
   ],
   "source": [
    "testdataset"
   ]
  },
  {
   "cell_type": "code",
   "execution_count": 35,
   "metadata": {},
   "outputs": [
    {
     "data": {
      "text/html": [
       "<div>\n",
       "<style scoped>\n",
       "    .dataframe tbody tr th:only-of-type {\n",
       "        vertical-align: middle;\n",
       "    }\n",
       "\n",
       "    .dataframe tbody tr th {\n",
       "        vertical-align: top;\n",
       "    }\n",
       "\n",
       "    .dataframe thead th {\n",
       "        text-align: right;\n",
       "    }\n",
       "</style>\n",
       "<table border=\"1\" class=\"dataframe\">\n",
       "  <thead>\n",
       "    <tr style=\"text-align: right;\">\n",
       "      <th></th>\n",
       "      <th>id</th>\n",
       "      <th>value</th>\n",
       "      <th>month</th>\n",
       "      <th>date</th>\n",
       "      <th>year</th>\n",
       "    </tr>\n",
       "  </thead>\n",
       "  <tbody>\n",
       "    <tr>\n",
       "      <th>0</th>\n",
       "      <td>11/1/04</td>\n",
       "      <td>0.5992</td>\n",
       "      <td>11</td>\n",
       "      <td>1</td>\n",
       "      <td>04</td>\n",
       "    </tr>\n",
       "  </tbody>\n",
       "</table>\n",
       "</div>"
      ],
      "text/plain": [
       "        id   value month date year\n",
       "0  11/1/04  0.5992    11    1   04"
      ]
     },
     "execution_count": 35,
     "metadata": {},
     "output_type": "execute_result"
    }
   ],
   "source": [
    "df[df['year']=='04']"
   ]
  },
  {
   "cell_type": "code",
   "execution_count": 36,
   "metadata": {},
   "outputs": [],
   "source": [
    "newdf = pd.DataFrame({'id':testdf['id'],'value':preds})"
   ]
  },
  {
   "cell_type": "code",
   "execution_count": 37,
   "metadata": {},
   "outputs": [
    {
     "data": {
      "text/html": [
       "<div>\n",
       "<style scoped>\n",
       "    .dataframe tbody tr th:only-of-type {\n",
       "        vertical-align: middle;\n",
       "    }\n",
       "\n",
       "    .dataframe tbody tr th {\n",
       "        vertical-align: top;\n",
       "    }\n",
       "\n",
       "    .dataframe thead th {\n",
       "        text-align: right;\n",
       "    }\n",
       "</style>\n",
       "<table border=\"1\" class=\"dataframe\">\n",
       "  <thead>\n",
       "    <tr style=\"text-align: right;\">\n",
       "      <th></th>\n",
       "      <th>id</th>\n",
       "      <th>value</th>\n",
       "    </tr>\n",
       "  </thead>\n",
       "  <tbody>\n",
       "    <tr>\n",
       "      <th>0</th>\n",
       "      <td>5/1/10</td>\n",
       "      <td>26.001270</td>\n",
       "    </tr>\n",
       "    <tr>\n",
       "      <th>1</th>\n",
       "      <td>4/1/09</td>\n",
       "      <td>21.730330</td>\n",
       "    </tr>\n",
       "    <tr>\n",
       "      <th>2</th>\n",
       "      <td>9/1/13</td>\n",
       "      <td>5.221146</td>\n",
       "    </tr>\n",
       "    <tr>\n",
       "      <th>3</th>\n",
       "      <td>1/1/06</td>\n",
       "      <td>2.599273</td>\n",
       "    </tr>\n",
       "    <tr>\n",
       "      <th>4</th>\n",
       "      <td>2/1/07</td>\n",
       "      <td>7.248246</td>\n",
       "    </tr>\n",
       "    <tr>\n",
       "      <th>5</th>\n",
       "      <td>8/1/12</td>\n",
       "      <td>12.874568</td>\n",
       "    </tr>\n",
       "    <tr>\n",
       "      <th>6</th>\n",
       "      <td>6/1/14</td>\n",
       "      <td>25.631891</td>\n",
       "    </tr>\n",
       "    <tr>\n",
       "      <th>7</th>\n",
       "      <td>3/1/08</td>\n",
       "      <td>14.532888</td>\n",
       "    </tr>\n",
       "    <tr>\n",
       "      <th>8</th>\n",
       "      <td>12/1/04</td>\n",
       "      <td>-0.433679</td>\n",
       "    </tr>\n",
       "    <tr>\n",
       "      <th>9</th>\n",
       "      <td>7/1/11</td>\n",
       "      <td>20.658454</td>\n",
       "    </tr>\n",
       "  </tbody>\n",
       "</table>\n",
       "</div>"
      ],
      "text/plain": [
       "        id      value\n",
       "0   5/1/10  26.001270\n",
       "1   4/1/09  21.730330\n",
       "2   9/1/13   5.221146\n",
       "3   1/1/06   2.599273\n",
       "4   2/1/07   7.248246\n",
       "5   8/1/12  12.874568\n",
       "6   6/1/14  25.631891\n",
       "7   3/1/08  14.532888\n",
       "8  12/1/04  -0.433679\n",
       "9   7/1/11  20.658454"
      ]
     },
     "execution_count": 37,
     "metadata": {},
     "output_type": "execute_result"
    }
   ],
   "source": [
    "newdf"
   ]
  },
  {
   "cell_type": "code",
   "execution_count": 38,
   "metadata": {},
   "outputs": [],
   "source": [
    "newdf.to_csv('out4.csv',index=False)"
   ]
  },
  {
   "cell_type": "code",
   "execution_count": 39,
   "metadata": {},
   "outputs": [
    {
     "data": {
      "text/html": [
       "<div>\n",
       "<style scoped>\n",
       "    .dataframe tbody tr th:only-of-type {\n",
       "        vertical-align: middle;\n",
       "    }\n",
       "\n",
       "    .dataframe tbody tr th {\n",
       "        vertical-align: top;\n",
       "    }\n",
       "\n",
       "    .dataframe thead th {\n",
       "        text-align: right;\n",
       "    }\n",
       "</style>\n",
       "<table border=\"1\" class=\"dataframe\">\n",
       "  <thead>\n",
       "    <tr style=\"text-align: right;\">\n",
       "      <th></th>\n",
       "      <th>id</th>\n",
       "      <th>month</th>\n",
       "      <th>date</th>\n",
       "      <th>year</th>\n",
       "    </tr>\n",
       "  </thead>\n",
       "  <tbody>\n",
       "    <tr>\n",
       "      <th>0</th>\n",
       "      <td>5/1/10</td>\n",
       "      <td>5</td>\n",
       "      <td>1</td>\n",
       "      <td>10</td>\n",
       "    </tr>\n",
       "    <tr>\n",
       "      <th>1</th>\n",
       "      <td>4/1/09</td>\n",
       "      <td>4</td>\n",
       "      <td>1</td>\n",
       "      <td>09</td>\n",
       "    </tr>\n",
       "    <tr>\n",
       "      <th>2</th>\n",
       "      <td>9/1/13</td>\n",
       "      <td>9</td>\n",
       "      <td>1</td>\n",
       "      <td>13</td>\n",
       "    </tr>\n",
       "    <tr>\n",
       "      <th>3</th>\n",
       "      <td>1/1/06</td>\n",
       "      <td>1</td>\n",
       "      <td>1</td>\n",
       "      <td>06</td>\n",
       "    </tr>\n",
       "    <tr>\n",
       "      <th>4</th>\n",
       "      <td>2/1/07</td>\n",
       "      <td>2</td>\n",
       "      <td>1</td>\n",
       "      <td>07</td>\n",
       "    </tr>\n",
       "    <tr>\n",
       "      <th>5</th>\n",
       "      <td>8/1/12</td>\n",
       "      <td>8</td>\n",
       "      <td>1</td>\n",
       "      <td>12</td>\n",
       "    </tr>\n",
       "    <tr>\n",
       "      <th>6</th>\n",
       "      <td>6/1/14</td>\n",
       "      <td>6</td>\n",
       "      <td>1</td>\n",
       "      <td>14</td>\n",
       "    </tr>\n",
       "    <tr>\n",
       "      <th>7</th>\n",
       "      <td>3/1/08</td>\n",
       "      <td>3</td>\n",
       "      <td>1</td>\n",
       "      <td>08</td>\n",
       "    </tr>\n",
       "    <tr>\n",
       "      <th>8</th>\n",
       "      <td>12/1/04</td>\n",
       "      <td>12</td>\n",
       "      <td>1</td>\n",
       "      <td>04</td>\n",
       "    </tr>\n",
       "    <tr>\n",
       "      <th>9</th>\n",
       "      <td>7/1/11</td>\n",
       "      <td>7</td>\n",
       "      <td>1</td>\n",
       "      <td>11</td>\n",
       "    </tr>\n",
       "  </tbody>\n",
       "</table>\n",
       "</div>"
      ],
      "text/plain": [
       "        id month date year\n",
       "0   5/1/10     5    1   10\n",
       "1   4/1/09     4    1   09\n",
       "2   9/1/13     9    1   13\n",
       "3   1/1/06     1    1   06\n",
       "4   2/1/07     2    1   07\n",
       "5   8/1/12     8    1   12\n",
       "6   6/1/14     6    1   14\n",
       "7   3/1/08     3    1   08\n",
       "8  12/1/04    12    1   04\n",
       "9   7/1/11     7    1   11"
      ]
     },
     "execution_count": 39,
     "metadata": {},
     "output_type": "execute_result"
    }
   ],
   "source": [
    "testdf"
   ]
  },
  {
   "cell_type": "code",
   "execution_count": 45,
   "metadata": {},
   "outputs": [],
   "source": [
    "ans = []\n",
    "for row in testdf.iterrows():\n",
    "    month = (row[1][1])\n",
    "    ans.append(np.mean(df[df['month']==month]['value']))"
   ]
  },
  {
   "cell_type": "code",
   "execution_count": null,
   "metadata": {},
   "outputs": [],
   "source": [
    "ans"
   ]
  },
  {
   "cell_type": "code",
   "execution_count": 47,
   "metadata": {},
   "outputs": [],
   "source": [
    "newdf = pd.DataFrame({'id':testdf['id'],'value':ans})"
   ]
  },
  {
   "cell_type": "code",
   "execution_count": 48,
   "metadata": {},
   "outputs": [],
   "source": [
    "newdf.to_csv('out5.csv',index=False)"
   ]
  },
  {
   "cell_type": "code",
   "execution_count": 61,
   "metadata": {},
   "outputs": [
    {
     "name": "stderr",
     "output_type": "stream",
     "text": [
      "c:\\users\\kshitij alwadhi\\appdata\\local\\programs\\python\\python37\\lib\\site-packages\\ipykernel_launcher.py:2: SettingWithCopyWarning: \n",
      "A value is trying to be set on a copy of a slice from a DataFrame.\n",
      "Try using .loc[row_indexer,col_indexer] = value instead\n",
      "\n",
      "See the caveats in the documentation: https://pandas.pydata.org/pandas-docs/stable/user_guide/indexing.html#returning-a-view-versus-a-copy\n",
      "  \n"
     ]
    }
   ],
   "source": [
    "tt = df[df['year']=='06']\n",
    "tt['month'] = tt['month'].astype(int)\n",
    "tt = tt.sort_values(by=['month'])"
   ]
  },
  {
   "cell_type": "code",
   "execution_count": 64,
   "metadata": {},
   "outputs": [
    {
     "data": {
      "image/png": "[encoded data removed]",
      "text/plain": [
       "<Figure size 432x288 with 1 Axes>"
      ]
     },
     "metadata": {
      "needs_background": "light"
     },
     "output_type": "display_data"
    }
   ],
   "source": [
    "x = tt['month']\n",
    "y = tt['value']\n",
    "plt.clf()\n",
    "plt.plot(x,y)\n",
    "plt.xlabel(\"Month\")\n",
    "plt.ylabel(\"Value\")\n",
    "plt.savefig(f'Part2.png',dpi=1200)\n",
    "plt.show()"
   ]
  },
  {
   "cell_type": "code",
   "execution_count": 20,
   "metadata": {},
   "outputs": [],
   "source": [
    "tempdf1 = pd.read_csv('out4.csv')\n",
    "tempdf2 = pd.read_csv('out5.csv')\n",
    "v1 = tempdf1['value']\n",
    "v2 = tempdf2['value']\n",
    "vf = 0.3* v1 + 0.7 * v2"
   ]
  },
  {
   "cell_type": "code",
   "execution_count": 22,
   "metadata": {},
   "outputs": [
    {
     "data": {
      "text/plain": [
       "0    26.386501\n",
       "1    21.655969\n",
       "2     5.084544\n",
       "3     2.650952\n",
       "4     7.189764\n",
       "5    13.107480\n",
       "6    25.111447\n",
       "7    14.539896\n",
       "8    -0.455954\n",
       "9    20.800376\n",
       "Name: value, dtype: float64"
      ]
     },
     "execution_count": 22,
     "metadata": {},
     "output_type": "execute_result"
    }
   ],
   "source": [
    "vf"
   ]
  },
  {
   "cell_type": "code",
   "execution_count": 23,
   "metadata": {},
   "outputs": [],
   "source": [
    "newdf = pd.DataFrame({'id':tempdf1['id'],'value':vf})"
   ]
  },
  {
   "cell_type": "code",
   "execution_count": 24,
   "metadata": {},
   "outputs": [
    {
     "data": {
      "text/html": [
       "<div>\n",
       "<style scoped>\n",
       "    .dataframe tbody tr th:only-of-type {\n",
       "        vertical-align: middle;\n",
       "    }\n",
       "\n",
       "    .dataframe tbody tr th {\n",
       "        vertical-align: top;\n",
       "    }\n",
       "\n",
       "    .dataframe thead th {\n",
       "        text-align: right;\n",
       "    }\n",
       "</style>\n",
       "<table border=\"1\" class=\"dataframe\">\n",
       "  <thead>\n",
       "    <tr style=\"text-align: right;\">\n",
       "      <th></th>\n",
       "      <th>id</th>\n",
       "      <th>value</th>\n",
       "    </tr>\n",
       "  </thead>\n",
       "  <tbody>\n",
       "    <tr>\n",
       "      <th>0</th>\n",
       "      <td>5/1/10</td>\n",
       "      <td>26.386501</td>\n",
       "    </tr>\n",
       "    <tr>\n",
       "      <th>1</th>\n",
       "      <td>4/1/09</td>\n",
       "      <td>21.655969</td>\n",
       "    </tr>\n",
       "    <tr>\n",
       "      <th>2</th>\n",
       "      <td>9/1/13</td>\n",
       "      <td>5.084544</td>\n",
       "    </tr>\n",
       "    <tr>\n",
       "      <th>3</th>\n",
       "      <td>1/1/06</td>\n",
       "      <td>2.650952</td>\n",
       "    </tr>\n",
       "    <tr>\n",
       "      <th>4</th>\n",
       "      <td>2/1/07</td>\n",
       "      <td>7.189764</td>\n",
       "    </tr>\n",
       "    <tr>\n",
       "      <th>5</th>\n",
       "      <td>8/1/12</td>\n",
       "      <td>13.107480</td>\n",
       "    </tr>\n",
       "    <tr>\n",
       "      <th>6</th>\n",
       "      <td>6/1/14</td>\n",
       "      <td>25.111447</td>\n",
       "    </tr>\n",
       "    <tr>\n",
       "      <th>7</th>\n",
       "      <td>3/1/08</td>\n",
       "      <td>14.539896</td>\n",
       "    </tr>\n",
       "    <tr>\n",
       "      <th>8</th>\n",
       "      <td>12/1/04</td>\n",
       "      <td>-0.455954</td>\n",
       "    </tr>\n",
       "    <tr>\n",
       "      <th>9</th>\n",
       "      <td>7/1/11</td>\n",
       "      <td>20.800376</td>\n",
       "    </tr>\n",
       "  </tbody>\n",
       "</table>\n",
       "</div>"
      ],
      "text/plain": [
       "        id      value\n",
       "0   5/1/10  26.386501\n",
       "1   4/1/09  21.655969\n",
       "2   9/1/13   5.084544\n",
       "3   1/1/06   2.650952\n",
       "4   2/1/07   7.189764\n",
       "5   8/1/12  13.107480\n",
       "6   6/1/14  25.111447\n",
       "7   3/1/08  14.539896\n",
       "8  12/1/04  -0.455954\n",
       "9   7/1/11  20.800376"
      ]
     },
     "execution_count": 24,
     "metadata": {},
     "output_type": "execute_result"
    }
   ],
   "source": [
    "newdf"
   ]
  },
  {
   "cell_type": "code",
   "execution_count": 25,
   "metadata": {},
   "outputs": [],
   "source": [
    "newdf.to_csv('out7.csv',index=False)"
   ]
  },
  {
   "cell_type": "code",
   "execution_count": null,
   "metadata": {},
   "outputs": [],
   "source": []
  },
  {
   "cell_type": "code",
   "execution_count": null,
   "metadata": {},
   "outputs": [],
   "source": []
  },
  {
   "cell_type": "code",
   "execution_count": 146,
   "metadata": {},
   "outputs": [
    {
     "data": {
      "text/html": [
       "<div>\n",
       "<style scoped>\n",
       "    .dataframe tbody tr th:only-of-type {\n",
       "        vertical-align: middle;\n",
       "    }\n",
       "\n",
       "    .dataframe tbody tr th {\n",
       "        vertical-align: top;\n",
       "    }\n",
       "\n",
       "    .dataframe thead th {\n",
       "        text-align: right;\n",
       "    }\n",
       "</style>\n",
       "<table border=\"1\" class=\"dataframe\">\n",
       "  <thead>\n",
       "    <tr style=\"text-align: right;\">\n",
       "      <th></th>\n",
       "      <th>id</th>\n",
       "      <th>value</th>\n",
       "      <th>month</th>\n",
       "      <th>date</th>\n",
       "      <th>year</th>\n",
       "    </tr>\n",
       "  </thead>\n",
       "  <tbody>\n",
       "    <tr>\n",
       "      <th>0</th>\n",
       "      <td>11/1/04</td>\n",
       "      <td>0.5992</td>\n",
       "      <td>11</td>\n",
       "      <td>1</td>\n",
       "      <td>04</td>\n",
       "    </tr>\n",
       "    <tr>\n",
       "      <th>1</th>\n",
       "      <td>10/1/12</td>\n",
       "      <td>0.9259</td>\n",
       "      <td>10</td>\n",
       "      <td>1</td>\n",
       "      <td>12</td>\n",
       "    </tr>\n",
       "    <tr>\n",
       "      <th>2</th>\n",
       "      <td>1/1/07</td>\n",
       "      <td>5.9182</td>\n",
       "      <td>1</td>\n",
       "      <td>1</td>\n",
       "      <td>07</td>\n",
       "    </tr>\n",
       "    <tr>\n",
       "      <th>3</th>\n",
       "      <td>2/1/06</td>\n",
       "      <td>9.2365</td>\n",
       "      <td>2</td>\n",
       "      <td>1</td>\n",
       "      <td>06</td>\n",
       "    </tr>\n",
       "    <tr>\n",
       "      <th>4</th>\n",
       "      <td>6/1/07</td>\n",
       "      <td>22.7446</td>\n",
       "      <td>6</td>\n",
       "      <td>1</td>\n",
       "      <td>07</td>\n",
       "    </tr>\n",
       "    <tr>\n",
       "      <th>...</th>\n",
       "      <td>...</td>\n",
       "      <td>...</td>\n",
       "      <td>...</td>\n",
       "      <td>...</td>\n",
       "      <td>...</td>\n",
       "    </tr>\n",
       "    <tr>\n",
       "      <th>105</th>\n",
       "      <td>9/1/06</td>\n",
       "      <td>3.2992</td>\n",
       "      <td>9</td>\n",
       "      <td>1</td>\n",
       "      <td>06</td>\n",
       "    </tr>\n",
       "    <tr>\n",
       "      <th>106</th>\n",
       "      <td>4/1/06</td>\n",
       "      <td>22.0183</td>\n",
       "      <td>4</td>\n",
       "      <td>1</td>\n",
       "      <td>06</td>\n",
       "    </tr>\n",
       "    <tr>\n",
       "      <th>107</th>\n",
       "      <td>7/1/05</td>\n",
       "      <td>22.2829</td>\n",
       "      <td>7</td>\n",
       "      <td>1</td>\n",
       "      <td>05</td>\n",
       "    </tr>\n",
       "    <tr>\n",
       "      <th>108</th>\n",
       "      <td>6/1/08</td>\n",
       "      <td>23.1280</td>\n",
       "      <td>6</td>\n",
       "      <td>1</td>\n",
       "      <td>08</td>\n",
       "    </tr>\n",
       "    <tr>\n",
       "      <th>109</th>\n",
       "      <td>10/1/10</td>\n",
       "      <td>3.1507</td>\n",
       "      <td>10</td>\n",
       "      <td>1</td>\n",
       "      <td>10</td>\n",
       "    </tr>\n",
       "  </tbody>\n",
       "</table>\n",
       "<p>110 rows × 5 columns</p>\n",
       "</div>"
      ],
      "text/plain": [
       "          id    value month date year\n",
       "0    11/1/04   0.5992    11    1   04\n",
       "1    10/1/12   0.9259    10    1   12\n",
       "2     1/1/07   5.9182     1    1   07\n",
       "3     2/1/06   9.2365     2    1   06\n",
       "4     6/1/07  22.7446     6    1   07\n",
       "..       ...      ...   ...  ...  ...\n",
       "105   9/1/06   3.2992     9    1   06\n",
       "106   4/1/06  22.0183     4    1   06\n",
       "107   7/1/05  22.2829     7    1   05\n",
       "108   6/1/08  23.1280     6    1   08\n",
       "109  10/1/10   3.1507    10    1   10\n",
       "\n",
       "[110 rows x 5 columns]"
      ]
     },
     "execution_count": 146,
     "metadata": {},
     "output_type": "execute_result"
    }
   ],
   "source": [
    "df"
   ]
  },
  {
   "cell_type": "code",
   "execution_count": 78,
   "metadata": {},
   "outputs": [],
   "source": [
    "df.drop(['id','date'],axis='columns',inplace= True)"
   ]
  },
  {
   "cell_type": "code",
   "execution_count": 147,
   "metadata": {},
   "outputs": [],
   "source": [
    "dataset = np.array(dataset)\n",
    "X_vals = dataset[:,0]\n",
    "y_vals = dataset[:,2]"
   ]
  },
  {
   "cell_type": "code",
   "execution_count": 151,
   "metadata": {},
   "outputs": [
    {
     "data": {
      "image/png": "[encoded data removed]",
      "text/plain": [
       "<Figure size 432x288 with 1 Axes>"
      ]
     },
     "metadata": {
      "needs_background": "light"
     },
     "output_type": "display_data"
    }
   ],
   "source": [
    "testdataset = np.array(testdataset)\n",
    "plt.clf()\n",
    "plt.scatter(X_vals,y_vals)\n",
    "plt.scatter(testdataset[:,0],preds,color='r',marker='x')\n",
    "plt.xlabel(\"Month\")\n",
    "plt.ylabel(\"Value\")\n",
    "plt.title(\"Value vs Months\")\n",
    "plt.savefig(\"Value vs months(pred).png\",dpi=1200)"
   ]
  },
  {
   "cell_type": "code",
   "execution_count": null,
   "metadata": {},
   "outputs": [],
   "source": []
  },
  {
   "cell_type": "code",
   "execution_count": null,
   "metadata": {},
   "outputs": [],
   "source": []
  },
  {
   "cell_type": "code",
   "execution_count": null,
   "metadata": {},
   "outputs": [],
   "source": []
  },
  {
   "cell_type": "code",
   "execution_count": 119,
   "metadata": {},
   "outputs": [
    {
     "data": {
      "text/plain": [
       "array([25.99727146, 21.73607621,  5.227626  ,  2.5607763 ,  7.25249217,\n",
       "       12.8775502 , 25.62412398, 14.54610376, -0.43097096, 20.65440142])"
      ]
     },
     "execution_count": 119,
     "metadata": {},
     "output_type": "execute_result"
    }
   ],
   "source": [
    "preds"
   ]
  },
  {
   "cell_type": "code",
   "execution_count": null,
   "metadata": {},
   "outputs": [],
   "source": []
  }
 ],
 "metadata": {
  "kernelspec": {
   "display_name": "Python 3",
   "language": "python",
   "name": "python3"
  },
  "language_info": {
   "codemirror_mode": {
    "name": "ipython",
    "version": 3
   },
   "file_extension": ".py",
   "mimetype": "text/x-python",
   "name": "python",
   "nbconvert_exporter": "python",
   "pygments_lexer": "ipython3",
   "version": "3.7.6"
  }
 },
 "nbformat": 4,
 "nbformat_minor": 4
}
