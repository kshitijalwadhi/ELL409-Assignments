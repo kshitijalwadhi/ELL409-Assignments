{
 "cells": [
  {
   "cell_type": "code",
   "execution_count": 1,
   "metadata": {},
   "outputs": [],
   "source": [
    "import numpy as np\n",
    "import argparse\n",
    "import csv\n",
    "import matplotlib.pyplot as plt\n",
    "from tqdm.notebook import tqdm\n",
    "np.random.seed(42)\n",
    "import math\n",
    "import random"
   ]
  },
  {
   "cell_type": "code",
   "execution_count": 358,
   "metadata": {},
   "outputs": [],
   "source": [
    "LEARNING_RATE = 1e-4\n",
    "BATCH_SIZE = 8\n",
    "NUM_ITER = 100000\n",
    "MAX_POWER = 9\n",
    "SUBSET = 100\n",
    "N_FOLDS = 10\n",
    "ERROR = \"mse\"\n",
    "REGULARIZATION_LAMBDA = 1e-8"
   ]
  },
  {
   "cell_type": "code",
   "execution_count": 251,
   "metadata": {},
   "outputs": [],
   "source": [
    "def readData(filename):\n",
    "    dataset = []\n",
    "    with open(filename) as csv_file:\n",
    "        csv_reader = csv.reader(csv_file, delimiter=',')\n",
    "        for row in csv_reader:\n",
    "            dataset.append([float(row[0]),float(row[1])])\n",
    "    return dataset\n",
    "dataset = readData('gaussian.csv')"
   ]
  },
  {
   "cell_type": "code",
   "execution_count": 252,
   "metadata": {},
   "outputs": [],
   "source": [
    "dataset = dataset[:SUBSET]"
   ]
  },
  {
   "cell_type": "code",
   "execution_count": 29,
   "metadata": {},
   "outputs": [],
   "source": [
    "def cross_validation_split(dataset):\n",
    "    dataset_split = list()\n",
    "    dataset_copy = list(dataset)\n",
    "    fold_size = int(len(dataset) / N_FOLDS)\n",
    "    for i in range(N_FOLDS):\n",
    "        fold = list()\n",
    "        while len(fold) < fold_size:\n",
    "            index = random.randrange(len(dataset_copy))\n",
    "            fold.append(dataset_copy.pop(index))\n",
    "        dataset_split.append(fold)\n",
    "    return dataset_split"
   ]
  },
  {
   "cell_type": "code",
   "execution_count": 30,
   "metadata": {},
   "outputs": [],
   "source": [
    "# highest power is m here\n",
    "def makeDesignMat(x,m):\n",
    "    return np.vander(x,m+1,increasing=True)"
   ]
  },
  {
   "cell_type": "code",
   "execution_count": 31,
   "metadata": {},
   "outputs": [],
   "source": [
    "def chunkarr(arr,n):\n",
    "    return [arr[i:i + n] for i in range(0, len(arr), n)]"
   ]
  },
  {
   "cell_type": "code",
   "execution_count": 32,
   "metadata": {},
   "outputs": [],
   "source": [
    "def plot_error(train_err_list,test_err_list):\n",
    "    xa = np.linspace(1,len(train_err_list),len(train_err_list),dtype=int)\n",
    "    plt.figure()\n",
    "    plt.plot(xa,train_err_list,color=\"g\")\n",
    "    plt.plot(xa,test_err_list,color=\"r\")\n",
    "    plt.xlabel('Iterations')\n",
    "    plt.ylabel('Error')\n",
    "    plt.title('Error vs Iterations')\n",
    "    plt.show()"
   ]
  },
  {
   "cell_type": "code",
   "execution_count": 366,
   "metadata": {},
   "outputs": [],
   "source": [
    "def descent(trainX,y,testX,testY,lambd = 0.0, err_function = \"mse\" ):\n",
    "    #m = len(trainX)\n",
    "    w = np.random.rand(MAX_POWER+1)\n",
    "    y = np.array(y)\n",
    "    X = makeDesignMat(trainX,MAX_POWER)\n",
    "    Xchunks = chunkarr(X,BATCH_SIZE)\n",
    "    ychunks = chunkarr(y,BATCH_SIZE)\n",
    "    train_err_list = []\n",
    "    test_err_list = []\n",
    "    lr = LEARNING_RATE\n",
    "    flag = False\n",
    "    for j in tqdm(range(NUM_ITER)):\n",
    "        preverr = testError(trainX,y,w,MAX_POWER)\n",
    "        #print(preverr)\n",
    "        for chunk in range(len(Xchunks)):\n",
    "            Xcon = Xchunks[chunk]\n",
    "            ycon = ychunks[chunk]\n",
    "            pred = np.dot(Xcon,w)\n",
    "            test_err_list.append(testError(testX,testY,w,MAX_POWER))\n",
    "            if err_function == \"mse\":\n",
    "                err = 0.5 * (np.sum(np.square(pred-ycon)) + lambd*np.sum(np.square(w)))/len(ycon)\n",
    "                grad = (np.dot(Xcon.T,(pred-ycon)) + lambd*w)/len(ycon)\n",
    "            if err_function == \"mae\":\n",
    "                err = np.sum(np.abs(pred-ycon))\n",
    "                parity = np.sign(pred - ycon)\n",
    "                parity = parity.reshape((len(ycon),1))\n",
    "                grad = np.sum(np.multiply(parity,Xcon).T,axis=1)/len(ycon)\n",
    "            if err_function == \"huber\":\n",
    "                e = 0.1\n",
    "                temp = pred-ycon\n",
    "                err = np.sum(np.where(np.abs(temp)<=e,0.5*temp*temp,(e*np.abs(temp) - 0.5*e*e)))\n",
    "                err += lambd*np.sum(np.square(w))\n",
    "                err /= len(ycon)\n",
    "                grad = np.zeros((MAX_POWER+1,))\n",
    "                for i in range(len(ycon)):\n",
    "                    if np.abs(temp[i]<=e):\n",
    "                        grad += temp[i]*Xcon[i,:]\n",
    "                    else:\n",
    "                        grad += e*np.sign(temp[i])*Xcon[i,:]\n",
    "                grad+=2*lambd*w\n",
    "                w = np.squeeze(w)\n",
    "                grad /=len(ycon)\n",
    "                grad = np.squeeze(grad)\n",
    "            w = w - lr * grad\n",
    "            train_err_list.append(err)\n",
    "        newerr = testError(trainX,y,w,MAX_POWER)\n",
    "        if(j%1000==0):\n",
    "            print(newerr)\n",
    "        if(newerr<0.03):\n",
    "            continue\n",
    "        lr = LEARNING_RATE * math.exp(-0.0015*j/NUM_ITER)\n",
    "    plot_error(train_err_list,test_err_list)\n",
    "    return w"
   ]
  },
  {
   "cell_type": "code",
   "execution_count": 338,
   "metadata": {},
   "outputs": [],
   "source": [
    "def plot_reg(trainX,trainY,testX,testY,w):\n",
    "    def aux(X_line,w):\n",
    "        temp = 0\n",
    "        for i in range(len(w)):\n",
    "            temp += np.power(X_line,i) * w[i]\n",
    "        return temp\n",
    "    jointX = np.concatenate((trainX,testX))\n",
    "    plt.clf()\n",
    "    plt.scatter(trainX,trainY,color='b',marker ='o',s=15)\n",
    "    plt.scatter(testX,testY,color=\"m\",marker='o',s=30)\n",
    "    x_line = np.linspace(min(jointX),max(jointX),100)\n",
    "    y_pred = aux(x_line,w)\n",
    "    plt.plot(x_line,y_pred, color='g')\n",
    "    plt.xlabel('X')\n",
    "    plt.ylabel('y')\n",
    "    plt.show()\n",
    "    return plt"
   ]
  },
  {
   "cell_type": "code",
   "execution_count": 339,
   "metadata": {},
   "outputs": [],
   "source": [
    "def testError(testX, testY,w,MAX_POWER):\n",
    "    testX = makeDesignMat(testX,MAX_POWER)\n",
    "    pred = np.dot(testX,w)\n",
    "    if ERROR == \"mse\":\n",
    "        err = 0.5 * (np.sum(np.square(pred-testY)))/len(testY)\n",
    "    elif ERROR == \"mae\":\n",
    "        err = np.sum(np.abs(pred-testY)) / len(testY)\n",
    "    elif ERROR == \"huber\":\n",
    "        e = 0.1\n",
    "        temp = pred-testY\n",
    "        err = np.sum(np.where(np.abs(temp)<=e,0.5*temp*temp,(e*np.abs(temp) - 0.5*e*e))) / len(testY)\n",
    "    return err"
   ]
  },
  {
   "cell_type": "code",
   "execution_count": 367,
   "metadata": {},
   "outputs": [],
   "source": [
    "def evaluate(dataset):\n",
    "    folds = cross_validation_split(dataset)\n",
    "    err_list = []\n",
    "    for fold in folds:\n",
    "        trainDS = list(folds)\n",
    "        trainDS.remove(fold)\n",
    "        trainDS = np.array(trainDS)\n",
    "        trainX = []\n",
    "        trainY = []\n",
    "        for i in range(len(trainDS)):\n",
    "            trainX.extend(trainDS[i][:,0])\n",
    "            trainY.extend(trainDS[i][:,1])\n",
    "        testDS = np.array(fold)\n",
    "        testX = testDS[:,0]\n",
    "        testY = testDS[:,1]\n",
    "        w = descent(trainX,trainY,testX,testY,REGULARIZATION_LAMBDA,ERROR)\n",
    "        print(w)\n",
    "        plot_reg(trainX,trainY,testX,testY,w)\n",
    "        err = testError(testX,testY,w,MAX_POWER)\n",
    "        err_list.append(err)\n",
    "    avg_error = np.mean(err_list)\n",
    "    print(err_list)\n",
    "    return avg_error"
   ]
  },
  {
   "cell_type": "code",
   "execution_count": 368,
   "metadata": {},
   "outputs": [
    {
     "data": {
      "application/vnd.jupyter.widget-view+json": {
       "model_id": "715c7698f636477e9b08e82dc906212f",
       "version_major": 2,
       "version_minor": 0
      },
      "text/plain": [
       "HBox(children=(FloatProgress(value=0.0, max=100000.0), HTML(value='')))"
      ]
     },
     "metadata": {},
     "output_type": "display_data"
    },
    {
     "name": "stdout",
     "output_type": "stream",
     "text": [
      "279.8040711411376\n",
      "0.7037194976889781\n",
      "0.24621464570324514\n",
      "0.14126418753228456\n",
      "0.09932464264936412\n",
      "0.07648223732994065\n",
      "0.062283159473712\n",
      "0.05288483851025881\n",
      "0.04638545468318873\n",
      "0.04170833349890012\n",
      "0.038211779516020915\n",
      "0.03550361121326935\n",
      "0.033339143702285634\n",
      "0.03156219515864379\n",
      "0.0300704068935159\n",
      "0.02879486672823219\n",
      "0.027687239867655408\n",
      "0.02671296757056747\n",
      "0.02584648621995388\n",
      "0.0250683850005207\n",
      "0.024363596439408185\n",
      "0.023720211410834344\n",
      "0.02312868094656416\n",
      "0.02258126221654176\n",
      "0.02207162224654429\n",
      "0.021594546280528096\n",
      "0.021145717604174656\n",
      "0.0207215476471884\n",
      "0.020319042506124155\n",
      "0.01993569656957805\n",
      "0.019569406795760694\n",
      "0.01921840304556275\n",
      "0.01888119110240951\n",
      "0.018556505847069707\n",
      "0.018243272642416937\n",
      "0.01794057540639943\n",
      "0.01764763016491036\n",
      "0.017363763113873967\n",
      "0.017088392403689607\n",
      "0.016821013003763728\n",
      "0.016561184120117048\n",
      "0.016308518731929292\n",
      "0.016062674888308127\n",
      "0.015823348468241658\n",
      "0.015590267157345454\n",
      "0.015363185436776908\n",
      "0.015141880414223539\n",
      "0.014926148355471939\n",
      "0.01471580179881126\n",
      "0.014510667154256378\n",
      "0.01431058270597183\n",
      "0.014115396949942561\n",
      "0.013924967210304158\n",
      "0.013739158487217108\n",
      "0.01355784249705735\n",
      "0.013380896872280933\n",
      "0.013208204493789568\n",
      "0.013039652933202967\n",
      "0.012875133986238851\n",
      "0.01271454328158435\n",
      "0.012557779952276417\n",
      "0.012404746358812935\n",
      "0.012255347855051483\n",
      "0.01210949258947493\n",
      "0.011967091335673278\n",
      "0.011828057346950128\n",
      "0.011692306230840686\n",
      "0.011559755840051924\n",
      "0.01143032617695081\n",
      "0.0113039393092252\n",
      "0.011180519294759092\n",
      "0.011059992114112722\n",
      "0.010942285609284\n",
      "0.010827329427662973\n",
      "0.010715054970290919\n",
      "0.010605395343696752\n",
      "0.010498285314713685\n",
      "0.010393661267794483\n",
      "0.010291461164431229\n",
      "0.010191624504360588\n",
      "0.010094092288295416\n",
      "0.009998806981976978\n",
      "0.009905712481379449\n",
      "0.009814754078930316\n",
      "0.009725878430645252\n",
      "0.00963903352408533\n",
      "0.009554168647073884\n",
      "0.009471234357117508\n",
      "0.009390182451488843\n",
      "0.00931096593793799\n",
      "0.009233539006006094\n",
      "0.009157856998922142\n",
      "0.009083876386062967\n",
      "0.009011554735967181\n",
      "0.008940850689889661\n",
      "0.008871723935889314\n",
      "0.008804135183443102\n",
      "0.008738046138576733\n",
      "0.008673419479510969\n",
      "0.008610218832814886\n",
      "\n"
     ]
    },
    {
     "data": {
      "image/png": "[encoded data removed]",
      "text/plain": [
       "<Figure size 432x288 with 1 Axes>"
      ]
     },
     "metadata": {
      "needs_background": "light"
     },
     "output_type": "display_data"
    },
    {
     "name": "stdout",
     "output_type": "stream",
     "text": [
      "[ 4.00748011 -0.09375706 -0.35511677 -0.09461031  0.09162904  0.47993126\n",
      "  0.87066166 -0.42416228 -0.54506762  0.24141872]\n"
     ]
    },
    {
     "data": {
      "image/png": "[encoded data removed]",
      "text/plain": [
       "<Figure size 432x288 with 1 Axes>"
      ]
     },
     "metadata": {
      "needs_background": "light"
     },
     "output_type": "display_data"
    },
    {
     "data": {
      "application/vnd.jupyter.widget-view+json": {
       "model_id": "3c9afbbfeb4246109e7450688d8ff079",
       "version_major": 2,
       "version_minor": 0
      },
      "text/plain": [
       "HBox(children=(FloatProgress(value=0.0, max=100000.0), HTML(value='')))"
      ]
     },
     "metadata": {},
     "output_type": "display_data"
    },
    {
     "name": "stdout",
     "output_type": "stream",
     "text": [
      "230.99416178103044\n",
      "0.7094494525750611\n",
      "0.3248225884249282\n",
      "0.19787808093139791\n",
      "0.13496216336999245\n",
      "0.09883974692648181\n",
      "0.0769275822940892\n",
      "0.06315240400123258\n",
      "0.054171762803660074\n",
      "0.04807373292206134\n",
      "0.04374836208779526\n",
      "0.040543422992136535\n",
      "0.03806982683836716\n",
      "0.03609086127024404\n",
      "0.03445894350962125\n",
      "0.033079348239788794\n",
      "0.0318892658937556\n",
      "0.03084559670496367\n",
      "0.029917736854291985\n",
      "0.029083167710599014\n",
      "0.02832509612177167\n",
      "0.027630517056360097\n",
      "0.026989207460296545\n",
      "0.026393014333000685\n",
      "0.02583536127393057\n",
      "0.02531089645539747\n",
      "0.02481523424166323\n",
      "0.024344760645270636\n",
      "0.023896483664419287\n",
      "0.023467916128910957\n",
      "0.023056982736084863\n",
      "0.022661945508041882\n",
      "0.02228134354710201\n",
      "0.02191394405942659\n",
      "0.021558702364891526\n",
      "0.02121472913896174\n",
      "0.02088126351514366\n",
      "0.020557650961477172\n",
      "0.020243325061200617\n",
      "0.019937792495578668\n",
      "0.019640620658820516\n",
      "0.01935142743998366\n",
      "0.019069872791017867\n",
      "0.01879565176825155\n",
      "0.0185284887900229\n",
      "0.018268132898428185\n",
      "0.018014353850232753\n",
      "0.01776693889247548\n",
      "0.01752569010337631\n",
      "0.017290422199855323\n",
      "0.017060960730050773\n",
      "0.016837140583346122\n",
      "0.016618804762089864\n",
      "0.01640580336886168\n",
      "0.016197992771133207\n",
      "0.015995234911798863\n",
      "0.01579739673953619\n",
      "0.015604349737500012\n",
      "0.015415969532614492\n",
      "0.015232135570845054\n",
      "0.01505273084640546\n",
      "0.014877641674994484\n",
      "0.014706757502912976\n",
      "0.014539970745381508\n",
      "0.01437717664857095\n",
      "0.014218273170864758\n",
      "0.01406316087968361\n",
      "0.013911742860885907\n",
      "0.013763924638308736\n",
      "0.013619614101477811\n",
      "0.013478721439884793\n",
      "0.013341159082544681\n",
      "0.013206841641795178\n",
      "\n"
     ]
    },
    {
     "ename": "KeyboardInterrupt",
     "evalue": "",
     "output_type": "error",
     "traceback": [
      "\u001b[1;31m---------------------------------------------------------------------------\u001b[0m",
      "\u001b[1;31mKeyboardInterrupt\u001b[0m                         Traceback (most recent call last)",
      "\u001b[1;32m<ipython-input-368-90c7a5c624c7>\u001b[0m in \u001b[0;36m<module>\u001b[1;34m\u001b[0m\n\u001b[1;32m----> 1\u001b[1;33m \u001b[0mevaluate\u001b[0m\u001b[1;33m(\u001b[0m\u001b[0mdataset\u001b[0m\u001b[1;33m)\u001b[0m\u001b[1;33m\u001b[0m\u001b[1;33m\u001b[0m\u001b[0m\n\u001b[0m",
      "\u001b[1;32m<ipython-input-367-5e9a28c004d0>\u001b[0m in \u001b[0;36mevaluate\u001b[1;34m(dataset)\u001b[0m\n\u001b[0;32m     14\u001b[0m         \u001b[0mtestX\u001b[0m \u001b[1;33m=\u001b[0m \u001b[0mtestDS\u001b[0m\u001b[1;33m[\u001b[0m\u001b[1;33m:\u001b[0m\u001b[1;33m,\u001b[0m\u001b[1;36m0\u001b[0m\u001b[1;33m]\u001b[0m\u001b[1;33m\u001b[0m\u001b[1;33m\u001b[0m\u001b[0m\n\u001b[0;32m     15\u001b[0m         \u001b[0mtestY\u001b[0m \u001b[1;33m=\u001b[0m \u001b[0mtestDS\u001b[0m\u001b[1;33m[\u001b[0m\u001b[1;33m:\u001b[0m\u001b[1;33m,\u001b[0m\u001b[1;36m1\u001b[0m\u001b[1;33m]\u001b[0m\u001b[1;33m\u001b[0m\u001b[1;33m\u001b[0m\u001b[0m\n\u001b[1;32m---> 16\u001b[1;33m         \u001b[0mw\u001b[0m \u001b[1;33m=\u001b[0m \u001b[0mdescent\u001b[0m\u001b[1;33m(\u001b[0m\u001b[0mtrainX\u001b[0m\u001b[1;33m,\u001b[0m\u001b[0mtrainY\u001b[0m\u001b[1;33m,\u001b[0m\u001b[0mtestX\u001b[0m\u001b[1;33m,\u001b[0m\u001b[0mtestY\u001b[0m\u001b[1;33m,\u001b[0m\u001b[0mREGULARIZATION_LAMBDA\u001b[0m\u001b[1;33m,\u001b[0m\u001b[0mERROR\u001b[0m\u001b[1;33m)\u001b[0m\u001b[1;33m\u001b[0m\u001b[1;33m\u001b[0m\u001b[0m\n\u001b[0m\u001b[0;32m     17\u001b[0m         \u001b[0mprint\u001b[0m\u001b[1;33m(\u001b[0m\u001b[0mw\u001b[0m\u001b[1;33m)\u001b[0m\u001b[1;33m\u001b[0m\u001b[1;33m\u001b[0m\u001b[0m\n\u001b[0;32m     18\u001b[0m         \u001b[0mplot_reg\u001b[0m\u001b[1;33m(\u001b[0m\u001b[0mtrainX\u001b[0m\u001b[1;33m,\u001b[0m\u001b[0mtrainY\u001b[0m\u001b[1;33m,\u001b[0m\u001b[0mtestX\u001b[0m\u001b[1;33m,\u001b[0m\u001b[0mtestY\u001b[0m\u001b[1;33m,\u001b[0m\u001b[0mw\u001b[0m\u001b[1;33m)\u001b[0m\u001b[1;33m\u001b[0m\u001b[1;33m\u001b[0m\u001b[0m\n",
      "\u001b[1;32m<ipython-input-366-39213bb570c2>\u001b[0m in \u001b[0;36mdescent\u001b[1;34m(trainX, y, testX, testY, lambd, err_function)\u001b[0m\n\u001b[0;32m     17\u001b[0m             \u001b[0mycon\u001b[0m \u001b[1;33m=\u001b[0m \u001b[0mychunks\u001b[0m\u001b[1;33m[\u001b[0m\u001b[0mchunk\u001b[0m\u001b[1;33m]\u001b[0m\u001b[1;33m\u001b[0m\u001b[1;33m\u001b[0m\u001b[0m\n\u001b[0;32m     18\u001b[0m             \u001b[0mpred\u001b[0m \u001b[1;33m=\u001b[0m \u001b[0mnp\u001b[0m\u001b[1;33m.\u001b[0m\u001b[0mdot\u001b[0m\u001b[1;33m(\u001b[0m\u001b[0mXcon\u001b[0m\u001b[1;33m,\u001b[0m\u001b[0mw\u001b[0m\u001b[1;33m)\u001b[0m\u001b[1;33m\u001b[0m\u001b[1;33m\u001b[0m\u001b[0m\n\u001b[1;32m---> 19\u001b[1;33m             \u001b[0mtest_err_list\u001b[0m\u001b[1;33m.\u001b[0m\u001b[0mappend\u001b[0m\u001b[1;33m(\u001b[0m\u001b[0mtestError\u001b[0m\u001b[1;33m(\u001b[0m\u001b[0mtestX\u001b[0m\u001b[1;33m,\u001b[0m\u001b[0mtestY\u001b[0m\u001b[1;33m,\u001b[0m\u001b[0mw\u001b[0m\u001b[1;33m,\u001b[0m\u001b[0mMAX_POWER\u001b[0m\u001b[1;33m)\u001b[0m\u001b[1;33m)\u001b[0m\u001b[1;33m\u001b[0m\u001b[1;33m\u001b[0m\u001b[0m\n\u001b[0m\u001b[0;32m     20\u001b[0m             \u001b[1;32mif\u001b[0m \u001b[0merr_function\u001b[0m \u001b[1;33m==\u001b[0m \u001b[1;34m\"mse\"\u001b[0m\u001b[1;33m:\u001b[0m\u001b[1;33m\u001b[0m\u001b[1;33m\u001b[0m\u001b[0m\n\u001b[0;32m     21\u001b[0m                 \u001b[0merr\u001b[0m \u001b[1;33m=\u001b[0m \u001b[1;36m0.5\u001b[0m \u001b[1;33m*\u001b[0m \u001b[1;33m(\u001b[0m\u001b[0mnp\u001b[0m\u001b[1;33m.\u001b[0m\u001b[0msum\u001b[0m\u001b[1;33m(\u001b[0m\u001b[0mnp\u001b[0m\u001b[1;33m.\u001b[0m\u001b[0msquare\u001b[0m\u001b[1;33m(\u001b[0m\u001b[0mpred\u001b[0m\u001b[1;33m-\u001b[0m\u001b[0mycon\u001b[0m\u001b[1;33m)\u001b[0m\u001b[1;33m)\u001b[0m \u001b[1;33m+\u001b[0m \u001b[0mlambd\u001b[0m\u001b[1;33m*\u001b[0m\u001b[0mnp\u001b[0m\u001b[1;33m.\u001b[0m\u001b[0msum\u001b[0m\u001b[1;33m(\u001b[0m\u001b[0mnp\u001b[0m\u001b[1;33m.\u001b[0m\u001b[0msquare\u001b[0m\u001b[1;33m(\u001b[0m\u001b[0mw\u001b[0m\u001b[1;33m)\u001b[0m\u001b[1;33m)\u001b[0m\u001b[1;33m)\u001b[0m\u001b[1;33m/\u001b[0m\u001b[0mlen\u001b[0m\u001b[1;33m(\u001b[0m\u001b[0mycon\u001b[0m\u001b[1;33m)\u001b[0m\u001b[1;33m\u001b[0m\u001b[1;33m\u001b[0m\u001b[0m\n",
      "\u001b[1;32m<ipython-input-339-ef829f6c5ba3>\u001b[0m in \u001b[0;36mtestError\u001b[1;34m(testX, testY, w, MAX_POWER)\u001b[0m\n\u001b[0;32m      1\u001b[0m \u001b[1;32mdef\u001b[0m \u001b[0mtestError\u001b[0m\u001b[1;33m(\u001b[0m\u001b[0mtestX\u001b[0m\u001b[1;33m,\u001b[0m \u001b[0mtestY\u001b[0m\u001b[1;33m,\u001b[0m\u001b[0mw\u001b[0m\u001b[1;33m,\u001b[0m\u001b[0mMAX_POWER\u001b[0m\u001b[1;33m)\u001b[0m\u001b[1;33m:\u001b[0m\u001b[1;33m\u001b[0m\u001b[1;33m\u001b[0m\u001b[0m\n\u001b[0;32m      2\u001b[0m     \u001b[0mtestX\u001b[0m \u001b[1;33m=\u001b[0m \u001b[0mmakeDesignMat\u001b[0m\u001b[1;33m(\u001b[0m\u001b[0mtestX\u001b[0m\u001b[1;33m,\u001b[0m\u001b[0mMAX_POWER\u001b[0m\u001b[1;33m)\u001b[0m\u001b[1;33m\u001b[0m\u001b[1;33m\u001b[0m\u001b[0m\n\u001b[1;32m----> 3\u001b[1;33m     \u001b[0mpred\u001b[0m \u001b[1;33m=\u001b[0m \u001b[0mnp\u001b[0m\u001b[1;33m.\u001b[0m\u001b[0mdot\u001b[0m\u001b[1;33m(\u001b[0m\u001b[0mtestX\u001b[0m\u001b[1;33m,\u001b[0m\u001b[0mw\u001b[0m\u001b[1;33m)\u001b[0m\u001b[1;33m\u001b[0m\u001b[1;33m\u001b[0m\u001b[0m\n\u001b[0m\u001b[0;32m      4\u001b[0m     \u001b[1;32mif\u001b[0m \u001b[0mERROR\u001b[0m \u001b[1;33m==\u001b[0m \u001b[1;34m\"mse\"\u001b[0m\u001b[1;33m:\u001b[0m\u001b[1;33m\u001b[0m\u001b[1;33m\u001b[0m\u001b[0m\n\u001b[0;32m      5\u001b[0m         \u001b[0merr\u001b[0m \u001b[1;33m=\u001b[0m \u001b[1;36m0.5\u001b[0m \u001b[1;33m*\u001b[0m \u001b[1;33m(\u001b[0m\u001b[0mnp\u001b[0m\u001b[1;33m.\u001b[0m\u001b[0msum\u001b[0m\u001b[1;33m(\u001b[0m\u001b[0mnp\u001b[0m\u001b[1;33m.\u001b[0m\u001b[0msquare\u001b[0m\u001b[1;33m(\u001b[0m\u001b[0mpred\u001b[0m\u001b[1;33m-\u001b[0m\u001b[0mtestY\u001b[0m\u001b[1;33m)\u001b[0m\u001b[1;33m)\u001b[0m\u001b[1;33m)\u001b[0m\u001b[1;33m/\u001b[0m\u001b[0mlen\u001b[0m\u001b[1;33m(\u001b[0m\u001b[0mtestY\u001b[0m\u001b[1;33m)\u001b[0m\u001b[1;33m\u001b[0m\u001b[1;33m\u001b[0m\u001b[0m\n",
      "\u001b[1;32m<__array_function__ internals>\u001b[0m in \u001b[0;36mdot\u001b[1;34m(*args, **kwargs)\u001b[0m\n",
      "\u001b[1;31mKeyboardInterrupt\u001b[0m: "
     ]
    }
   ],
   "source": [
    "evaluate(dataset)"
   ]
  },
  {
   "cell_type": "code",
   "execution_count": 147,
   "metadata": {},
   "outputs": [],
   "source": [
    "def evaluate_moorepenrose(dataset,MAX_POWER):\n",
    "    folds = cross_validation_split(dataset)\n",
    "    err_list = []\n",
    "    best_testerr = 99999999\n",
    "    corr_trainerr = 9999999\n",
    "    bestw = []\n",
    "    for j,fold in enumerate(folds):\n",
    "        trainDS = list(folds)\n",
    "        trainDS.remove(fold)\n",
    "        trainDS = np.array(trainDS)\n",
    "        trainX = []\n",
    "        trainY = []\n",
    "        for i in range(len(trainDS)):\n",
    "            trainX.extend(trainDS[i][:,0])\n",
    "            trainY.extend(trainDS[i][:,1])\n",
    "        testDS = np.array(fold)\n",
    "        testX = testDS[:,0]\n",
    "        testY = testDS[:,1]\n",
    "        X = makeDesignMat(trainX,MAX_POWER)\n",
    "        #w = np.dot(np.linalg.inv(np.dot(X.transpose(),X)),np.dot(X.transpose(),trainY))\n",
    "        w = np.dot(np.linalg.inv(np.dot(X.transpose(),X) + REGULARIZATION_LAMBDA * np.identity(MAX_POWER+1) ),np.dot(X.transpose(),trainY))\n",
    "        plt = plot_reg(trainX,trainY,testX,testY,w)\n",
    "        plt.title(f\"Moore Penrose with m={MAX_POWER}\")\n",
    "#         if j==0:\n",
    "#             plt.savefig(f\"Moore Penrose with m={MAX_POWER}.png\",dpi=1200)\n",
    "        trainerr = testError(trainX,trainY,w,MAX_POWER)\n",
    "        testerr = testError(testX,testY,w,MAX_POWER)\n",
    "        if testerr<best_testerr and trainerr<testerr:\n",
    "            best_testerr = testerr\n",
    "            corr_trainerr = trainerr\n",
    "            bestw = w\n",
    "        #err_list.append([trainerr,testerr])\n",
    "    #err_list = np.array(err_list)\n",
    "    #avg_trainerror = np.mean(err_list[:,0])\n",
    "    #avg_testerror = np.mean(err_list[:,1])\n",
    "    #print(w)\n",
    "    #print(err_list)\n",
    "    return bestw,best_testerr,corr_trainerr"
   ]
  },
  {
   "cell_type": "code",
   "execution_count": 152,
   "metadata": {},
   "outputs": [
    {
     "data": {
      "text/plain": [
       "(array([ 3.97001746, -0.19310122,  1.14525804,  1.5073456 , -5.49739375,\n",
       "        -1.76512871,  7.41102859, -0.56285768, -3.01294324,  0.97240564]),\n",
       " 0.0007511343782843787,\n",
       " 0.0006687714469005441)"
      ]
     },
     "execution_count": 152,
     "metadata": {},
     "output_type": "execute_result"
    },
    {
     "data": {
      "image/png": "[encoded data removed]",
      "text/plain": [
       "<Figure size 432x288 with 1 Axes>"
      ]
     },
     "metadata": {
      "needs_background": "light"
     },
     "output_type": "display_data"
    }
   ],
   "source": [
    "evaluate_moorepenrose(dataset,9)"
   ]
  },
  {
   "cell_type": "code",
   "execution_count": 112,
   "metadata": {},
   "outputs": [],
   "source": [
    "def plotData(dataset):\n",
    "    dataset = np.array(dataset)\n",
    "    X = dataset[:,0]\n",
    "    y = dataset[:,1]\n",
    "    plt.scatter(X,y,color=\"b\",marker='o',s=20)\n",
    "    plt.ylabel('t')\n",
    "    plt.xlabel('x')\n",
    "    plt.title(f'Gaussian Noise Dataset n={SUBSET} points')\n",
    "    plt.show\n",
    "    plt.savefig(f'Gaussian Noise Dataset_{SUBSET}.png',dpi=1200)"
   ]
  },
  {
   "cell_type": "code",
   "execution_count": 113,
   "metadata": {},
   "outputs": [
    {
     "data": {
      "image/png": "[encoded data removed]",
      "text/plain": [
       "<Figure size 432x288 with 1 Axes>"
      ]
     },
     "metadata": {
      "needs_background": "light"
     },
     "output_type": "display_data"
    }
   ],
   "source": [
    "plotData(dataset)"
   ]
  },
  {
   "cell_type": "code",
   "execution_count": 240,
   "metadata": {},
   "outputs": [],
   "source": [
    "def moorePenroseAnalysis(dataset):\n",
    "    testerrlist = []\n",
    "    trainerrlist = []\n",
    "    for MAX_POWER in range(3,13):\n",
    "        w,testerr,trainerr = evaluate_moorepenrose2(dataset,MAX_POWER)\n",
    "        testerrlist.append(testerr)\n",
    "        trainerrlist.append(trainerr)\n",
    "    xa = np.arange(3,13)\n",
    "    plt.clf()\n",
    "    plt.plot(xa,trainerrlist,color='r',label=\"Training error\")\n",
    "    plt.plot(xa,testerrlist,color='b',label=\"Testing error\")\n",
    "    plt.legend()\n",
    "    plt.savefig('Moore Penrose(Error vs m).png',dpi=1200)\n",
    "    plt.show()"
   ]
  },
  {
   "cell_type": "code",
   "execution_count": 241,
   "metadata": {},
   "outputs": [
    {
     "name": "stdout",
     "output_type": "stream",
     "text": [
      "1e-12\n",
      "1e-12\n",
      "1e-12\n",
      "1e-12\n",
      "1e-12\n",
      "1e-12\n",
      "1e-12\n",
      "1e-12\n",
      "1e-12\n",
      "1e-12\n"
     ]
    },
    {
     "data": {
      "image/png": "[encoded data removed]",
      "text/plain": [
       "<Figure size 432x288 with 1 Axes>"
      ]
     },
     "metadata": {
      "needs_background": "light"
     },
     "output_type": "display_data"
    }
   ],
   "source": [
    "moorePenroseAnalysis(dataset)"
   ]
  },
  {
   "cell_type": "code",
   "execution_count": 209,
   "metadata": {},
   "outputs": [],
   "source": [
    "def moorePenroseRegAnalysis(dataset):\n",
    "    testerrlist = []\n",
    "    trainerrlist = []\n",
    "    global REGULARIZATION_LAMBDA\n",
    "    for reg in [1e-12,1e-11,1e-10,1e-9,1e-8,1e-7,1e-6,1e-5,1e-4,1e-3,1e-2,1e-1]:\n",
    "        REGULARIZATION_LAMBDA = reg\n",
    "        w,testerr,trainerr = evaluate_moorepenrose2(dataset,9)\n",
    "        testerrlist.append(testerr)\n",
    "        trainerrlist.append(trainerr)\n",
    "    xa = np.arange(-12,0)\n",
    "    plt.clf()\n",
    "    plt.plot(xa,trainerrlist,color='r',label=\"Training error\")\n",
    "    plt.plot(xa,testerrlist,color='b',label=\"Testing error\")\n",
    "    plt.legend()\n",
    "    plt.xlabel(\"log(lambda)\")\n",
    "    plt.ylabel(\"Error\")\n",
    "    plt.title(\"Error vs Lambda\")\n",
    "    plt.savefig('Error vs Lambda.png',dpi=1200)\n",
    "    plt.show()"
   ]
  },
  {
   "cell_type": "code",
   "execution_count": 226,
   "metadata": {},
   "outputs": [
    {
     "name": "stdout",
     "output_type": "stream",
     "text": [
      "1e-12\n",
      "1e-11\n",
      "1e-10\n",
      "1e-09\n",
      "1e-08\n",
      "1e-07\n",
      "1e-06\n",
      "1e-05\n",
      "0.0001\n",
      "0.001\n",
      "0.01\n",
      "0.1\n"
     ]
    },
    {
     "data": {
      "image/png": "[encoded data removed]",
      "text/plain": [
       "<Figure size 432x288 with 1 Axes>"
      ]
     },
     "metadata": {
      "needs_background": "light"
     },
     "output_type": "display_data"
    }
   ],
   "source": [
    "moorePenroseRegAnalysis(dataset)"
   ]
  },
  {
   "cell_type": "code",
   "execution_count": 155,
   "metadata": {},
   "outputs": [],
   "source": [
    "def pseudoInv(X,t):\n",
    "    pseudoInverse=np.linalg.pinv(X)\n",
    "    weights=pseudoInverse @ t\n",
    "    return(weights)"
   ]
  },
  {
   "cell_type": "code",
   "execution_count": null,
   "metadata": {},
   "outputs": [],
   "source": []
  },
  {
   "cell_type": "code",
   "execution_count": 246,
   "metadata": {},
   "outputs": [],
   "source": [
    "ds = np.array(dataset)\n",
    "finw = pseudoInv(makeDesignMat(ds[:,0],9),ds[:,1])"
   ]
  },
  {
   "cell_type": "code",
   "execution_count": 230,
   "metadata": {},
   "outputs": [],
   "source": [
    "def evaluate_moorepenrose2(dataset,MAX_POWER):\n",
    "    dataset = np.array(dataset)\n",
    "    trainDS = dataset[:18]\n",
    "    testDS = dataset[18:]\n",
    "    trainX = trainDS[:,0]\n",
    "    trainY = trainDS[:,1]\n",
    "    testX = testDS[:,0]\n",
    "    testY = testDS[:,1]\n",
    "    X = makeDesignMat(trainX,MAX_POWER)\n",
    "    print(REGULARIZATION_LAMBDA)\n",
    "    w = np.dot(np.linalg.inv(np.dot(X.transpose(),X) + REGULARIZATION_LAMBDA * np.identity(MAX_POWER+1) ),np.dot(X.transpose(),trainY))\n",
    "    plt = plot_reg(trainX,trainY,testX,testY,w)\n",
    "    plt.title(f\"Moore Penrose with m={MAX_POWER}\")\n",
    "#         if j==0:\n",
    "#             plt.savefig(f\"Moore Penrose with m={MAX_POWER}.png\",dpi=1200)\n",
    "    trainerr = testError(trainX,trainY,w,MAX_POWER)\n",
    "    testerr = testError(testX,testY,w,MAX_POWER)\n",
    "    return w,testerr,trainerr"
   ]
  },
  {
   "cell_type": "code",
   "execution_count": null,
   "metadata": {},
   "outputs": [],
   "source": []
  },
  {
   "cell_type": "code",
   "execution_count": 249,
   "metadata": {},
   "outputs": [
    {
     "data": {
      "text/plain": [
       "0.0013441315056887191"
      ]
     },
     "execution_count": 249,
     "metadata": {},
     "output_type": "execute_result"
    }
   ],
   "source": [
    "XX = makeDesignMat(ds[:,0],9)\n",
    "pred = np.dot(XX,finw)\n",
    "beta = len(ds[:,1])/(np.sum(np.square(pred-ds[:,1])))\n",
    "1/beta"
   ]
  },
  {
   "cell_type": "code",
   "execution_count": null,
   "metadata": {},
   "outputs": [],
   "source": []
  }
 ],
 "metadata": {
  "kernelspec": {
   "display_name": "Python 3",
   "language": "python",
   "name": "python3"
  },
  "language_info": {
   "codemirror_mode": {
    "name": "ipython",
    "version": 3
   },
   "file_extension": ".py",
   "mimetype": "text/x-python",
   "name": "python",
   "nbconvert_exporter": "python",
   "pygments_lexer": "ipython3",
   "version": "3.7.6"
  }
 },
 "nbformat": 4,
 "nbformat_minor": 4
}
