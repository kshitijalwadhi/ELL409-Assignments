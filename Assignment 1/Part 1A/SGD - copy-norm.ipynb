{
 "cells": [
  {
   "cell_type": "code",
   "execution_count": 1,
   "metadata": {},
   "outputs": [],
   "source": [
    "import numpy as np\n",
    "import argparse\n",
    "import csv\n",
    "import matplotlib.pyplot as plt\n",
    "from tqdm.notebook import tqdm\n",
    "np.random.seed(42)\n",
    "import math\n",
    "import random"
   ]
  },
  {
   "cell_type": "code",
   "execution_count": 99,
   "metadata": {},
   "outputs": [],
   "source": [
    "LEARNING_RATE = 1e-1\n",
    "BATCH_SIZE = 8\n",
    "NUM_ITER = 100000\n",
    "MAX_POWER = 9\n",
    "SUBSET = 100\n",
    "N_FOLDS = 10\n",
    "ERROR = \"mse\"\n",
    "REGULARIZATION_LAMBDA = 1e-8"
   ]
  },
  {
   "cell_type": "code",
   "execution_count": 37,
   "metadata": {},
   "outputs": [],
   "source": [
    "def readData(filename):\n",
    "    dataset = []\n",
    "    with open(filename) as csv_file:\n",
    "        csv_reader = csv.reader(csv_file, delimiter=',')\n",
    "        for row in csv_reader:\n",
    "            dataset.append([float(row[0]),float(row[1])])\n",
    "    return dataset\n",
    "dataset = readData('gaussian.csv')"
   ]
  },
  {
   "cell_type": "code",
   "execution_count": 38,
   "metadata": {},
   "outputs": [],
   "source": [
    "dataset = dataset[:SUBSET]"
   ]
  },
  {
   "cell_type": "code",
   "execution_count": 39,
   "metadata": {},
   "outputs": [],
   "source": [
    "def cross_validation_split(dataset):\n",
    "    dataset_split = list()\n",
    "    dataset_copy = list(dataset)\n",
    "    fold_size = int(len(dataset) / N_FOLDS)\n",
    "    for i in range(N_FOLDS):\n",
    "        fold = list()\n",
    "        while len(fold) < fold_size:\n",
    "            index = random.randrange(len(dataset_copy))\n",
    "            fold.append(dataset_copy.pop(index))\n",
    "        dataset_split.append(fold)\n",
    "    return dataset_split"
   ]
  },
  {
   "cell_type": "code",
   "execution_count": 40,
   "metadata": {},
   "outputs": [],
   "source": [
    "# highest power is m here\n",
    "def makeDesignMat(x,m):\n",
    "    return np.vander(x,m+1,increasing=True)"
   ]
  },
  {
   "cell_type": "code",
   "execution_count": 63,
   "metadata": {},
   "outputs": [],
   "source": [
    "meanarr = []\n",
    "stdarr = []\n",
    "def normdes(des):\n",
    "    global meanarr\n",
    "    global stdarr\n",
    "    meanarr = []\n",
    "    stdarr = []\n",
    "    des = np.array(des)\n",
    "    newdes = []\n",
    "    allcols = []\n",
    "    allcols.append(des[:,0])\n",
    "    meanarr.append(0)\n",
    "    stdarr.append(1)\n",
    "    for i in range(1,len(des[0])):\n",
    "        col = des[:,i]\n",
    "        mu = np.mean(col)\n",
    "        std = np.std(col)\n",
    "        if(std!=0.0):\n",
    "            col = (col-mu)/std\n",
    "        else:\n",
    "            col = (col-mu)\n",
    "        meanarr.append(mu)\n",
    "        stdarr.append(std)\n",
    "        allcols.append(col)\n",
    "    newdes = np.asarray(allcols)\n",
    "    return newdes.transpose()"
   ]
  },
  {
   "cell_type": "code",
   "execution_count": null,
   "metadata": {},
   "outputs": [],
   "source": []
  },
  {
   "cell_type": "code",
   "execution_count": null,
   "metadata": {},
   "outputs": [],
   "source": []
  },
  {
   "cell_type": "code",
   "execution_count": 66,
   "metadata": {},
   "outputs": [],
   "source": [
    "a = np.array([[1,2]])"
   ]
  },
  {
   "cell_type": "code",
   "execution_count": 67,
   "metadata": {},
   "outputs": [
    {
     "data": {
      "text/plain": [
       "array([1, 2])"
      ]
     },
     "execution_count": 67,
     "metadata": {},
     "output_type": "execute_result"
    }
   ],
   "source": [
    "a.squeeze()"
   ]
  },
  {
   "cell_type": "code",
   "execution_count": 68,
   "metadata": {},
   "outputs": [
    {
     "name": "stdout",
     "output_type": "stream",
     "text": [
      "[1 2]\n"
     ]
    }
   ],
   "source": [
    "print(a.squeeze())"
   ]
  },
  {
   "cell_type": "code",
   "execution_count": 69,
   "metadata": {},
   "outputs": [],
   "source": [
    "def chunkarr(arr,n):\n",
    "    return [arr[i:i + n] for i in range(0, len(arr), n)]"
   ]
  },
  {
   "cell_type": "code",
   "execution_count": 70,
   "metadata": {},
   "outputs": [],
   "source": [
    "def plot_error(train_err_list,test_err_list):\n",
    "    xa = np.linspace(1,len(train_err_list),len(train_err_list),dtype=int)\n",
    "    plt.figure()\n",
    "    plt.plot(xa,train_err_list,color=\"g\")\n",
    "    plt.plot(xa,test_err_list,color=\"r\")\n",
    "    plt.xlabel('Iterations')\n",
    "    plt.ylabel('Error')\n",
    "    plt.title('Error vs Iterations')\n",
    "    plt.show()"
   ]
  },
  {
   "cell_type": "code",
   "execution_count": 104,
   "metadata": {},
   "outputs": [],
   "source": [
    "def descent(trainX,y,testX,testY,lambd = 0.0, err_function = \"mse\" ):\n",
    "    #m = len(trainX)\n",
    "    w = np.random.rand(MAX_POWER+1)\n",
    "    y = np.array(y)\n",
    "    X = makeDesignMat(trainX,MAX_POWER)\n",
    "    X = normdes(X)\n",
    "    Xchunks = chunkarr(X,BATCH_SIZE)\n",
    "    ychunks = chunkarr(y,BATCH_SIZE)\n",
    "    train_err_list = []\n",
    "    test_err_list = []\n",
    "    lr = LEARNING_RATE\n",
    "    flag = False\n",
    "    \n",
    "    destestX = makeDesignMat(testX,MAX_POWER)\n",
    "    normedtestX = normdes(destestX)\n",
    "    \n",
    "    for j in tqdm(range(NUM_ITER)):\n",
    "        #preverr = testError(trainX,y,w,MAX_POWER)\n",
    "        #print(preverr)\n",
    "        for chunk in range(len(Xchunks)):\n",
    "            Xcon = Xchunks[chunk]\n",
    "            ycon = ychunks[chunk]\n",
    "            pred = np.dot(Xcon,w)\n",
    "            #test_err_list.append(testError(testX,testY,w,MAX_POWER))\n",
    "            test_err_list.append(testError2(normedtestX,testY,w,MAX_POWER))\n",
    "            if err_function == \"mse\":\n",
    "                err = 0.5 * (np.sum(np.square(pred-ycon)) + lambd*np.sum(np.square(w)))/len(ycon)\n",
    "                grad = (np.dot(Xcon.T,(pred-ycon)) + lambd*w)/len(ycon)\n",
    "            if err_function == \"mae\":\n",
    "                err = np.sum(np.abs(pred-ycon))\n",
    "                parity = np.sign(pred - ycon)\n",
    "                parity = parity.reshape((len(ycon),1))\n",
    "                grad = np.sum(np.multiply(parity,Xcon).T,axis=1)/len(ycon)\n",
    "            if err_function == \"huber\":\n",
    "                e = 0.1\n",
    "                temp = pred-ycon\n",
    "                err = np.sum(np.where(np.abs(temp)<=e,0.5*temp*temp,(e*np.abs(temp) - 0.5*e*e)))\n",
    "                err += lambd*np.sum(np.square(w))\n",
    "                err /= len(ycon)\n",
    "                grad = np.zeros((MAX_POWER+1,))\n",
    "                for i in range(len(ycon)):\n",
    "                    if np.abs(temp[i]<=e):\n",
    "                        grad += temp[i]*Xcon[i,:]\n",
    "                    else:\n",
    "                        grad += e*np.sign(temp[i])*Xcon[i,:]\n",
    "                grad+=2*lambd*w\n",
    "                w = np.squeeze(w)\n",
    "                grad /=len(ycon)\n",
    "                grad = np.squeeze(grad)\n",
    "            w = w - lr * grad\n",
    "            train_err_list.append(err)\n",
    "        newerr = testError(trainX,y,w,MAX_POWER)\n",
    "        if(j%1000==0):\n",
    "            print(newerr)\n",
    "#         if(newerr<0.03):\n",
    "#             continue\n",
    "#         lr = LEARNING_RATE * math.exp(-0.0015*j/NUM_ITER)\n",
    "    plot_error(train_err_list,test_err_list)\n",
    "    return w"
   ]
  },
  {
   "cell_type": "code",
   "execution_count": 105,
   "metadata": {},
   "outputs": [],
   "source": [
    "def plot_reg(trainX,trainY,testX,testY,w):\n",
    "    def aux(X_line,w):\n",
    "        temp = 0\n",
    "        temp2 = 0\n",
    "        for i in range(len(w)):\n",
    "            temp += np.power(X_line,i) * w[i]/stdarr[i]\n",
    "            temp2 += meanarr[i]*w[i]/stdarr[i]\n",
    "        return temp - temp2\n",
    "    jointX = np.concatenate((trainX,testX))\n",
    "    plt.clf()\n",
    "    plt.scatter(trainX,trainY,color='b',marker ='o',s=15)\n",
    "    plt.scatter(testX,testY,color=\"m\",marker='o',s=30)\n",
    "    x_line = np.linspace(min(jointX),max(jointX),100)\n",
    "    y_pred = aux(x_line,w)\n",
    "    plt.plot(x_line,y_pred, color='g')\n",
    "    plt.xlabel('X')\n",
    "    plt.ylabel('y')\n",
    "    plt.show()\n",
    "    return plt"
   ]
  },
  {
   "cell_type": "code",
   "execution_count": 106,
   "metadata": {},
   "outputs": [],
   "source": [
    "def testError(testX, testY,w,MAX_POWER):\n",
    "    testX = makeDesignMat(testX,MAX_POWER)\n",
    "    testX = normdes(testX)\n",
    "    pred = np.dot(testX,w)\n",
    "    if ERROR == \"mse\":\n",
    "        err = 0.5 * (np.sum(np.square(pred-testY)))/len(testY)\n",
    "    elif ERROR == \"mae\":\n",
    "        err = np.sum(np.abs(pred-testY)) / len(testY)\n",
    "    elif ERROR == \"huber\":\n",
    "        e = 0.1\n",
    "        temp = pred-testY\n",
    "        err = np.sum(np.where(np.abs(temp)<=e,0.5*temp*temp,(e*np.abs(temp) - 0.5*e*e))) / len(testY)\n",
    "    return err"
   ]
  },
  {
   "cell_type": "code",
   "execution_count": 107,
   "metadata": {},
   "outputs": [],
   "source": [
    "def testError2(normedX, testY,w,MAX_POWER):\n",
    "    pred = np.dot(normedX,w)\n",
    "    if ERROR == \"mse\":\n",
    "        err = 0.5 * (np.sum(np.square(pred-testY)))/len(testY)\n",
    "    elif ERROR == \"mae\":\n",
    "        err = np.sum(np.abs(pred-testY)) / len(testY)\n",
    "    elif ERROR == \"huber\":\n",
    "        e = 0.1\n",
    "        temp = pred-testY\n",
    "        err = np.sum(np.where(np.abs(temp)<=e,0.5*temp*temp,(e*np.abs(temp) - 0.5*e*e))) / len(testY)\n",
    "    return err"
   ]
  },
  {
   "cell_type": "code",
   "execution_count": 108,
   "metadata": {},
   "outputs": [],
   "source": [
    "def evaluate(dataset):\n",
    "    folds = cross_validation_split(dataset)\n",
    "    err_list = []\n",
    "    for fold in folds:\n",
    "        trainDS = list(folds)\n",
    "        trainDS.remove(fold)\n",
    "        trainDS = np.array(trainDS)\n",
    "        trainX = []\n",
    "        trainY = []\n",
    "        for i in range(len(trainDS)):\n",
    "            trainX.extend(trainDS[i][:,0])\n",
    "            trainY.extend(trainDS[i][:,1])\n",
    "        testDS = np.array(fold)\n",
    "        testX = testDS[:,0]\n",
    "        testY = testDS[:,1]\n",
    "        w = descent(trainX,trainY,testX,testY,REGULARIZATION_LAMBDA,ERROR)\n",
    "        print(w)\n",
    "        plot_reg(trainX,trainY,testX,testY,w)\n",
    "        err = testError(testX,testY,w,MAX_POWER)\n",
    "        err_list.append(err)\n",
    "    avg_error = np.mean(err_list)\n",
    "    print(err_list)\n",
    "    return avg_error"
   ]
  },
  {
   "cell_type": "code",
   "execution_count": null,
   "metadata": {},
   "outputs": [],
   "source": []
  },
  {
   "cell_type": "code",
   "execution_count": 109,
   "metadata": {},
   "outputs": [
    {
     "data": {
      "application/vnd.jupyter.widget-view+json": {
       "model_id": "36e45a4bc4874cdbb10d1af63ce85e76",
       "version_major": 2,
       "version_minor": 0
      },
      "text/plain": [
       "HBox(children=(FloatProgress(value=0.0, max=100000.0), HTML(value='')))"
      ]
     },
     "metadata": {},
     "output_type": "display_data"
    },
    {
     "name": "stdout",
     "output_type": "stream",
     "text": [
      "0.8728604248265548\n",
      "0.024459185210423565\n",
      "0.020826638255587233\n",
      "0.018884875272654287\n",
      "0.01773299377733072\n",
      "0.016962721283507922\n",
      "0.016384831219557437\n",
      "0.01591090606344831\n",
      "0.01549907931190462\n",
      "0.015129024868371706\n",
      "0.014790419890727633\n",
      "0.014477619508567595\n",
      "0.014187196531024283\n",
      "0.01391680297877911\n",
      "0.013664641670476128\n",
      "0.013429219449390116\n",
      "0.013209230471215437\n",
      "0.013003499579851762\n",
      "0.01281095347355408\n",
      "0.012630604763298229\n",
      "0.012461542061278919\n",
      "0.012302922947288424\n",
      "0.012153968370938833\n",
      "0.012013957833682058\n",
      "0.011882225053709585\n",
      "0.011758153979224324\n",
      "0.011641175087752332\n",
      "0.0115307619402964\n",
      "0.011426427971931573\n",
      "0.011327723505260142\n",
      "0.011234232974696091\n",
      "0.011145572349901163\n",
      "0.0110613867467274\n",
      "0.010981348214077686\n",
      "0.01090515368527501\n",
      "0.010832523082846893\n",
      "0.010763197566056206\n",
      "0.01069693791101619\n",
      "0.010633523013769807\n",
      "0.010572748507293136\n",
      "0.01051442548395152\n",
      "0.010458379315505922\n",
      "0.010404448563313016\n",
      "0.010352483971885616\n",
      "0.010302347539475568\n",
      "0.010253911659807616\n",
      "0.010207058329530033\n",
      "0.010161678416354483\n",
      "0.010117670983238588\n",
      "0.010074942664316503\n",
      "0.010033407088609355\n",
      "0.009992984347851001\n",
      "0.009953600505043929\n",
      "0.009915187140621281\n",
      "0.009877680933327455\n",
      "0.009841023273154297\n",
      "0.00980515990387226\n",
      "0.009770040592886765\n",
      "0.009735618826321244\n",
      "0.009701851527394187\n",
      "0.009668698796301528\n",
      "0.00963612366995637\n",
      "0.009604091900061876\n",
      "0.009572571748114116\n",
      "0.009541533796035137\n",
      "0.009510950771239503\n",
      "0.009480797385028423\n",
      "0.00945105018329029\n",
      "0.009421687408565887\n",
      "0.009392688872606789\n",
      "0.009364035838625715\n",
      "0.009335710912495262\n",
      "0.009307697942212706\n",
      "0.009279981924995457\n",
      "0.009252548921428086\n",
      "0.009225385976118005\n",
      "0.00919848104436445\n",
      "0.009171822924381453\n",
      "0.009145401194651105\n",
      "0.009119206156013148\n",
      "0.009093228778133124\n",
      "0.009067460650012453\n",
      "0.009041893934233346\n",
      "0.009016521324653413\n",
      "0.00899133600728897\n",
      "0.008966331624140466\n",
      "0.00894150223974132\n",
      "0.008916842310218344\n",
      "0.008892346654675358\n",
      "0.008868010428722924\n",
      "0.008843829099990931\n",
      "0.008819798425474472\n",
      "0.008795914430571905\n",
      "0.00877217338968926\n",
      "0.008748571808291129\n",
      "0.008725106406287507\n",
      "0.00870177410265849\n",
      "0.0086785720012196\n",
      "0.008655497377444005\n",
      "0.008632547666261453\n",
      "\n"
     ]
    },
    {
     "data": {
      "image/png": "[encoded data removed]",
      "text/plain": [
       "<Figure size 432x288 with 1 Axes>"
      ]
     },
     "metadata": {
      "needs_background": "light"
     },
     "output_type": "display_data"
    },
    {
     "name": "stdout",
     "output_type": "stream",
     "text": [
      "[  4.10955693   0.26434714  -1.20320164  -2.80508064   5.17892762\n",
      "  10.73503588  -1.99257943 -16.00508092  -9.29777434  15.14340312]\n"
     ]
    },
    {
     "data": {
      "image/png": "[encoded data removed]",
      "text/plain": [
       "<Figure size 432x288 with 1 Axes>"
      ]
     },
     "metadata": {
      "needs_background": "light"
     },
     "output_type": "display_data"
    },
    {
     "ename": "ValueError",
     "evalue": "The truth value of an array with more than one element is ambiguous. Use a.any() or a.all()",
     "output_type": "error",
     "traceback": [
      "\u001b[1;31m---------------------------------------------------------------------------\u001b[0m",
      "\u001b[1;31mValueError\u001b[0m                                Traceback (most recent call last)",
      "\u001b[1;32m<ipython-input-109-90c7a5c624c7>\u001b[0m in \u001b[0;36m<module>\u001b[1;34m\u001b[0m\n\u001b[1;32m----> 1\u001b[1;33m \u001b[0mevaluate\u001b[0m\u001b[1;33m(\u001b[0m\u001b[0mdataset\u001b[0m\u001b[1;33m)\u001b[0m\u001b[1;33m\u001b[0m\u001b[1;33m\u001b[0m\u001b[0m\n\u001b[0m",
      "\u001b[1;32m<ipython-input-108-5e9a28c004d0>\u001b[0m in \u001b[0;36mevaluate\u001b[1;34m(dataset)\u001b[0m\n\u001b[0;32m      4\u001b[0m     \u001b[1;32mfor\u001b[0m \u001b[0mfold\u001b[0m \u001b[1;32min\u001b[0m \u001b[0mfolds\u001b[0m\u001b[1;33m:\u001b[0m\u001b[1;33m\u001b[0m\u001b[1;33m\u001b[0m\u001b[0m\n\u001b[0;32m      5\u001b[0m         \u001b[0mtrainDS\u001b[0m \u001b[1;33m=\u001b[0m \u001b[0mlist\u001b[0m\u001b[1;33m(\u001b[0m\u001b[0mfolds\u001b[0m\u001b[1;33m)\u001b[0m\u001b[1;33m\u001b[0m\u001b[1;33m\u001b[0m\u001b[0m\n\u001b[1;32m----> 6\u001b[1;33m         \u001b[0mtrainDS\u001b[0m\u001b[1;33m.\u001b[0m\u001b[0mremove\u001b[0m\u001b[1;33m(\u001b[0m\u001b[0mfold\u001b[0m\u001b[1;33m)\u001b[0m\u001b[1;33m\u001b[0m\u001b[1;33m\u001b[0m\u001b[0m\n\u001b[0m\u001b[0;32m      7\u001b[0m         \u001b[0mtrainDS\u001b[0m \u001b[1;33m=\u001b[0m \u001b[0mnp\u001b[0m\u001b[1;33m.\u001b[0m\u001b[0marray\u001b[0m\u001b[1;33m(\u001b[0m\u001b[0mtrainDS\u001b[0m\u001b[1;33m)\u001b[0m\u001b[1;33m\u001b[0m\u001b[1;33m\u001b[0m\u001b[0m\n\u001b[0;32m      8\u001b[0m         \u001b[0mtrainX\u001b[0m \u001b[1;33m=\u001b[0m \u001b[1;33m[\u001b[0m\u001b[1;33m]\u001b[0m\u001b[1;33m\u001b[0m\u001b[1;33m\u001b[0m\u001b[0m\n",
      "\u001b[1;31mValueError\u001b[0m: The truth value of an array with more than one element is ambiguous. Use a.any() or a.all()"
     ]
    }
   ],
   "source": [
    "evaluate(dataset)"
   ]
  },
  {
   "cell_type": "code",
   "execution_count": 147,
   "metadata": {},
   "outputs": [],
   "source": [
    "def evaluate_moorepenrose(dataset,MAX_POWER):\n",
    "    folds = cross_validation_split(dataset)\n",
    "    err_list = []\n",
    "    best_testerr = 99999999\n",
    "    corr_trainerr = 9999999\n",
    "    bestw = []\n",
    "    for j,fold in enumerate(folds):\n",
    "        trainDS = list(folds)\n",
    "        trainDS.remove(fold)\n",
    "        trainDS = np.array(trainDS)\n",
    "        trainX = []\n",
    "        trainY = []\n",
    "        for i in range(len(trainDS)):\n",
    "            trainX.extend(trainDS[i][:,0])\n",
    "            trainY.extend(trainDS[i][:,1])\n",
    "        testDS = np.array(fold)\n",
    "        testX = testDS[:,0]\n",
    "        testY = testDS[:,1]\n",
    "        X = makeDesignMat(trainX,MAX_POWER)\n",
    "        #w = np.dot(np.linalg.inv(np.dot(X.transpose(),X)),np.dot(X.transpose(),trainY))\n",
    "        w = np.dot(np.linalg.inv(np.dot(X.transpose(),X) + REGULARIZATION_LAMBDA * np.identity(MAX_POWER+1) ),np.dot(X.transpose(),trainY))\n",
    "        plt = plot_reg(trainX,trainY,testX,testY,w)\n",
    "        plt.title(f\"Moore Penrose with m={MAX_POWER}\")\n",
    "#         if j==0:\n",
    "#             plt.savefig(f\"Moore Penrose with m={MAX_POWER}.png\",dpi=1200)\n",
    "        trainerr = testError(trainX,trainY,w,MAX_POWER)\n",
    "        testerr = testError(testX,testY,w,MAX_POWER)\n",
    "        if testerr<best_testerr and trainerr<testerr:\n",
    "            best_testerr = testerr\n",
    "            corr_trainerr = trainerr\n",
    "            bestw = w\n",
    "        #err_list.append([trainerr,testerr])\n",
    "    #err_list = np.array(err_list)\n",
    "    #avg_trainerror = np.mean(err_list[:,0])\n",
    "    #avg_testerror = np.mean(err_list[:,1])\n",
    "    #print(w)\n",
    "    #print(err_list)\n",
    "    return bestw,best_testerr,corr_trainerr"
   ]
  },
  {
   "cell_type": "code",
   "execution_count": 152,
   "metadata": {},
   "outputs": [
    {
     "data": {
      "text/plain": [
       "(array([ 3.97001746, -0.19310122,  1.14525804,  1.5073456 , -5.49739375,\n",
       "        -1.76512871,  7.41102859, -0.56285768, -3.01294324,  0.97240564]),\n",
       " 0.0007511343782843787,\n",
       " 0.0006687714469005441)"
      ]
     },
     "execution_count": 152,
     "metadata": {},
     "output_type": "execute_result"
    },
    {
     "data": {
      "image/png": "[encoded data removed]",
      "text/plain": [
       "<Figure size 432x288 with 1 Axes>"
      ]
     },
     "metadata": {
      "needs_background": "light"
     },
     "output_type": "display_data"
    }
   ],
   "source": [
    "evaluate_moorepenrose(dataset,9)"
   ]
  },
  {
   "cell_type": "code",
   "execution_count": 110,
   "metadata": {},
   "outputs": [],
   "source": [
    "w=[3.97001746, -0.19310122,  1.14525804,  1.5073456 , -5.49739375,-1.76512871,  7.41102859, -0.56285768, -3.01294324,  0.97240564]"
   ]
  },
  {
   "cell_type": "code",
   "execution_count": 113,
   "metadata": {},
   "outputs": [
    {
     "data": {
      "text/plain": [
       "[3.8460750978857696,\n",
       " -0.22830838465330927,\n",
       " 1.2347681564237507,\n",
       " 0.7805829906341181,\n",
       " -1.6814053584942925,\n",
       " -0.28634488691275767,\n",
       " 0.6692078616228196,\n",
       " -0.027589373994161837,\n",
       " -0.081211461353046,\n",
       " 0.01431552162684609]"
      ]
     },
     "execution_count": 113,
     "metadata": {},
     "output_type": "execute_result"
    }
   ],
   "source": [
    "temp2 = 0\n",
    "for i in range(len(w)):\n",
    "    temp2 +=meanarr[i]*w[i]/stdarr[i]\n",
    "finw = []\n",
    "for i in range(len(w)):\n",
    "    finw.append(w[i]/stdarr[i])\n",
    "finw[0]-=temp2\n",
    "finw"
   ]
  },
  {
   "cell_type": "code",
   "execution_count": null,
   "metadata": {},
   "outputs": [],
   "source": []
  },
  {
   "cell_type": "code",
   "execution_count": null,
   "metadata": {},
   "outputs": [],
   "source": []
  },
  {
   "cell_type": "code",
   "execution_count": 112,
   "metadata": {},
   "outputs": [],
   "source": [
    "def plotData(dataset):\n",
    "    dataset = np.array(dataset)\n",
    "    X = dataset[:,0]\n",
    "    y = dataset[:,1]\n",
    "    plt.scatter(X,y,color=\"b\",marker='o',s=20)\n",
    "    plt.ylabel('t')\n",
    "    plt.xlabel('x')\n",
    "    plt.title(f'Gaussian Noise Dataset n={SUBSET} points')\n",
    "    plt.show\n",
    "    plt.savefig(f'Gaussian Noise Dataset_{SUBSET}.png',dpi=1200)"
   ]
  },
  {
   "cell_type": "code",
   "execution_count": 113,
   "metadata": {},
   "outputs": [
    {
     "data": {
      "image/png": "[encoded data removed]",
      "text/plain": [
       "<Figure size 432x288 with 1 Axes>"
      ]
     },
     "metadata": {
      "needs_background": "light"
     },
     "output_type": "display_data"
    }
   ],
   "source": [
    "plotData(dataset)"
   ]
  },
  {
   "cell_type": "code",
   "execution_count": 240,
   "metadata": {},
   "outputs": [],
   "source": [
    "def moorePenroseAnalysis(dataset):\n",
    "    testerrlist = []\n",
    "    trainerrlist = []\n",
    "    for MAX_POWER in range(3,13):\n",
    "        w,testerr,trainerr = evaluate_moorepenrose2(dataset,MAX_POWER)\n",
    "        testerrlist.append(testerr)\n",
    "        trainerrlist.append(trainerr)\n",
    "    xa = np.arange(3,13)\n",
    "    plt.clf()\n",
    "    plt.plot(xa,trainerrlist,color='r',label=\"Training error\")\n",
    "    plt.plot(xa,testerrlist,color='b',label=\"Testing error\")\n",
    "    plt.legend()\n",
    "    plt.savefig('Moore Penrose(Error vs m).png',dpi=1200)\n",
    "    plt.show()"
   ]
  },
  {
   "cell_type": "code",
   "execution_count": 241,
   "metadata": {},
   "outputs": [
    {
     "name": "stdout",
     "output_type": "stream",
     "text": [
      "1e-12\n",
      "1e-12\n",
      "1e-12\n",
      "1e-12\n",
      "1e-12\n",
      "1e-12\n",
      "1e-12\n",
      "1e-12\n",
      "1e-12\n",
      "1e-12\n"
     ]
    },
    {
     "data": {
      "image/png": "[encoded data removed]",
      "text/plain": [
       "<Figure size 432x288 with 1 Axes>"
      ]
     },
     "metadata": {
      "needs_background": "light"
     },
     "output_type": "display_data"
    }
   ],
   "source": [
    "moorePenroseAnalysis(dataset)"
   ]
  },
  {
   "cell_type": "code",
   "execution_count": 209,
   "metadata": {},
   "outputs": [],
   "source": [
    "def moorePenroseRegAnalysis(dataset):\n",
    "    testerrlist = []\n",
    "    trainerrlist = []\n",
    "    global REGULARIZATION_LAMBDA\n",
    "    for reg in [1e-12,1e-11,1e-10,1e-9,1e-8,1e-7,1e-6,1e-5,1e-4,1e-3,1e-2,1e-1]:\n",
    "        REGULARIZATION_LAMBDA = reg\n",
    "        w,testerr,trainerr = evaluate_moorepenrose2(dataset,9)\n",
    "        testerrlist.append(testerr)\n",
    "        trainerrlist.append(trainerr)\n",
    "    xa = np.arange(-12,0)\n",
    "    plt.clf()\n",
    "    plt.plot(xa,trainerrlist,color='r',label=\"Training error\")\n",
    "    plt.plot(xa,testerrlist,color='b',label=\"Testing error\")\n",
    "    plt.legend()\n",
    "    plt.xlabel(\"log(lambda)\")\n",
    "    plt.ylabel(\"Error\")\n",
    "    plt.title(\"Error vs Lambda\")\n",
    "    plt.savefig('Error vs Lambda.png',dpi=1200)\n",
    "    plt.show()"
   ]
  },
  {
   "cell_type": "code",
   "execution_count": 226,
   "metadata": {},
   "outputs": [
    {
     "name": "stdout",
     "output_type": "stream",
     "text": [
      "1e-12\n",
      "1e-11\n",
      "1e-10\n",
      "1e-09\n",
      "1e-08\n",
      "1e-07\n",
      "1e-06\n",
      "1e-05\n",
      "0.0001\n",
      "0.001\n",
      "0.01\n",
      "0.1\n"
     ]
    },
    {
     "data": {
      "image/png": "[encoded data removed]",
      "text/plain": [
       "<Figure size 432x288 with 1 Axes>"
      ]
     },
     "metadata": {
      "needs_background": "light"
     },
     "output_type": "display_data"
    }
   ],
   "source": [
    "moorePenroseRegAnalysis(dataset)"
   ]
  },
  {
   "cell_type": "code",
   "execution_count": 155,
   "metadata": {},
   "outputs": [],
   "source": [
    "def pseudoInv(X,t):\n",
    "    pseudoInverse=np.linalg.pinv(X)\n",
    "    weights=pseudoInverse @ t\n",
    "    return(weights)"
   ]
  },
  {
   "cell_type": "code",
   "execution_count": null,
   "metadata": {},
   "outputs": [],
   "source": []
  },
  {
   "cell_type": "code",
   "execution_count": 246,
   "metadata": {},
   "outputs": [],
   "source": [
    "ds = np.array(dataset)\n",
    "finw = pseudoInv(makeDesignMat(ds[:,0],9),ds[:,1])"
   ]
  },
  {
   "cell_type": "code",
   "execution_count": 230,
   "metadata": {},
   "outputs": [],
   "source": [
    "def evaluate_moorepenrose2(dataset,MAX_POWER):\n",
    "    dataset = np.array(dataset)\n",
    "    trainDS = dataset[:18]\n",
    "    testDS = dataset[18:]\n",
    "    trainX = trainDS[:,0]\n",
    "    trainY = trainDS[:,1]\n",
    "    testX = testDS[:,0]\n",
    "    testY = testDS[:,1]\n",
    "    X = makeDesignMat(trainX,MAX_POWER)\n",
    "    print(REGULARIZATION_LAMBDA)\n",
    "    w = np.dot(np.linalg.inv(np.dot(X.transpose(),X) + REGULARIZATION_LAMBDA * np.identity(MAX_POWER+1) ),np.dot(X.transpose(),trainY))\n",
    "    plt = plot_reg(trainX,trainY,testX,testY,w)\n",
    "    plt.title(f\"Moore Penrose with m={MAX_POWER}\")\n",
    "#         if j==0:\n",
    "#             plt.savefig(f\"Moore Penrose with m={MAX_POWER}.png\",dpi=1200)\n",
    "    trainerr = testError(trainX,trainY,w,MAX_POWER)\n",
    "    testerr = testError(testX,testY,w,MAX_POWER)\n",
    "    return w,testerr,trainerr"
   ]
  },
  {
   "cell_type": "code",
   "execution_count": null,
   "metadata": {},
   "outputs": [],
   "source": []
  },
  {
   "cell_type": "code",
   "execution_count": 249,
   "metadata": {},
   "outputs": [
    {
     "data": {
      "text/plain": [
       "0.0013441315056887191"
      ]
     },
     "execution_count": 249,
     "metadata": {},
     "output_type": "execute_result"
    }
   ],
   "source": [
    "XX = makeDesignMat(ds[:,0],9)\n",
    "pred = np.dot(XX,finw)\n",
    "beta = len(ds[:,1])/(np.sum(np.square(pred-ds[:,1])))\n",
    "1/beta"
   ]
  },
  {
   "cell_type": "code",
   "execution_count": null,
   "metadata": {},
   "outputs": [],
   "source": []
  }
 ],
 "metadata": {
  "kernelspec": {
   "display_name": "Python 3",
   "language": "python",
   "name": "python3"
  },
  "language_info": {
   "codemirror_mode": {
    "name": "ipython",
    "version": 3
   },
   "file_extension": ".py",
   "mimetype": "text/x-python",
   "name": "python",
   "nbconvert_exporter": "python",
   "pygments_lexer": "ipython3",
   "version": "3.7.6"
  }
 },
 "nbformat": 4,
 "nbformat_minor": 4
}
