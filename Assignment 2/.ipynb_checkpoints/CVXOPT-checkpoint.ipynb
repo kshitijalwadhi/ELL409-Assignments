{
 "cells": [
  {
   "cell_type": "code",
   "execution_count": 1,
   "metadata": {},
   "outputs": [],
   "source": [
    "import numpy as np\n",
    "import pandas as pd\n",
    "import random\n",
    "import cvxopt\n",
    "from cvxopt import matrix, solvers\n",
    "from cvxopt.modeling import variable\n",
    "from tqdm.notebook import tqdm\n",
    "from sklearn.svm import SVC"
   ]
  },
  {
   "cell_type": "code",
   "execution_count": 11,
   "metadata": {},
   "outputs": [],
   "source": [
    "N_FOLDS = 10\n",
    "C1,C2 = 0,1\n",
    "KERNEL = 'LINEAR'\n",
    "GAMMA = 0.001\n",
    "C = 3.0"
   ]
  },
  {
   "cell_type": "code",
   "execution_count": 7,
   "metadata": {},
   "outputs": [],
   "source": [
    "def getData(C1,C2):\n",
    "    df = pd.read_csv('2019EE10577.csv',header=None)\n",
    "    df = df[(df[25] == C1) | (df[25] == C2)]\n",
    "    dataset = []\n",
    "    for i,row in df.iterrows():\n",
    "        xi = []\n",
    "        for j in range(0,25):\n",
    "            xi.append(row[j])\n",
    "        if(row[25]==C1):\n",
    "            xi.append(-1)\n",
    "        else:\n",
    "            xi.append(1)\n",
    "        dataset.append(xi)\n",
    "    return dataset"
   ]
  },
  {
   "cell_type": "code",
   "execution_count": 8,
   "metadata": {},
   "outputs": [],
   "source": [
    "def cross_validation_split(dataset):\n",
    "    dataset_split = list()\n",
    "    dataset_copy = list(dataset)\n",
    "    fold_size = int(len(dataset) / N_FOLDS)\n",
    "    for i in range(N_FOLDS):\n",
    "        fold = list()\n",
    "        while len(fold) < fold_size:\n",
    "            index = random.randrange(len(dataset_copy))\n",
    "            fold.append(dataset_copy.pop(index))\n",
    "        dataset_split.append(fold)\n",
    "    return dataset_split"
   ]
  },
  {
   "cell_type": "code",
   "execution_count": 9,
   "metadata": {},
   "outputs": [],
   "source": [
    "dataset = getData(C1,C2)"
   ]
  },
  {
   "cell_type": "code",
   "execution_count": 10,
   "metadata": {},
   "outputs": [],
   "source": [
    "dataset_split = cross_validation_split(dataset)"
   ]
  },
  {
   "cell_type": "code",
   "execution_count": null,
   "metadata": {},
   "outputs": [],
   "source": [
    "class SVM:\n",
    "    def __init__(self,kernel='LINEAR',C = 3.0,gamma = 0.001, power = 4, coeff = 1):\n",
    "        self.kernel = kernel\n",
    "        self.C = C\n",
    "        self.gamma = gamma\n",
    "        self.power = power\n",
    "        self.coeff = coeff\n",
    "    \n",
    "    def fit(self,X,y):\n",
    "        X = np.array(X)\n",
    "        y = np.array(y)\n",
    "        num_samples,num_features = X.shape\n",
    "        K = np.zeros((num_samples,num_samples))\n",
    "        \n",
    "        for i in tqdm(range(num_samples)):\n",
    "            for j in range(num_samples):\n",
    "                if self.kernel == 'LINEAR':\n",
    "                    K[i][j] = np.dot(X[i],np.transpose(X[j]))\n",
    "                elif self.kernel == 'POLY':\n",
    "                    K[i][j] = (np.dot(X[i],np.transpose(X[j])) + self.coeff) ** self.power\n",
    "                elif self.kernel == 'RBF':\n",
    "                    K[i][j] = np.exp(-1 * self.gamma*np.sum(np.square(X[i]-X[j])))\n",
    "        \n",
    "        self.K = K\n",
    "        \n",
    "        H = np.zeros((num_samples,num_samples))\n",
    "        for i in tqdm(range(num_samples)):\n",
    "            for j in range(num_samples):\n",
    "                H[i][j] = y[i]*y[j] * K[i][j]\n",
    "        P = matrix(H)\n",
    "        q = matrix(np.ones(num_samples) * -1)\n",
    "        G = matrix(np.vstack(((np.identity(num_samples) * -1),np.identity(num_samples))))\n",
    "        h = matrix(np.hstack((np.zeros(num_samples),np.ones(num_samples)*self.C)))\n",
    "        A = matrix(y,(1,num_samples))\n",
    "        b = matrix(0.0)\n",
    "        \n",
    "        soln = solvers.qp(P,q,G,h,A,b)\n",
    "        alpha = np.array(soln['x']) \n",
    "        \n",
    "        self.sup_idx = np.where(alpha>1e-5)[0]\n",
    "        self.ind =  np.arange(len(alpha))[self.sup_idx]\n",
    "        \n",
    "        self.sup_x = X[self.sup_idx,:]\n",
    "        self.sup_y = y[self.sup_idx]\n",
    "        self.alpha = alpha[self.sup_idx]\n",
    "        self.b = self.sup_y[0]\n",
    "        \n",
    "        for i in range(len(self.alpha)):\n",
    "            if self.kernel == 'LINEAR':\n",
    "                temp = np.dot(self.sup_x[i],np.transpose(self.sup_x[0]))\n",
    "            elif self.kernel == 'POLY':\n",
    "                temp = (np.dot(X[i],np.transpose(X[j])) + self.coeff) ** self.power\n",
    "            elif self.kernel == 'RBF':\n",
    "                temp = np.exp(-1 * self.gamma*np.sum(np.square(self.sup_x[i]-self.sup_x[0])))\n",
    "            self.b -= self.alpha[i] * self.sup_y[i] * temp\n",
    "        \n",
    "    def predict(self,X):\n",
    "        preds = []\n",
    "        for x in X:\n",
    "            pred = 0\n",
    "            for i in range(len(self.alpha)):\n",
    "                if self.kernel == 'LINEAR':\n",
    "                    temp = np.dot(self.sup_x[i],np.transpose(x))\n",
    "                elif self.kernel == 'POLY':\n",
    "                    temp = (np.dot(X[i],np.transpose(X[j])) + self.coeff) ** self.power\n",
    "                elif self.kernel == 'RBF':\n",
    "                    temp = np.exp(-1 * self.gamma *np.sum(np.square(self.sup_x[i]-x)))\n",
    "                pred += self.alpha[i] * self.sup_y[i] * temp\n",
    "            pred += self.b\n",
    "            if pred>=0:\n",
    "                preds.append(1.0)\n",
    "            else:\n",
    "                preds.append(-1.0)\n",
    "        return np.array(preds)"
   ]
  }
 ],
 "metadata": {
  "kernelspec": {
   "display_name": "Python 3",
   "language": "python",
   "name": "python3"
  },
  "language_info": {
   "codemirror_mode": {
    "name": "ipython",
    "version": 3
   },
   "file_extension": ".py",
   "mimetype": "text/x-python",
   "name": "python",
   "nbconvert_exporter": "python",
   "pygments_lexer": "ipython3",
   "version": "3.7.6"
  }
 },
 "nbformat": 4,
 "nbformat_minor": 4
}
