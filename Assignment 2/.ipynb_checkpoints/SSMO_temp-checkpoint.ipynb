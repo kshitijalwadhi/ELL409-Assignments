{
 "cells": [
  {
   "cell_type": "code",
   "execution_count": 161,
   "metadata": {},
   "outputs": [],
   "source": [
    "import numpy as np\n",
    "import pandas as pd\n",
    "import random\n",
    "import cvxopt\n",
    "from cvxopt import matrix, solvers\n",
    "from cvxopt.modeling import variable\n",
    "from tqdm.notebook import tqdm\n",
    "from sklearn.svm import SVC"
   ]
  },
  {
   "cell_type": "code",
   "execution_count": 174,
   "metadata": {},
   "outputs": [],
   "source": [
    "df = pd.read_csv('2019EE10577.csv',header=None)\n",
    "df = df[(df[25] == 0) | (df[25] == 1)]\n",
    "X = []\n",
    "y = []\n",
    "for i,row in df.iterrows():\n",
    "    xi = []\n",
    "    for j in range(0,25):\n",
    "        xi.append(row[j])\n",
    "    X.append(xi)\n",
    "    if(row[25]==0):\n",
    "        y.append(-1)\n",
    "    else:\n",
    "        y.append(row[25])"
   ]
  },
  {
   "cell_type": "code",
   "execution_count": 282,
   "metadata": {},
   "outputs": [],
   "source": [
    "class SVM:\n",
    "    def __init__(self,kernel='LINEAR',C = 3.0,gamma = 0.001, power = 4, coeff = 1):\n",
    "        self.kernel = kernel\n",
    "        self.C = C\n",
    "        self.gamma = gamma\n",
    "        self.power = power\n",
    "        self.coeff = coeff\n",
    "    \n",
    "    def fit(self,X,y):\n",
    "        X = np.array(X)\n",
    "        y = np.array(y)\n",
    "        num_samples,num_features = X.shape\n",
    "        K = np.zeros((num_samples,num_samples))\n",
    "        \n",
    "        for i in tqdm(range(num_samples)):\n",
    "            for j in range(num_samples):\n",
    "                if self.kernel == 'LINEAR':\n",
    "                    K[i][j] = np.dot(X[i],np.transpose(X[j]))\n",
    "                elif self.kernel == 'POLY':\n",
    "                    K[i][j] = (np.dot(X[i],np.transpose(X[j])) + self.coeff) ** self.power\n",
    "                elif self.kernel == 'RBF':\n",
    "                    K[i][j] = np.exp(-1 * self.gamma*np.sum(np.square(X[i]-X[j])))\n",
    "        \n",
    "        self.K = K\n",
    "        \n",
    "        H = np.zeros((num_samples,num_samples))\n",
    "        for i in tqdm(range(num_samples)):\n",
    "            for j in range(num_samples):\n",
    "                H[i][j] = y[i]*y[j] * K[i][j]\n",
    "        P = matrix(H)\n",
    "        q = matrix(np.ones(num_samples) * -1)\n",
    "        G = matrix(np.vstack(((np.identity(num_samples) * -1),np.identity(num_samples))))\n",
    "        h = matrix(np.hstack((np.zeros(num_samples),np.ones(num_samples)*self.C)))\n",
    "        A = matrix(y,(1,num_samples))\n",
    "        b = matrix(0.0)\n",
    "        \n",
    "        soln = solvers.qp(P,q,G,h,A,b)\n",
    "        alpha = np.array(soln['x']) \n",
    "        \n",
    "        self.sup_idx = np.where(alpha>1e-5)[0]\n",
    "        self.ind =  np.arange(len(alpha))[self.sup_idx]\n",
    "        \n",
    "        self.sup_x = X[self.sup_idx,:]\n",
    "        self.sup_y = y[self.sup_idx]\n",
    "        self.alpha = alpha[self.sup_idx]\n",
    "                \n",
    "#         self.b = np.sum(self.sup_y)\n",
    "#         for idx in self.sup_idx:\n",
    "#             self.b -= np.sum(self.alpha * self.sup_y * self.K[idx,self.sup_idx].reshape((-1,1)))\n",
    "#         self.b /= self.sup_idx.shape[0]\n",
    "\n",
    "        self.b = self.sup_y[0]\n",
    "        for i in range(len(self.alpha)):\n",
    "            if self.kernel == 'LINEAR':\n",
    "                temp = np.dot(self.sup_x[i],np.transpose(self.sup_x[0]))\n",
    "            elif self.kernel == 'POLY':\n",
    "                temp = (np.dot(X[i],np.transpose(X[j])) + self.coeff) ** self.power\n",
    "            elif self.kernel == 'RBF':\n",
    "                temp = np.exp(-1 * self.gamma*np.sum(np.square(self.sup_x[i]-self.sup_x[0])))\n",
    "            self.b -= self.alpha[i] * self.sup_y[i] * temp\n",
    "        \n",
    "    def predict(self,X):\n",
    "        preds = []\n",
    "        for x in X:\n",
    "            pred = 0\n",
    "            for i in range(len(self.alpha)):\n",
    "                if self.kernel == 'LINEAR':\n",
    "                    temp = np.dot(self.sup_x[i],np.transpose(x))\n",
    "                elif self.kernel == 'POLY':\n",
    "                    temp = (np.dot(X[i],np.transpose(X[j])) + self.coeff) ** self.power\n",
    "                elif self.kernel == 'RBF':\n",
    "                    temp = np.exp(-1 * self.gamma *np.sum(np.square(self.sup_x[i]-x)))\n",
    "                pred += self.alpha[i] * self.sup_y[i] * temp\n",
    "            pred += self.b\n",
    "            if pred>=0:\n",
    "                preds.append(1.0)\n",
    "            else:\n",
    "                preds.append(-1.0)\n",
    "        return np.array(preds)\n",
    "        "
   ]
  },
  {
   "cell_type": "code",
   "execution_count": null,
   "metadata": {},
   "outputs": [],
   "source": []
  },
  {
   "cell_type": "code",
   "execution_count": 283,
   "metadata": {},
   "outputs": [
    {
     "data": {
      "text/plain": [
       "(615, 25)"
      ]
     },
     "execution_count": 283,
     "metadata": {},
     "output_type": "execute_result"
    }
   ],
   "source": [
    "np.array(X).shape"
   ]
  },
  {
   "cell_type": "code",
   "execution_count": 292,
   "metadata": {},
   "outputs": [],
   "source": [
    "cf = SVM(kernel='RBF')"
   ]
  },
  {
   "cell_type": "code",
   "execution_count": 293,
   "metadata": {},
   "outputs": [
    {
     "data": {
      "application/vnd.jupyter.widget-view+json": {
       "model_id": "68b829e21b7040d487bcd30809ecce71",
       "version_major": 2,
       "version_minor": 0
      },
      "text/plain": [
       "HBox(children=(FloatProgress(value=0.0, max=615.0), HTML(value='')))"
      ]
     },
     "metadata": {},
     "output_type": "display_data"
    },
    {
     "name": "stdout",
     "output_type": "stream",
     "text": [
      "\n"
     ]
    },
    {
     "data": {
      "application/vnd.jupyter.widget-view+json": {
       "model_id": "b3948171971844a9a0d4c6d3ac73d1fc",
       "version_major": 2,
       "version_minor": 0
      },
      "text/plain": [
       "HBox(children=(FloatProgress(value=0.0, max=615.0), HTML(value='')))"
      ]
     },
     "metadata": {},
     "output_type": "display_data"
    },
    {
     "name": "stdout",
     "output_type": "stream",
     "text": [
      "\n",
      "     pcost       dcost       gap    pres   dres\n",
      " 0:  1.6473e+01 -4.3268e+03  1e+04  9e-01  6e-15\n",
      " 1:  1.2309e+02 -1.1689e+03  1e+03  5e-03  5e-15\n",
      " 2: -1.6914e+01 -2.9782e+02  3e+02  9e-04  4e-15\n",
      " 3: -4.3386e+01 -2.1405e+02  2e+02  5e-04  4e-15\n",
      " 4: -6.0873e+01 -1.5893e+02  1e+02  2e-04  4e-15\n",
      " 5: -7.0200e+01 -1.3249e+02  6e+01  1e-04  4e-15\n",
      " 6: -7.6113e+01 -1.1834e+02  4e+01  8e-05  5e-15\n",
      " 7: -8.1172e+01 -1.0562e+02  2e+01  3e-05  6e-15\n",
      " 8: -8.3944e+01 -9.9954e+01  2e+01  2e-05  6e-15\n",
      " 9: -8.6941e+01 -9.3638e+01  7e+00  4e-06  7e-15\n",
      "10: -8.8038e+01 -9.1516e+01  3e+00  5e-08  8e-15\n",
      "11: -8.9003e+01 -9.0280e+01  1e+00  4e-09  8e-15\n",
      "12: -8.9251e+01 -8.9970e+01  7e-01  5e-15  8e-15\n",
      "13: -8.9534e+01 -8.9661e+01  1e-01  2e-15  8e-15\n",
      "14: -8.9594e+01 -8.9598e+01  4e-03  8e-15  9e-15\n",
      "15: -8.9596e+01 -8.9596e+01  4e-05  7e-15  9e-15\n",
      "Optimal solution found.\n"
     ]
    }
   ],
   "source": [
    "cf.fit(X,y)"
   ]
  },
  {
   "cell_type": "code",
   "execution_count": 294,
   "metadata": {},
   "outputs": [
    {
     "data": {
      "text/plain": [
       "array([ 1.,  1.,  1., -1., -1., -1.,  1.,  1.,  1.,  1.,  1.,  1., -1.,\n",
       "        1.,  1.,  1.,  1.,  1., -1., -1., -1.,  1., -1.,  1., -1., -1.,\n",
       "       -1.,  1.,  1., -1., -1., -1.,  1., -1.,  1.,  1., -1., -1., -1.,\n",
       "       -1.,  1., -1., -1., -1., -1.,  1.,  1.,  1.,  1., -1., -1.,  1.,\n",
       "       -1.])"
      ]
     },
     "execution_count": 294,
     "metadata": {},
     "output_type": "execute_result"
    }
   ],
   "source": [
    "cf.sup_y"
   ]
  },
  {
   "cell_type": "code",
   "execution_count": 295,
   "metadata": {},
   "outputs": [
    {
     "data": {
      "text/plain": [
       "array([  5,   6,  10,  12,  13,  14,  17,  27,  63,  70,  71,  77,  83,\n",
       "        86, 102, 108, 119, 126, 127, 139, 148, 152, 183, 184, 232, 246,\n",
       "       248, 259, 264, 275, 283, 297, 344, 354, 368, 379, 387, 393, 401,\n",
       "       435, 446, 451, 458, 461, 462, 463, 493, 501, 541, 543, 546, 550,\n",
       "       575], dtype=int64)"
      ]
     },
     "execution_count": 295,
     "metadata": {},
     "output_type": "execute_result"
    }
   ],
   "source": [
    "cf.sup_idx"
   ]
  },
  {
   "cell_type": "code",
   "execution_count": 296,
   "metadata": {},
   "outputs": [
    {
     "data": {
      "text/plain": [
       "array([-0.36463985])"
      ]
     },
     "execution_count": 296,
     "metadata": {},
     "output_type": "execute_result"
    }
   ],
   "source": [
    "cf.b"
   ]
  },
  {
   "cell_type": "code",
   "execution_count": 297,
   "metadata": {},
   "outputs": [
    {
     "data": {
      "text/plain": [
       "array([ 1., -1.,  1.,  1., -1.,  1.,  1., -1., -1.,  1.,  1., -1., -1.,\n",
       "       -1., -1.,  1., -1.,  1., -1., -1.,  1.,  1.,  1.,  1.,  1.,  1.,\n",
       "       -1.,  1.,  1., -1., -1., -1., -1., -1.,  1.,  1., -1.,  1.,  1.,\n",
       "        1., -1., -1., -1.,  1.,  1., -1.,  1., -1., -1., -1.,  1., -1.,\n",
       "        1.,  1.,  1., -1.,  1., -1.,  1.,  1., -1.,  1., -1.,  1.,  1.,\n",
       "       -1.,  1.,  1.,  1., -1.,  1.,  1., -1.,  1., -1., -1.,  1.,  1.,\n",
       "       -1., -1., -1., -1.,  1., -1., -1.,  1.,  1.,  1.,  1.,  1., -1.,\n",
       "       -1.,  1., -1.,  1., -1., -1., -1., -1.,  1., -1., -1.,  1.,  1.,\n",
       "        1., -1., -1., -1.,  1., -1., -1., -1.,  1., -1., -1., -1.,  1.,\n",
       "        1.,  1.,  1.,  1.,  1.,  1.,  1.,  1., -1.,  1., -1., -1.,  1.,\n",
       "       -1.,  1.,  1.,  1.,  1.,  1., -1., -1., -1., -1., -1.,  1., -1.,\n",
       "       -1.,  1.,  1., -1.,  1., -1., -1., -1., -1.,  1., -1., -1.,  1.,\n",
       "       -1., -1.,  1.,  1., -1.,  1., -1., -1.,  1.,  1., -1., -1., -1.,\n",
       "        1., -1., -1., -1.,  1., -1.,  1., -1.,  1., -1., -1.,  1., -1.,\n",
       "        1., -1.,  1.,  1.,  1., -1.,  1.,  1.,  1., -1.,  1., -1., -1.,\n",
       "        1., -1.,  1.,  1.,  1., -1., -1., -1.,  1., -1.,  1., -1., -1.,\n",
       "        1.,  1.,  1.,  1., -1.,  1.,  1.,  1., -1.,  1., -1., -1., -1.,\n",
       "       -1.,  1., -1.,  1., -1., -1., -1.,  1.,  1., -1., -1., -1.,  1.,\n",
       "        1.,  1., -1., -1.,  1., -1.,  1.,  1., -1., -1., -1.,  1., -1.,\n",
       "        1., -1., -1.,  1., -1.,  1., -1.,  1., -1., -1., -1.,  1.,  1.,\n",
       "        1., -1.,  1.,  1.,  1.,  1.,  1., -1., -1.,  1.,  1.,  1.,  1.,\n",
       "        1.,  1., -1.,  1.,  1., -1.,  1.,  1., -1., -1., -1.,  1.,  1.,\n",
       "       -1., -1.,  1., -1.,  1., -1., -1., -1.,  1., -1., -1., -1., -1.,\n",
       "       -1., -1.,  1.,  1.,  1.,  1.,  1., -1., -1., -1., -1.,  1., -1.,\n",
       "        1., -1., -1.,  1., -1.,  1.,  1., -1., -1., -1.,  1., -1.,  1.,\n",
       "        1.,  1., -1., -1., -1.,  1.,  1., -1., -1.,  1.,  1., -1.,  1.,\n",
       "        1., -1.,  1.,  1.,  1.,  1.,  1.,  1., -1.,  1., -1., -1., -1.,\n",
       "        1.,  1., -1., -1., -1.,  1., -1., -1.,  1.,  1.,  1.,  1., -1.,\n",
       "       -1.,  1.,  1., -1.,  1.,  1.,  1., -1.,  1., -1.,  1., -1.,  1.,\n",
       "       -1., -1.,  1.,  1.,  1., -1., -1.,  1.,  1.,  1., -1.,  1.,  1.,\n",
       "        1., -1.,  1., -1., -1.,  1., -1., -1., -1., -1., -1., -1.,  1.,\n",
       "       -1.,  1.,  1.,  1., -1., -1., -1.,  1.,  1., -1., -1., -1.,  1.,\n",
       "       -1.,  1., -1.,  1.,  1.,  1.,  1.,  1.,  1.,  1.,  1.,  1., -1.,\n",
       "        1., -1.,  1., -1.,  1.,  1., -1.,  1., -1., -1.,  1., -1., -1.,\n",
       "       -1.,  1., -1.,  1.,  1.,  1., -1., -1.,  1., -1., -1.,  1., -1.,\n",
       "        1., -1., -1., -1.,  1.,  1., -1., -1.,  1.,  1.,  1., -1.,  1.,\n",
       "        1.,  1., -1.,  1.,  1., -1.,  1.,  1., -1., -1.,  1.,  1., -1.,\n",
       "        1., -1.,  1.,  1.,  1.,  1., -1.,  1.,  1.,  1.,  1.,  1.,  1.,\n",
       "       -1., -1.,  1.,  1., -1.,  1., -1.,  1.,  1., -1., -1., -1., -1.,\n",
       "       -1.,  1.,  1., -1.,  1., -1.,  1.,  1.,  1.,  1., -1.,  1., -1.,\n",
       "        1., -1.,  1.,  1., -1., -1.,  1.,  1.,  1., -1.,  1., -1., -1.,\n",
       "       -1., -1., -1.,  1., -1., -1., -1.,  1.,  1., -1., -1., -1.,  1.,\n",
       "       -1., -1., -1., -1.,  1., -1.,  1., -1.,  1., -1.,  1., -1., -1.,\n",
       "        1.,  1.,  1.,  1., -1., -1., -1.,  1.,  1., -1.,  1.,  1., -1.,\n",
       "       -1.,  1.,  1., -1., -1., -1.,  1.,  1., -1., -1.,  1.,  1.,  1.,\n",
       "        1., -1., -1., -1.,  1., -1.,  1., -1., -1.,  1.,  1.,  1., -1.,\n",
       "        1.,  1., -1., -1., -1.,  1.,  1., -1.,  1., -1.,  1.,  1.,  1.,\n",
       "        1., -1.,  1.,  1.])"
      ]
     },
     "execution_count": 297,
     "metadata": {},
     "output_type": "execute_result"
    }
   ],
   "source": [
    "cf.predict(X)"
   ]
  },
  {
   "cell_type": "code",
   "execution_count": 204,
   "metadata": {},
   "outputs": [
    {
     "name": "stdout",
     "output_type": "stream",
     "text": [
      "53 support vectors using SVC: [5, 6, 10, 12, 13, 14, 17, 27, 63, 70, 71, 77, 83, 86, 102, 108, 119, 126, 127, 139, 148, 152, 183, 184, 232, 246, 248, 259, 264, 275, 283, 297, 344, 354, 368, 379, 387, 393, 401, 435, 446, 451, 458, 461, 462, 463, 493, 501, 541, 543, 546, 550, 575]\n"
     ]
    }
   ],
   "source": [
    "s = SVC(kernel='rbf',C = 3.0,gamma=0.001)\n",
    "s.fit(X,y)\n",
    "print(str(len(s.support_))+' support vectors using SVC:', sorted(s.support_))"
   ]
  },
  {
   "cell_type": "code",
   "execution_count": 205,
   "metadata": {},
   "outputs": [
    {
     "data": {
      "text/plain": [
       "array([ 1., -1.,  1.,  1., -1.,  1.,  1., -1., -1.,  1.,  1., -1., -1.,\n",
       "       -1., -1.,  1., -1.,  1., -1., -1.,  1.,  1.,  1.,  1.,  1.,  1.,\n",
       "       -1.,  1.,  1., -1., -1., -1., -1., -1.,  1.,  1., -1.,  1.,  1.,\n",
       "        1., -1., -1., -1.,  1.,  1., -1.,  1., -1., -1., -1.,  1., -1.,\n",
       "        1.,  1.,  1., -1.,  1., -1.,  1.,  1., -1.,  1., -1.,  1.,  1.,\n",
       "       -1.,  1.,  1.,  1., -1.,  1.,  1., -1.,  1., -1., -1.,  1.,  1.,\n",
       "       -1., -1., -1., -1.,  1., -1., -1.,  1.,  1.,  1.,  1.,  1., -1.,\n",
       "       -1.,  1., -1.,  1., -1., -1., -1., -1.,  1., -1., -1.,  1.,  1.,\n",
       "        1., -1., -1., -1.,  1., -1., -1., -1.,  1., -1., -1., -1.,  1.,\n",
       "        1.,  1.,  1.,  1.,  1.,  1.,  1.,  1., -1.,  1., -1., -1.,  1.,\n",
       "       -1.,  1.,  1.,  1.,  1.,  1., -1., -1., -1., -1., -1.,  1., -1.,\n",
       "       -1.,  1.,  1., -1.,  1., -1., -1., -1., -1.,  1., -1., -1.,  1.,\n",
       "       -1., -1.,  1.,  1., -1.,  1., -1., -1.,  1.,  1., -1., -1., -1.,\n",
       "        1., -1., -1., -1.,  1., -1.,  1., -1.,  1., -1., -1.,  1., -1.,\n",
       "        1., -1.,  1.,  1.,  1., -1.,  1.,  1.,  1., -1.,  1., -1., -1.,\n",
       "        1., -1.,  1.,  1.,  1., -1., -1., -1.,  1., -1.,  1., -1., -1.,\n",
       "        1.,  1.,  1.,  1., -1.,  1.,  1.,  1., -1.,  1., -1., -1., -1.,\n",
       "       -1.,  1., -1.,  1., -1., -1., -1.,  1.,  1., -1., -1., -1.,  1.,\n",
       "        1.,  1., -1., -1.,  1., -1.,  1.,  1., -1., -1., -1.,  1., -1.,\n",
       "        1., -1., -1.,  1., -1.,  1., -1.,  1., -1., -1., -1.,  1.,  1.,\n",
       "        1., -1.,  1.,  1.,  1.,  1.,  1., -1., -1.,  1.,  1.,  1.,  1.,\n",
       "        1.,  1., -1.,  1.,  1., -1.,  1.,  1., -1., -1., -1.,  1.,  1.,\n",
       "       -1., -1.,  1., -1.,  1., -1., -1., -1.,  1., -1., -1., -1., -1.,\n",
       "       -1., -1.,  1.,  1.,  1.,  1.,  1., -1., -1., -1., -1.,  1., -1.,\n",
       "        1., -1., -1.,  1., -1.,  1.,  1., -1., -1., -1.,  1., -1.,  1.,\n",
       "        1.,  1., -1., -1., -1.,  1.,  1., -1., -1.,  1.,  1., -1.,  1.,\n",
       "        1., -1.,  1.,  1.,  1.,  1.,  1.,  1., -1.,  1., -1., -1., -1.,\n",
       "        1.,  1., -1., -1., -1.,  1., -1., -1.,  1.,  1.,  1.,  1., -1.,\n",
       "       -1.,  1.,  1., -1.,  1.,  1.,  1., -1.,  1., -1.,  1., -1.,  1.,\n",
       "       -1., -1.,  1.,  1.,  1., -1., -1.,  1.,  1.,  1., -1.,  1.,  1.,\n",
       "        1., -1.,  1., -1., -1.,  1., -1., -1., -1., -1., -1., -1.,  1.,\n",
       "       -1.,  1.,  1.,  1., -1., -1., -1.,  1.,  1., -1., -1., -1.,  1.,\n",
       "       -1.,  1., -1.,  1.,  1.,  1.,  1.,  1.,  1.,  1.,  1.,  1., -1.,\n",
       "        1., -1.,  1., -1.,  1.,  1., -1.,  1., -1., -1.,  1., -1., -1.,\n",
       "       -1.,  1., -1.,  1.,  1.,  1., -1., -1.,  1., -1., -1.,  1., -1.,\n",
       "        1., -1., -1., -1.,  1.,  1., -1., -1.,  1.,  1.,  1., -1.,  1.,\n",
       "        1.,  1., -1.,  1.,  1., -1.,  1.,  1., -1., -1.,  1.,  1., -1.,\n",
       "        1., -1.,  1.,  1.,  1.,  1., -1.,  1.,  1.,  1.,  1.,  1.,  1.,\n",
       "       -1., -1.,  1.,  1., -1.,  1., -1.,  1.,  1., -1., -1., -1., -1.,\n",
       "       -1.,  1.,  1., -1.,  1., -1.,  1.,  1.,  1.,  1., -1.,  1., -1.,\n",
       "        1., -1.,  1.,  1., -1., -1.,  1.,  1.,  1., -1.,  1., -1., -1.,\n",
       "       -1., -1., -1.,  1., -1., -1., -1.,  1.,  1., -1., -1., -1.,  1.,\n",
       "       -1., -1., -1., -1.,  1., -1.,  1., -1.,  1., -1.,  1., -1., -1.,\n",
       "        1.,  1.,  1.,  1., -1., -1., -1.,  1.,  1., -1.,  1.,  1., -1.,\n",
       "       -1.,  1.,  1., -1., -1., -1.,  1.,  1., -1., -1.,  1.,  1.,  1.,\n",
       "        1., -1., -1., -1.,  1., -1.,  1., -1., -1.,  1.,  1.,  1., -1.,\n",
       "        1.,  1., -1., -1., -1.,  1.,  1., -1.,  1., -1.,  1.,  1.,  1.,\n",
       "        1., -1.,  1.,  1.])"
      ]
     },
     "execution_count": 205,
     "metadata": {},
     "output_type": "execute_result"
    }
   ],
   "source": [
    "s.predict(X)"
   ]
  },
  {
   "cell_type": "code",
   "execution_count": 299,
   "metadata": {},
   "outputs": [],
   "source": [
    "for e in cf.predict(X) == s.predict(X):\n",
    "    if e == False:\n",
    "        print(\"uh\")"
   ]
  },
  {
   "cell_type": "code",
   "execution_count": null,
   "metadata": {},
   "outputs": [],
   "source": []
  },
  {
   "cell_type": "code",
   "execution_count": null,
   "metadata": {},
   "outputs": [],
   "source": []
  },
  {
   "cell_type": "code",
   "execution_count": null,
   "metadata": {},
   "outputs": [],
   "source": []
  },
  {
   "cell_type": "code",
   "execution_count": null,
   "metadata": {},
   "outputs": [],
   "source": []
  },
  {
   "cell_type": "code",
   "execution_count": 301,
   "metadata": {},
   "outputs": [
    {
     "data": {
      "text/plain": [
       "(615, 25)"
      ]
     },
     "execution_count": 301,
     "metadata": {},
     "output_type": "execute_result"
    }
   ],
   "source": [
    "np.array(X).shape"
   ]
  },
  {
   "cell_type": "code",
   "execution_count": 302,
   "metadata": {},
   "outputs": [
    {
     "data": {
      "text/plain": [
       "(615,)"
      ]
     },
     "execution_count": 302,
     "metadata": {},
     "output_type": "execute_result"
    }
   ],
   "source": [
    "np.array(y).shape"
   ]
  },
  {
   "cell_type": "code",
   "execution_count": null,
   "metadata": {},
   "outputs": [],
   "source": []
  }
 ],
 "metadata": {
  "kernelspec": {
   "display_name": "Python 3",
   "language": "python",
   "name": "python3"
  },
  "language_info": {
   "codemirror_mode": {
    "name": "ipython",
    "version": 3
   },
   "file_extension": ".py",
   "mimetype": "text/x-python",
   "name": "python",
   "nbconvert_exporter": "python",
   "pygments_lexer": "ipython3",
   "version": "3.7.6"
  }
 },
 "nbformat": 4,
 "nbformat_minor": 4
}
