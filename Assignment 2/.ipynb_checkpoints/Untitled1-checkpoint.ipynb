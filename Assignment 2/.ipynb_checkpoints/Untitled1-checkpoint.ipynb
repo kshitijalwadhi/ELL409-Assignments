{
 "cells": [
  {
   "cell_type": "code",
   "execution_count": 1,
   "metadata": {},
   "outputs": [],
   "source": [
    "import pandas as pd\n",
    "import numpy as np\n",
    "from cvxopt import matrix, solvers\n",
    "from cvxopt.modeling import variable\n",
    "from sklearn.svm import SVC"
   ]
  },
  {
   "cell_type": "code",
   "execution_count": 2,
   "metadata": {},
   "outputs": [],
   "source": [
    "data = pd.read_csv('2019EE10577.csv', header = None)\n",
    "\n",
    "t1 = 0\n",
    "t2 = 1\n",
    "num_f = 25\n",
    "train_ex = 480\n",
    "\n",
    "bin_data = data[(data[25] == t1) | (data[25] == t2)].sample(frac=1)\n",
    "X_bin = np.array(bin_data.loc[:,:num_f-1])\n",
    "t_bin = np.array(bin_data.loc[:,25])\n",
    "t_bin[t_bin == 0] = -1\n",
    "\n",
    "X_bin_train = X_bin[:train_ex]\n",
    "t_bin_train = t_bin[:train_ex]\n",
    "X_bin_val = X_bin[train_ex:]\n",
    "t_bin_val = t_bin[train_ex:]"
   ]
  },
  {
   "cell_type": "code",
   "execution_count": 3,
   "metadata": {},
   "outputs": [
    {
     "name": "stdout",
     "output_type": "stream",
     "text": [
      "     pcost       dcost       gap    pres   dres\n",
      " 0: -2.7501e+01 -8.2379e+02  4e+03  2e+00  6e-14\n",
      " 1: -1.5087e+01 -4.0611e+02  7e+02  3e-01  4e-14\n",
      " 2: -3.9615e+00 -8.2329e+01  1e+02  5e-02  2e-14\n",
      " 3: -1.8183e-01 -1.5192e+01  2e+01  7e-03  6e-15\n",
      " 4:  1.2470e-02 -1.3521e+00  2e+00  3e-04  1e-15\n",
      " 5: -1.3634e-01 -5.8279e-01  5e-01  9e-05  9e-16\n",
      " 6: -2.1093e-01 -4.2805e-01  2e-01  1e-05  8e-16\n",
      " 7: -2.5068e-01 -3.5404e-01  1e-01  2e-16  8e-16\n",
      " 8: -2.7671e-01 -3.0951e-01  3e-02  2e-16  1e-15\n",
      " 9: -2.8407e-01 -2.9746e-01  1e-02  2e-16  9e-16\n",
      "10: -2.9008e-01 -2.9041e-01  3e-04  2e-16  1e-15\n",
      "11: -2.9023e-01 -2.9023e-01  3e-06  2e-16  1e-15\n",
      "12: -2.9023e-01 -2.9023e-01  3e-08  2e-16  1e-15\n",
      "Optimal solution found.\n"
     ]
    }
   ],
   "source": [
    "ker = 'linear'\n",
    "if ker is 'linear':\n",
    "    C = 1\n",
    "if ker is 'rbf':\n",
    "    C = 10\n",
    "    gamma = 0.001\n",
    "\n",
    "n_samples, n_features = X_bin_train.shape\n",
    "K = np.zeros((n_samples, n_samples))\n",
    "\n",
    "for i in range(n_samples):\n",
    "    for j in range(n_samples):\n",
    "        if ker is 'linear':\n",
    "            K[i,j] = np.dot(X_bin_train[i],np.transpose(X_bin_train[j]))\n",
    "        if ker is 'rbf':\n",
    "            K[i,j] = np.exp(-1*gamma*np.sum(np.square(X_bin_train[i]-X_bin_train[j])))\n",
    "\n",
    "P = matrix(np.outer(t_bin_train,t_bin_train) * K)\n",
    "q = matrix(np.ones(n_samples) * -1)\n",
    "A = matrix(t_bin_train, (1,n_samples))\n",
    "A = matrix(A,(1,n_samples),'d')\n",
    "b = matrix(0.0)\n",
    "G = matrix(np.vstack((np.diag(np.ones(n_samples) * -1), np.identity(n_samples))))\n",
    "h = matrix(np.hstack((np.zeros(n_samples), np.ones(n_samples) * C)))\n",
    "solution = solvers.qp(P, q, G, h, A, b)\n",
    "a = np.ravel(solution['x'])\n",
    "sv = a > 1e-5"
   ]
  },
  {
   "cell_type": "code",
   "execution_count": 4,
   "metadata": {},
   "outputs": [],
   "source": [
    "\n",
    "\n",
    "lm = a[sv]\n",
    "lm = lm.reshape(len(lm),1)\n",
    "sv_t = t_bin_train[sv]\n",
    "sv_t = sv_t.reshape(len(sv_t),1)\n",
    "sv_x = X_bin_train[sv]\n",
    "\n"
   ]
  },
  {
   "cell_type": "code",
   "execution_count": 6,
   "metadata": {},
   "outputs": [
    {
     "name": "stdout",
     "output_type": "stream",
     "text": [
      "w = [-0.563549   -0.09544524 -0.03698974  0.04727053  0.15937897  0.07517939\n",
      "  0.05214242 -0.09049166 -0.11843432  0.06621365 -0.02536556  0.07187129\n",
      "  0.0207943   0.1463733   0.1977143  -0.0357065  -0.20133262 -0.11939814\n",
      "  0.1604992   0.01375913  0.16633819  0.00768156  0.00918114  0.00416929\n",
      " -0.11485394]\n"
     ]
    }
   ],
   "source": [
    "w = np.sum(lm*sv_t*sv_x,axis=0)\n",
    "print('w =', w)"
   ]
  },
  {
   "cell_type": "code",
   "execution_count": 7,
   "metadata": {},
   "outputs": [
    {
     "name": "stdout",
     "output_type": "stream",
     "text": [
      "b = 0.3950632229517911\n"
     ]
    }
   ],
   "source": [
    "b = np.mean(t_bin_train - np.dot(X_bin_train,w))\n",
    "print('b =', b)"
   ]
  },
  {
   "cell_type": "code",
   "execution_count": 8,
   "metadata": {},
   "outputs": [],
   "source": [
    "y_train = np.dot(X_bin_train,w) + b\n",
    "y_val = np.dot(X_bin_val,w)+b\n",
    "y_train[y_train<0] = -1\n",
    "y_train[y_train>=0] = 1\n",
    "y_val[y_val<0] = -1\n",
    "y_val[y_val>=0] = 1\n",
    "y_train = y_train.astype(int)\n",
    "y_val = y_val.astype(int)"
   ]
  },
  {
   "cell_type": "code",
   "execution_count": 9,
   "metadata": {},
   "outputs": [
    {
     "name": "stdout",
     "output_type": "stream",
     "text": [
      "Training score = 1.0\n",
      "Validation score = 1.0\n",
      "15 support vectors using CVXOPT: [2, 93, 108, 127, 146, 172, 249, 294, 300, 317, 387, 406, 409, 462, 463]\n"
     ]
    }
   ],
   "source": [
    "\n",
    "\n",
    "res1 = (y_train == t_bin_train)\n",
    "res2 = (y_val == t_bin_val)\n",
    "print('Training score =',(res1==True).sum()/len(res1))\n",
    "print('Validation score =',(res2==True).sum()/len(res2))\n",
    "print(str(len(sv_x))+' support vectors using CVXOPT:', np.where(sv==True)[0].tolist())\n",
    "\n"
   ]
  },
  {
   "cell_type": "code",
   "execution_count": 10,
   "metadata": {},
   "outputs": [
    {
     "name": "stdout",
     "output_type": "stream",
     "text": [
      "Training score using SVC = 1.0\n",
      "Validation score using SVC = 1.0\n",
      "15 support vectors using SVC: [2, 93, 108, 127, 146, 172, 249, 294, 300, 317, 387, 406, 409, 462, 463]\n"
     ]
    }
   ],
   "source": [
    "if ker is 'linear':\n",
    "    s = SVC(kernel='linear',C = 1)\n",
    "if ker is 'rbf':\n",
    "    s = SVC(kernel='rbf', C=10, gamma=0.001)\n",
    "s.fit(X_bin_train,t_bin_train)\n",
    "print('Training score using SVC =',s.score(X_bin_train,t_bin_train))\n",
    "print('Validation score using SVC =',s.score(X_bin_val,t_bin_val))\n",
    "print(str(len(s.support_))+' support vectors using SVC:', sorted(s.support_))"
   ]
  },
  {
   "cell_type": "code",
   "execution_count": null,
   "metadata": {},
   "outputs": [],
   "source": []
  }
 ],
 "metadata": {
  "kernelspec": {
   "display_name": "Python 3",
   "language": "python",
   "name": "python3"
  },
  "language_info": {
   "codemirror_mode": {
    "name": "ipython",
    "version": 3
   },
   "file_extension": ".py",
   "mimetype": "text/x-python",
   "name": "python",
   "nbconvert_exporter": "python",
   "pygments_lexer": "ipython3",
   "version": "3.7.6"
  }
 },
 "nbformat": 4,
 "nbformat_minor": 4
}
