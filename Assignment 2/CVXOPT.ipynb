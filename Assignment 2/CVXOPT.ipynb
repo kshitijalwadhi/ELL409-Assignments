{
 "cells": [
  {
   "cell_type": "code",
   "execution_count": 1,
   "metadata": {},
   "outputs": [],
   "source": [
    "import numpy as np\n",
    "import pandas as pd\n",
    "import random\n",
    "import cvxopt\n",
    "from cvxopt import matrix, solvers\n",
    "from cvxopt.modeling import variable\n",
    "from tqdm.notebook import tqdm\n",
    "from sklearn.svm import SVC"
   ]
  },
  {
   "cell_type": "code",
   "execution_count": 11,
   "metadata": {},
   "outputs": [],
   "source": [
    "N_FOLDS = 10 # k-Fold cross validation\n",
    "NUM_FEATURES = 25 # <=25 for the given data\n",
    "C1,C2 = 1,8 # Classes (0-9)\n",
    "KERNEL = 'RBF' # 'LINEAR', 'POLY', 'RBF'\n",
    "GAMMA = 0.001 # Gamma for RBF Kernel\n",
    "C = 3.0 # C for L1 regularization\n",
    "POWER = 2 # Power in Polynomial kernel\n",
    "COEFF = 4 # Coefficient in Polynomial kernel"
   ]
  },
  {
   "cell_type": "code",
   "execution_count": 3,
   "metadata": {},
   "outputs": [],
   "source": [
    "def getData(C1,C2):\n",
    "    df = pd.read_csv('2019EE10577.csv',header=None)\n",
    "    df = df[(df[25] == C1) | (df[25] == C2)]\n",
    "    dataset = []\n",
    "    for i,row in df.iterrows():\n",
    "        xi = []\n",
    "        for j in range(0,NUM_FEATURES):\n",
    "            xi.append(row[j])\n",
    "        if(row[25]==C1):\n",
    "            xi.append(-1.0)\n",
    "        else:\n",
    "            xi.append(1.0)\n",
    "        dataset.append(xi)\n",
    "    return dataset"
   ]
  },
  {
   "cell_type": "code",
   "execution_count": 4,
   "metadata": {},
   "outputs": [],
   "source": [
    "def cross_validation_split(dataset):\n",
    "    dataset_split = list()\n",
    "    dataset_copy = list(dataset)\n",
    "    fold_size = int(len(dataset) / N_FOLDS)\n",
    "    for i in range(N_FOLDS):\n",
    "        fold = list()\n",
    "        while len(fold) < fold_size:\n",
    "            index = random.randrange(len(dataset_copy))\n",
    "            fold.append(dataset_copy.pop(index))\n",
    "        dataset_split.append(fold)\n",
    "    return dataset_split"
   ]
  },
  {
   "cell_type": "code",
   "execution_count": 5,
   "metadata": {},
   "outputs": [],
   "source": [
    "dataset = getData(C1,C2)"
   ]
  },
  {
   "cell_type": "code",
   "execution_count": 6,
   "metadata": {},
   "outputs": [],
   "source": [
    "dataset_split = cross_validation_split(dataset)"
   ]
  },
  {
   "cell_type": "code",
   "execution_count": 7,
   "metadata": {},
   "outputs": [],
   "source": [
    "class SVM:\n",
    "    def __init__(self,kernel='LINEAR',C = 3.0,gamma = 0.001, power = 2, coeff = 4):\n",
    "        self.kernel = kernel\n",
    "        self.C = C\n",
    "        self.gamma = gamma\n",
    "        self.power = power\n",
    "        self.coeff = coeff\n",
    "    \n",
    "    def fit(self,X,y):\n",
    "        X = np.array(X)\n",
    "        y = np.array(y)\n",
    "        num_samples,num_features = X.shape\n",
    "        K = np.zeros((num_samples,num_samples))\n",
    "        \n",
    "        for i in (range(num_samples)):\n",
    "            for j in range(num_samples):\n",
    "                if self.kernel == 'LINEAR':\n",
    "                    K[i][j] = np.dot(X[i],np.transpose(X[j]))\n",
    "                elif self.kernel == 'POLY':\n",
    "                    K[i][j] = (np.dot(X[i],np.transpose(X[j])) + self.coeff) ** self.power\n",
    "                elif self.kernel == 'RBF':\n",
    "                    K[i][j] = np.exp(-1 * self.gamma*np.sum(np.square(X[i]-X[j])))\n",
    "        \n",
    "        self.K = K\n",
    "        \n",
    "        H = np.zeros((num_samples,num_samples))\n",
    "        for i in (range(num_samples)):\n",
    "            for j in range(num_samples):\n",
    "                H[i][j] = y[i]*y[j] * K[i][j]\n",
    "        P = matrix(H)\n",
    "        q = matrix(np.ones(num_samples) * -1)\n",
    "        G = matrix(np.vstack(((np.identity(num_samples) * -1),np.identity(num_samples))))\n",
    "        h = matrix(np.hstack((np.zeros(num_samples),np.ones(num_samples)*self.C)))\n",
    "        A = matrix(y,(1,num_samples))\n",
    "        b = matrix(0.0)\n",
    "        \n",
    "        solvers.options['show_progress'] = False\n",
    "        soln = solvers.qp(P,q,G,h,A,b)\n",
    "        alpha = np.array(soln['x']) \n",
    "        \n",
    "        self.sup_idx = np.where(alpha>1e-5)[0]\n",
    "        self.ind =  np.arange(len(alpha))[self.sup_idx]\n",
    "        \n",
    "        self.sup_x = X[self.sup_idx,:]\n",
    "        self.sup_y = y[self.sup_idx]\n",
    "        self.alpha = alpha[self.sup_idx]\n",
    "        self.b = self.sup_y[0]\n",
    "        \n",
    "        for i in range(len(self.alpha)):\n",
    "            if self.kernel == 'LINEAR':\n",
    "                temp = np.dot(self.sup_x[i],np.transpose(self.sup_x[0]))\n",
    "            elif self.kernel == 'POLY':\n",
    "                temp = (np.dot(self.sup_x[i],np.transpose(self.sup_x[0]))+self.coeff)**self.power\n",
    "            elif self.kernel == 'RBF':\n",
    "                temp = np.exp(-1 * self.gamma*np.sum(np.square(self.sup_x[i]-self.sup_x[0])))\n",
    "            self.b -= self.alpha[i] * self.sup_y[i] * temp\n",
    "        \n",
    "    def predict(self,X):\n",
    "        preds = []\n",
    "        for x in X:\n",
    "            pred = 0\n",
    "            for i in range(len(self.alpha)):\n",
    "                if self.kernel == 'LINEAR':\n",
    "                    temp = np.dot(self.sup_x[i],np.transpose(x))\n",
    "                elif self.kernel == 'POLY':\n",
    "                    temp = (np.dot(self.sup_x[i],np.transpose(x)) + self.coeff) ** self.power\n",
    "                elif self.kernel == 'RBF':\n",
    "                    temp = np.exp(-1 * self.gamma *np.sum(np.square(self.sup_x[i]-x)))\n",
    "                pred += self.alpha[i] * self.sup_y[i] * temp\n",
    "            pred += self.b\n",
    "            if pred>=0:\n",
    "                preds.append(1.0)\n",
    "            else:\n",
    "                preds.append(-1.0)\n",
    "        return np.array(preds)"
   ]
  },
  {
   "cell_type": "code",
   "execution_count": 8,
   "metadata": {},
   "outputs": [],
   "source": [
    "def getAccuracy(preds,testY):\n",
    "    correct = 0\n",
    "    for i in range(len(testY)):\n",
    "        if preds[i] == testY[i]:\n",
    "            correct +=1\n",
    "    return correct/len(testY) * 100"
   ]
  },
  {
   "cell_type": "code",
   "execution_count": 9,
   "metadata": {},
   "outputs": [],
   "source": [
    "def evaluate(dataset_split):\n",
    "    acc_list = []\n",
    "    for fold in tqdm(dataset_split):\n",
    "        trainDS = list(dataset_split)\n",
    "        trainDS.remove(fold)\n",
    "        trainDS = sum(trainDS,[])\n",
    "        testDS = list()\n",
    "        \n",
    "        for row in fold:\n",
    "            rowCopy = list(row)\n",
    "            testDS.append(rowCopy)\n",
    "        \n",
    "        trainX = [train[:-1] for train in trainDS]\n",
    "        trainY = [train[-1] for train in trainDS]\n",
    "        \n",
    "        testX = [test[:-1] for test in testDS]\n",
    "        testY = [test[-1] for test in testDS]\n",
    "        \n",
    "        cf = SVM(kernel=KERNEL,gamma=GAMMA,C=C,power=POWER,coeff=COEFF)\n",
    "        cf.fit(trainX,trainY)\n",
    "        \n",
    "        preds = cf.predict(testX)\n",
    "        \n",
    "        acc = getAccuracy(preds,testY)\n",
    "        acc_list.append(acc)\n",
    "        \n",
    "    return acc_list,np.mean(acc_list)"
   ]
  },
  {
   "cell_type": "code",
   "execution_count": 10,
   "metadata": {},
   "outputs": [
    {
     "data": {
      "application/vnd.jupyter.widget-view+json": {
       "model_id": "b8a36c2e96ef4bcfb75037da667054b9",
       "version_major": 2,
       "version_minor": 0
      },
      "text/plain": [
       "HBox(children=(FloatProgress(value=0.0, max=10.0), HTML(value='')))"
      ]
     },
     "metadata": {},
     "output_type": "display_data"
    },
    {
     "name": "stdout",
     "output_type": "stream",
     "text": [
      "\n"
     ]
    },
    {
     "data": {
      "text/plain": [
       "([91.93548387096774,\n",
       "  96.7741935483871,\n",
       "  93.54838709677419,\n",
       "  96.7741935483871,\n",
       "  98.38709677419355,\n",
       "  88.70967741935483,\n",
       "  95.16129032258065,\n",
       "  95.16129032258065,\n",
       "  100.0,\n",
       "  98.38709677419355],\n",
       " 95.48387096774194)"
      ]
     },
     "execution_count": 10,
     "metadata": {},
     "output_type": "execute_result"
    }
   ],
   "source": [
    "evaluate(dataset_split)"
   ]
  },
  {
   "cell_type": "code",
   "execution_count": null,
   "metadata": {},
   "outputs": [],
   "source": []
  },
  {
   "cell_type": "code",
   "execution_count": null,
   "metadata": {},
   "outputs": [],
   "source": []
  }
 ],
 "metadata": {
  "kernelspec": {
   "display_name": "Python 3",
   "language": "python",
   "name": "python3"
  },
  "language_info": {
   "codemirror_mode": {
    "name": "ipython",
    "version": 3
   },
   "file_extension": ".py",
   "mimetype": "text/x-python",
   "name": "python",
   "nbconvert_exporter": "python",
   "pygments_lexer": "ipython3",
   "version": "3.7.6"
  }
 },
 "nbformat": 4,
 "nbformat_minor": 4
}
