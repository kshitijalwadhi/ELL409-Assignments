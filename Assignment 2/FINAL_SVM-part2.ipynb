{
 "cells": [
  {
   "cell_type": "code",
   "execution_count": 1,
   "metadata": {},
   "outputs": [],
   "source": [
    "import numpy as np\n",
    "import pandas as pd\n",
    "import random\n",
    "import cvxopt\n",
    "from cvxopt import matrix, solvers\n",
    "from cvxopt.modeling import variable\n",
    "from tqdm.notebook import tqdm\n",
    "from sklearn.svm import SVC\n",
    "from libsvm.svmutil import *\n",
    "from datetime import datetime\n",
    "import matplotlib.pyplot as plt\n",
    "import seaborn as sns\n",
    "sns.set_theme()\n",
    "random.seed(42)"
   ]
  },
  {
   "cell_type": "code",
   "execution_count": 22,
   "metadata": {},
   "outputs": [],
   "source": [
    "SUBSET = [False,2000] # if True, 2nd val is # of points \n",
    "N_FOLDS = 5 # k-Fold cross validation\n",
    "NUM_FEATURES = 25 # <=25 for the given data\n",
    "SPLIT = 0.9 # Test-train split (for individual)\n",
    "MODE = 'LIBSVM' # 'LIBSVM', 'CVXOPT', 'SSMO'\n",
    "BINARY_CLASSIFICATION = False # Binary classification/Multiclass\n",
    "C1,C2 = 1,8 # Classes (0-9)\n",
    "KERNEL = 'LINEAR' # 'LINEAR', 'POLY', 'RBF'\n",
    "GAMMA = 0.001 # Gamma for RBF Kernel\n",
    "C = 3.0 # C for L1 regularization\n",
    "POWER = 2 # Power in Polynomial kernel\n",
    "COEFF = 4 # Coefficient in Polynomial kernel\n",
    "MAX_PASSES = 5 # Number of passes in SSMO\n",
    "TOLERANCE = 1e-3 # Tolerance for SSMO"
   ]
  },
  {
   "cell_type": "code",
   "execution_count": 23,
   "metadata": {},
   "outputs": [],
   "source": [
    "def getData():\n",
    "    df = pd.read_csv('train_set.csv',header=None)\n",
    "    if BINARY_CLASSIFICATION:\n",
    "        df = df[(df[25] == C1) | (df[25] == C2)]\n",
    "    dataset = []\n",
    "    for i,row in df.iterrows():\n",
    "        xi = []\n",
    "        for j in range(0,NUM_FEATURES):\n",
    "            xi.append(row[j])\n",
    "        if BINARY_CLASSIFICATION:\n",
    "            if(row[25]==C1):\n",
    "                xi.append(-1.0)\n",
    "            else:\n",
    "                xi.append(1.0)\n",
    "        else:\n",
    "            xi.append(row[25])\n",
    "        dataset.append(xi)\n",
    "    \n",
    "    if SUBSET[0]==True:\n",
    "        dataset = dataset[:SUBSET[1]]\n",
    "    return dataset"
   ]
  },
  {
   "cell_type": "code",
   "execution_count": 24,
   "metadata": {},
   "outputs": [],
   "source": [
    "def cross_validation_split(dataset):\n",
    "    dataset_split = list()\n",
    "    dataset_copy = list(dataset)\n",
    "    fold_size = int(len(dataset) / N_FOLDS)\n",
    "    for i in range(N_FOLDS):\n",
    "        fold = list()\n",
    "        while len(fold) < fold_size:\n",
    "            index = random.randrange(len(dataset_copy))\n",
    "            fold.append(dataset_copy.pop(index))\n",
    "        dataset_split.append(fold)\n",
    "    return dataset_split"
   ]
  },
  {
   "cell_type": "code",
   "execution_count": 25,
   "metadata": {},
   "outputs": [],
   "source": [
    "dataset = getData()"
   ]
  },
  {
   "cell_type": "code",
   "execution_count": 26,
   "metadata": {},
   "outputs": [],
   "source": [
    "dataset_split = cross_validation_split(dataset)"
   ]
  },
  {
   "cell_type": "code",
   "execution_count": 7,
   "metadata": {},
   "outputs": [],
   "source": [
    "class SVM:\n",
    "    def __init__(self,mode='CVXOPT',kernel='LINEAR',C = 3.0,gamma = 0.001, power = 2, coeff = 4, max_passes = 5, tol=1e-3):\n",
    "        self.mode = mode\n",
    "        self.kernel = kernel\n",
    "        self.C = C\n",
    "        self.gamma = gamma\n",
    "        self.power = power\n",
    "        self.coeff = coeff\n",
    "        self.max_passes = max_passes\n",
    "        self.tol = tol\n",
    "    \n",
    "    def fit(self,X,y):\n",
    "        X = np.array(X)\n",
    "        y = np.array(y)\n",
    "        num_samples,num_features = X.shape\n",
    "        K = np.zeros((num_samples,num_samples))\n",
    "        \n",
    "        for i in (range(num_samples)):\n",
    "            for j in range(num_samples):\n",
    "                if self.kernel == 'LINEAR':\n",
    "                    K[i][j] = np.dot(X[i],np.transpose(X[j]))\n",
    "                elif self.kernel == 'POLY':\n",
    "                    K[i][j] = (np.dot(X[i],np.transpose(X[j])) + self.coeff) ** self.power\n",
    "                elif self.kernel == 'RBF':\n",
    "                    K[i][j] = np.exp(-1 * self.gamma*np.sum(np.square(X[i]-X[j])))\n",
    "        \n",
    "        self.K = K\n",
    "        \n",
    "        if self.mode == 'CVXOPT':\n",
    "            H = np.zeros((num_samples,num_samples))\n",
    "            for i in (range(num_samples)):\n",
    "                for j in range(num_samples):\n",
    "                    H[i][j] = y[i]*y[j] * K[i][j]\n",
    "            P = matrix(H)\n",
    "            q = matrix(np.ones(num_samples) * -1)\n",
    "            G = matrix(np.vstack(((np.identity(num_samples) * -1),np.identity(num_samples))))\n",
    "            h = matrix(np.hstack((np.zeros(num_samples),np.ones(num_samples)*self.C)))\n",
    "            A = matrix(y,(1,num_samples))\n",
    "            b = matrix(0.0)\n",
    "\n",
    "            solvers.options['show_progress'] = False\n",
    "            soln = solvers.qp(P,q,G,h,A,b)\n",
    "            alpha = np.array(soln['x']) \n",
    "\n",
    "            self.sup_idx = np.where(alpha>1e-5)[0]\n",
    "            self.ind =  np.arange(len(alpha))[self.sup_idx]\n",
    "\n",
    "            self.sup_x = X[self.sup_idx,:]\n",
    "            self.sup_y = y[self.sup_idx]\n",
    "            self.alpha = alpha[self.sup_idx]\n",
    "            self.b = self.sup_y[0]\n",
    "\n",
    "            for i in range(len(self.alpha)):\n",
    "                if self.kernel == 'LINEAR':\n",
    "                    temp = np.dot(self.sup_x[i],np.transpose(self.sup_x[0]))\n",
    "                elif self.kernel == 'POLY':\n",
    "                    temp = (np.dot(self.sup_x[i],np.transpose(self.sup_x[0]))+self.coeff)**self.power\n",
    "                elif self.kernel == 'RBF':\n",
    "                    temp = np.exp(-1 * self.gamma*np.sum(np.square(self.sup_x[i]-self.sup_x[0])))\n",
    "                self.b -= self.alpha[i] * self.sup_y[i] * temp\n",
    "        \n",
    "        elif self.mode == 'SSMO':\n",
    "            alpha = np.zeros((num_samples))\n",
    "            alpha_old = np.zeros((num_samples))\n",
    "            E = np.zeros((num_samples))\n",
    "            b = 0\n",
    "            passes = 0\n",
    "            while(passes<self.max_passes):\n",
    "                num_changed_alpha = 0\n",
    "                for i in range(num_samples):\n",
    "                    E[i] = np.sum(alpha * y * self.K[:,i]) + b - y[i]\n",
    "\n",
    "                    if (y[i] * E[i] < -self.tol and alpha[i]<self.C) or (y[i] * E[i] > self.tol and alpha[i]>0):\n",
    "                        j = random.randint(0,num_samples-1)\n",
    "                        while j == i:\n",
    "                            j = random.randint(0,num_samples-1)\n",
    "\n",
    "                        E[j] = np.sum(alpha * y * self.K[:,j]) + b - y[j]\n",
    "                        alpha_old[i] = alpha[i]\n",
    "                        alpha_old[j] = alpha[j]\n",
    "\n",
    "                        if y[i] != y[j]:\n",
    "                            L = max(0,alpha[j] - alpha[i])\n",
    "                            H = min(self.C,self.C+alpha[j] - alpha[i])\n",
    "                        else:\n",
    "                            L = max(0,alpha[i]+alpha[j] - self.C)\n",
    "                            H = min(self.C,alpha[i] + alpha[j])\n",
    "\n",
    "                        if L==H:\n",
    "                            continue\n",
    "\n",
    "                        eta = 2* self.K[i][j] - self.K[i][i] - self.K[j][j]\n",
    "\n",
    "                        if eta>=0:\n",
    "                            continue\n",
    "\n",
    "                        alpha[j] = alpha[j] - y[j] * (E[i] - E[j])/eta\n",
    "\n",
    "                        if alpha[j]>H:\n",
    "                            alpha[j] = H\n",
    "                        elif alpha[j]<L:\n",
    "                            alpha[j] = L\n",
    "\n",
    "                        if abs(alpha[j] - alpha_old[j]) < 1e-5:\n",
    "                            continue\n",
    "\n",
    "                        alpha[i] = alpha[i] + y[i]* y[j] * (alpha_old[j] - alpha[j])\n",
    "\n",
    "                        b1 = b - E[i] - y[i] * (alpha[i] - alpha_old[i]) * self.K[i][i] \\\n",
    "                            - y[j] * (alpha[j] - alpha_old[j]) * self.K[i][j]\n",
    "                        b2 = b - E[j] - y[i] * (alpha[i] - alpha_old[i]) * self.K[i][j] \\\n",
    "                            - y[j] * (alpha[j] - alpha_old[j]) * self.K[j][j] \n",
    "\n",
    "                        if 0<alpha[i] and alpha[i] <self.C:\n",
    "                            b = b1\n",
    "                        elif 0<alpha[j] and alpha[j] < self.C:\n",
    "                            b = b2\n",
    "                        else:\n",
    "                            b = (b1+b2)/2\n",
    "\n",
    "                        num_changed_alpha +=1\n",
    "\n",
    "                if num_changed_alpha == 0:\n",
    "                    passes+=1\n",
    "                else:\n",
    "                    passes=0\n",
    "\n",
    "            self.b = b\n",
    "            self.sup_idx = np.where(alpha>0)[0]\n",
    "            self.sup_x = X[self.sup_idx,:]\n",
    "            self.sup_y = y[self.sup_idx]\n",
    "            self.alpha = alpha[self.sup_idx]\n",
    "            self.w = np.dot(alpha*y,X).T\n",
    "        \n",
    "    def predict(self,X):\n",
    "        preds = []\n",
    "        for x in X:\n",
    "            pred = 0\n",
    "            for i in range(len(self.alpha)):\n",
    "                if self.kernel == 'LINEAR':\n",
    "                    temp = np.dot(self.sup_x[i],np.transpose(x))\n",
    "                elif self.kernel == 'POLY':\n",
    "                    temp = (np.dot(self.sup_x[i],np.transpose(x)) + self.coeff) ** self.power\n",
    "                elif self.kernel == 'RBF':\n",
    "                    temp = np.exp(-1 * self.gamma *np.sum(np.square(self.sup_x[i]-x)))\n",
    "                pred += self.alpha[i] * self.sup_y[i] * temp\n",
    "            pred += self.b\n",
    "            if pred>=0:\n",
    "                preds.append(1.0)\n",
    "            else:\n",
    "                preds.append(-1.0)\n",
    "        return np.array(preds)"
   ]
  },
  {
   "cell_type": "code",
   "execution_count": 8,
   "metadata": {},
   "outputs": [],
   "source": [
    "def getAccuracy(preds,testY):\n",
    "    correct = 0\n",
    "    for i in range(len(testY)):\n",
    "        if preds[i] == testY[i]:\n",
    "            correct +=1\n",
    "    return correct/len(testY) * 100"
   ]
  },
  {
   "cell_type": "code",
   "execution_count": 9,
   "metadata": {},
   "outputs": [],
   "source": [
    "def evaluateCrossEval(dataset_split):\n",
    "    train_acc_list = []\n",
    "    test_acc_list = []\n",
    "    for fold in (dataset_split):\n",
    "        trainDS = list(dataset_split)\n",
    "        trainDS.remove(fold)\n",
    "        trainDS = sum(trainDS,[])\n",
    "        testDS = list()\n",
    "        \n",
    "        for row in fold:\n",
    "            rowCopy = list(row)\n",
    "            testDS.append(rowCopy)\n",
    "        \n",
    "        trainX = [train[:-1] for train in trainDS]\n",
    "        trainY = [train[-1] for train in trainDS]\n",
    "        \n",
    "        testX = [test[:-1] for test in testDS]\n",
    "        testY = [test[-1] for test in testDS]\n",
    "        \n",
    "        if BINARY_CLASSIFICATION == False or MODE == 'LIBSVM':\n",
    "            prob = svm_problem(trainY,trainX)\n",
    "            param = svm_parameter()\n",
    "            kernel_string_map = {\n",
    "                'LINEAR': LINEAR,\n",
    "                'POLY': POLY,\n",
    "                'RBF': RBF\n",
    "            }\n",
    "            param.kernel_type = kernel_string_map[KERNEL]\n",
    "            param.C = C\n",
    "            param.gamma = GAMMA\n",
    "            param.degree = POWER\n",
    "            param.coef0 = COEFF\n",
    "            m = svm_train(prob,param,'-q')\n",
    "            t_label, t_acc, t_val = svm_predict(trainY, trainX, m,'-q')\n",
    "            p_label, p_acc, p_val = svm_predict(testY, testX, m,'-q')\n",
    "            train_acc_list.append(t_acc[0])\n",
    "            test_acc_list.append(p_acc[0])\n",
    "        else:\n",
    "            cf = SVM(mode=MODE,kernel=KERNEL,gamma=GAMMA,C=C,power=POWER,coeff=COEFF,max_passes=MAX_PASSES,tol=TOLERANCE)\n",
    "            cf.fit(trainX,trainY)\n",
    "            \n",
    "            train_preds = cf.predict(trainX)\n",
    "            test_preds = cf.predict(testX)\n",
    "            \n",
    "            train_acc = getAccuracy(train_preds,trainY)\n",
    "            test_acc = getAccuracy(test_preds,testY)\n",
    "            test_acc_list.append(test_acc)\n",
    "        \n",
    "    return np.mean(train_acc_list),np.mean(test_acc_list)"
   ]
  },
  {
   "cell_type": "code",
   "execution_count": 10,
   "metadata": {},
   "outputs": [
    {
     "data": {
      "text/plain": [
       "(97.2875, 86.8)"
      ]
     },
     "execution_count": 10,
     "metadata": {},
     "output_type": "execute_result"
    }
   ],
   "source": [
    "evaluateCrossEval(dataset_split)"
   ]
  },
  {
   "cell_type": "code",
   "execution_count": 11,
   "metadata": {},
   "outputs": [],
   "source": [
    "# for MODE in ['LIBSVM', 'CVXOPT', 'SSMO']:\n",
    "#     starttime = datetime.now()\n",
    "#     _,acc = evaluate(dataset_split)\n",
    "#     endtime = datetime.now()\n",
    "#     duration = (endtime-starttime)\n",
    "#     duration = duration\n",
    "#     print(MODE,acc,duration)"
   ]
  },
  {
   "cell_type": "code",
   "execution_count": 12,
   "metadata": {},
   "outputs": [],
   "source": [
    "def evaluateSplit(dataset):\n",
    "    n = len(dataset)\n",
    "    trainDS = dataset[:int(SPLIT*n)]\n",
    "    testDS = dataset[int(SPLIT*n):]\n",
    "    \n",
    "    trainX = [train[:-1] for train in trainDS]\n",
    "    trainY = [train[-1] for train in trainDS]\n",
    "\n",
    "    testX = [test[:-1] for test in testDS]\n",
    "    testY = [test[-1] for test in testDS]\n",
    "    \n",
    "    if BINARY_CLASSIFICATION == False or MODE == 'LIBSVM':\n",
    "        prob = svm_problem(trainY,trainX)\n",
    "        param = svm_parameter()\n",
    "        kernel_string_map = {\n",
    "            'LINEAR': LINEAR,\n",
    "            'POLY': POLY,\n",
    "            'RBF': RBF\n",
    "        }\n",
    "        param.kernel_type = kernel_string_map[KERNEL]\n",
    "        param.C = C\n",
    "        param.gamma = GAMMA\n",
    "        param.degree = POWER\n",
    "        param.coef0 = COEFF\n",
    "        m = svm_train(prob,param,'-q')\n",
    "        t_label, t_acc, t_val = svm_predict(trainY, trainX, m,'-q')\n",
    "        p_label, p_acc, p_val = svm_predict(testY, testX, m,'-q')\n",
    "        return _,t_acc[0],p_acc[0]\n",
    "    else:\n",
    "        cf = SVM(mode=MODE,kernel=KERNEL,gamma=GAMMA,C=C,power=POWER,coeff=COEFF,max_passes=MAX_PASSES,tol=TOLERANCE)\n",
    "        cf.fit(trainX,trainY)\n",
    "\n",
    "        train_preds = cf.predict(trainX)\n",
    "        test_preds = cf.predict(testX)\n",
    "\n",
    "        train_acc = getAccuracy(train_preds,trainY)\n",
    "        test_acc = getAccuracy(test_preds,testY)\n",
    "        return cf.sup_idx,train_acc,test_acc\n",
    "    "
   ]
  },
  {
   "cell_type": "code",
   "execution_count": null,
   "metadata": {},
   "outputs": [],
   "source": []
  },
  {
   "cell_type": "code",
   "execution_count": null,
   "metadata": {},
   "outputs": [],
   "source": []
  },
  {
   "cell_type": "code",
   "execution_count": null,
   "metadata": {},
   "outputs": [],
   "source": []
  },
  {
   "cell_type": "code",
   "execution_count": null,
   "metadata": {},
   "outputs": [],
   "source": []
  },
  {
   "cell_type": "code",
   "execution_count": 13,
   "metadata": {},
   "outputs": [],
   "source": [
    "KERNEL = \"LINEAR\"\n",
    "MODE = \"LIBSVM\""
   ]
  },
  {
   "cell_type": "code",
   "execution_count": 14,
   "metadata": {},
   "outputs": [],
   "source": [
    "train_acc_list = []\n",
    "test_acc_list = []\n",
    "for C in [1e-5,1e-4,1e-3,1e-2,1e-1,1e0,1e1,1e2]:\n",
    "    train_acc,test_acc = evaluateCrossEval(dataset_split)\n",
    "    train_acc_list.append(train_acc)\n",
    "    test_acc_list.append(test_acc)"
   ]
  },
  {
   "cell_type": "code",
   "execution_count": 15,
   "metadata": {},
   "outputs": [
    {
     "data": {
      "image/png": "[encoded data removed]",
      "text/plain": [
       "<Figure size 432x288 with 1 Axes>"
      ]
     },
     "metadata": {},
     "output_type": "display_data"
    }
   ],
   "source": [
    "X = [-5,-4,-3,-2,-1,0,1,2]\n",
    "plt.plot(X,train_acc_list, label=\"Train Accuracy\")\n",
    "plt.plot(X,test_acc_list,label=\"Test Accuracy\")\n",
    "plt.xlabel('Log(C)')\n",
    "plt.ylabel('Accuracy')\n",
    "plt.title('Accuracy vs C (Linear Kernel)')\n",
    "plt.legend()\n",
    "#plt.savefig('Plots/Accuracy vs C (Linear Kernel).png',dpi=1200)\n",
    "plt.show()\n"
   ]
  },
  {
   "cell_type": "code",
   "execution_count": 16,
   "metadata": {},
   "outputs": [],
   "source": [
    "KERNEL = \"RBF\""
   ]
  },
  {
   "cell_type": "code",
   "execution_count": 17,
   "metadata": {},
   "outputs": [
    {
     "name": "stdout",
     "output_type": "stream",
     "text": [
      "1e-05 12.45 12.45\n",
      "0.0001 12.45 12.45\n",
      "0.001 12.45 12.45\n",
      "0.01 14.05 13.3\n",
      "0.1 91.8375 89.15\n",
      "1.0 99.025 94.3\n",
      "10.0 100.0 94.65\n",
      "100.0 100.0 94.65\n"
     ]
    }
   ],
   "source": [
    "train_acc_list = []\n",
    "test_acc_list = []\n",
    "#GAMMA = 0.03\n",
    "GAMMA = 1/(NUM_FEATURES)\n",
    "for C in [1e-5,1e-4,1e-3,1e-2,1e-1,1e0,1e1,1e2]:\n",
    "    train_acc,test_acc = evaluateCrossEval(dataset_split)\n",
    "    print(C,train_acc,test_acc)\n",
    "    train_acc_list.append(train_acc)\n",
    "    test_acc_list.append(test_acc)"
   ]
  },
  {
   "cell_type": "code",
   "execution_count": 18,
   "metadata": {},
   "outputs": [
    {
     "data": {
      "image/png": "[encoded data removed]",
      "text/plain": [
       "<Figure size 432x288 with 1 Axes>"
      ]
     },
     "metadata": {},
     "output_type": "display_data"
    }
   ],
   "source": [
    "X = [-5,-4,-3,-2,-1,0,1,2]\n",
    "plt.plot(X,train_acc_list, label=\"Train Accuracy\")\n",
    "plt.plot(X,test_acc_list,label=\"Test Accuracy\")\n",
    "plt.xlabel('Log(C)')\n",
    "plt.ylabel('Accuracy')\n",
    "plt.title('Accuracy vs C (RBF Kernel)')\n",
    "plt.legend()\n",
    "plt.savefig('Plots/Accuracy vs C (RBF Kernel).png',dpi=1200)\n",
    "plt.show()"
   ]
  },
  {
   "cell_type": "code",
   "execution_count": 19,
   "metadata": {},
   "outputs": [
    {
     "name": "stdout",
     "output_type": "stream",
     "text": [
      "1e-05 12.45 12.45\n",
      "0.0001 36.025 33.9\n",
      "0.001 87.3 86.15\n",
      "0.01 94.675 92.65\n",
      "0.1 99.875 94.0\n",
      "1.0 100.0 20.7\n",
      "10.0 100.0 12.45\n"
     ]
    }
   ],
   "source": [
    "train_acc_list = []\n",
    "test_acc_list = []\n",
    "C = 1\n",
    "for GAMMA in [1e-5,1e-4,1e-3,1e-2,1e-1,1e0,1e1]:\n",
    "    train_acc,test_acc = evaluateCrossEval(dataset_split)\n",
    "    print(GAMMA,train_acc,test_acc)\n",
    "    train_acc_list.append(train_acc)\n",
    "    test_acc_list.append(test_acc)"
   ]
  },
  {
   "cell_type": "code",
   "execution_count": 20,
   "metadata": {},
   "outputs": [
    {
     "data": {
      "image/png": "[encoded data removed]",
      "text/plain": [
       "<Figure size 432x288 with 1 Axes>"
      ]
     },
     "metadata": {},
     "output_type": "display_data"
    }
   ],
   "source": [
    "X = [-5,-4,-3,-2,-1,0,1]\n",
    "plt.plot(X,train_acc_list, label=\"Train Accuracy\")\n",
    "plt.plot(X,test_acc_list,label=\"Test Accuracy\")\n",
    "plt.xlabel('Log(Gamma)')\n",
    "plt.ylabel('Accuracy')\n",
    "plt.title('Accuracy vs Gamma (RBF Kernel)')\n",
    "plt.legend()\n",
    "#plt.savefig('Plots/Accuracy vs Gamma (RBF Kernel).png',dpi=1200)\n",
    "plt.show()"
   ]
  },
  {
   "cell_type": "code",
   "execution_count": null,
   "metadata": {},
   "outputs": [],
   "source": []
  },
  {
   "cell_type": "code",
   "execution_count": null,
   "metadata": {},
   "outputs": [],
   "source": []
  },
  {
   "cell_type": "code",
   "execution_count": null,
   "metadata": {},
   "outputs": [],
   "source": []
  },
  {
   "cell_type": "code",
   "execution_count": null,
   "metadata": {},
   "outputs": [],
   "source": []
  },
  {
   "cell_type": "code",
   "execution_count": 28,
   "metadata": {},
   "outputs": [],
   "source": [
    "KERNEL = \"RBF\"\n",
    "C = 1\n",
    "GAMMA = 1/NUM_FEATURES"
   ]
  },
  {
   "cell_type": "code",
   "execution_count": 29,
   "metadata": {},
   "outputs": [
    {
     "name": "stdout",
     "output_type": "stream",
     "text": [
      "0.04 99.021875 96.6625\n"
     ]
    }
   ],
   "source": [
    "train_acc,test_acc = evaluateCrossEval(dataset_split)\n",
    "print(GAMMA,train_acc,test_acc)"
   ]
  },
  {
   "cell_type": "code",
   "execution_count": 30,
   "metadata": {},
   "outputs": [],
   "source": [
    "KERNEL = \"RBF\"\n",
    "C = 1\n",
    "GAMMA = 0.02"
   ]
  },
  {
   "cell_type": "code",
   "execution_count": 31,
   "metadata": {},
   "outputs": [
    {
     "name": "stdout",
     "output_type": "stream",
     "text": [
      "0.02 97.709375 95.8\n"
     ]
    }
   ],
   "source": [
    "train_acc,test_acc = evaluateCrossEval(dataset_split)\n",
    "print(GAMMA,train_acc,test_acc)"
   ]
  },
  {
   "cell_type": "code",
   "execution_count": 32,
   "metadata": {},
   "outputs": [],
   "source": [
    "KERNEL = \"RBF\"\n",
    "C = 1\n",
    "GAMMA = 0.05"
   ]
  },
  {
   "cell_type": "code",
   "execution_count": 33,
   "metadata": {},
   "outputs": [
    {
     "name": "stdout",
     "output_type": "stream",
     "text": [
      "0.05 99.33125 96.7875\n"
     ]
    }
   ],
   "source": [
    "train_acc,test_acc = evaluateCrossEval(dataset_split)\n",
    "print(GAMMA,train_acc,test_acc)"
   ]
  },
  {
   "cell_type": "code",
   "execution_count": 34,
   "metadata": {},
   "outputs": [],
   "source": [
    "KERNEL = \"RBF\"\n",
    "C = 10\n",
    "GAMMA = 1/NUM_FEATURES"
   ]
  },
  {
   "cell_type": "code",
   "execution_count": 35,
   "metadata": {},
   "outputs": [
    {
     "name": "stdout",
     "output_type": "stream",
     "text": [
      "0.04 100.0 97.0\n"
     ]
    }
   ],
   "source": [
    "train_acc,test_acc = evaluateCrossEval(dataset_split)\n",
    "print(GAMMA,train_acc,test_acc)"
   ]
  },
  {
   "cell_type": "code",
   "execution_count": null,
   "metadata": {},
   "outputs": [],
   "source": []
  },
  {
   "cell_type": "code",
   "execution_count": null,
   "metadata": {},
   "outputs": [],
   "source": []
  },
  {
   "cell_type": "code",
   "execution_count": null,
   "metadata": {},
   "outputs": [],
   "source": []
  },
  {
   "cell_type": "code",
   "execution_count": null,
   "metadata": {},
   "outputs": [],
   "source": []
  },
  {
   "cell_type": "code",
   "execution_count": 40,
   "metadata": {},
   "outputs": [],
   "source": [
    "def getTestData():\n",
    "    df = pd.read_csv('test_set.csv',header=None)\n",
    "    if BINARY_CLASSIFICATION:\n",
    "        df = df[(df[25] == C1) | (df[25] == C2)]\n",
    "    dataset = []\n",
    "    for i,row in df.iterrows():\n",
    "        xi = []\n",
    "        for j in range(0,NUM_FEATURES):\n",
    "            xi.append(row[j])\n",
    "        dataset.append(xi)\n",
    "    return dataset"
   ]
  },
  {
   "cell_type": "code",
   "execution_count": 41,
   "metadata": {},
   "outputs": [],
   "source": [
    "testData = getTestData()"
   ]
  },
  {
   "cell_type": "code",
   "execution_count": 43,
   "metadata": {},
   "outputs": [
    {
     "data": {
      "text/plain": [
       "(2000, 25)"
      ]
     },
     "execution_count": 43,
     "metadata": {},
     "output_type": "execute_result"
    }
   ],
   "source": [
    "np.array(testData).shape"
   ]
  },
  {
   "cell_type": "code",
   "execution_count": null,
   "metadata": {},
   "outputs": [],
   "source": []
  },
  {
   "cell_type": "code",
   "execution_count": 46,
   "metadata": {},
   "outputs": [],
   "source": [
    "KERNEL = \"RBF\"\n",
    "C = 1\n",
    "GAMMA = 0.05"
   ]
  },
  {
   "cell_type": "code",
   "execution_count": 45,
   "metadata": {},
   "outputs": [],
   "source": [
    "trainDS = dataset\n",
    "trainX = [train[:-1] for train in trainDS]\n",
    "trainY = [train[-1] for train in trainDS]"
   ]
  },
  {
   "cell_type": "code",
   "execution_count": 48,
   "metadata": {},
   "outputs": [],
   "source": [
    "prob = svm_problem(trainY,trainX)\n",
    "param = svm_parameter()\n",
    "kernel_string_map = {\n",
    "    'LINEAR': LINEAR,\n",
    "    'POLY': POLY,\n",
    "    'RBF': RBF\n",
    "}\n",
    "param.kernel_type = kernel_string_map[KERNEL]\n",
    "param.C = C\n",
    "param.gamma = GAMMA\n",
    "param.degree = POWER\n",
    "param.coef0 = COEFF\n",
    "m = svm_train(prob,param,'-q')\n",
    "t_label, t_acc, t_val = svm_predict(trainY, trainX, m,'-q')\n",
    "p_label, p_acc, p_val = svm_predict([], testData, m,'-q')"
   ]
  },
  {
   "cell_type": "code",
   "execution_count": 50,
   "metadata": {},
   "outputs": [
    {
     "data": {
      "text/plain": [
       "2000"
      ]
     },
     "execution_count": 50,
     "metadata": {},
     "output_type": "execute_result"
    }
   ],
   "source": [
    "len(p_label)"
   ]
  },
  {
   "cell_type": "code",
   "execution_count": 53,
   "metadata": {},
   "outputs": [],
   "source": [
    "Y_pred = np.array(p_label)\n",
    "with open('foo.csv', 'w+') as f:\n",
    "  f.write('Id,Class\\n')\n",
    "  for i in range(Y_pred.shape[0]):\n",
    "    if i + 1 < 1000: \n",
    "      f.write('{},{:d}\\n'.format(str(i+1), int(Y_pred[i])))\n",
    "    else:\n",
    "      f.write('\\\"{:01d},{:03d}\\\",{:d}\\n'.format((i+1)//1000, (i+1)%1000, int(Y_pred[i])))"
   ]
  },
  {
   "cell_type": "code",
   "execution_count": null,
   "metadata": {},
   "outputs": [],
   "source": []
  }
 ],
 "metadata": {
  "kernelspec": {
   "display_name": "Python 3",
   "language": "python",
   "name": "python3"
  },
  "language_info": {
   "codemirror_mode": {
    "name": "ipython",
    "version": 3
   },
   "file_extension": ".py",
   "mimetype": "text/x-python",
   "name": "python",
   "nbconvert_exporter": "python",
   "pygments_lexer": "ipython3",
   "version": "3.7.6"
  }
 },
 "nbformat": 4,
 "nbformat_minor": 4
}
