{
 "cells": [
  {
   "cell_type": "code",
   "execution_count": 1,
   "metadata": {},
   "outputs": [],
   "source": [
    "import numpy as np\n",
    "import pandas as pd\n",
    "import random\n",
    "import cvxopt\n",
    "from cvxopt import matrix, solvers\n",
    "from cvxopt.modeling import variable\n",
    "from tqdm.notebook import tqdm\n",
    "from sklearn.svm import SVC\n",
    "from libsvm.svmutil import *\n",
    "from datetime import datetime\n",
    "import matplotlib.pyplot as plt\n",
    "import seaborn as sns\n",
    "sns.set_theme()\n",
    "random.seed(42)"
   ]
  },
  {
   "cell_type": "code",
   "execution_count": 2,
   "metadata": {},
   "outputs": [],
   "source": [
    "SUBSET = [False,2000] # if True, 2nd val is # of points \n",
    "N_FOLDS = 5 # k-Fold cross validation\n",
    "NUM_FEATURES = 25 # <=25 for the given data\n",
    "SPLIT = 0.9 # Test-train split (for individual)\n",
    "MODE = 'LIBSVM' # 'LIBSVM', 'CVXOPT', 'SSMO'\n",
    "BINARY_CLASSIFICATION = False # Binary classification/Multiclass\n",
    "C1,C2 = 1,8 # Classes (0-9)\n",
    "KERNEL = 'LINEAR' # 'LINEAR', 'POLY', 'RBF'\n",
    "GAMMA = 0.001 # Gamma for RBF Kernel\n",
    "C = 3.0 # C for L1 regularization\n",
    "POWER = 2 # Power in Polynomial kernel\n",
    "COEFF = 4 # Coefficient in Polynomial kernel\n",
    "MAX_PASSES = 5 # Number of passes in SSMO\n",
    "TOLERANCE = 1e-3 # Tolerance for SSMO"
   ]
  },
  {
   "cell_type": "code",
   "execution_count": 3,
   "metadata": {},
   "outputs": [],
   "source": [
    "def getData():\n",
    "    df = pd.read_csv('train_set.csv',header=None)\n",
    "    if BINARY_CLASSIFICATION:\n",
    "        df = df[(df[25] == C1) | (df[25] == C2)]\n",
    "    dataset = []\n",
    "    for i,row in df.iterrows():\n",
    "        xi = []\n",
    "        for j in range(0,NUM_FEATURES):\n",
    "            xi.append(row[j])\n",
    "        if BINARY_CLASSIFICATION:\n",
    "            if(row[25]==C1):\n",
    "                xi.append(-1.0)\n",
    "            else:\n",
    "                xi.append(1.0)\n",
    "        else:\n",
    "            xi.append(row[25])\n",
    "        dataset.append(xi)\n",
    "    \n",
    "    if SUBSET[0]==True:\n",
    "        dataset = dataset[:SUBSET[1]]\n",
    "    return dataset"
   ]
  },
  {
   "cell_type": "code",
   "execution_count": 4,
   "metadata": {},
   "outputs": [],
   "source": [
    "def cross_validation_split(dataset):\n",
    "    dataset_split = list()\n",
    "    dataset_copy = list(dataset)\n",
    "    fold_size = int(len(dataset) / N_FOLDS)\n",
    "    for i in range(N_FOLDS):\n",
    "        fold = list()\n",
    "        while len(fold) < fold_size:\n",
    "            index = random.randrange(len(dataset_copy))\n",
    "            fold.append(dataset_copy.pop(index))\n",
    "        dataset_split.append(fold)\n",
    "    return dataset_split"
   ]
  },
  {
   "cell_type": "code",
   "execution_count": 5,
   "metadata": {},
   "outputs": [],
   "source": [
    "dataset = getData()"
   ]
  },
  {
   "cell_type": "code",
   "execution_count": 6,
   "metadata": {},
   "outputs": [],
   "source": [
    "dataset_split = cross_validation_split(dataset)"
   ]
  },
  {
   "cell_type": "code",
   "execution_count": 7,
   "metadata": {},
   "outputs": [],
   "source": [
    "class SVM:\n",
    "    def __init__(self,mode='CVXOPT',kernel='LINEAR',C = 3.0,gamma = 0.001, power = 2, coeff = 4, max_passes = 5, tol=1e-3):\n",
    "        self.mode = mode\n",
    "        self.kernel = kernel\n",
    "        self.C = C\n",
    "        self.gamma = gamma\n",
    "        self.power = power\n",
    "        self.coeff = coeff\n",
    "        self.max_passes = max_passes\n",
    "        self.tol = tol\n",
    "    \n",
    "    def fit(self,X,y):\n",
    "        X = np.array(X)\n",
    "        y = np.array(y)\n",
    "        num_samples,num_features = X.shape\n",
    "        K = np.zeros((num_samples,num_samples))\n",
    "        \n",
    "        for i in (range(num_samples)):\n",
    "            for j in range(num_samples):\n",
    "                if self.kernel == 'LINEAR':\n",
    "                    K[i][j] = np.dot(X[i],np.transpose(X[j]))\n",
    "                elif self.kernel == 'POLY':\n",
    "                    K[i][j] = (np.dot(X[i],np.transpose(X[j])) + self.coeff) ** self.power\n",
    "                elif self.kernel == 'RBF':\n",
    "                    K[i][j] = np.exp(-1 * self.gamma*np.sum(np.square(X[i]-X[j])))\n",
    "        \n",
    "        self.K = K\n",
    "        \n",
    "        if self.mode == 'CVXOPT':\n",
    "            H = np.zeros((num_samples,num_samples))\n",
    "            for i in (range(num_samples)):\n",
    "                for j in range(num_samples):\n",
    "                    H[i][j] = y[i]*y[j] * K[i][j]\n",
    "            P = matrix(H)\n",
    "            q = matrix(np.ones(num_samples) * -1)\n",
    "            G = matrix(np.vstack(((np.identity(num_samples) * -1),np.identity(num_samples))))\n",
    "            h = matrix(np.hstack((np.zeros(num_samples),np.ones(num_samples)*self.C)))\n",
    "            A = matrix(y,(1,num_samples))\n",
    "            b = matrix(0.0)\n",
    "\n",
    "            solvers.options['show_progress'] = False\n",
    "            soln = solvers.qp(P,q,G,h,A,b)\n",
    "            alpha = np.array(soln['x']) \n",
    "\n",
    "            self.sup_idx = np.where(alpha>1e-5)[0]\n",
    "            self.ind =  np.arange(len(alpha))[self.sup_idx]\n",
    "\n",
    "            self.sup_x = X[self.sup_idx,:]\n",
    "            self.sup_y = y[self.sup_idx]\n",
    "            self.alpha = alpha[self.sup_idx]\n",
    "            self.b = self.sup_y[0]\n",
    "\n",
    "            for i in range(len(self.alpha)):\n",
    "                if self.kernel == 'LINEAR':\n",
    "                    temp = np.dot(self.sup_x[i],np.transpose(self.sup_x[0]))\n",
    "                elif self.kernel == 'POLY':\n",
    "                    temp = (np.dot(self.sup_x[i],np.transpose(self.sup_x[0]))+self.coeff)**self.power\n",
    "                elif self.kernel == 'RBF':\n",
    "                    temp = np.exp(-1 * self.gamma*np.sum(np.square(self.sup_x[i]-self.sup_x[0])))\n",
    "                self.b -= self.alpha[i] * self.sup_y[i] * temp\n",
    "        \n",
    "        elif self.mode == 'SSMO':\n",
    "            alpha = np.zeros((num_samples))\n",
    "            alpha_old = np.zeros((num_samples))\n",
    "            E = np.zeros((num_samples))\n",
    "            b = 0\n",
    "            passes = 0\n",
    "            while(passes<self.max_passes):\n",
    "                num_changed_alpha = 0\n",
    "                for i in range(num_samples):\n",
    "                    E[i] = np.sum(alpha * y * self.K[:,i]) + b - y[i]\n",
    "\n",
    "                    if (y[i] * E[i] < -self.tol and alpha[i]<self.C) or (y[i] * E[i] > self.tol and alpha[i]>0):\n",
    "                        j = random.randint(0,num_samples-1)\n",
    "                        while j == i:\n",
    "                            j = random.randint(0,num_samples-1)\n",
    "\n",
    "                        E[j] = np.sum(alpha * y * self.K[:,j]) + b - y[j]\n",
    "                        alpha_old[i] = alpha[i]\n",
    "                        alpha_old[j] = alpha[j]\n",
    "\n",
    "                        if y[i] != y[j]:\n",
    "                            L = max(0,alpha[j] - alpha[i])\n",
    "                            H = min(self.C,self.C+alpha[j] - alpha[i])\n",
    "                        else:\n",
    "                            L = max(0,alpha[i]+alpha[j] - self.C)\n",
    "                            H = min(self.C,alpha[i] + alpha[j])\n",
    "\n",
    "                        if L==H:\n",
    "                            continue\n",
    "\n",
    "                        eta = 2* self.K[i][j] - self.K[i][i] - self.K[j][j]\n",
    "\n",
    "                        if eta>=0:\n",
    "                            continue\n",
    "\n",
    "                        alpha[j] = alpha[j] - y[j] * (E[i] - E[j])/eta\n",
    "\n",
    "                        if alpha[j]>H:\n",
    "                            alpha[j] = H\n",
    "                        elif alpha[j]<L:\n",
    "                            alpha[j] = L\n",
    "\n",
    "                        if abs(alpha[j] - alpha_old[j]) < 1e-5:\n",
    "                            continue\n",
    "\n",
    "                        alpha[i] = alpha[i] + y[i]* y[j] * (alpha_old[j] - alpha[j])\n",
    "\n",
    "                        b1 = b - E[i] - y[i] * (alpha[i] - alpha_old[i]) * self.K[i][i] \\\n",
    "                            - y[j] * (alpha[j] - alpha_old[j]) * self.K[i][j]\n",
    "                        b2 = b - E[j] - y[i] * (alpha[i] - alpha_old[i]) * self.K[i][j] \\\n",
    "                            - y[j] * (alpha[j] - alpha_old[j]) * self.K[j][j] \n",
    "\n",
    "                        if 0<alpha[i] and alpha[i] <self.C:\n",
    "                            b = b1\n",
    "                        elif 0<alpha[j] and alpha[j] < self.C:\n",
    "                            b = b2\n",
    "                        else:\n",
    "                            b = (b1+b2)/2\n",
    "\n",
    "                        num_changed_alpha +=1\n",
    "\n",
    "                if num_changed_alpha == 0:\n",
    "                    passes+=1\n",
    "                else:\n",
    "                    passes=0\n",
    "\n",
    "            self.b = b\n",
    "            self.sup_idx = np.where(alpha>0)[0]\n",
    "            self.sup_x = X[self.sup_idx,:]\n",
    "            self.sup_y = y[self.sup_idx]\n",
    "            self.alpha = alpha[self.sup_idx]\n",
    "            self.w = np.dot(alpha*y,X).T\n",
    "        \n",
    "    def predict(self,X):\n",
    "        preds = []\n",
    "        for x in X:\n",
    "            pred = 0\n",
    "            for i in range(len(self.alpha)):\n",
    "                if self.kernel == 'LINEAR':\n",
    "                    temp = np.dot(self.sup_x[i],np.transpose(x))\n",
    "                elif self.kernel == 'POLY':\n",
    "                    temp = (np.dot(self.sup_x[i],np.transpose(x)) + self.coeff) ** self.power\n",
    "                elif self.kernel == 'RBF':\n",
    "                    temp = np.exp(-1 * self.gamma *np.sum(np.square(self.sup_x[i]-x)))\n",
    "                pred += self.alpha[i] * self.sup_y[i] * temp\n",
    "            pred += self.b\n",
    "            if pred>=0:\n",
    "                preds.append(1.0)\n",
    "            else:\n",
    "                preds.append(-1.0)\n",
    "        return np.array(preds)"
   ]
  },
  {
   "cell_type": "code",
   "execution_count": 8,
   "metadata": {},
   "outputs": [],
   "source": [
    "def getAccuracy(preds,testY):\n",
    "    correct = 0\n",
    "    for i in range(len(testY)):\n",
    "        if preds[i] == testY[i]:\n",
    "            correct +=1\n",
    "    return correct/len(testY) * 100"
   ]
  },
  {
   "cell_type": "code",
   "execution_count": 9,
   "metadata": {},
   "outputs": [],
   "source": [
    "def evaluateCrossEval(dataset_split):\n",
    "    train_acc_list = []\n",
    "    test_acc_list = []\n",
    "    for fold in (dataset_split):\n",
    "        trainDS = list(dataset_split)\n",
    "        trainDS.remove(fold)\n",
    "        trainDS = sum(trainDS,[])\n",
    "        testDS = list()\n",
    "        \n",
    "        for row in fold:\n",
    "            rowCopy = list(row)\n",
    "            testDS.append(rowCopy)\n",
    "        \n",
    "        trainDS,testDS = testDS,trainDS\n",
    "        \n",
    "        trainX = [train[:-1] for train in trainDS]\n",
    "        trainY = [train[-1] for train in trainDS]\n",
    "        \n",
    "        testX = [test[:-1] for test in testDS]\n",
    "        testY = [test[-1] for test in testDS]\n",
    "        \n",
    "        if BINARY_CLASSIFICATION == False or MODE == 'LIBSVM':\n",
    "            prob = svm_problem(trainY,trainX)\n",
    "            param = svm_parameter()\n",
    "            kernel_string_map = {\n",
    "                'LINEAR': LINEAR,\n",
    "                'POLY': POLY,\n",
    "                'RBF': RBF\n",
    "            }\n",
    "            param.kernel_type = kernel_string_map[KERNEL]\n",
    "            param.C = C\n",
    "            param.gamma = GAMMA\n",
    "            param.degree = POWER\n",
    "            param.coef0 = COEFF\n",
    "            m = svm_train(prob,param,'-q')\n",
    "            t_label, t_acc, t_val = svm_predict(trainY, trainX, m,'-q')\n",
    "            p_label, p_acc, p_val = svm_predict(testY, testX, m,'-q')\n",
    "            train_acc_list.append(t_acc[0])\n",
    "            test_acc_list.append(p_acc[0])\n",
    "        else:\n",
    "            cf = SVM(mode=MODE,kernel=KERNEL,gamma=GAMMA,C=C,power=POWER,coeff=COEFF,max_passes=MAX_PASSES,tol=TOLERANCE)\n",
    "            cf.fit(trainX,trainY)\n",
    "            \n",
    "            train_preds = cf.predict(trainX)\n",
    "            test_preds = cf.predict(testX)\n",
    "            \n",
    "            train_acc = getAccuracy(train_preds,trainY)\n",
    "            test_acc = getAccuracy(test_preds,testY)\n",
    "            test_acc_list.append(test_acc)\n",
    "        \n",
    "    return np.mean(train_acc_list),np.mean(test_acc_list)"
   ]
  },
  {
   "cell_type": "code",
   "execution_count": 10,
   "metadata": {},
   "outputs": [
    {
     "data": {
      "text/plain": [
       "(97.35, 87.63125)"
      ]
     },
     "execution_count": 10,
     "metadata": {},
     "output_type": "execute_result"
    }
   ],
   "source": [
    "evaluateCrossEval(dataset_split)"
   ]
  },
  {
   "cell_type": "code",
   "execution_count": 11,
   "metadata": {},
   "outputs": [],
   "source": [
    "def evaluateSplit(dataset):\n",
    "    n = len(dataset)\n",
    "    trainDS = dataset[:int(SPLIT*n)]\n",
    "    testDS = dataset[int(SPLIT*n):]\n",
    "    \n",
    "    trainX = [train[:-1] for train in trainDS]\n",
    "    trainY = [train[-1] for train in trainDS]\n",
    "\n",
    "    testX = [test[:-1] for test in testDS]\n",
    "    testY = [test[-1] for test in testDS]\n",
    "    \n",
    "    if BINARY_CLASSIFICATION == False or MODE == 'LIBSVM':\n",
    "        prob = svm_problem(trainY,trainX)\n",
    "        param = svm_parameter()\n",
    "        kernel_string_map = {\n",
    "            'LINEAR': LINEAR,\n",
    "            'POLY': POLY,\n",
    "            'RBF': RBF\n",
    "        }\n",
    "        param.kernel_type = kernel_string_map[KERNEL]\n",
    "        param.C = C\n",
    "        param.gamma = GAMMA\n",
    "        param.degree = POWER\n",
    "        param.coef0 = COEFF\n",
    "        m = svm_train(prob,param,'-q')\n",
    "        t_label, t_acc, t_val = svm_predict(trainY, trainX, m,'-q')\n",
    "        p_label, p_acc, p_val = svm_predict(testY, testX, m,'-q')\n",
    "        return _,t_acc[0],p_acc[0]\n",
    "    else:\n",
    "        cf = SVM(mode=MODE,kernel=KERNEL,gamma=GAMMA,C=C,power=POWER,coeff=COEFF,max_passes=MAX_PASSES,tol=TOLERANCE)\n",
    "        cf.fit(trainX,trainY)\n",
    "\n",
    "        train_preds = cf.predict(trainX)\n",
    "        test_preds = cf.predict(testX)\n",
    "\n",
    "        train_acc = getAccuracy(train_preds,trainY)\n",
    "        test_acc = getAccuracy(test_preds,testY)\n",
    "        return cf.sup_idx,train_acc,test_acc\n",
    "    "
   ]
  },
  {
   "cell_type": "code",
   "execution_count": null,
   "metadata": {},
   "outputs": [],
   "source": []
  },
  {
   "cell_type": "code",
   "execution_count": null,
   "metadata": {},
   "outputs": [],
   "source": []
  },
  {
   "cell_type": "code",
   "execution_count": null,
   "metadata": {},
   "outputs": [],
   "source": []
  },
  {
   "cell_type": "code",
   "execution_count": null,
   "metadata": {},
   "outputs": [],
   "source": []
  },
  {
   "cell_type": "code",
   "execution_count": 12,
   "metadata": {},
   "outputs": [],
   "source": [
    "KERNEL = \"LINEAR\"\n",
    "MODE = \"LIBSVM\""
   ]
  },
  {
   "cell_type": "code",
   "execution_count": 13,
   "metadata": {},
   "outputs": [
    {
     "name": "stdout",
     "output_type": "stream",
     "text": [
      "1e-05 11.8 10.8875\n",
      "0.0001 12.0875 11.084375\n",
      "0.001 83.575 81.49375\n",
      "0.01 91.025 88.9125\n",
      "0.1 93.9375 89.50625\n",
      "1.0 96.6375 88.015625\n",
      "10.0 98.1125 87.04375\n",
      "100.0 98.5625 86.85\n"
     ]
    }
   ],
   "source": [
    "train_acc_list = []\n",
    "test_acc_list = []\n",
    "for C in [1e-5,1e-4,1e-3,1e-2,1e-1,1e0,1e1,1e2]:\n",
    "    train_acc,test_acc = evaluateCrossEval(dataset_split)\n",
    "    print(C,train_acc,test_acc)\n",
    "    train_acc_list.append(train_acc)\n",
    "    test_acc_list.append(test_acc)"
   ]
  },
  {
   "cell_type": "code",
   "execution_count": 14,
   "metadata": {},
   "outputs": [
    {
     "data": {
      "image/png": "[encoded data removed]",
      "text/plain": [
       "<Figure size 432x288 with 1 Axes>"
      ]
     },
     "metadata": {},
     "output_type": "display_data"
    }
   ],
   "source": [
    "X = [-5,-4,-3,-2,-1,0,1,2]\n",
    "plt.plot(X,train_acc_list, label=\"Train Accuracy\")\n",
    "plt.plot(X,test_acc_list,label=\"Test Accuracy\")\n",
    "plt.xlabel('Log(C)')\n",
    "plt.ylabel('Accuracy')\n",
    "plt.title('Accuracy vs C (Linear Kernel)')\n",
    "plt.legend()\n",
    "plt.savefig('Plots/Accuracy vs C (Linear Kernel).png',dpi=1200)\n",
    "plt.show()\n"
   ]
  },
  {
   "cell_type": "code",
   "execution_count": 15,
   "metadata": {},
   "outputs": [],
   "source": [
    "KERNEL = \"RBF\""
   ]
  },
  {
   "cell_type": "code",
   "execution_count": 16,
   "metadata": {},
   "outputs": [
    {
     "name": "stdout",
     "output_type": "stream",
     "text": [
      "1e-05 11.8 10.8875\n",
      "0.0001 11.8 10.8875\n",
      "0.001 11.8 10.8875\n",
      "0.01 15.0625 13.5625\n",
      "0.1 92.075 88.8875\n",
      "1.0 98.9875 94.546875\n",
      "10.0 100.0 94.75\n",
      "100.0 100.0 94.75625\n"
     ]
    }
   ],
   "source": [
    "train_acc_list = []\n",
    "test_acc_list = []\n",
    "#GAMMA = 0.03\n",
    "GAMMA = 1/(NUM_FEATURES)\n",
    "for C in [1e-5,1e-4,1e-3,1e-2,1e-1,1e0,1e1,1e2]:\n",
    "    train_acc,test_acc = evaluateCrossEval(dataset_split)\n",
    "    print(C,train_acc,test_acc)\n",
    "    train_acc_list.append(train_acc)\n",
    "    test_acc_list.append(test_acc)"
   ]
  },
  {
   "cell_type": "code",
   "execution_count": 17,
   "metadata": {},
   "outputs": [
    {
     "data": {
      "image/png": "[encoded data removed]",
      "text/plain": [
       "<Figure size 432x288 with 1 Axes>"
      ]
     },
     "metadata": {},
     "output_type": "display_data"
    }
   ],
   "source": [
    "X = [-5,-4,-3,-2,-1,0,1,2]\n",
    "plt.plot(X,train_acc_list, label=\"Train Accuracy\")\n",
    "plt.plot(X,test_acc_list,label=\"Test Accuracy\")\n",
    "plt.xlabel('Log(C)')\n",
    "plt.ylabel('Accuracy')\n",
    "plt.title('Accuracy vs C (RBF Kernel)')\n",
    "plt.legend()\n",
    "plt.savefig('Plots/Accuracy vs C (RBF Kernel).png',dpi=1200)\n",
    "plt.show()"
   ]
  },
  {
   "cell_type": "code",
   "execution_count": 18,
   "metadata": {},
   "outputs": [
    {
     "name": "stdout",
     "output_type": "stream",
     "text": [
      "1e-05 11.8 10.8875\n",
      "0.0001 34.6125 33.16875\n",
      "0.001 87.375 85.78125\n",
      "0.01 94.975 91.93125\n",
      "0.1 99.9375 93.946875\n",
      "1.0 100.0 19.334375\n",
      "10.0 100.0 10.9625\n"
     ]
    }
   ],
   "source": [
    "train_acc_list = []\n",
    "test_acc_list = []\n",
    "C = 1\n",
    "for GAMMA in [1e-5,1e-4,1e-3,1e-2,1e-1,1e0,1e1]:\n",
    "    train_acc,test_acc = evaluateCrossEval(dataset_split)\n",
    "    print(GAMMA,train_acc,test_acc)\n",
    "    train_acc_list.append(train_acc)\n",
    "    test_acc_list.append(test_acc)"
   ]
  },
  {
   "cell_type": "code",
   "execution_count": 19,
   "metadata": {},
   "outputs": [
    {
     "data": {
      "image/png": "[encoded data removed]",
      "text/plain": [
       "<Figure size 432x288 with 1 Axes>"
      ]
     },
     "metadata": {},
     "output_type": "display_data"
    }
   ],
   "source": [
    "X = [-5,-4,-3,-2,-1,0,1]\n",
    "plt.plot(X,train_acc_list, label=\"Train Accuracy\")\n",
    "plt.plot(X,test_acc_list,label=\"Test Accuracy\")\n",
    "plt.xlabel('Log(Gamma)')\n",
    "plt.ylabel('Accuracy')\n",
    "plt.title('Accuracy vs Gamma (RBF Kernel)')\n",
    "plt.legend()\n",
    "plt.savefig('Plots/Accuracy vs Gamma (RBF Kernel).png',dpi=1200)\n",
    "plt.show()"
   ]
  },
  {
   "cell_type": "code",
   "execution_count": null,
   "metadata": {},
   "outputs": [],
   "source": []
  },
  {
   "cell_type": "code",
   "execution_count": null,
   "metadata": {},
   "outputs": [],
   "source": []
  },
  {
   "cell_type": "code",
   "execution_count": 19,
   "metadata": {},
   "outputs": [
    {
     "name": "stdout",
     "output_type": "stream",
     "text": [
      "0.02 99.6125 94.321875\n"
     ]
    }
   ],
   "source": [
    "KERNEL = \"RBF\"\n",
    "C = 4\n",
    "GAMMA = 0.02\n",
    "train_acc,test_acc = evaluateCrossEval(dataset_split)\n",
    "print(GAMMA,train_acc,test_acc)"
   ]
  },
  {
   "cell_type": "code",
   "execution_count": null,
   "metadata": {},
   "outputs": [],
   "source": []
  },
  {
   "cell_type": "code",
   "execution_count": 28,
   "metadata": {},
   "outputs": [],
   "source": [
    "KERNEL = \"RBF\"\n",
    "C = 1\n",
    "GAMMA = 1/NUM_FEATURES"
   ]
  },
  {
   "cell_type": "code",
   "execution_count": 29,
   "metadata": {},
   "outputs": [
    {
     "name": "stdout",
     "output_type": "stream",
     "text": [
      "0:00:04.060021\n",
      "0.04 98.9875 94.546875\n"
     ]
    }
   ],
   "source": [
    "t1 = datetime.now()\n",
    "train_acc,test_acc = evaluateCrossEval(dataset_split)\n",
    "t2 = datetime.now()\n",
    "print(t2-t1)\n",
    "print(GAMMA,train_acc,test_acc)"
   ]
  },
  {
   "cell_type": "code",
   "execution_count": 30,
   "metadata": {},
   "outputs": [],
   "source": [
    "KERNEL = \"RBF\"\n",
    "C = 1\n",
    "GAMMA = 0.02"
   ]
  },
  {
   "cell_type": "code",
   "execution_count": 31,
   "metadata": {},
   "outputs": [
    {
     "name": "stdout",
     "output_type": "stream",
     "text": [
      "0.02 97.709375 95.8\n"
     ]
    }
   ],
   "source": [
    "train_acc,test_acc = evaluateCrossEval(dataset_split)\n",
    "print(GAMMA,train_acc,test_acc)"
   ]
  },
  {
   "cell_type": "code",
   "execution_count": 32,
   "metadata": {},
   "outputs": [],
   "source": [
    "KERNEL = \"RBF\"\n",
    "C = 1\n",
    "GAMMA = 0.05"
   ]
  },
  {
   "cell_type": "code",
   "execution_count": 33,
   "metadata": {},
   "outputs": [
    {
     "name": "stdout",
     "output_type": "stream",
     "text": [
      "0.05 99.33125 96.7875\n"
     ]
    }
   ],
   "source": [
    "train_acc,test_acc = evaluateCrossEval(dataset_split)\n",
    "print(GAMMA,train_acc,test_acc)"
   ]
  },
  {
   "cell_type": "code",
   "execution_count": 94,
   "metadata": {},
   "outputs": [],
   "source": [
    "KERNEL = \"RBF\"\n",
    "C = 2.5\n",
    "GAMMA = 0.05"
   ]
  },
  {
   "cell_type": "code",
   "execution_count": 95,
   "metadata": {},
   "outputs": [
    {
     "name": "stdout",
     "output_type": "stream",
     "text": [
      "0.05 99.95 94.878125\n"
     ]
    }
   ],
   "source": [
    "train_acc,test_acc = evaluateCrossEval(dataset_split)\n",
    "print(GAMMA,train_acc,test_acc)"
   ]
  },
  {
   "cell_type": "code",
   "execution_count": null,
   "metadata": {},
   "outputs": [],
   "source": []
  },
  {
   "cell_type": "code",
   "execution_count": 15,
   "metadata": {},
   "outputs": [],
   "source": [
    "KERNEL = \"RBF\""
   ]
  },
  {
   "cell_type": "code",
   "execution_count": 16,
   "metadata": {},
   "outputs": [],
   "source": [
    "def gridSearch():\n",
    "    global C\n",
    "    global GAMMA\n",
    "    df = pd.DataFrame()\n",
    "    bestC, bestG = 0,0\n",
    "    bestAcc = 0\n",
    "    for C in tqdm(np.arange(0.1,4.05,0.05)):\n",
    "        for GAMMA in tqdm(np.arange(0.01,0.12,0.0025)):\n",
    "            try:\n",
    "                train_acc,test_acc = evaluateCrossEval(dataset_split)\n",
    "                if test_acc>bestAcc:\n",
    "                    bestC = C\n",
    "                    bestG = GAMMA\n",
    "                    bestAcc = test_acc\n",
    "                it = {'C':C,'Gamma':GAMMA,'trainAcc':train_acc, 'testAcc':test_acc}\n",
    "                df = df.append(it,ignore_index=True)\n",
    "            except:\n",
    "                continue\n",
    "        df.to_csv('grid_pt2.csv',index=False)\n",
    "    return bestC,bestG"
   ]
  },
  {
   "cell_type": "code",
   "execution_count": 17,
   "metadata": {},
   "outputs": [
    {
     "data": {
      "application/vnd.jupyter.widget-view+json": {
       "model_id": "1b92f8adb6944e2181d817a40ae64b7a",
       "version_major": 2,
       "version_minor": 0
      },
      "text/plain": [
       "HBox(children=(FloatProgress(value=0.0, max=79.0), HTML(value='')))"
      ]
     },
     "metadata": {},
     "output_type": "display_data"
    },
    {
     "data": {
      "application/vnd.jupyter.widget-view+json": {
       "model_id": "3e89e9da1952458ba729daa75c5dd34d",
       "version_major": 2,
       "version_minor": 0
      },
      "text/plain": [
       "HBox(children=(FloatProgress(value=0.0, max=44.0), HTML(value='')))"
      ]
     },
     "metadata": {},
     "output_type": "display_data"
    },
    {
     "name": "stdout",
     "output_type": "stream",
     "text": [
      "\n"
     ]
    },
    {
     "data": {
      "application/vnd.jupyter.widget-view+json": {
       "model_id": "3f96e0702e064369bf3520b164e60ffa",
       "version_major": 2,
       "version_minor": 0
      },
      "text/plain": [
       "HBox(children=(FloatProgress(value=0.0, max=44.0), HTML(value='')))"
      ]
     },
     "metadata": {},
     "output_type": "display_data"
    },
    {
     "name": "stdout",
     "output_type": "stream",
     "text": [
      "\n"
     ]
    },
    {
     "data": {
      "application/vnd.jupyter.widget-view+json": {
       "model_id": "7b91abff49a0414dbfcc080d1c078384",
       "version_major": 2,
       "version_minor": 0
      },
      "text/plain": [
       "HBox(children=(FloatProgress(value=0.0, max=44.0), HTML(value='')))"
      ]
     },
     "metadata": {},
     "output_type": "display_data"
    },
    {
     "name": "stdout",
     "output_type": "stream",
     "text": [
      "\n"
     ]
    },
    {
     "data": {
      "application/vnd.jupyter.widget-view+json": {
       "model_id": "abae9e07260d4324ba5bdd2526f32f85",
       "version_major": 2,
       "version_minor": 0
      },
      "text/plain": [
       "HBox(children=(FloatProgress(value=0.0, max=44.0), HTML(value='')))"
      ]
     },
     "metadata": {},
     "output_type": "display_data"
    },
    {
     "name": "stdout",
     "output_type": "stream",
     "text": [
      "\n"
     ]
    },
    {
     "data": {
      "application/vnd.jupyter.widget-view+json": {
       "model_id": "dcf02b9b98244dffaf25c20eba1acae4",
       "version_major": 2,
       "version_minor": 0
      },
      "text/plain": [
       "HBox(children=(FloatProgress(value=0.0, max=44.0), HTML(value='')))"
      ]
     },
     "metadata": {},
     "output_type": "display_data"
    },
    {
     "name": "stdout",
     "output_type": "stream",
     "text": [
      "\n"
     ]
    },
    {
     "data": {
      "application/vnd.jupyter.widget-view+json": {
       "model_id": "ab75e36e464240feaaab24a7049d0da7",
       "version_major": 2,
       "version_minor": 0
      },
      "text/plain": [
       "HBox(children=(FloatProgress(value=0.0, max=44.0), HTML(value='')))"
      ]
     },
     "metadata": {},
     "output_type": "display_data"
    },
    {
     "name": "stdout",
     "output_type": "stream",
     "text": [
      "\n"
     ]
    },
    {
     "data": {
      "application/vnd.jupyter.widget-view+json": {
       "model_id": "018783a922934e6f997931ed03414fbe",
       "version_major": 2,
       "version_minor": 0
      },
      "text/plain": [
       "HBox(children=(FloatProgress(value=0.0, max=44.0), HTML(value='')))"
      ]
     },
     "metadata": {},
     "output_type": "display_data"
    },
    {
     "name": "stdout",
     "output_type": "stream",
     "text": [
      "\n"
     ]
    },
    {
     "data": {
      "application/vnd.jupyter.widget-view+json": {
       "model_id": "8882ac769b474d8088d5ff4ba0ab48c6",
       "version_major": 2,
       "version_minor": 0
      },
      "text/plain": [
       "HBox(children=(FloatProgress(value=0.0, max=44.0), HTML(value='')))"
      ]
     },
     "metadata": {},
     "output_type": "display_data"
    },
    {
     "name": "stdout",
     "output_type": "stream",
     "text": [
      "\n"
     ]
    },
    {
     "data": {
      "application/vnd.jupyter.widget-view+json": {
       "model_id": "573f31b6603e411388251449581780e9",
       "version_major": 2,
       "version_minor": 0
      },
      "text/plain": [
       "HBox(children=(FloatProgress(value=0.0, max=44.0), HTML(value='')))"
      ]
     },
     "metadata": {},
     "output_type": "display_data"
    },
    {
     "name": "stdout",
     "output_type": "stream",
     "text": [
      "\n"
     ]
    },
    {
     "data": {
      "application/vnd.jupyter.widget-view+json": {
       "model_id": "a91e1c2de38d451fb41d893acac7faaa",
       "version_major": 2,
       "version_minor": 0
      },
      "text/plain": [
       "HBox(children=(FloatProgress(value=0.0, max=44.0), HTML(value='')))"
      ]
     },
     "metadata": {},
     "output_type": "display_data"
    },
    {
     "name": "stdout",
     "output_type": "stream",
     "text": [
      "\n"
     ]
    },
    {
     "data": {
      "application/vnd.jupyter.widget-view+json": {
       "model_id": "594b8364108141dc859cc4a64a9eb20d",
       "version_major": 2,
       "version_minor": 0
      },
      "text/plain": [
       "HBox(children=(FloatProgress(value=0.0, max=44.0), HTML(value='')))"
      ]
     },
     "metadata": {},
     "output_type": "display_data"
    },
    {
     "name": "stdout",
     "output_type": "stream",
     "text": [
      "\n"
     ]
    },
    {
     "data": {
      "application/vnd.jupyter.widget-view+json": {
       "model_id": "b42a2e654e1c43949b14cdbc29a80e96",
       "version_major": 2,
       "version_minor": 0
      },
      "text/plain": [
       "HBox(children=(FloatProgress(value=0.0, max=44.0), HTML(value='')))"
      ]
     },
     "metadata": {},
     "output_type": "display_data"
    },
    {
     "name": "stdout",
     "output_type": "stream",
     "text": [
      "\n"
     ]
    },
    {
     "data": {
      "application/vnd.jupyter.widget-view+json": {
       "model_id": "0c481337968b4cc98e77dc38cbfa20a4",
       "version_major": 2,
       "version_minor": 0
      },
      "text/plain": [
       "HBox(children=(FloatProgress(value=0.0, max=44.0), HTML(value='')))"
      ]
     },
     "metadata": {},
     "output_type": "display_data"
    },
    {
     "name": "stdout",
     "output_type": "stream",
     "text": [
      "\n"
     ]
    },
    {
     "data": {
      "application/vnd.jupyter.widget-view+json": {
       "model_id": "c3e58f6d148b456caee9b503e485415b",
       "version_major": 2,
       "version_minor": 0
      },
      "text/plain": [
       "HBox(children=(FloatProgress(value=0.0, max=44.0), HTML(value='')))"
      ]
     },
     "metadata": {},
     "output_type": "display_data"
    },
    {
     "name": "stdout",
     "output_type": "stream",
     "text": [
      "\n"
     ]
    },
    {
     "data": {
      "application/vnd.jupyter.widget-view+json": {
       "model_id": "534ff233abea4a6eaba0ed20964f1bb1",
       "version_major": 2,
       "version_minor": 0
      },
      "text/plain": [
       "HBox(children=(FloatProgress(value=0.0, max=44.0), HTML(value='')))"
      ]
     },
     "metadata": {},
     "output_type": "display_data"
    },
    {
     "name": "stdout",
     "output_type": "stream",
     "text": [
      "\n"
     ]
    },
    {
     "data": {
      "application/vnd.jupyter.widget-view+json": {
       "model_id": "0c8958374f9740f4bbf26c75d3e6d375",
       "version_major": 2,
       "version_minor": 0
      },
      "text/plain": [
       "HBox(children=(FloatProgress(value=0.0, max=44.0), HTML(value='')))"
      ]
     },
     "metadata": {},
     "output_type": "display_data"
    },
    {
     "name": "stdout",
     "output_type": "stream",
     "text": [
      "\n"
     ]
    },
    {
     "data": {
      "application/vnd.jupyter.widget-view+json": {
       "model_id": "baec8ad089dc45be8dfa803472a5336e",
       "version_major": 2,
       "version_minor": 0
      },
      "text/plain": [
       "HBox(children=(FloatProgress(value=0.0, max=44.0), HTML(value='')))"
      ]
     },
     "metadata": {},
     "output_type": "display_data"
    },
    {
     "name": "stdout",
     "output_type": "stream",
     "text": [
      "\n"
     ]
    },
    {
     "data": {
      "application/vnd.jupyter.widget-view+json": {
       "model_id": "3763cf11e64a4dc6821ba0fecf371423",
       "version_major": 2,
       "version_minor": 0
      },
      "text/plain": [
       "HBox(children=(FloatProgress(value=0.0, max=44.0), HTML(value='')))"
      ]
     },
     "metadata": {},
     "output_type": "display_data"
    },
    {
     "name": "stdout",
     "output_type": "stream",
     "text": [
      "\n"
     ]
    },
    {
     "data": {
      "application/vnd.jupyter.widget-view+json": {
       "model_id": "a592c6847a634e9d87ebd8805d7f49d6",
       "version_major": 2,
       "version_minor": 0
      },
      "text/plain": [
       "HBox(children=(FloatProgress(value=0.0, max=44.0), HTML(value='')))"
      ]
     },
     "metadata": {},
     "output_type": "display_data"
    },
    {
     "name": "stdout",
     "output_type": "stream",
     "text": [
      "\n"
     ]
    },
    {
     "data": {
      "application/vnd.jupyter.widget-view+json": {
       "model_id": "abdaf048f4e94047a05006bb48f269b7",
       "version_major": 2,
       "version_minor": 0
      },
      "text/plain": [
       "HBox(children=(FloatProgress(value=0.0, max=44.0), HTML(value='')))"
      ]
     },
     "metadata": {},
     "output_type": "display_data"
    },
    {
     "name": "stdout",
     "output_type": "stream",
     "text": [
      "\n"
     ]
    },
    {
     "data": {
      "application/vnd.jupyter.widget-view+json": {
       "model_id": "dca720ac32fa419c8d48de450df9fc00",
       "version_major": 2,
       "version_minor": 0
      },
      "text/plain": [
       "HBox(children=(FloatProgress(value=0.0, max=44.0), HTML(value='')))"
      ]
     },
     "metadata": {},
     "output_type": "display_data"
    },
    {
     "name": "stdout",
     "output_type": "stream",
     "text": [
      "\n"
     ]
    },
    {
     "data": {
      "application/vnd.jupyter.widget-view+json": {
       "model_id": "f5d1d0b0e2184bf494dd2a7c48504e0b",
       "version_major": 2,
       "version_minor": 0
      },
      "text/plain": [
       "HBox(children=(FloatProgress(value=0.0, max=44.0), HTML(value='')))"
      ]
     },
     "metadata": {},
     "output_type": "display_data"
    },
    {
     "name": "stdout",
     "output_type": "stream",
     "text": [
      "\n"
     ]
    },
    {
     "data": {
      "application/vnd.jupyter.widget-view+json": {
       "model_id": "6a1196babef249b58fc6dbec78ac6c59",
       "version_major": 2,
       "version_minor": 0
      },
      "text/plain": [
       "HBox(children=(FloatProgress(value=0.0, max=44.0), HTML(value='')))"
      ]
     },
     "metadata": {},
     "output_type": "display_data"
    },
    {
     "name": "stdout",
     "output_type": "stream",
     "text": [
      "\n"
     ]
    },
    {
     "data": {
      "application/vnd.jupyter.widget-view+json": {
       "model_id": "998ffad6579f405f9c877557efa1a25d",
       "version_major": 2,
       "version_minor": 0
      },
      "text/plain": [
       "HBox(children=(FloatProgress(value=0.0, max=44.0), HTML(value='')))"
      ]
     },
     "metadata": {},
     "output_type": "display_data"
    },
    {
     "name": "stdout",
     "output_type": "stream",
     "text": [
      "\n"
     ]
    },
    {
     "data": {
      "application/vnd.jupyter.widget-view+json": {
       "model_id": "0c25da9638b746cf9c12b2e857f81207",
       "version_major": 2,
       "version_minor": 0
      },
      "text/plain": [
       "HBox(children=(FloatProgress(value=0.0, max=44.0), HTML(value='')))"
      ]
     },
     "metadata": {},
     "output_type": "display_data"
    },
    {
     "name": "stdout",
     "output_type": "stream",
     "text": [
      "\n"
     ]
    },
    {
     "data": {
      "application/vnd.jupyter.widget-view+json": {
       "model_id": "7ead15d51bb1462f8aa56dacddcbdfa6",
       "version_major": 2,
       "version_minor": 0
      },
      "text/plain": [
       "HBox(children=(FloatProgress(value=0.0, max=44.0), HTML(value='')))"
      ]
     },
     "metadata": {},
     "output_type": "display_data"
    },
    {
     "name": "stdout",
     "output_type": "stream",
     "text": [
      "\n"
     ]
    },
    {
     "data": {
      "application/vnd.jupyter.widget-view+json": {
       "model_id": "a5809cbe680348afb9141d24e30514a1",
       "version_major": 2,
       "version_minor": 0
      },
      "text/plain": [
       "HBox(children=(FloatProgress(value=0.0, max=44.0), HTML(value='')))"
      ]
     },
     "metadata": {},
     "output_type": "display_data"
    },
    {
     "name": "stdout",
     "output_type": "stream",
     "text": [
      "\n"
     ]
    },
    {
     "data": {
      "application/vnd.jupyter.widget-view+json": {
       "model_id": "678492e6a7654e3993625c10aa3332f1",
       "version_major": 2,
       "version_minor": 0
      },
      "text/plain": [
       "HBox(children=(FloatProgress(value=0.0, max=44.0), HTML(value='')))"
      ]
     },
     "metadata": {},
     "output_type": "display_data"
    },
    {
     "name": "stdout",
     "output_type": "stream",
     "text": [
      "\n"
     ]
    },
    {
     "data": {
      "application/vnd.jupyter.widget-view+json": {
       "model_id": "a49dcd8a76c14531b6add2a0e9f9c60d",
       "version_major": 2,
       "version_minor": 0
      },
      "text/plain": [
       "HBox(children=(FloatProgress(value=0.0, max=44.0), HTML(value='')))"
      ]
     },
     "metadata": {},
     "output_type": "display_data"
    },
    {
     "name": "stdout",
     "output_type": "stream",
     "text": [
      "\n"
     ]
    },
    {
     "data": {
      "application/vnd.jupyter.widget-view+json": {
       "model_id": "c81b960c86444ff08089a08f5aa698cc",
       "version_major": 2,
       "version_minor": 0
      },
      "text/plain": [
       "HBox(children=(FloatProgress(value=0.0, max=44.0), HTML(value='')))"
      ]
     },
     "metadata": {},
     "output_type": "display_data"
    },
    {
     "name": "stdout",
     "output_type": "stream",
     "text": [
      "\n"
     ]
    },
    {
     "data": {
      "application/vnd.jupyter.widget-view+json": {
       "model_id": "f2e9bea3b6b14bcc82daedf9461b665e",
       "version_major": 2,
       "version_minor": 0
      },
      "text/plain": [
       "HBox(children=(FloatProgress(value=0.0, max=44.0), HTML(value='')))"
      ]
     },
     "metadata": {},
     "output_type": "display_data"
    },
    {
     "name": "stdout",
     "output_type": "stream",
     "text": [
      "\n"
     ]
    },
    {
     "data": {
      "application/vnd.jupyter.widget-view+json": {
       "model_id": "0aca5e867869482388f40601148f62f8",
       "version_major": 2,
       "version_minor": 0
      },
      "text/plain": [
       "HBox(children=(FloatProgress(value=0.0, max=44.0), HTML(value='')))"
      ]
     },
     "metadata": {},
     "output_type": "display_data"
    },
    {
     "name": "stdout",
     "output_type": "stream",
     "text": [
      "\n"
     ]
    },
    {
     "data": {
      "application/vnd.jupyter.widget-view+json": {
       "model_id": "bd5852e1cadc4e65a170e91d526f8b94",
       "version_major": 2,
       "version_minor": 0
      },
      "text/plain": [
       "HBox(children=(FloatProgress(value=0.0, max=44.0), HTML(value='')))"
      ]
     },
     "metadata": {},
     "output_type": "display_data"
    },
    {
     "name": "stdout",
     "output_type": "stream",
     "text": [
      "\n"
     ]
    },
    {
     "data": {
      "application/vnd.jupyter.widget-view+json": {
       "model_id": "60a62998f8f045d298b2b6d4e6ec0aa5",
       "version_major": 2,
       "version_minor": 0
      },
      "text/plain": [
       "HBox(children=(FloatProgress(value=0.0, max=44.0), HTML(value='')))"
      ]
     },
     "metadata": {},
     "output_type": "display_data"
    },
    {
     "name": "stdout",
     "output_type": "stream",
     "text": [
      "\n"
     ]
    },
    {
     "data": {
      "application/vnd.jupyter.widget-view+json": {
       "model_id": "895a8e29349b44cf9b29747e20f38a9b",
       "version_major": 2,
       "version_minor": 0
      },
      "text/plain": [
       "HBox(children=(FloatProgress(value=0.0, max=44.0), HTML(value='')))"
      ]
     },
     "metadata": {},
     "output_type": "display_data"
    },
    {
     "name": "stdout",
     "output_type": "stream",
     "text": [
      "\n"
     ]
    },
    {
     "data": {
      "application/vnd.jupyter.widget-view+json": {
       "model_id": "ad4f496d4b7245d98af9f7dc5ad232a0",
       "version_major": 2,
       "version_minor": 0
      },
      "text/plain": [
       "HBox(children=(FloatProgress(value=0.0, max=44.0), HTML(value='')))"
      ]
     },
     "metadata": {},
     "output_type": "display_data"
    },
    {
     "name": "stdout",
     "output_type": "stream",
     "text": [
      "\n"
     ]
    },
    {
     "data": {
      "application/vnd.jupyter.widget-view+json": {
       "model_id": "81275015aa8d420091da19fdc6a869de",
       "version_major": 2,
       "version_minor": 0
      },
      "text/plain": [
       "HBox(children=(FloatProgress(value=0.0, max=44.0), HTML(value='')))"
      ]
     },
     "metadata": {},
     "output_type": "display_data"
    },
    {
     "name": "stdout",
     "output_type": "stream",
     "text": [
      "\n"
     ]
    },
    {
     "data": {
      "application/vnd.jupyter.widget-view+json": {
       "model_id": "6099c95995f54ca3bed5bf50cb62dc99",
       "version_major": 2,
       "version_minor": 0
      },
      "text/plain": [
       "HBox(children=(FloatProgress(value=0.0, max=44.0), HTML(value='')))"
      ]
     },
     "metadata": {},
     "output_type": "display_data"
    },
    {
     "name": "stdout",
     "output_type": "stream",
     "text": [
      "\n"
     ]
    },
    {
     "data": {
      "application/vnd.jupyter.widget-view+json": {
       "model_id": "11b797a8ad4b4884ad848a579e48dba7",
       "version_major": 2,
       "version_minor": 0
      },
      "text/plain": [
       "HBox(children=(FloatProgress(value=0.0, max=44.0), HTML(value='')))"
      ]
     },
     "metadata": {},
     "output_type": "display_data"
    },
    {
     "name": "stdout",
     "output_type": "stream",
     "text": [
      "\n"
     ]
    },
    {
     "data": {
      "application/vnd.jupyter.widget-view+json": {
       "model_id": "01848847acb3470ea6535572c3d51d20",
       "version_major": 2,
       "version_minor": 0
      },
      "text/plain": [
       "HBox(children=(FloatProgress(value=0.0, max=44.0), HTML(value='')))"
      ]
     },
     "metadata": {},
     "output_type": "display_data"
    },
    {
     "name": "stdout",
     "output_type": "stream",
     "text": [
      "\n"
     ]
    },
    {
     "data": {
      "application/vnd.jupyter.widget-view+json": {
       "model_id": "b06c87dfb6344c78a13af6f8020b8ece",
       "version_major": 2,
       "version_minor": 0
      },
      "text/plain": [
       "HBox(children=(FloatProgress(value=0.0, max=44.0), HTML(value='')))"
      ]
     },
     "metadata": {},
     "output_type": "display_data"
    },
    {
     "name": "stdout",
     "output_type": "stream",
     "text": [
      "\n"
     ]
    },
    {
     "data": {
      "application/vnd.jupyter.widget-view+json": {
       "model_id": "7950b2c63f5d43618a352ec2ca4416b9",
       "version_major": 2,
       "version_minor": 0
      },
      "text/plain": [
       "HBox(children=(FloatProgress(value=0.0, max=44.0), HTML(value='')))"
      ]
     },
     "metadata": {},
     "output_type": "display_data"
    },
    {
     "name": "stdout",
     "output_type": "stream",
     "text": [
      "\n"
     ]
    },
    {
     "data": {
      "application/vnd.jupyter.widget-view+json": {
       "model_id": "9573bee6bcc54917a8eca97f286f4bda",
       "version_major": 2,
       "version_minor": 0
      },
      "text/plain": [
       "HBox(children=(FloatProgress(value=0.0, max=44.0), HTML(value='')))"
      ]
     },
     "metadata": {},
     "output_type": "display_data"
    },
    {
     "name": "stdout",
     "output_type": "stream",
     "text": [
      "\n"
     ]
    },
    {
     "data": {
      "application/vnd.jupyter.widget-view+json": {
       "model_id": "0da4d8e9e0084a04adfdd7e7e78c3e0e",
       "version_major": 2,
       "version_minor": 0
      },
      "text/plain": [
       "HBox(children=(FloatProgress(value=0.0, max=44.0), HTML(value='')))"
      ]
     },
     "metadata": {},
     "output_type": "display_data"
    },
    {
     "name": "stdout",
     "output_type": "stream",
     "text": [
      "\n"
     ]
    },
    {
     "data": {
      "application/vnd.jupyter.widget-view+json": {
       "model_id": "19b8e4efffac4c079525c6772e7cb444",
       "version_major": 2,
       "version_minor": 0
      },
      "text/plain": [
       "HBox(children=(FloatProgress(value=0.0, max=44.0), HTML(value='')))"
      ]
     },
     "metadata": {},
     "output_type": "display_data"
    },
    {
     "name": "stdout",
     "output_type": "stream",
     "text": [
      "\n"
     ]
    },
    {
     "data": {
      "application/vnd.jupyter.widget-view+json": {
       "model_id": "1fb812edd0cf4cbc850b243fb86702a7",
       "version_major": 2,
       "version_minor": 0
      },
      "text/plain": [
       "HBox(children=(FloatProgress(value=0.0, max=44.0), HTML(value='')))"
      ]
     },
     "metadata": {},
     "output_type": "display_data"
    },
    {
     "name": "stdout",
     "output_type": "stream",
     "text": [
      "\n"
     ]
    },
    {
     "data": {
      "application/vnd.jupyter.widget-view+json": {
       "model_id": "9d243f9dd5334d718ba9de6947b66c4a",
       "version_major": 2,
       "version_minor": 0
      },
      "text/plain": [
       "HBox(children=(FloatProgress(value=0.0, max=44.0), HTML(value='')))"
      ]
     },
     "metadata": {},
     "output_type": "display_data"
    },
    {
     "name": "stdout",
     "output_type": "stream",
     "text": [
      "\n"
     ]
    },
    {
     "data": {
      "application/vnd.jupyter.widget-view+json": {
       "model_id": "03dd16cc46cb4426957a0d7a26c739c7",
       "version_major": 2,
       "version_minor": 0
      },
      "text/plain": [
       "HBox(children=(FloatProgress(value=0.0, max=44.0), HTML(value='')))"
      ]
     },
     "metadata": {},
     "output_type": "display_data"
    },
    {
     "name": "stdout",
     "output_type": "stream",
     "text": [
      "\n"
     ]
    },
    {
     "data": {
      "application/vnd.jupyter.widget-view+json": {
       "model_id": "2d0e9fe27ec049839226ee5f0f6f6302",
       "version_major": 2,
       "version_minor": 0
      },
      "text/plain": [
       "HBox(children=(FloatProgress(value=0.0, max=44.0), HTML(value='')))"
      ]
     },
     "metadata": {},
     "output_type": "display_data"
    },
    {
     "name": "stdout",
     "output_type": "stream",
     "text": [
      "\n"
     ]
    },
    {
     "data": {
      "application/vnd.jupyter.widget-view+json": {
       "model_id": "f3ceddb7f2874ac68d53ff09987ae964",
       "version_major": 2,
       "version_minor": 0
      },
      "text/plain": [
       "HBox(children=(FloatProgress(value=0.0, max=44.0), HTML(value='')))"
      ]
     },
     "metadata": {},
     "output_type": "display_data"
    },
    {
     "name": "stdout",
     "output_type": "stream",
     "text": [
      "\n"
     ]
    },
    {
     "data": {
      "application/vnd.jupyter.widget-view+json": {
       "model_id": "afedad0ed6c5417b9407f9646fb1f749",
       "version_major": 2,
       "version_minor": 0
      },
      "text/plain": [
       "HBox(children=(FloatProgress(value=0.0, max=44.0), HTML(value='')))"
      ]
     },
     "metadata": {},
     "output_type": "display_data"
    },
    {
     "name": "stdout",
     "output_type": "stream",
     "text": [
      "\n"
     ]
    },
    {
     "data": {
      "application/vnd.jupyter.widget-view+json": {
       "model_id": "9bd2c8da823d4b7bb7f74c3ffacddac7",
       "version_major": 2,
       "version_minor": 0
      },
      "text/plain": [
       "HBox(children=(FloatProgress(value=0.0, max=44.0), HTML(value='')))"
      ]
     },
     "metadata": {},
     "output_type": "display_data"
    },
    {
     "name": "stdout",
     "output_type": "stream",
     "text": [
      "\n"
     ]
    },
    {
     "data": {
      "application/vnd.jupyter.widget-view+json": {
       "model_id": "24ebdad0f8bc409399130a0691eb5152",
       "version_major": 2,
       "version_minor": 0
      },
      "text/plain": [
       "HBox(children=(FloatProgress(value=0.0, max=44.0), HTML(value='')))"
      ]
     },
     "metadata": {},
     "output_type": "display_data"
    },
    {
     "name": "stdout",
     "output_type": "stream",
     "text": [
      "\n"
     ]
    },
    {
     "data": {
      "application/vnd.jupyter.widget-view+json": {
       "model_id": "2a9ddfed49f84ccb801ef2db02778c73",
       "version_major": 2,
       "version_minor": 0
      },
      "text/plain": [
       "HBox(children=(FloatProgress(value=0.0, max=44.0), HTML(value='')))"
      ]
     },
     "metadata": {},
     "output_type": "display_data"
    },
    {
     "name": "stdout",
     "output_type": "stream",
     "text": [
      "\n"
     ]
    },
    {
     "data": {
      "application/vnd.jupyter.widget-view+json": {
       "model_id": "09d970bc72a640929aeb0cd3422a0480",
       "version_major": 2,
       "version_minor": 0
      },
      "text/plain": [
       "HBox(children=(FloatProgress(value=0.0, max=44.0), HTML(value='')))"
      ]
     },
     "metadata": {},
     "output_type": "display_data"
    },
    {
     "name": "stdout",
     "output_type": "stream",
     "text": [
      "\n"
     ]
    },
    {
     "data": {
      "application/vnd.jupyter.widget-view+json": {
       "model_id": "7e0ea55247364047b8cbba706d8559b0",
       "version_major": 2,
       "version_minor": 0
      },
      "text/plain": [
       "HBox(children=(FloatProgress(value=0.0, max=44.0), HTML(value='')))"
      ]
     },
     "metadata": {},
     "output_type": "display_data"
    },
    {
     "name": "stdout",
     "output_type": "stream",
     "text": [
      "\n"
     ]
    },
    {
     "data": {
      "application/vnd.jupyter.widget-view+json": {
       "model_id": "f5b8533bbba146929dd890615c9f4d0d",
       "version_major": 2,
       "version_minor": 0
      },
      "text/plain": [
       "HBox(children=(FloatProgress(value=0.0, max=44.0), HTML(value='')))"
      ]
     },
     "metadata": {},
     "output_type": "display_data"
    },
    {
     "name": "stdout",
     "output_type": "stream",
     "text": [
      "\n"
     ]
    },
    {
     "data": {
      "application/vnd.jupyter.widget-view+json": {
       "model_id": "71252f9130784926ae19752798eecf14",
       "version_major": 2,
       "version_minor": 0
      },
      "text/plain": [
       "HBox(children=(FloatProgress(value=0.0, max=44.0), HTML(value='')))"
      ]
     },
     "metadata": {},
     "output_type": "display_data"
    },
    {
     "name": "stdout",
     "output_type": "stream",
     "text": [
      "\n"
     ]
    },
    {
     "data": {
      "application/vnd.jupyter.widget-view+json": {
       "model_id": "6c388514865c454fab9b1ddf42a20640",
       "version_major": 2,
       "version_minor": 0
      },
      "text/plain": [
       "HBox(children=(FloatProgress(value=0.0, max=44.0), HTML(value='')))"
      ]
     },
     "metadata": {},
     "output_type": "display_data"
    },
    {
     "name": "stdout",
     "output_type": "stream",
     "text": [
      "\n"
     ]
    },
    {
     "data": {
      "application/vnd.jupyter.widget-view+json": {
       "model_id": "6b9d4d8fcc9c4c5687d9ce224c833825",
       "version_major": 2,
       "version_minor": 0
      },
      "text/plain": [
       "HBox(children=(FloatProgress(value=0.0, max=44.0), HTML(value='')))"
      ]
     },
     "metadata": {},
     "output_type": "display_data"
    },
    {
     "name": "stdout",
     "output_type": "stream",
     "text": [
      "\n"
     ]
    },
    {
     "data": {
      "application/vnd.jupyter.widget-view+json": {
       "model_id": "c47dc7e92e6b4f988085b68a48f24533",
       "version_major": 2,
       "version_minor": 0
      },
      "text/plain": [
       "HBox(children=(FloatProgress(value=0.0, max=44.0), HTML(value='')))"
      ]
     },
     "metadata": {},
     "output_type": "display_data"
    },
    {
     "name": "stdout",
     "output_type": "stream",
     "text": [
      "\n"
     ]
    },
    {
     "data": {
      "application/vnd.jupyter.widget-view+json": {
       "model_id": "6de6f706da1847acb9a272f20decb396",
       "version_major": 2,
       "version_minor": 0
      },
      "text/plain": [
       "HBox(children=(FloatProgress(value=0.0, max=44.0), HTML(value='')))"
      ]
     },
     "metadata": {},
     "output_type": "display_data"
    },
    {
     "name": "stdout",
     "output_type": "stream",
     "text": [
      "\n"
     ]
    },
    {
     "data": {
      "application/vnd.jupyter.widget-view+json": {
       "model_id": "e6f3f2aa18434a00bd0a1e450dee88c7",
       "version_major": 2,
       "version_minor": 0
      },
      "text/plain": [
       "HBox(children=(FloatProgress(value=0.0, max=44.0), HTML(value='')))"
      ]
     },
     "metadata": {},
     "output_type": "display_data"
    },
    {
     "name": "stdout",
     "output_type": "stream",
     "text": [
      "\n"
     ]
    },
    {
     "data": {
      "application/vnd.jupyter.widget-view+json": {
       "model_id": "16fc1f1c69114a6bba7a6a65e0bf2699",
       "version_major": 2,
       "version_minor": 0
      },
      "text/plain": [
       "HBox(children=(FloatProgress(value=0.0, max=44.0), HTML(value='')))"
      ]
     },
     "metadata": {},
     "output_type": "display_data"
    },
    {
     "name": "stdout",
     "output_type": "stream",
     "text": [
      "\n"
     ]
    },
    {
     "data": {
      "application/vnd.jupyter.widget-view+json": {
       "model_id": "ffa5bb1141b3456ab4de0e8695b60012",
       "version_major": 2,
       "version_minor": 0
      },
      "text/plain": [
       "HBox(children=(FloatProgress(value=0.0, max=44.0), HTML(value='')))"
      ]
     },
     "metadata": {},
     "output_type": "display_data"
    },
    {
     "name": "stdout",
     "output_type": "stream",
     "text": [
      "\n"
     ]
    },
    {
     "data": {
      "application/vnd.jupyter.widget-view+json": {
       "model_id": "9a629ddb168e422ea9b88e57b64abce9",
       "version_major": 2,
       "version_minor": 0
      },
      "text/plain": [
       "HBox(children=(FloatProgress(value=0.0, max=44.0), HTML(value='')))"
      ]
     },
     "metadata": {},
     "output_type": "display_data"
    },
    {
     "name": "stdout",
     "output_type": "stream",
     "text": [
      "\n"
     ]
    },
    {
     "data": {
      "application/vnd.jupyter.widget-view+json": {
       "model_id": "199e7569b8914792abee80a89771c72a",
       "version_major": 2,
       "version_minor": 0
      },
      "text/plain": [
       "HBox(children=(FloatProgress(value=0.0, max=44.0), HTML(value='')))"
      ]
     },
     "metadata": {},
     "output_type": "display_data"
    },
    {
     "name": "stdout",
     "output_type": "stream",
     "text": [
      "\n"
     ]
    },
    {
     "data": {
      "application/vnd.jupyter.widget-view+json": {
       "model_id": "3c54c5e71e2c4ee5876ce461f211507a",
       "version_major": 2,
       "version_minor": 0
      },
      "text/plain": [
       "HBox(children=(FloatProgress(value=0.0, max=44.0), HTML(value='')))"
      ]
     },
     "metadata": {},
     "output_type": "display_data"
    },
    {
     "name": "stdout",
     "output_type": "stream",
     "text": [
      "\n"
     ]
    },
    {
     "data": {
      "application/vnd.jupyter.widget-view+json": {
       "model_id": "d84f2fcefe9b4431bcfdac121c8571e1",
       "version_major": 2,
       "version_minor": 0
      },
      "text/plain": [
       "HBox(children=(FloatProgress(value=0.0, max=44.0), HTML(value='')))"
      ]
     },
     "metadata": {},
     "output_type": "display_data"
    },
    {
     "name": "stdout",
     "output_type": "stream",
     "text": [
      "\n"
     ]
    },
    {
     "data": {
      "application/vnd.jupyter.widget-view+json": {
       "model_id": "68c2746878d246ff9d944facea5f7c57",
       "version_major": 2,
       "version_minor": 0
      },
      "text/plain": [
       "HBox(children=(FloatProgress(value=0.0, max=44.0), HTML(value='')))"
      ]
     },
     "metadata": {},
     "output_type": "display_data"
    },
    {
     "name": "stdout",
     "output_type": "stream",
     "text": [
      "\n"
     ]
    },
    {
     "data": {
      "application/vnd.jupyter.widget-view+json": {
       "model_id": "857adec6a9f04291bec1e85133e2b4c7",
       "version_major": 2,
       "version_minor": 0
      },
      "text/plain": [
       "HBox(children=(FloatProgress(value=0.0, max=44.0), HTML(value='')))"
      ]
     },
     "metadata": {},
     "output_type": "display_data"
    },
    {
     "name": "stdout",
     "output_type": "stream",
     "text": [
      "\n"
     ]
    },
    {
     "data": {
      "application/vnd.jupyter.widget-view+json": {
       "model_id": "d4830f559db14fe7a939413385866b12",
       "version_major": 2,
       "version_minor": 0
      },
      "text/plain": [
       "HBox(children=(FloatProgress(value=0.0, max=44.0), HTML(value='')))"
      ]
     },
     "metadata": {},
     "output_type": "display_data"
    },
    {
     "name": "stdout",
     "output_type": "stream",
     "text": [
      "\n"
     ]
    },
    {
     "data": {
      "application/vnd.jupyter.widget-view+json": {
       "model_id": "1f389282cdb3423f88d61175575aec37",
       "version_major": 2,
       "version_minor": 0
      },
      "text/plain": [
       "HBox(children=(FloatProgress(value=0.0, max=44.0), HTML(value='')))"
      ]
     },
     "metadata": {},
     "output_type": "display_data"
    },
    {
     "name": "stdout",
     "output_type": "stream",
     "text": [
      "\n"
     ]
    },
    {
     "data": {
      "application/vnd.jupyter.widget-view+json": {
       "model_id": "21c17e4b829f49788ecf03d06818254a",
       "version_major": 2,
       "version_minor": 0
      },
      "text/plain": [
       "HBox(children=(FloatProgress(value=0.0, max=44.0), HTML(value='')))"
      ]
     },
     "metadata": {},
     "output_type": "display_data"
    },
    {
     "name": "stdout",
     "output_type": "stream",
     "text": [
      "\n"
     ]
    },
    {
     "data": {
      "application/vnd.jupyter.widget-view+json": {
       "model_id": "e3f76ccd253349d2a49249b3fd1d9b9a",
       "version_major": 2,
       "version_minor": 0
      },
      "text/plain": [
       "HBox(children=(FloatProgress(value=0.0, max=44.0), HTML(value='')))"
      ]
     },
     "metadata": {},
     "output_type": "display_data"
    },
    {
     "name": "stdout",
     "output_type": "stream",
     "text": [
      "\n"
     ]
    },
    {
     "data": {
      "application/vnd.jupyter.widget-view+json": {
       "model_id": "635a0a6bbee24f9193f682f2993ce25f",
       "version_major": 2,
       "version_minor": 0
      },
      "text/plain": [
       "HBox(children=(FloatProgress(value=0.0, max=44.0), HTML(value='')))"
      ]
     },
     "metadata": {},
     "output_type": "display_data"
    },
    {
     "name": "stdout",
     "output_type": "stream",
     "text": [
      "\n"
     ]
    },
    {
     "data": {
      "application/vnd.jupyter.widget-view+json": {
       "model_id": "06639ba71bc84bf79e79747858ae4bf8",
       "version_major": 2,
       "version_minor": 0
      },
      "text/plain": [
       "HBox(children=(FloatProgress(value=0.0, max=44.0), HTML(value='')))"
      ]
     },
     "metadata": {},
     "output_type": "display_data"
    },
    {
     "name": "stdout",
     "output_type": "stream",
     "text": [
      "\n"
     ]
    },
    {
     "data": {
      "application/vnd.jupyter.widget-view+json": {
       "model_id": "ba72b29838f44897b5dff1c71ef5fa73",
       "version_major": 2,
       "version_minor": 0
      },
      "text/plain": [
       "HBox(children=(FloatProgress(value=0.0, max=44.0), HTML(value='')))"
      ]
     },
     "metadata": {},
     "output_type": "display_data"
    },
    {
     "name": "stdout",
     "output_type": "stream",
     "text": [
      "\n"
     ]
    },
    {
     "data": {
      "application/vnd.jupyter.widget-view+json": {
       "model_id": "cce9cce4f5714d09bbdbd6acb914488c",
       "version_major": 2,
       "version_minor": 0
      },
      "text/plain": [
       "HBox(children=(FloatProgress(value=0.0, max=44.0), HTML(value='')))"
      ]
     },
     "metadata": {},
     "output_type": "display_data"
    },
    {
     "name": "stdout",
     "output_type": "stream",
     "text": [
      "\n",
      "\n"
     ]
    }
   ],
   "source": [
    "bestC,bestGAMMA = gridSearch()"
   ]
  },
  {
   "cell_type": "code",
   "execution_count": 18,
   "metadata": {},
   "outputs": [
    {
     "data": {
      "text/plain": [
       "(2.500000000000001, 0.05000000000000001)"
      ]
     },
     "execution_count": 18,
     "metadata": {},
     "output_type": "execute_result"
    }
   ],
   "source": [
    "bestC,bestGAMMA"
   ]
  },
  {
   "cell_type": "code",
   "execution_count": null,
   "metadata": {},
   "outputs": [],
   "source": []
  },
  {
   "cell_type": "code",
   "execution_count": null,
   "metadata": {},
   "outputs": [],
   "source": []
  },
  {
   "cell_type": "code",
   "execution_count": 145,
   "metadata": {},
   "outputs": [],
   "source": [
    "res = pd.read_csv('grid_pt2.csv')"
   ]
  },
  {
   "cell_type": "code",
   "execution_count": 146,
   "metadata": {},
   "outputs": [],
   "source": [
    "res = res[res['testAcc'] > 93]"
   ]
  },
  {
   "cell_type": "code",
   "execution_count": 147,
   "metadata": {},
   "outputs": [
    {
     "data": {
      "text/html": [
       "<div>\n",
       "<style scoped>\n",
       "    .dataframe tbody tr th:only-of-type {\n",
       "        vertical-align: middle;\n",
       "    }\n",
       "\n",
       "    .dataframe tbody tr th {\n",
       "        vertical-align: top;\n",
       "    }\n",
       "\n",
       "    .dataframe thead th {\n",
       "        text-align: right;\n",
       "    }\n",
       "</style>\n",
       "<table border=\"1\" class=\"dataframe\">\n",
       "  <thead>\n",
       "    <tr style=\"text-align: right;\">\n",
       "      <th></th>\n",
       "      <th>C</th>\n",
       "      <th>Gamma</th>\n",
       "      <th>testAcc</th>\n",
       "      <th>trainAcc</th>\n",
       "    </tr>\n",
       "  </thead>\n",
       "  <tbody>\n",
       "    <tr>\n",
       "      <th>231</th>\n",
       "      <td>0.35</td>\n",
       "      <td>0.0375</td>\n",
       "      <td>93.018750</td>\n",
       "      <td>96.4625</td>\n",
       "    </tr>\n",
       "    <tr>\n",
       "      <th>232</th>\n",
       "      <td>0.35</td>\n",
       "      <td>0.0400</td>\n",
       "      <td>93.093750</td>\n",
       "      <td>96.6125</td>\n",
       "    </tr>\n",
       "    <tr>\n",
       "      <th>233</th>\n",
       "      <td>0.35</td>\n",
       "      <td>0.0425</td>\n",
       "      <td>93.112500</td>\n",
       "      <td>96.7125</td>\n",
       "    </tr>\n",
       "    <tr>\n",
       "      <th>234</th>\n",
       "      <td>0.35</td>\n",
       "      <td>0.0450</td>\n",
       "      <td>93.134375</td>\n",
       "      <td>96.8250</td>\n",
       "    </tr>\n",
       "    <tr>\n",
       "      <th>235</th>\n",
       "      <td>0.35</td>\n",
       "      <td>0.0475</td>\n",
       "      <td>93.153125</td>\n",
       "      <td>96.9625</td>\n",
       "    </tr>\n",
       "  </tbody>\n",
       "</table>\n",
       "</div>"
      ],
      "text/plain": [
       "        C   Gamma    testAcc  trainAcc\n",
       "231  0.35  0.0375  93.018750   96.4625\n",
       "232  0.35  0.0400  93.093750   96.6125\n",
       "233  0.35  0.0425  93.112500   96.7125\n",
       "234  0.35  0.0450  93.134375   96.8250\n",
       "235  0.35  0.0475  93.153125   96.9625"
      ]
     },
     "execution_count": 147,
     "metadata": {},
     "output_type": "execute_result"
    }
   ],
   "source": [
    "res.head()"
   ]
  },
  {
   "cell_type": "code",
   "execution_count": 148,
   "metadata": {},
   "outputs": [],
   "source": [
    "res['Gamma']=np.array(round(res['Gamma'],5))\n",
    "res['C']=np.array(round(res['C'],5))"
   ]
  },
  {
   "cell_type": "code",
   "execution_count": 149,
   "metadata": {},
   "outputs": [],
   "source": [
    "res2 = res.pivot(index='C',columns = 'Gamma',values='testAcc')"
   ]
  },
  {
   "cell_type": "code",
   "execution_count": 150,
   "metadata": {},
   "outputs": [
    {
     "data": {
      "text/html": [
       "<div>\n",
       "<style scoped>\n",
       "    .dataframe tbody tr th:only-of-type {\n",
       "        vertical-align: middle;\n",
       "    }\n",
       "\n",
       "    .dataframe tbody tr th {\n",
       "        vertical-align: top;\n",
       "    }\n",
       "\n",
       "    .dataframe thead th {\n",
       "        text-align: right;\n",
       "    }\n",
       "</style>\n",
       "<table border=\"1\" class=\"dataframe\">\n",
       "  <thead>\n",
       "    <tr style=\"text-align: right;\">\n",
       "      <th>Gamma</th>\n",
       "      <th>0.0100</th>\n",
       "      <th>0.0125</th>\n",
       "      <th>0.0150</th>\n",
       "      <th>0.0175</th>\n",
       "      <th>0.0200</th>\n",
       "      <th>0.0225</th>\n",
       "      <th>0.0250</th>\n",
       "      <th>0.0275</th>\n",
       "      <th>0.0300</th>\n",
       "      <th>0.0325</th>\n",
       "      <th>...</th>\n",
       "      <th>0.0950</th>\n",
       "      <th>0.0975</th>\n",
       "      <th>0.1000</th>\n",
       "      <th>0.1025</th>\n",
       "      <th>0.1050</th>\n",
       "      <th>0.1075</th>\n",
       "      <th>0.1100</th>\n",
       "      <th>0.1125</th>\n",
       "      <th>0.1150</th>\n",
       "      <th>0.1175</th>\n",
       "    </tr>\n",
       "    <tr>\n",
       "      <th>C</th>\n",
       "      <th></th>\n",
       "      <th></th>\n",
       "      <th></th>\n",
       "      <th></th>\n",
       "      <th></th>\n",
       "      <th></th>\n",
       "      <th></th>\n",
       "      <th></th>\n",
       "      <th></th>\n",
       "      <th></th>\n",
       "      <th></th>\n",
       "      <th></th>\n",
       "      <th></th>\n",
       "      <th></th>\n",
       "      <th></th>\n",
       "      <th></th>\n",
       "      <th></th>\n",
       "      <th></th>\n",
       "      <th></th>\n",
       "      <th></th>\n",
       "      <th></th>\n",
       "    </tr>\n",
       "  </thead>\n",
       "  <tbody>\n",
       "    <tr>\n",
       "      <th>0.35</th>\n",
       "      <td>NaN</td>\n",
       "      <td>NaN</td>\n",
       "      <td>NaN</td>\n",
       "      <td>NaN</td>\n",
       "      <td>NaN</td>\n",
       "      <td>NaN</td>\n",
       "      <td>NaN</td>\n",
       "      <td>NaN</td>\n",
       "      <td>NaN</td>\n",
       "      <td>NaN</td>\n",
       "      <td>...</td>\n",
       "      <td>NaN</td>\n",
       "      <td>NaN</td>\n",
       "      <td>NaN</td>\n",
       "      <td>NaN</td>\n",
       "      <td>NaN</td>\n",
       "      <td>NaN</td>\n",
       "      <td>NaN</td>\n",
       "      <td>NaN</td>\n",
       "      <td>NaN</td>\n",
       "      <td>NaN</td>\n",
       "    </tr>\n",
       "    <tr>\n",
       "      <th>0.40</th>\n",
       "      <td>NaN</td>\n",
       "      <td>NaN</td>\n",
       "      <td>NaN</td>\n",
       "      <td>NaN</td>\n",
       "      <td>NaN</td>\n",
       "      <td>NaN</td>\n",
       "      <td>NaN</td>\n",
       "      <td>NaN</td>\n",
       "      <td>NaN</td>\n",
       "      <td>93.090625</td>\n",
       "      <td>...</td>\n",
       "      <td>NaN</td>\n",
       "      <td>NaN</td>\n",
       "      <td>NaN</td>\n",
       "      <td>NaN</td>\n",
       "      <td>NaN</td>\n",
       "      <td>NaN</td>\n",
       "      <td>NaN</td>\n",
       "      <td>NaN</td>\n",
       "      <td>NaN</td>\n",
       "      <td>NaN</td>\n",
       "    </tr>\n",
       "    <tr>\n",
       "      <th>0.45</th>\n",
       "      <td>NaN</td>\n",
       "      <td>NaN</td>\n",
       "      <td>NaN</td>\n",
       "      <td>NaN</td>\n",
       "      <td>NaN</td>\n",
       "      <td>NaN</td>\n",
       "      <td>NaN</td>\n",
       "      <td>NaN</td>\n",
       "      <td>93.165625</td>\n",
       "      <td>93.243750</td>\n",
       "      <td>...</td>\n",
       "      <td>NaN</td>\n",
       "      <td>NaN</td>\n",
       "      <td>NaN</td>\n",
       "      <td>NaN</td>\n",
       "      <td>NaN</td>\n",
       "      <td>NaN</td>\n",
       "      <td>NaN</td>\n",
       "      <td>NaN</td>\n",
       "      <td>NaN</td>\n",
       "      <td>NaN</td>\n",
       "    </tr>\n",
       "    <tr>\n",
       "      <th>0.50</th>\n",
       "      <td>NaN</td>\n",
       "      <td>NaN</td>\n",
       "      <td>NaN</td>\n",
       "      <td>NaN</td>\n",
       "      <td>NaN</td>\n",
       "      <td>NaN</td>\n",
       "      <td>93.012500</td>\n",
       "      <td>93.206250</td>\n",
       "      <td>93.340625</td>\n",
       "      <td>93.421875</td>\n",
       "      <td>...</td>\n",
       "      <td>NaN</td>\n",
       "      <td>NaN</td>\n",
       "      <td>NaN</td>\n",
       "      <td>NaN</td>\n",
       "      <td>NaN</td>\n",
       "      <td>NaN</td>\n",
       "      <td>NaN</td>\n",
       "      <td>NaN</td>\n",
       "      <td>NaN</td>\n",
       "      <td>NaN</td>\n",
       "    </tr>\n",
       "    <tr>\n",
       "      <th>0.55</th>\n",
       "      <td>NaN</td>\n",
       "      <td>NaN</td>\n",
       "      <td>NaN</td>\n",
       "      <td>NaN</td>\n",
       "      <td>NaN</td>\n",
       "      <td>NaN</td>\n",
       "      <td>93.190625</td>\n",
       "      <td>93.368750</td>\n",
       "      <td>93.481250</td>\n",
       "      <td>93.581250</td>\n",
       "      <td>...</td>\n",
       "      <td>NaN</td>\n",
       "      <td>NaN</td>\n",
       "      <td>NaN</td>\n",
       "      <td>NaN</td>\n",
       "      <td>NaN</td>\n",
       "      <td>NaN</td>\n",
       "      <td>NaN</td>\n",
       "      <td>NaN</td>\n",
       "      <td>NaN</td>\n",
       "      <td>NaN</td>\n",
       "    </tr>\n",
       "    <tr>\n",
       "      <th>...</th>\n",
       "      <td>...</td>\n",
       "      <td>...</td>\n",
       "      <td>...</td>\n",
       "      <td>...</td>\n",
       "      <td>...</td>\n",
       "      <td>...</td>\n",
       "      <td>...</td>\n",
       "      <td>...</td>\n",
       "      <td>...</td>\n",
       "      <td>...</td>\n",
       "      <td>...</td>\n",
       "      <td>...</td>\n",
       "      <td>...</td>\n",
       "      <td>...</td>\n",
       "      <td>...</td>\n",
       "      <td>...</td>\n",
       "      <td>...</td>\n",
       "      <td>...</td>\n",
       "      <td>...</td>\n",
       "      <td>...</td>\n",
       "      <td>...</td>\n",
       "    </tr>\n",
       "    <tr>\n",
       "      <th>3.80</th>\n",
       "      <td>93.450000</td>\n",
       "      <td>93.759375</td>\n",
       "      <td>94.021875</td>\n",
       "      <td>94.20625</td>\n",
       "      <td>94.325000</td>\n",
       "      <td>94.384375</td>\n",
       "      <td>94.471875</td>\n",
       "      <td>94.565625</td>\n",
       "      <td>94.631250</td>\n",
       "      <td>94.684375</td>\n",
       "      <td>...</td>\n",
       "      <td>94.29375</td>\n",
       "      <td>94.23125</td>\n",
       "      <td>94.15625</td>\n",
       "      <td>94.065625</td>\n",
       "      <td>93.98125</td>\n",
       "      <td>93.887500</td>\n",
       "      <td>93.778125</td>\n",
       "      <td>93.615625</td>\n",
       "      <td>93.481250</td>\n",
       "      <td>93.303125</td>\n",
       "    </tr>\n",
       "    <tr>\n",
       "      <th>3.85</th>\n",
       "      <td>93.453125</td>\n",
       "      <td>93.765625</td>\n",
       "      <td>94.025000</td>\n",
       "      <td>94.20000</td>\n",
       "      <td>94.328125</td>\n",
       "      <td>94.378125</td>\n",
       "      <td>94.468750</td>\n",
       "      <td>94.581250</td>\n",
       "      <td>94.628125</td>\n",
       "      <td>94.693750</td>\n",
       "      <td>...</td>\n",
       "      <td>94.29375</td>\n",
       "      <td>94.23125</td>\n",
       "      <td>94.15625</td>\n",
       "      <td>94.065625</td>\n",
       "      <td>93.98125</td>\n",
       "      <td>93.887500</td>\n",
       "      <td>93.778125</td>\n",
       "      <td>93.615625</td>\n",
       "      <td>93.481250</td>\n",
       "      <td>93.306250</td>\n",
       "    </tr>\n",
       "    <tr>\n",
       "      <th>3.90</th>\n",
       "      <td>93.434375</td>\n",
       "      <td>93.768750</td>\n",
       "      <td>94.028125</td>\n",
       "      <td>94.21875</td>\n",
       "      <td>94.325000</td>\n",
       "      <td>94.381250</td>\n",
       "      <td>94.471875</td>\n",
       "      <td>94.578125</td>\n",
       "      <td>94.625000</td>\n",
       "      <td>94.681250</td>\n",
       "      <td>...</td>\n",
       "      <td>94.29375</td>\n",
       "      <td>94.23125</td>\n",
       "      <td>94.15625</td>\n",
       "      <td>94.065625</td>\n",
       "      <td>93.98125</td>\n",
       "      <td>93.887500</td>\n",
       "      <td>93.778125</td>\n",
       "      <td>93.615625</td>\n",
       "      <td>93.481250</td>\n",
       "      <td>93.306250</td>\n",
       "    </tr>\n",
       "    <tr>\n",
       "      <th>3.95</th>\n",
       "      <td>93.434375</td>\n",
       "      <td>93.768750</td>\n",
       "      <td>94.031250</td>\n",
       "      <td>94.21250</td>\n",
       "      <td>94.318750</td>\n",
       "      <td>94.393750</td>\n",
       "      <td>94.465625</td>\n",
       "      <td>94.587500</td>\n",
       "      <td>94.631250</td>\n",
       "      <td>94.684375</td>\n",
       "      <td>...</td>\n",
       "      <td>94.29375</td>\n",
       "      <td>94.23125</td>\n",
       "      <td>94.15625</td>\n",
       "      <td>94.065625</td>\n",
       "      <td>93.98125</td>\n",
       "      <td>93.884375</td>\n",
       "      <td>93.778125</td>\n",
       "      <td>93.615625</td>\n",
       "      <td>93.481250</td>\n",
       "      <td>93.306250</td>\n",
       "    </tr>\n",
       "    <tr>\n",
       "      <th>4.00</th>\n",
       "      <td>93.418750</td>\n",
       "      <td>93.765625</td>\n",
       "      <td>94.028125</td>\n",
       "      <td>94.22500</td>\n",
       "      <td>94.321875</td>\n",
       "      <td>94.381250</td>\n",
       "      <td>94.443750</td>\n",
       "      <td>94.578125</td>\n",
       "      <td>94.637500</td>\n",
       "      <td>94.693750</td>\n",
       "      <td>...</td>\n",
       "      <td>94.29375</td>\n",
       "      <td>94.23125</td>\n",
       "      <td>94.15625</td>\n",
       "      <td>94.065625</td>\n",
       "      <td>93.98125</td>\n",
       "      <td>93.884375</td>\n",
       "      <td>93.778125</td>\n",
       "      <td>93.615625</td>\n",
       "      <td>93.484375</td>\n",
       "      <td>93.306250</td>\n",
       "    </tr>\n",
       "  </tbody>\n",
       "</table>\n",
       "<p>74 rows × 44 columns</p>\n",
       "</div>"
      ],
      "text/plain": [
       "Gamma     0.0100     0.0125     0.0150    0.0175     0.0200     0.0225  \\\n",
       "C                                                                        \n",
       "0.35         NaN        NaN        NaN       NaN        NaN        NaN   \n",
       "0.40         NaN        NaN        NaN       NaN        NaN        NaN   \n",
       "0.45         NaN        NaN        NaN       NaN        NaN        NaN   \n",
       "0.50         NaN        NaN        NaN       NaN        NaN        NaN   \n",
       "0.55         NaN        NaN        NaN       NaN        NaN        NaN   \n",
       "...          ...        ...        ...       ...        ...        ...   \n",
       "3.80   93.450000  93.759375  94.021875  94.20625  94.325000  94.384375   \n",
       "3.85   93.453125  93.765625  94.025000  94.20000  94.328125  94.378125   \n",
       "3.90   93.434375  93.768750  94.028125  94.21875  94.325000  94.381250   \n",
       "3.95   93.434375  93.768750  94.031250  94.21250  94.318750  94.393750   \n",
       "4.00   93.418750  93.765625  94.028125  94.22500  94.321875  94.381250   \n",
       "\n",
       "Gamma     0.0250     0.0275     0.0300     0.0325  ...    0.0950    0.0975  \\\n",
       "C                                                  ...                       \n",
       "0.35         NaN        NaN        NaN        NaN  ...       NaN       NaN   \n",
       "0.40         NaN        NaN        NaN  93.090625  ...       NaN       NaN   \n",
       "0.45         NaN        NaN  93.165625  93.243750  ...       NaN       NaN   \n",
       "0.50   93.012500  93.206250  93.340625  93.421875  ...       NaN       NaN   \n",
       "0.55   93.190625  93.368750  93.481250  93.581250  ...       NaN       NaN   \n",
       "...          ...        ...        ...        ...  ...       ...       ...   \n",
       "3.80   94.471875  94.565625  94.631250  94.684375  ...  94.29375  94.23125   \n",
       "3.85   94.468750  94.581250  94.628125  94.693750  ...  94.29375  94.23125   \n",
       "3.90   94.471875  94.578125  94.625000  94.681250  ...  94.29375  94.23125   \n",
       "3.95   94.465625  94.587500  94.631250  94.684375  ...  94.29375  94.23125   \n",
       "4.00   94.443750  94.578125  94.637500  94.693750  ...  94.29375  94.23125   \n",
       "\n",
       "Gamma    0.1000     0.1025    0.1050     0.1075     0.1100     0.1125  \\\n",
       "C                                                                       \n",
       "0.35        NaN        NaN       NaN        NaN        NaN        NaN   \n",
       "0.40        NaN        NaN       NaN        NaN        NaN        NaN   \n",
       "0.45        NaN        NaN       NaN        NaN        NaN        NaN   \n",
       "0.50        NaN        NaN       NaN        NaN        NaN        NaN   \n",
       "0.55        NaN        NaN       NaN        NaN        NaN        NaN   \n",
       "...         ...        ...       ...        ...        ...        ...   \n",
       "3.80   94.15625  94.065625  93.98125  93.887500  93.778125  93.615625   \n",
       "3.85   94.15625  94.065625  93.98125  93.887500  93.778125  93.615625   \n",
       "3.90   94.15625  94.065625  93.98125  93.887500  93.778125  93.615625   \n",
       "3.95   94.15625  94.065625  93.98125  93.884375  93.778125  93.615625   \n",
       "4.00   94.15625  94.065625  93.98125  93.884375  93.778125  93.615625   \n",
       "\n",
       "Gamma     0.1150     0.1175  \n",
       "C                            \n",
       "0.35         NaN        NaN  \n",
       "0.40         NaN        NaN  \n",
       "0.45         NaN        NaN  \n",
       "0.50         NaN        NaN  \n",
       "0.55         NaN        NaN  \n",
       "...          ...        ...  \n",
       "3.80   93.481250  93.303125  \n",
       "3.85   93.481250  93.306250  \n",
       "3.90   93.481250  93.306250  \n",
       "3.95   93.481250  93.306250  \n",
       "4.00   93.484375  93.306250  \n",
       "\n",
       "[74 rows x 44 columns]"
      ]
     },
     "execution_count": 150,
     "metadata": {},
     "output_type": "execute_result"
    }
   ],
   "source": [
    "res2"
   ]
  },
  {
   "cell_type": "code",
   "execution_count": 151,
   "metadata": {},
   "outputs": [
    {
     "data": {
      "image/png": "[encoded data removed]",
      "text/plain": [
       "<Figure size 432x288 with 2 Axes>"
      ]
     },
     "metadata": {},
     "output_type": "display_data"
    }
   ],
   "source": [
    "plt = sns.heatmap(res2,cmap=\"YlGnBu\")\n",
    "plt.figure.savefig('heatmap_pt2N.png',dpi=1200,bbox_inches='tight')"
   ]
  },
  {
   "cell_type": "code",
   "execution_count": null,
   "metadata": {},
   "outputs": [],
   "source": []
  },
  {
   "cell_type": "code",
   "execution_count": 98,
   "metadata": {},
   "outputs": [],
   "source": [
    "import matplotlib.pyplot as plt"
   ]
  },
  {
   "cell_type": "code",
   "execution_count": 96,
   "metadata": {},
   "outputs": [
    {
     "name": "stdout",
     "output_type": "stream",
     "text": [
      "1e-05 11.8 10.8875\n",
      "0.0001 11.8 10.8875\n",
      "0.001 68.8625 66.61875\n",
      "0.01 91.1875 89.240625\n",
      "0.1 96.25 92.25625\n",
      "1.0 99.7625 92.3375\n",
      "10.0 100.0 92.078125\n",
      "100.0 100.0 92.078125\n"
     ]
    }
   ],
   "source": [
    "KERNEL = \"POLY\"\n",
    "POWER = 2\n",
    "COEFF = 4\n",
    "train_acc_list = []\n",
    "test_acc_list = []\n",
    "for C in [1e-5,1e-4,1e-3,1e-2,1e-1,1e0,1e1,1e2]:\n",
    "    train_acc,test_acc = evaluateCrossEval(dataset_split)\n",
    "    print(C,train_acc,test_acc)\n",
    "    train_acc_list.append(train_acc)\n",
    "    test_acc_list.append(test_acc)"
   ]
  },
  {
   "cell_type": "code",
   "execution_count": 99,
   "metadata": {},
   "outputs": [
    {
     "data": {
      "image/png": "[encoded data removed]",
      "text/plain": [
       "<Figure size 432x288 with 1 Axes>"
      ]
     },
     "metadata": {},
     "output_type": "display_data"
    }
   ],
   "source": [
    "X = [-5,-4,-3,-2,-1,0,1,2]\n",
    "plt.plot(X,train_acc_list, label=\"Train Accuracy\")\n",
    "plt.plot(X,test_acc_list,label=\"Test Accuracy\")\n",
    "plt.xlabel('Log(C)')\n",
    "plt.ylabel('Accuracy')\n",
    "plt.title('Accuracy vs C (Polynomial Kernel)')\n",
    "plt.legend()\n",
    "plt.savefig('Plots/Accuracy vs C (Polynomial Kernel).png',dpi=1200)\n",
    "plt.show()"
   ]
  },
  {
   "cell_type": "code",
   "execution_count": 100,
   "metadata": {},
   "outputs": [
    {
     "name": "stdout",
     "output_type": "stream",
     "text": [
      "0 11.8 10.8875\n",
      "1 91.725 89.1875\n",
      "2 98.4125 92.48125\n",
      "3 99.9875 93.00625\n",
      "4 100.0 93.4875\n"
     ]
    }
   ],
   "source": [
    "train_acc_list = []\n",
    "test_acc_list = []\n",
    "C = 0.3\n",
    "for POWER in [0,1,2,3,4]:\n",
    "    train_acc,test_acc = evaluateCrossEval(dataset_split)\n",
    "    print(POWER,train_acc,test_acc)\n",
    "    train_acc_list.append(train_acc)\n",
    "    test_acc_list.append(test_acc)"
   ]
  },
  {
   "cell_type": "code",
   "execution_count": 101,
   "metadata": {},
   "outputs": [
    {
     "data": {
      "image/png": "[encoded data removed]",
      "text/plain": [
       "<Figure size 432x288 with 1 Axes>"
      ]
     },
     "metadata": {},
     "output_type": "display_data"
    }
   ],
   "source": [
    "X = [0,1,2,3,4]\n",
    "plt.plot(X,train_acc_list, label=\"Train Accuracy\")\n",
    "plt.plot(X,test_acc_list,label=\"Test Accuracy\")\n",
    "plt.xlabel('Degree')\n",
    "plt.ylabel('Accuracy')\n",
    "plt.title('Accuracy vs Degree (Polynomial Kernel)')\n",
    "plt.legend()\n",
    "plt.savefig('Plots/Accuracy vs Degree (Polynomial Kernel).png',dpi=1200)\n",
    "plt.show()"
   ]
  },
  {
   "cell_type": "code",
   "execution_count": 102,
   "metadata": {},
   "outputs": [
    {
     "name": "stdout",
     "output_type": "stream",
     "text": [
      "0 99.1875 93.815625\n",
      "0.5 99.75 94.690625\n",
      "1 99.875 94.371875\n",
      "1.5 99.9125 94.015625\n",
      "2 99.95 93.746875\n",
      "2.5 99.9625 93.565625\n",
      "3 99.975 93.384375\n",
      "3.5 99.9875 93.1625\n",
      "4 99.9875 93.00625\n"
     ]
    }
   ],
   "source": [
    "train_acc_list = []\n",
    "test_acc_list = []\n",
    "C = 0.3\n",
    "POWER = 3\n",
    "for COEFF in [0,0.5,1,1.5,2,2.5,3,3.5,4]:\n",
    "    train_acc,test_acc = evaluateCrossEval(dataset_split)\n",
    "    print(COEFF,train_acc,test_acc)\n",
    "    train_acc_list.append(train_acc)\n",
    "    test_acc_list.append(test_acc)"
   ]
  },
  {
   "cell_type": "code",
   "execution_count": 103,
   "metadata": {},
   "outputs": [
    {
     "data": {
      "image/png": "[encoded data removed]",
      "text/plain": [
       "<Figure size 432x288 with 1 Axes>"
      ]
     },
     "metadata": {},
     "output_type": "display_data"
    }
   ],
   "source": [
    "X = [0,0.5,1,1.5,2,2.5,3,3.5,4]\n",
    "plt.plot(X,train_acc_list, label=\"Train Accuracy\")\n",
    "plt.plot(X,test_acc_list,label=\"Test Accuracy\")\n",
    "plt.xlabel('Coefficient')\n",
    "plt.ylabel('Accuracy')\n",
    "plt.title('Accuracy vs Coefficient (Polynomial Kernel)')\n",
    "plt.legend()\n",
    "plt.savefig('Plots/Accuracy vs Coefficient (Polynomial Kernel).png',dpi=1200)\n",
    "plt.show()"
   ]
  },
  {
   "cell_type": "code",
   "execution_count": null,
   "metadata": {},
   "outputs": [],
   "source": []
  },
  {
   "cell_type": "code",
   "execution_count": 116,
   "metadata": {},
   "outputs": [],
   "source": [
    "def gridSearch():\n",
    "    global C\n",
    "    global POWER\n",
    "    global COEFF\n",
    "    global KERNEL\n",
    "    bestC, bestP, bestCoeff = 0,0,0\n",
    "    KERNEL = \"POLY\"\n",
    "    bestAcc = 0\n",
    "    for C in tqdm(np.arange(0.01,1,0.05)):\n",
    "        for POWER in [1,2,3,4]:\n",
    "            for COEFF in (np.arange(0,1.55,0.5)):\n",
    "                try:\n",
    "                    train_acc,test_acc = evaluateCrossEval(dataset_split)\n",
    "                    if test_acc>bestAcc:\n",
    "                        bestC = C\n",
    "                        bestP = POWER\n",
    "                        bestCoeff = COEFF\n",
    "                        bestAcc = test_acc\n",
    "                except:\n",
    "                    continue\n",
    "    return bestC, bestP, bestCoeff"
   ]
  },
  {
   "cell_type": "code",
   "execution_count": 117,
   "metadata": {},
   "outputs": [
    {
     "data": {
      "application/vnd.jupyter.widget-view+json": {
       "model_id": "1f3d043a65e24e558a7530133c1450c0",
       "version_major": 2,
       "version_minor": 0
      },
      "text/plain": [
       "HBox(children=(FloatProgress(value=0.0, max=20.0), HTML(value='')))"
      ]
     },
     "metadata": {},
     "output_type": "display_data"
    },
    {
     "name": "stdout",
     "output_type": "stream",
     "text": [
      "\n"
     ]
    }
   ],
   "source": [
    "bestC, bestP, bestCoeff = gridSearch()"
   ]
  },
  {
   "cell_type": "code",
   "execution_count": 118,
   "metadata": {},
   "outputs": [
    {
     "data": {
      "text/plain": [
       "(0.26, 3, 0.5)"
      ]
     },
     "execution_count": 118,
     "metadata": {},
     "output_type": "execute_result"
    }
   ],
   "source": [
    "bestC, bestP, bestCoeff"
   ]
  },
  {
   "cell_type": "code",
   "execution_count": null,
   "metadata": {},
   "outputs": [],
   "source": []
  },
  {
   "cell_type": "code",
   "execution_count": null,
   "metadata": {},
   "outputs": [],
   "source": []
  },
  {
   "cell_type": "code",
   "execution_count": null,
   "metadata": {},
   "outputs": [],
   "source": []
  },
  {
   "cell_type": "code",
   "execution_count": null,
   "metadata": {},
   "outputs": [],
   "source": []
  },
  {
   "cell_type": "code",
   "execution_count": 20,
   "metadata": {},
   "outputs": [],
   "source": [
    "def getTestData():\n",
    "    df = pd.read_csv('test_set.csv',header=None)\n",
    "    if BINARY_CLASSIFICATION:\n",
    "        df = df[(df[25] == C1) | (df[25] == C2)]\n",
    "    dataset = []\n",
    "    for i,row in df.iterrows():\n",
    "        xi = []\n",
    "        for j in range(0,NUM_FEATURES):\n",
    "            xi.append(row[j])\n",
    "        dataset.append(xi)\n",
    "    return dataset"
   ]
  },
  {
   "cell_type": "code",
   "execution_count": 119,
   "metadata": {},
   "outputs": [],
   "source": [
    "testData = getTestData()"
   ]
  },
  {
   "cell_type": "code",
   "execution_count": 120,
   "metadata": {},
   "outputs": [
    {
     "data": {
      "text/plain": [
       "(2000, 25)"
      ]
     },
     "execution_count": 120,
     "metadata": {},
     "output_type": "execute_result"
    }
   ],
   "source": [
    "np.array(testData).shape"
   ]
  },
  {
   "cell_type": "code",
   "execution_count": null,
   "metadata": {},
   "outputs": [],
   "source": []
  },
  {
   "cell_type": "code",
   "execution_count": 23,
   "metadata": {},
   "outputs": [],
   "source": [
    "KERNEL = \"RBF\"\n",
    "C = bestC\n",
    "GAMMA = bestGAMMA"
   ]
  },
  {
   "cell_type": "code",
   "execution_count": 121,
   "metadata": {},
   "outputs": [],
   "source": [
    "trainDS = dataset\n",
    "trainX = [train[:-1] for train in trainDS]\n",
    "trainY = [train[-1] for train in trainDS]"
   ]
  },
  {
   "cell_type": "code",
   "execution_count": 25,
   "metadata": {},
   "outputs": [],
   "source": [
    "prob = svm_problem(trainY,trainX)\n",
    "param = svm_parameter()\n",
    "kernel_string_map = {\n",
    "    'LINEAR': LINEAR,\n",
    "    'POLY': POLY,\n",
    "    'RBF': RBF\n",
    "}\n",
    "param.kernel_type = kernel_string_map[KERNEL]\n",
    "param.C = C\n",
    "param.gamma = GAMMA\n",
    "param.degree = POWER\n",
    "param.coef0 = COEFF\n",
    "m = svm_train(prob,param,'-q')\n",
    "t_label, t_acc, t_val = svm_predict(trainY, trainX, m,'-q')\n",
    "p_label, p_acc, p_val = svm_predict([], testData, m,'-q')"
   ]
  },
  {
   "cell_type": "code",
   "execution_count": 26,
   "metadata": {},
   "outputs": [
    {
     "data": {
      "text/plain": [
       "2000"
      ]
     },
     "execution_count": 26,
     "metadata": {},
     "output_type": "execute_result"
    }
   ],
   "source": [
    "len(p_label)"
   ]
  },
  {
   "cell_type": "code",
   "execution_count": 27,
   "metadata": {},
   "outputs": [],
   "source": [
    "Y_pred = np.array(p_label)\n",
    "with open('foo2.csv', 'w+') as f:\n",
    "  f.write('Id,Class\\n')\n",
    "  for i in range(Y_pred.shape[0]):\n",
    "    if i + 1 < 1000: \n",
    "      f.write('{},{:d}\\n'.format(str(i+1), int(Y_pred[i])))\n",
    "    else:\n",
    "      f.write('\\\"{:01d},{:03d}\\\",{:d}\\n'.format((i+1)//1000, (i+1)%1000, int(Y_pred[i])))"
   ]
  },
  {
   "cell_type": "code",
   "execution_count": null,
   "metadata": {},
   "outputs": [],
   "source": []
  },
  {
   "cell_type": "code",
   "execution_count": null,
   "metadata": {},
   "outputs": [],
   "source": []
  },
  {
   "cell_type": "code",
   "execution_count": null,
   "metadata": {},
   "outputs": [],
   "source": []
  },
  {
   "cell_type": "code",
   "execution_count": 122,
   "metadata": {},
   "outputs": [],
   "source": [
    "KERNEL = \"POLY\"\n",
    "C = bestC\n",
    "POWER = bestP\n",
    "COEFF = bestCoeff\n",
    "prob = svm_problem(trainY,trainX)\n",
    "param = svm_parameter()\n",
    "kernel_string_map = {\n",
    "    'LINEAR': LINEAR,\n",
    "    'POLY': POLY,\n",
    "    'RBF': RBF\n",
    "}\n",
    "param.kernel_type = kernel_string_map[KERNEL]\n",
    "param.C = C\n",
    "param.gamma = GAMMA\n",
    "param.degree = POWER\n",
    "param.coef0 = COEFF\n",
    "m = svm_train(prob,param,'-q')\n",
    "t_label, t_acc, t_val = svm_predict(trainY, trainX, m,'-q')\n",
    "p_label, p_acc, p_val = svm_predict([], testData, m,'-q')"
   ]
  },
  {
   "cell_type": "code",
   "execution_count": 123,
   "metadata": {},
   "outputs": [],
   "source": [
    "Y_pred = np.array(p_label)\n",
    "with open('foo3.csv', 'w+') as f:\n",
    "  f.write('Id,Class\\n')\n",
    "  for i in range(Y_pred.shape[0]):\n",
    "    if i + 1 < 1000: \n",
    "      f.write('{},{:d}\\n'.format(str(i+1), int(Y_pred[i])))\n",
    "    else:\n",
    "      f.write('\\\"{:01d},{:03d}\\\",{:d}\\n'.format((i+1)//1000, (i+1)%1000, int(Y_pred[i])))"
   ]
  },
  {
   "cell_type": "code",
   "execution_count": null,
   "metadata": {},
   "outputs": [],
   "source": []
  },
  {
   "cell_type": "code",
   "execution_count": null,
   "metadata": {},
   "outputs": [],
   "source": []
  },
  {
   "cell_type": "code",
   "execution_count": null,
   "metadata": {},
   "outputs": [],
   "source": []
  },
  {
   "cell_type": "code",
   "execution_count": null,
   "metadata": {},
   "outputs": [],
   "source": []
  },
  {
   "cell_type": "code",
   "execution_count": null,
   "metadata": {},
   "outputs": [],
   "source": []
  },
  {
   "cell_type": "code",
   "execution_count": 127,
   "metadata": {},
   "outputs": [
    {
     "data": {
      "text/plain": [
       "(8000, 26)"
      ]
     },
     "execution_count": 127,
     "metadata": {},
     "output_type": "execute_result"
    }
   ],
   "source": [
    "np.array(dataset).shape"
   ]
  },
  {
   "cell_type": "code",
   "execution_count": 137,
   "metadata": {},
   "outputs": [],
   "source": [
    "mp = {}\n",
    "for e in dataset:\n",
    "    label = e[25]\n",
    "    if label in mp:\n",
    "        mp[label] +=1\n",
    "    else:\n",
    "        mp[label] = 1"
   ]
  },
  {
   "cell_type": "code",
   "execution_count": 138,
   "metadata": {},
   "outputs": [
    {
     "data": {
      "text/plain": [
       "{2.0: 842,\n",
       " 3.0: 826,\n",
       " 8.0: 761,\n",
       " 1.0: 929,\n",
       " 0.0: 762,\n",
       " 5.0: 699,\n",
       " 7.0: 815,\n",
       " 9.0: 799,\n",
       " 6.0: 775,\n",
       " 4.0: 792}"
      ]
     },
     "execution_count": 138,
     "metadata": {},
     "output_type": "execute_result"
    }
   ],
   "source": [
    "mp"
   ]
  },
  {
   "cell_type": "code",
   "execution_count": null,
   "metadata": {},
   "outputs": [],
   "source": []
  }
 ],
 "metadata": {
  "kernelspec": {
   "display_name": "Python 3",
   "language": "python",
   "name": "python3"
  },
  "language_info": {
   "codemirror_mode": {
    "name": "ipython",
    "version": 3
   },
   "file_extension": ".py",
   "mimetype": "text/x-python",
   "name": "python",
   "nbconvert_exporter": "python",
   "pygments_lexer": "ipython3",
   "version": "3.7.6"
  }
 },
 "nbformat": 4,
 "nbformat_minor": 4
}
