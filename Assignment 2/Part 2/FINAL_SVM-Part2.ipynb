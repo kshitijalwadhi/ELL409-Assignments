{
 "cells": [
  {
   "cell_type": "code",
   "execution_count": 1,
   "metadata": {},
   "outputs": [],
   "source": [
    "import numpy as np\n",
    "import pandas as pd\n",
    "import random\n",
    "import cvxopt\n",
    "from cvxopt import matrix, solvers\n",
    "from cvxopt.modeling import variable\n",
    "from tqdm.notebook import tqdm\n",
    "from sklearn.svm import SVC\n",
    "from libsvm.svmutil import *\n",
    "from datetime import datetime"
   ]
  },
  {
   "cell_type": "code",
   "execution_count": 2,
   "metadata": {},
   "outputs": [],
   "source": [
    "SUBSET = 2000 # subset for tuning\n",
    "N_FOLDS = 10 # k-Fold cross validation\n",
    "NUM_FEATURES = 25 # <=25 for the given data\n",
    "MODE = 'LIBSVM' # 'LIBSVM', 'CVXOPT', 'SSMO'\n",
    "C1,C2 = 1,8 # Classes (0-9)\n",
    "KERNEL = 'LINEAR' # 'LINEAR', 'POLY', 'RBF'\n",
    "GAMMA = 0.001 # Gamma for RBF Kernel\n",
    "C = 3.0 # C for L1 regularization\n",
    "POWER = 2 # Power in Polynomial kernel\n",
    "COEFF = 4 # Coefficient in Polynomial kernel\n",
    "MAX_PASSES = 5 # Number of passes in SSMO\n",
    "TOLERANCE = 1e-3 # Tolerance for SSMO"
   ]
  },
  {
   "cell_type": "code",
   "execution_count": 3,
   "metadata": {},
   "outputs": [],
   "source": [
    "def getData(C1,C2):\n",
    "    #df = pd.read_csv('2019EE10577.csv',header=None)\n",
    "    #df = df[(df[25] == C1) | (df[25] == C2)]\n",
    "    df = pd.read_csv('train_set.csv',header=None)\n",
    "    dataset = []\n",
    "    for i,row in df.iterrows():\n",
    "        xi = []\n",
    "        for j in range(0,NUM_FEATURES+1):\n",
    "            xi.append(row[j])\n",
    "#         if(row[25]==C1):\n",
    "#             xi.append(-1.0)\n",
    "#         else:\n",
    "#             xi.append(1.0)\n",
    "        dataset.append(xi)\n",
    "    return dataset[:SUBSET]"
   ]
  },
  {
   "cell_type": "code",
   "execution_count": 4,
   "metadata": {},
   "outputs": [],
   "source": [
    "def cross_validation_split(dataset):\n",
    "    dataset_split = list()\n",
    "    dataset_copy = list(dataset)\n",
    "    fold_size = int(len(dataset) / N_FOLDS)\n",
    "    for i in range(N_FOLDS):\n",
    "        fold = list()\n",
    "        while len(fold) < fold_size:\n",
    "            index = random.randrange(len(dataset_copy))\n",
    "            fold.append(dataset_copy.pop(index))\n",
    "        dataset_split.append(fold)\n",
    "    return dataset_split"
   ]
  },
  {
   "cell_type": "code",
   "execution_count": 5,
   "metadata": {},
   "outputs": [],
   "source": [
    "dataset = getData(C1,C2)"
   ]
  },
  {
   "cell_type": "code",
   "execution_count": 6,
   "metadata": {},
   "outputs": [],
   "source": [
    "dataset_split = cross_validation_split(dataset)"
   ]
  },
  {
   "cell_type": "code",
   "execution_count": 7,
   "metadata": {},
   "outputs": [],
   "source": [
    "class SVM:\n",
    "    def __init__(self,mode='CVXOPT',kernel='LINEAR',C = 3.0,gamma = 0.001, power = 2, coeff = 4, max_passes = 5, tol=1e-3):\n",
    "        self.mode = mode\n",
    "        self.kernel = kernel\n",
    "        self.C = C\n",
    "        self.gamma = gamma\n",
    "        self.power = power\n",
    "        self.coeff = coeff\n",
    "        self.max_passes = max_passes\n",
    "        self.tol = tol\n",
    "    \n",
    "    def fit(self,X,y):\n",
    "        X = np.array(X)\n",
    "        y = np.array(y)\n",
    "        num_samples,num_features = X.shape\n",
    "        K = np.zeros((num_samples,num_samples))\n",
    "        \n",
    "        for i in (range(num_samples)):\n",
    "            for j in range(num_samples):\n",
    "                if self.kernel == 'LINEAR':\n",
    "                    K[i][j] = np.dot(X[i],np.transpose(X[j]))\n",
    "                elif self.kernel == 'POLY':\n",
    "                    K[i][j] = (np.dot(X[i],np.transpose(X[j])) + self.coeff) ** self.power\n",
    "                elif self.kernel == 'RBF':\n",
    "                    K[i][j] = np.exp(-1 * self.gamma*np.sum(np.square(X[i]-X[j])))\n",
    "        \n",
    "        self.K = K\n",
    "        \n",
    "        if self.mode == 'CVXOPT':\n",
    "            H = np.zeros((num_samples,num_samples))\n",
    "            for i in (range(num_samples)):\n",
    "                for j in range(num_samples):\n",
    "                    H[i][j] = y[i]*y[j] * K[i][j]\n",
    "            P = matrix(H)\n",
    "            q = matrix(np.ones(num_samples) * -1)\n",
    "            G = matrix(np.vstack(((np.identity(num_samples) * -1),np.identity(num_samples))))\n",
    "            h = matrix(np.hstack((np.zeros(num_samples),np.ones(num_samples)*self.C)))\n",
    "            A = matrix(y,(1,num_samples))\n",
    "            b = matrix(0.0)\n",
    "\n",
    "            solvers.options['show_progress'] = False\n",
    "            soln = solvers.qp(P,q,G,h,A,b)\n",
    "            alpha = np.array(soln['x']) \n",
    "\n",
    "            self.sup_idx = np.where(alpha>1e-5)[0]\n",
    "            self.ind =  np.arange(len(alpha))[self.sup_idx]\n",
    "\n",
    "            self.sup_x = X[self.sup_idx,:]\n",
    "            self.sup_y = y[self.sup_idx]\n",
    "            self.alpha = alpha[self.sup_idx]\n",
    "            self.b = self.sup_y[0]\n",
    "\n",
    "            for i in range(len(self.alpha)):\n",
    "                if self.kernel == 'LINEAR':\n",
    "                    temp = np.dot(self.sup_x[i],np.transpose(self.sup_x[0]))\n",
    "                elif self.kernel == 'POLY':\n",
    "                    temp = (np.dot(self.sup_x[i],np.transpose(self.sup_x[0]))+self.coeff)**self.power\n",
    "                elif self.kernel == 'RBF':\n",
    "                    temp = np.exp(-1 * self.gamma*np.sum(np.square(self.sup_x[i]-self.sup_x[0])))\n",
    "                self.b -= self.alpha[i] * self.sup_y[i] * temp\n",
    "        \n",
    "        elif self.mode == 'SSMO':\n",
    "            alpha = np.zeros((num_samples))\n",
    "            alpha_old = np.zeros((num_samples))\n",
    "            E = np.zeros((num_samples))\n",
    "            b = 0\n",
    "            passes = 0\n",
    "            while(passes<self.max_passes):\n",
    "                num_changed_alpha = 0\n",
    "                for i in range(num_samples):\n",
    "                    E[i] = np.sum(alpha * y * self.K[:,i]) + b - y[i]\n",
    "\n",
    "                    if (y[i] * E[i] < -self.tol and alpha[i]<self.C) or (y[i] * E[i] > self.tol and alpha[i]>0):\n",
    "                        j = random.randint(0,num_samples-1)\n",
    "                        while j == i:\n",
    "                            j = random.randint(0,num_samples-1)\n",
    "\n",
    "                        E[j] = np.sum(alpha * y * self.K[:,j]) + b - y[j]\n",
    "                        alpha_old[i] = alpha[i]\n",
    "                        alpha_old[j] = alpha[j]\n",
    "\n",
    "                        if y[i] != y[j]:\n",
    "                            L = max(0,alpha[j] - alpha[i])\n",
    "                            H = min(self.C,self.C+alpha[j] - alpha[i])\n",
    "                        else:\n",
    "                            L = max(0,alpha[i]+alpha[j] - self.C)\n",
    "                            H = min(self.C,alpha[i] + alpha[j])\n",
    "\n",
    "                        if L==H:\n",
    "                            continue\n",
    "\n",
    "                        eta = 2* self.K[i][j] - self.K[i][i] - self.K[j][j]\n",
    "\n",
    "                        if eta>=0:\n",
    "                            continue\n",
    "\n",
    "                        alpha[j] = alpha[j] - y[j] * (E[i] - E[j])/eta\n",
    "\n",
    "                        if alpha[j]>H:\n",
    "                            alpha[j] = H\n",
    "                        elif alpha[j]<L:\n",
    "                            alpha[j] = L\n",
    "\n",
    "                        if abs(alpha[j] - alpha_old[j]) < 1e-5:\n",
    "                            continue\n",
    "\n",
    "                        alpha[i] = alpha[i] + y[i]* y[j] * (alpha_old[j] - alpha[j])\n",
    "\n",
    "                        b1 = b - E[i] - y[i] * (alpha[i] - alpha_old[i]) * self.K[i][i] \\\n",
    "                            - y[j] * (alpha[j] - alpha_old[j]) * self.K[i][j]\n",
    "                        b2 = b - E[j] - y[i] * (alpha[i] - alpha_old[i]) * self.K[i][j] \\\n",
    "                            - y[j] * (alpha[j] - alpha_old[j]) * self.K[j][j] \n",
    "\n",
    "                        if 0<alpha[i] and alpha[i] <self.C:\n",
    "                            b = b1\n",
    "                        elif 0<alpha[j] and alpha[j] < self.C:\n",
    "                            b = b2\n",
    "                        else:\n",
    "                            b = (b1+b2)/2\n",
    "\n",
    "                        num_changed_alpha +=1\n",
    "\n",
    "                if num_changed_alpha == 0:\n",
    "                    passes+=1\n",
    "                else:\n",
    "                    passes=0\n",
    "\n",
    "            self.b = b\n",
    "            self.sup_idx = np.where(alpha>0)[0]\n",
    "            self.sup_x = X[self.sup_idx,:]\n",
    "            self.sup_y = y[self.sup_idx]\n",
    "            self.alpha = alpha[self.sup_idx]\n",
    "            self.w = np.dot(alpha*y,X).T\n",
    "        \n",
    "    def predict(self,X):\n",
    "        preds = []\n",
    "        for x in X:\n",
    "            pred = 0\n",
    "            for i in range(len(self.alpha)):\n",
    "                if self.kernel == 'LINEAR':\n",
    "                    temp = np.dot(self.sup_x[i],np.transpose(x))\n",
    "                elif self.kernel == 'POLY':\n",
    "                    temp = (np.dot(self.sup_x[i],np.transpose(x)) + self.coeff) ** self.power\n",
    "                elif self.kernel == 'RBF':\n",
    "                    temp = np.exp(-1 * self.gamma *np.sum(np.square(self.sup_x[i]-x)))\n",
    "                pred += self.alpha[i] * self.sup_y[i] * temp\n",
    "            pred += self.b\n",
    "            if pred>=0:\n",
    "                preds.append(1.0)\n",
    "            else:\n",
    "                preds.append(-1.0)\n",
    "        return np.array(preds)"
   ]
  },
  {
   "cell_type": "code",
   "execution_count": 8,
   "metadata": {},
   "outputs": [],
   "source": [
    "def getAccuracy(preds,testY):\n",
    "    correct = 0\n",
    "    for i in range(len(testY)):\n",
    "        if preds[i] == testY[i]:\n",
    "            correct +=1\n",
    "    return correct/len(testY) * 100"
   ]
  },
  {
   "cell_type": "code",
   "execution_count": 9,
   "metadata": {},
   "outputs": [],
   "source": [
    "def evaluate(dataset_split):\n",
    "    train_acc_list = []\n",
    "    test_acc_list = []\n",
    "    for fold in (dataset_split):\n",
    "        trainDS = list(dataset_split)\n",
    "        trainDS.remove(fold)\n",
    "        trainDS = sum(trainDS,[])\n",
    "        testDS = list()\n",
    "        \n",
    "        for row in fold:\n",
    "            rowCopy = list(row)\n",
    "            testDS.append(rowCopy)\n",
    "        \n",
    "        trainX = [train[:-1] for train in trainDS]\n",
    "        trainY = [train[-1] for train in trainDS]\n",
    "        \n",
    "        testX = [test[:-1] for test in testDS]\n",
    "        testY = [test[-1] for test in testDS]\n",
    "        \n",
    "        if MODE == 'LIBSVM':\n",
    "            prob = svm_problem(trainY,trainX)\n",
    "            param = svm_parameter()\n",
    "            kernel_string_map = {\n",
    "                'LINEAR': LINEAR,\n",
    "                'POLY': POLY,\n",
    "                'RBF': RBF\n",
    "            }\n",
    "            param.kernel_type = kernel_string_map[KERNEL]\n",
    "            param.C = C\n",
    "            param.gamma = GAMMA\n",
    "            param.degree = POWER\n",
    "            param.coef0 = COEFF\n",
    "            m = svm_train(prob,param,'-q')\n",
    "            t_label, t_acc, t_val = svm_predict(trainY, trainX, m,'-q')\n",
    "            p_label, p_acc, p_val = svm_predict(testY, testX, m,'-q')\n",
    "            train_acc_list.append(t_acc[0])\n",
    "            test_acc_list.append(p_acc[0])\n",
    "        else:\n",
    "            cf = SVM(mode=MODE,kernel=KERNEL,gamma=GAMMA,C=C,power=POWER,coeff=COEFF,max_passes=MAX_PASSES,tol=TOLERANCE)\n",
    "            cf.fit(trainX,trainY)\n",
    "            \n",
    "            train_preds = cf.predict(trainX)\n",
    "            test_preds = cf.predict(testX)\n",
    "            \n",
    "            train_acc = getAccuracy(train_preds,trainY)\n",
    "            test_acc = getAccuracy(test_preds,testY)\n",
    "            test_acc_list.append(test_acc)\n",
    "        \n",
    "    return np.mean(train_acc_list),np.mean(test_acc_list)"
   ]
  },
  {
   "cell_type": "code",
   "execution_count": 10,
   "metadata": {},
   "outputs": [
    {
     "data": {
      "text/plain": [
       "(96.8111111111111, 87.05)"
      ]
     },
     "execution_count": 10,
     "metadata": {},
     "output_type": "execute_result"
    }
   ],
   "source": [
    "evaluate(dataset_split)"
   ]
  },
  {
   "cell_type": "code",
   "execution_count": null,
   "metadata": {},
   "outputs": [],
   "source": []
  },
  {
   "cell_type": "code",
   "execution_count": 17,
   "metadata": {},
   "outputs": [
    {
     "name": "stdout",
     "output_type": "stream",
     "text": [
      "0.5 98.74551971326164 97.90322580645162\n",
      "0.6 99.03225806451613 97.90322580645162\n",
      "0.7 99.49820788530467 98.06451612903226\n",
      "0.7999999999999999 99.51612903225808 98.06451612903226\n",
      "0.8999999999999999 99.51612903225808 98.2258064516129\n",
      "0.9999999999999999 99.51612903225808 98.2258064516129\n",
      "1.0999999999999999 99.51612903225808 98.06451612903226\n",
      "1.1999999999999997 99.51612903225808 98.06451612903226\n",
      "1.2999999999999998 99.51612903225808 98.06451612903226\n",
      "1.4 99.55197132616487 98.06451612903226\n",
      "1.4999999999999998 99.6415770609319 98.06451612903226\n",
      "1.5999999999999996 99.6594982078853 98.06451612903226\n",
      "1.6999999999999997 99.6774193548387 98.06451612903226\n",
      "1.7999999999999998 99.69534050179212 98.06451612903226\n",
      "1.8999999999999997 99.74910394265233 98.06451612903226\n"
     ]
    }
   ],
   "source": [
    "for C in np.arange(0.5,2,0.1):\n",
    "    train_acc,test_acc = evaluate(dataset_split)\n",
    "    print(C, train_acc,test_acc)"
   ]
  },
  {
   "cell_type": "code",
   "execution_count": 11,
   "metadata": {},
   "outputs": [
    {
     "name": "stdout",
     "output_type": "stream",
     "text": [
      "1e-05 50.94583333333333 50.075\n",
      "0.0001 87.71805555555555 87.2625\n",
      "0.001 91.85138888888889 91.0875\n",
      "0.01 97.62499999999999 95.9375\n",
      "0.1 100.0 96.8875\n"
     ]
    }
   ],
   "source": [
    "KERNEL = \"RBF\"\n",
    "for GAMMA in [1e-5,1e-4,1e-3,1e-2,1e-1]:\n",
    "    train_acc,test_acc = evaluate(dataset_split)\n",
    "    print(GAMMA, train_acc,test_acc)"
   ]
  },
  {
   "cell_type": "code",
   "execution_count": 12,
   "metadata": {},
   "outputs": [
    {
     "name": "stdout",
     "output_type": "stream",
     "text": [
      "0.5 100.0 60.225\n"
     ]
    }
   ],
   "source": [
    "GAMMA = 0.5\n",
    "train_acc,test_acc = evaluate(dataset_split)\n",
    "print(GAMMA, train_acc,test_acc)"
   ]
  },
  {
   "cell_type": "code",
   "execution_count": 16,
   "metadata": {},
   "outputs": [
    {
     "name": "stdout",
     "output_type": "stream",
     "text": [
      "0.1 99.19166666666666 96.425\n"
     ]
    }
   ],
   "source": [
    "C = 0.5\n",
    "GAMMA = 0.1\n",
    "train_acc,test_acc = evaluate(dataset_split)\n",
    "print(GAMMA, train_acc,test_acc)"
   ]
  },
  {
   "cell_type": "code",
   "execution_count": 22,
   "metadata": {},
   "outputs": [
    {
     "name": "stdout",
     "output_type": "stream",
     "text": [
      "0.1 93.00833333333334 91.4875\n",
      "0.30000000000000004 93.28888888888889 91.825\n",
      "0.5000000000000001 93.45 91.6875\n",
      "0.7000000000000001 93.53194444444445 91.6375\n",
      "0.9000000000000001 93.57777777777778 91.5875\n",
      "1.1000000000000003 93.65833333333333 91.575\n",
      "1.3000000000000003 93.69722222222222 91.625\n",
      "1.5000000000000004 93.74305555555557 91.55\n",
      "1.7000000000000004 93.75277777777777 91.6125\n",
      "1.9000000000000004 93.77638888888887 91.6375\n"
     ]
    }
   ],
   "source": [
    "KERNEL = \"LINEAR\"\n",
    "df = pd.DataFrame()\n",
    "for C in np.arange(0.1,2,0.2):\n",
    "    train_acc,test_acc = evaluate(dataset_split)\n",
    "    print(C,train_acc,test_acc)\n",
    "    df = df.append({\n",
    "        'train_acc':train_acc,\n",
    "        'test_acc':test_acc\n",
    "    },ignore_index=True)\n",
    "df.to_csv('linear.csv',index=False)"
   ]
  },
  {
   "cell_type": "code",
   "execution_count": 24,
   "metadata": {},
   "outputs": [
    {
     "ename": "KeyboardInterrupt",
     "evalue": "",
     "output_type": "error",
     "traceback": [
      "\u001b[1;31m---------------------------------------------------------------------------\u001b[0m",
      "\u001b[1;31mKeyboardInterrupt\u001b[0m                         Traceback (most recent call last)",
      "\u001b[1;32m<ipython-input-24-8ff079b960d1>\u001b[0m in \u001b[0;36m<module>\u001b[1;34m\u001b[0m\n\u001b[0;32m      4\u001b[0m     \u001b[1;32mfor\u001b[0m \u001b[0mPOWER\u001b[0m \u001b[1;32min\u001b[0m \u001b[1;33m[\u001b[0m\u001b[1;36m3\u001b[0m\u001b[1;33m,\u001b[0m\u001b[1;36m4\u001b[0m\u001b[1;33m,\u001b[0m\u001b[1;36m5\u001b[0m\u001b[1;33m,\u001b[0m\u001b[1;36m6\u001b[0m\u001b[1;33m]\u001b[0m\u001b[1;33m:\u001b[0m\u001b[1;33m\u001b[0m\u001b[1;33m\u001b[0m\u001b[0m\n\u001b[0;32m      5\u001b[0m         \u001b[1;32mfor\u001b[0m \u001b[0mCOEFF\u001b[0m \u001b[1;32min\u001b[0m \u001b[1;33m[\u001b[0m\u001b[1;36m0\u001b[0m\u001b[1;33m,\u001b[0m\u001b[1;36m1\u001b[0m\u001b[1;33m,\u001b[0m\u001b[1;36m2\u001b[0m\u001b[1;33m,\u001b[0m\u001b[1;36m3\u001b[0m\u001b[1;33m,\u001b[0m\u001b[1;36m4\u001b[0m\u001b[1;33m]\u001b[0m\u001b[1;33m:\u001b[0m\u001b[1;33m\u001b[0m\u001b[1;33m\u001b[0m\u001b[0m\n\u001b[1;32m----> 6\u001b[1;33m             \u001b[0mtrain_acc\u001b[0m\u001b[1;33m,\u001b[0m\u001b[0mtest_acc\u001b[0m \u001b[1;33m=\u001b[0m \u001b[0mevaluate\u001b[0m\u001b[1;33m(\u001b[0m\u001b[0mdataset_split\u001b[0m\u001b[1;33m)\u001b[0m\u001b[1;33m\u001b[0m\u001b[1;33m\u001b[0m\u001b[0m\n\u001b[0m\u001b[0;32m      7\u001b[0m             \u001b[0mprint\u001b[0m\u001b[1;33m(\u001b[0m\u001b[1;34mf'C: {C}, Power: {POWER}, COEFF: {COEFF}, train_acc = {train_acc}, test_acc = {test_acc}'\u001b[0m\u001b[1;33m)\u001b[0m\u001b[1;33m\u001b[0m\u001b[1;33m\u001b[0m\u001b[0m\n\u001b[0;32m      8\u001b[0m             df = df.append({\n",
      "\u001b[1;32m<ipython-input-9-8da0a1eec024>\u001b[0m in \u001b[0;36mevaluate\u001b[1;34m(dataset_split)\u001b[0m\n\u001b[0;32m     32\u001b[0m             \u001b[0mparam\u001b[0m\u001b[1;33m.\u001b[0m\u001b[0mcoef0\u001b[0m \u001b[1;33m=\u001b[0m \u001b[0mCOEFF\u001b[0m\u001b[1;33m\u001b[0m\u001b[1;33m\u001b[0m\u001b[0m\n\u001b[0;32m     33\u001b[0m             \u001b[0mm\u001b[0m \u001b[1;33m=\u001b[0m \u001b[0msvm_train\u001b[0m\u001b[1;33m(\u001b[0m\u001b[0mprob\u001b[0m\u001b[1;33m,\u001b[0m\u001b[0mparam\u001b[0m\u001b[1;33m,\u001b[0m\u001b[1;34m'-q'\u001b[0m\u001b[1;33m)\u001b[0m\u001b[1;33m\u001b[0m\u001b[1;33m\u001b[0m\u001b[0m\n\u001b[1;32m---> 34\u001b[1;33m             \u001b[0mt_label\u001b[0m\u001b[1;33m,\u001b[0m \u001b[0mt_acc\u001b[0m\u001b[1;33m,\u001b[0m \u001b[0mt_val\u001b[0m \u001b[1;33m=\u001b[0m \u001b[0msvm_predict\u001b[0m\u001b[1;33m(\u001b[0m\u001b[0mtrainY\u001b[0m\u001b[1;33m,\u001b[0m \u001b[0mtrainX\u001b[0m\u001b[1;33m,\u001b[0m \u001b[0mm\u001b[0m\u001b[1;33m,\u001b[0m\u001b[1;34m'-q'\u001b[0m\u001b[1;33m)\u001b[0m\u001b[1;33m\u001b[0m\u001b[1;33m\u001b[0m\u001b[0m\n\u001b[0m\u001b[0;32m     35\u001b[0m             \u001b[0mp_label\u001b[0m\u001b[1;33m,\u001b[0m \u001b[0mp_acc\u001b[0m\u001b[1;33m,\u001b[0m \u001b[0mp_val\u001b[0m \u001b[1;33m=\u001b[0m \u001b[0msvm_predict\u001b[0m\u001b[1;33m(\u001b[0m\u001b[0mtestY\u001b[0m\u001b[1;33m,\u001b[0m \u001b[0mtestX\u001b[0m\u001b[1;33m,\u001b[0m \u001b[0mm\u001b[0m\u001b[1;33m,\u001b[0m\u001b[1;34m'-q'\u001b[0m\u001b[1;33m)\u001b[0m\u001b[1;33m\u001b[0m\u001b[1;33m\u001b[0m\u001b[0m\n\u001b[0;32m     36\u001b[0m             \u001b[0mtrain_acc_list\u001b[0m\u001b[1;33m.\u001b[0m\u001b[0mappend\u001b[0m\u001b[1;33m(\u001b[0m\u001b[0mt_acc\u001b[0m\u001b[1;33m[\u001b[0m\u001b[1;36m0\u001b[0m\u001b[1;33m]\u001b[0m\u001b[1;33m)\u001b[0m\u001b[1;33m\u001b[0m\u001b[1;33m\u001b[0m\u001b[0m\n",
      "\u001b[1;32mc:\\users\\kshitij alwadhi\\appdata\\local\\programs\\python\\python37\\lib\\site-packages\\libsvm\\svmutil.py\u001b[0m in \u001b[0;36msvm_predict\u001b[1;34m(y, x, m, options)\u001b[0m\n\u001b[0;32m    239\u001b[0m             \u001b[1;32melse\u001b[0m\u001b[1;33m:\u001b[0m\u001b[1;33m\u001b[0m\u001b[1;33m\u001b[0m\u001b[0m\n\u001b[0;32m    240\u001b[0m                 \u001b[0mxi\u001b[0m\u001b[1;33m,\u001b[0m \u001b[0midx\u001b[0m \u001b[1;33m=\u001b[0m \u001b[0mgen_svm_nodearray\u001b[0m\u001b[1;33m(\u001b[0m\u001b[0mx\u001b[0m\u001b[1;33m[\u001b[0m\u001b[0mi\u001b[0m\u001b[1;33m]\u001b[0m\u001b[1;33m,\u001b[0m \u001b[0misKernel\u001b[0m\u001b[1;33m=\u001b[0m\u001b[1;33m(\u001b[0m\u001b[0mm\u001b[0m\u001b[1;33m.\u001b[0m\u001b[0mparam\u001b[0m\u001b[1;33m.\u001b[0m\u001b[0mkernel_type\u001b[0m \u001b[1;33m==\u001b[0m \u001b[0mPRECOMPUTED\u001b[0m\u001b[1;33m)\u001b[0m\u001b[1;33m)\u001b[0m\u001b[1;33m\u001b[0m\u001b[1;33m\u001b[0m\u001b[0m\n\u001b[1;32m--> 241\u001b[1;33m             \u001b[0mlabel\u001b[0m \u001b[1;33m=\u001b[0m \u001b[0mlibsvm\u001b[0m\u001b[1;33m.\u001b[0m\u001b[0msvm_predict_values\u001b[0m\u001b[1;33m(\u001b[0m\u001b[0mm\u001b[0m\u001b[1;33m,\u001b[0m \u001b[0mxi\u001b[0m\u001b[1;33m,\u001b[0m \u001b[0mdec_values\u001b[0m\u001b[1;33m)\u001b[0m\u001b[1;33m\u001b[0m\u001b[1;33m\u001b[0m\u001b[0m\n\u001b[0m\u001b[0;32m    242\u001b[0m             \u001b[1;32mif\u001b[0m\u001b[1;33m(\u001b[0m\u001b[0mnr_class\u001b[0m \u001b[1;33m==\u001b[0m \u001b[1;36m1\u001b[0m\u001b[1;33m)\u001b[0m\u001b[1;33m:\u001b[0m\u001b[1;33m\u001b[0m\u001b[1;33m\u001b[0m\u001b[0m\n\u001b[0;32m    243\u001b[0m                 \u001b[0mvalues\u001b[0m \u001b[1;33m=\u001b[0m \u001b[1;33m[\u001b[0m\u001b[1;36m1\u001b[0m\u001b[1;33m]\u001b[0m\u001b[1;33m\u001b[0m\u001b[1;33m\u001b[0m\u001b[0m\n",
      "\u001b[1;31mKeyboardInterrupt\u001b[0m: "
     ]
    }
   ],
   "source": [
    "KERNEL = \"POLY\"\n",
    "df = pd.DataFrame()\n",
    "for C in np.arange(0.1,1,0.1):\n",
    "    for POWER in [2,3,4]:\n",
    "        for COEFF in [0,1,2,3]:\n",
    "            train_acc,test_acc = evaluate(dataset_split)\n",
    "            print(f'C: {C}, Power: {POWER}, COEFF: {COEFF}, train_acc = {train_acc}, test_acc = {test_acc}')\n",
    "            df = df.append({\n",
    "                'train_acc':train_acc,\n",
    "                'test_acc':test_acc\n",
    "            },ignore_index=True)\n",
    "df.to_csv('poly.csv',index=False)"
   ]
  },
  {
   "cell_type": "code",
   "execution_count": 11,
   "metadata": {},
   "outputs": [
    {
     "name": "stdout",
     "output_type": "stream",
     "text": [
      "1e-05 12.45 12.45\n",
      "0.0001 72.61666666666666 70.3\n",
      "0.001 89.91666666666667 88.1\n",
      "0.01 96.89444444444445 93.35\n",
      "0.1 100.0 94.2\n",
      "0.1\n"
     ]
    }
   ],
   "source": [
    "KERNEL = \"RBF\"\n",
    "C = 2.55\n",
    "MODE = \"LIBSVM\"\n",
    "bestgamma, bestacc = 0,0\n",
    "for GAMMA in [1e-5,1e-4,1e-3,1e-2,1e-1]:\n",
    "    train_acc,test_acc = evaluate(dataset_split)\n",
    "    if test_acc>bestacc:\n",
    "        bestacc=  test_acc\n",
    "        bestgamma = GAMMA\n",
    "    print(GAMMA, train_acc,test_acc)\n",
    "print(bestgamma)"
   ]
  },
  {
   "cell_type": "code",
   "execution_count": null,
   "metadata": {},
   "outputs": [],
   "source": []
  },
  {
   "cell_type": "code",
   "execution_count": null,
   "metadata": {},
   "outputs": [],
   "source": []
  }
 ],
 "metadata": {
  "kernelspec": {
   "display_name": "Python 3",
   "language": "python",
   "name": "python3"
  },
  "language_info": {
   "codemirror_mode": {
    "name": "ipython",
    "version": 3
   },
   "file_extension": ".py",
   "mimetype": "text/x-python",
   "name": "python",
   "nbconvert_exporter": "python",
   "pygments_lexer": "ipython3",
   "version": "3.7.6"
  }
 },
 "nbformat": 4,
 "nbformat_minor": 4
}
