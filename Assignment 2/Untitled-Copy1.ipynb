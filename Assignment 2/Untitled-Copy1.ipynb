{
 "cells": [
  {
   "cell_type": "code",
   "execution_count": 11,
   "metadata": {},
   "outputs": [],
   "source": [
    "import numpy as np\n",
    "import pandas as pd\n",
    "import random\n",
    "import cvxopt\n",
    "from cvxopt import matrix, solvers\n",
    "from cvxopt.modeling import variable\n",
    "from tqdm.notebook import tqdm"
   ]
  },
  {
   "cell_type": "code",
   "execution_count": 4,
   "metadata": {},
   "outputs": [],
   "source": [
    "df = pd.read_csv('2019EE10577.csv',header=None)\n",
    "X = []\n",
    "y = []\n",
    "for i,row in df.iterrows():\n",
    "    xi = []\n",
    "    for j in range(0,25):\n",
    "        xi.append(row[j])\n",
    "    X.append(xi)\n",
    "    y.append(row[25])\n",
    "    if i == 499:\n",
    "        break"
   ]
  },
  {
   "cell_type": "code",
   "execution_count": 12,
   "metadata": {},
   "outputs": [],
   "source": [
    "def linear_kernel(x1, x2):\n",
    "    return np.dot(x1, x2)\n",
    "\n",
    "def polynomial_kernel(x, y, p=3):\n",
    "    return (1 + np.dot(x, y)) ** p\n",
    "\n",
    "def gaussian_kernel(x, y, sigma=5.0):\n",
    "    return np.exp(-linalg.norm(x-y)**2 / (2 * (sigma ** 2)))\n",
    "\n",
    "class SVM(object):\n",
    "\n",
    "    def __init__(self, kernel=linear_kernel, C=None):\n",
    "        self.kernel = kernel\n",
    "        self.C = C\n",
    "        if self.C is not None: self.C = float(self.C)\n",
    "\n",
    "    def fit(self, X, y):\n",
    "        n_samples, n_features = X.shape\n",
    "\n",
    "        # Gram matrix\n",
    "        K = np.zeros((n_samples, n_samples))\n",
    "        for i in range(n_samples):\n",
    "            for j in range(n_samples):\n",
    "                K[i,j] = self.kernel(X[i], X[j])\n",
    "\n",
    "        P = cvxopt.matrix(np.outer(y,y) * K)\n",
    "        q = cvxopt.matrix(np.ones(n_samples) * -1)\n",
    "        A = cvxopt.matrix(y, (1,n_samples))\n",
    "        b = cvxopt.matrix(0.0)\n",
    "\n",
    "        if self.C is None:\n",
    "            G = cvxopt.matrix(np.diag(np.ones(n_samples) * -1))\n",
    "            h = cvxopt.matrix(np.zeros(n_samples))\n",
    "        else:\n",
    "            tmp1 = np.diag(np.ones(n_samples) * -1)\n",
    "            tmp2 = np.identity(n_samples)\n",
    "            G = cvxopt.matrix(np.vstack((tmp1, tmp2)))\n",
    "            tmp1 = np.zeros(n_samples)\n",
    "            tmp2 = np.ones(n_samples) * self.C\n",
    "            h = cvxopt.matrix(np.hstack((tmp1, tmp2)))\n",
    "\n",
    "        # solve QP problem\n",
    "        solution = cvxopt.solvers.qp(P, q, G, h, A, b)\n",
    "\n",
    "        # Lagrange multipliers\n",
    "        a = np.ravel(solution['x'])\n",
    "\n",
    "        # Support vectors have non zero lagrange multipliers\n",
    "        sv = a > 1e-5\n",
    "        ind = np.arange(len(a))[sv]\n",
    "        self.a = a[sv]\n",
    "        self.sv = X[sv]\n",
    "        self.sv_y = y[sv]\n",
    "\n",
    "        # Intercept\n",
    "        self.b = 0\n",
    "        for n in range(len(self.a)):\n",
    "            self.b += self.sv_y[n]\n",
    "            self.b -= np.sum(self.a * self.sv_y * K[ind[n],sv])\n",
    "        self.b /= len(self.a)\n",
    "\n",
    "        # Weight vector\n",
    "        if self.kernel == linear_kernel:\n",
    "            self.w = np.zeros(n_features)\n",
    "            for n in range(len(self.a)):\n",
    "                self.w += self.a[n] * self.sv_y[n] * self.sv[n]\n",
    "        else:\n",
    "            self.w = None\n",
    "\n",
    "    def project(self, X):\n",
    "        if self.w is not None:\n",
    "            return np.dot(X, self.w) + self.b\n",
    "        else:\n",
    "            y_predict = np.zeros(len(X))\n",
    "            for i in range(len(X)):\n",
    "                s = 0\n",
    "                for a, sv_y, sv in zip(self.a, self.sv_y, self.sv):\n",
    "                    s += a * sv_y * self.kernel(X[i], sv)\n",
    "                y_predict[i] = s\n",
    "            return y_predict + self.b\n",
    "\n",
    "    def predict(self, X):\n",
    "        return np.sign(self.project(X))"
   ]
  },
  {
   "cell_type": "code",
   "execution_count": 13,
   "metadata": {},
   "outputs": [
    {
     "data": {
      "text/plain": [
       "(500, 25)"
      ]
     },
     "execution_count": 13,
     "metadata": {},
     "output_type": "execute_result"
    }
   ],
   "source": [
    "np.array(X).shape"
   ]
  },
  {
   "cell_type": "code",
   "execution_count": 27,
   "metadata": {},
   "outputs": [],
   "source": [
    "cf = SVM()"
   ]
  },
  {
   "cell_type": "code",
   "execution_count": 28,
   "metadata": {},
   "outputs": [
    {
     "name": "stdout",
     "output_type": "stream",
     "text": [
      "     pcost       dcost       gap    pres   dres\n",
      " 0: -1.1371e+02 -2.2743e+02  2e+03  4e+01  2e+00\n",
      " 1: -3.8373e+02 -3.8759e+02  9e+02  2e+01  1e+00\n",
      " 2: -3.3172e+04 -3.3176e+04  9e+02  2e+01  1e+00\n",
      " 3: -3.2791e+08 -3.2791e+08  1e+03  2e+01  1e+00\n",
      " 4: -3.2463e+14 -3.2463e+14  3e+06  2e+01  1e+00\n",
      " 5: -3.2139e+22 -3.2139e+22  3e+12  2e+01  1e+00\n",
      " 6: -3.1817e+32 -3.1817e+32  3e+20  7e+15  1e+00\n",
      " 7: -3.1498e+44 -3.1498e+44  3e+30  8e+27  1e+00\n",
      " 8: -3.0986e+58 -3.0986e+58  3e+42  2e+01  1e+00\n",
      " 9: -1.5311e+74 -1.5311e+74  2e+56  2e+01  1e+00\n",
      "10: -1.7596e+104 -1.7596e+104  2e+86  2e+01  1e+00\n",
      "11: -1.6943e+140 -1.6943e+140  2e+122  8e-01  3e-01\n",
      "12: -1.3880e+156 -1.3880e+156  1e+136 4e+139  3e-01\n",
      "13: -1.3313e+196 -1.3313e+196  1e+176  3e-02  3e-01\n",
      "14: -1.3313e+196 -1.3313e+196  1e+176  3e-02  3e-01\n",
      "15: -1.3313e+196 -1.3313e+196  1e+176  3e-02  3e-01\n",
      "16: -1.3313e+196 -1.3313e+196  1e+176  3e-02  3e-01\n",
      "17: -1.3313e+196 -1.3313e+196  1e+176  3e-02  3e-01\n",
      "18: -1.3313e+196 -1.3313e+196  1e+176  3e-02  3e-01\n",
      "19: -1.3313e+196 -1.3313e+196  1e+176  3e-02  3e-01\n",
      "20: -1.3313e+196 -1.3313e+196  1e+176  3e-02  3e-01\n",
      "21: -1.3313e+196 -1.3313e+196  1e+176  3e-02  3e-01\n",
      "22: -1.3313e+196 -1.3313e+196  1e+176  3e-02  3e-01\n",
      "23: -1.3313e+196 -1.3313e+196  1e+176  3e-02  3e-01\n",
      "24: -1.3313e+196 -1.3313e+196  1e+176  3e-02  3e-01\n",
      "25: -1.3313e+196 -1.3313e+196  1e+176  3e-02  3e-01\n",
      "26: -1.3313e+196 -1.3313e+196  1e+176  3e-02  3e-01\n",
      "27: -1.3313e+196 -1.3313e+196  1e+176  3e-02  3e-01\n",
      "28: -1.3313e+196 -1.3313e+196  1e+176  3e-02  3e-01\n",
      "29: -1.3313e+196 -1.3313e+196  1e+176  3e-02  3e-01\n",
      "30: -1.3313e+196 -1.3313e+196  1e+176  3e-02  3e-01\n",
      "31: -1.3313e+196 -1.3313e+196  1e+176  3e-02  3e-01\n",
      "32: -1.3313e+196 -1.3313e+196  1e+176  3e-02  3e-01\n",
      "33: -1.3313e+196 -1.3313e+196  1e+176  3e-02  3e-01\n",
      "34: -1.3313e+196 -1.3313e+196  1e+176  3e-02  3e-01\n",
      "35: -1.3313e+196 -1.3313e+196  1e+176  3e-02  3e-01\n",
      "36: -1.3313e+196 -1.3313e+196  1e+176  3e-02  3e-01\n",
      "37: -1.3313e+196 -1.3313e+196  1e+176  3e-02  3e-01\n",
      "38: -1.3313e+196 -1.3313e+196  1e+176  3e-02  7e-01\n",
      "39: -1.3313e+196 -1.3313e+196  1e+176  3e-02  2e+00\n",
      "40: -1.3313e+196 -1.3313e+196  1e+176  3e-02  1e+01\n",
      "41: -1.3313e+196 -1.3313e+196  1e+176  3e-02  2e+01\n",
      "42: -1.3313e+196 -1.3313e+196  1e+176  3e-02  9e+01\n",
      "43: -1.3313e+196 -1.3313e+196  1e+176  3e-02  3e+02\n",
      "44: -1.3313e+196 -1.3313e+196  1e+176  3e-02  1e+03\n",
      "45: -1.3313e+196 -1.3313e+196  1e+176  3e-02  3e+03\n",
      "46: -1.3313e+196 -1.3313e+196  1e+176  3e-02  2e+04\n",
      "47: -1.3313e+196 -1.3313e+196  1e+176  3e-02  5e+04\n",
      "48: -1.3313e+196 -1.3313e+196  1e+176  3e-02  3e+05\n",
      "49: -1.3313e+196 -1.3313e+196  1e+176  3e-02  1e+06\n",
      "50: -1.3313e+196 -1.3313e+196  1e+176  3e-02  4e+06\n",
      "51: -1.3313e+196 -1.3313e+196  1e+176  3e-02  2e+07\n",
      "52: -1.3313e+196 -1.3313e+196  1e+176  3e-02  8e+07\n",
      "53: -1.3313e+196 -1.3313e+196  1e+176  3e-02  2e+08\n",
      "54: -1.3313e+196 -1.3313e+196  1e+176  3e-02  1e+09\n",
      "55: -1.3313e+196 -1.3313e+196  1e+176  3e-02  3e+09\n",
      "56: -1.3313e+196 -1.3313e+196  1e+176  3e-02  3e+10\n",
      "57: -1.3313e+196 -1.3313e+196  1e+176  3e-02  4e+10\n",
      "58: -1.3313e+196 -1.3313e+196  1e+176  3e-02  3e+11\n",
      "59: -1.3313e+196 -1.3313e+196  1e+176  3e-02  1e+12\n",
      "60: -1.3313e+196 -1.3313e+196  1e+176  3e-02  5e+12\n",
      "61: -1.3313e+196 -1.3313e+196  1e+176  3e-02  1e+13\n",
      "62: -1.3313e+196 -1.3313e+196  1e+176  3e-02  9e+13\n",
      "63: -1.3313e+196 -1.3313e+196  1e+176  3e-02  5e+14\n",
      "64: -1.3313e+196 -1.3313e+196  1e+176  3e-02  1e+15\n",
      "65: -1.3313e+196 -1.3313e+196  1e+176  3e-02  7e+15\n",
      "66: -1.3313e+196 -1.3313e+196  1e+176  3e-02  2e+16\n",
      "67: -1.3313e+196 -1.3313e+196  1e+176  3e-02  1e+17\n",
      "68: -1.3313e+196 -1.3313e+196  1e+176  3e-02  4e+17\n",
      "69: -1.3313e+196 -1.3313e+196  1e+176  3e-02  1e+18\n",
      "70: -1.3313e+196 -1.3313e+196  1e+176  3e-02  6e+18\n",
      "71: -1.3313e+196 -1.3313e+196  1e+176  3e-02  2e+19\n",
      "72: -1.3313e+196 -1.3313e+196  1e+176  3e-02  8e+19\n",
      "73: -1.3313e+196 -1.3313e+196  1e+176  3e-02  2e+20\n",
      "74: -1.3313e+196 -1.3313e+196  1e+176  3e-02  2e+21\n",
      "75: -1.3313e+196 -1.3313e+196  1e+176  3e-02  8e+21\n",
      "76: -1.3313e+196 -1.3313e+196  1e+176  3e-02  4e+22\n",
      "77: -1.3313e+196 -1.3313e+196  1e+176  3e-02  1e+23\n",
      "78: -1.3313e+196 -1.3313e+196  1e+176  3e-02  5e+23\n",
      "79: -1.3313e+196 -1.3313e+196  1e+176  3e-02  2e+24\n",
      "80: -1.3313e+196 -1.3313e+196  1e+176  3e-02  8e+24\n",
      "81: -1.3313e+196 -1.3313e+196  1e+176  3e-02  2e+25\n",
      "82: -1.3313e+196 -1.3313e+196  1e+176  3e-02  1e+26\n",
      "83: -1.3313e+196 -1.3313e+196  1e+176  3e-02  3e+26\n",
      "84: -1.3313e+196 -1.3313e+196  1e+176  3e-02  2e+27\n",
      "85: -1.3313e+196 -1.3313e+196  1e+176  3e-02  5e+27\n",
      "86: -1.3313e+196 -1.3313e+196  1e+176  3e-02  4e+28\n",
      "87: -1.3313e+196 -1.3313e+196  1e+176  3e-02  8e+28\n",
      "88: -1.3313e+196 -1.3313e+196  1e+176  3e-02  6e+29\n",
      "89: -1.3313e+196 -1.3313e+196  1e+176  3e-02  1e+30\n",
      "90: -1.3313e+196 -1.3313e+196  1e+176  3e-02  8e+30\n",
      "91: -1.3313e+196 -1.3313e+196  1e+176  3e-02  2e+31\n",
      "92: -1.3313e+196 -1.3313e+196  1e+176  3e-02  1e+32\n",
      "93: -1.3313e+196 -1.3313e+196  1e+176  3e-02  3e+32\n",
      "94: -1.3313e+196 -1.3313e+196  1e+176  3e-02  2e+33\n",
      "95: -1.3313e+196 -1.3313e+196  1e+176  3e-02  1e+34\n",
      "96: -1.3313e+196 -1.3313e+196  1e+176  3e-02  4e+34\n",
      "97: -1.3313e+196 -1.3313e+196  1e+176  3e-02  7e+34\n",
      "98: -1.3313e+196 -1.3313e+196  1e+176  3e-02  5e+35\n",
      "99: -1.3313e+196 -1.3313e+196  1e+176  3e-02  1e+36\n",
      "100: -1.3313e+196 -1.3313e+196  1e+176  3e-02  9e+36\n",
      "Terminated (maximum number of iterations reached).\n"
     ]
    }
   ],
   "source": [
    "cf.fit(np.array(X),np.array(y))"
   ]
  },
  {
   "cell_type": "code",
   "execution_count": 29,
   "metadata": {},
   "outputs": [
    {
     "data": {
      "text/plain": [
       "array([4., 1., 0., 5., 2., 3., 5., 1., 1., 2., 0., 1., 3., 3., 4., 3., 3.,\n",
       "       4., 5., 1., 4., 2., 0., 2., 0., 1., 2., 2., 1., 2., 0., 4., 3., 0.,\n",
       "       2., 3., 2., 2., 0., 2., 0., 5., 1., 4., 0., 3., 5., 2., 2., 2., 1.,\n",
       "       0., 3., 3., 4., 4., 3., 4., 3., 0., 2., 5., 3., 5., 3., 1., 1., 3.,\n",
       "       4., 1., 1., 1., 3., 2., 3., 1., 2., 5., 4., 4., 0., 4., 1., 3., 3.,\n",
       "       3., 1., 0., 0., 4., 3., 4., 0., 3., 2., 0., 4., 3., 0., 5., 2., 2.,\n",
       "       3., 3., 2., 1., 3., 2., 1., 0., 1., 1., 3., 4., 3., 3., 5., 1., 4.,\n",
       "       5., 0., 3., 2., 0., 0., 3., 1., 3., 2., 1., 3., 3., 2., 2., 0., 1.,\n",
       "       4., 0., 3., 2., 3., 3., 4., 0., 3., 0., 1., 0., 3., 1., 3., 2., 3.,\n",
       "       1., 5., 2., 3., 1., 0., 1., 0., 1., 1., 3., 0., 1., 0., 3., 2., 1.,\n",
       "       1., 2., 4., 0., 1., 3., 4., 4., 4., 3., 3., 2., 1., 3., 1., 3., 0.,\n",
       "       2., 1., 5., 2., 3., 4., 3., 3., 3., 3., 2., 3., 3., 1., 2., 3., 0.,\n",
       "       1., 3., 0., 0., 1., 4., 1., 3., 0., 3., 2., 3., 4., 0., 3., 0., 0.,\n",
       "       2., 3., 2., 3., 4., 1., 3., 5., 0., 4., 5., 0., 4., 3., 5., 1., 3.,\n",
       "       1., 5., 1., 4., 5., 5., 4., 2., 5., 3., 4., 1., 5., 2., 3., 3., 1.,\n",
       "       4., 2., 0., 0., 4., 3., 5., 1., 3., 5., 0., 4., 1.])"
      ]
     },
     "execution_count": 29,
     "metadata": {},
     "output_type": "execute_result"
    }
   ],
   "source": [
    "cf.sv_y"
   ]
  },
  {
   "cell_type": "code",
   "execution_count": 16,
   "metadata": {},
   "outputs": [
    {
     "ename": "AttributeError",
     "evalue": "'SVM' object has no attribute 'sup_idx'",
     "output_type": "error",
     "traceback": [
      "\u001b[1;31m---------------------------------------------------------------------------\u001b[0m",
      "\u001b[1;31mAttributeError\u001b[0m                            Traceback (most recent call last)",
      "\u001b[1;32m<ipython-input-16-39638868ca74>\u001b[0m in \u001b[0;36m<module>\u001b[1;34m\u001b[0m\n\u001b[1;32m----> 1\u001b[1;33m \u001b[0mcf\u001b[0m\u001b[1;33m.\u001b[0m\u001b[0msup_idx\u001b[0m\u001b[1;33m\u001b[0m\u001b[1;33m\u001b[0m\u001b[0m\n\u001b[0m",
      "\u001b[1;31mAttributeError\u001b[0m: 'SVM' object has no attribute 'sup_idx'"
     ]
    }
   ],
   "source": [
    "cf.sup_idx"
   ]
  },
  {
   "cell_type": "code",
   "execution_count": null,
   "metadata": {},
   "outputs": [],
   "source": []
  }
 ],
 "metadata": {
  "kernelspec": {
   "display_name": "Python 3",
   "language": "python",
   "name": "python3"
  },
  "language_info": {
   "codemirror_mode": {
    "name": "ipython",
    "version": 3
   },
   "file_extension": ".py",
   "mimetype": "text/x-python",
   "name": "python",
   "nbconvert_exporter": "python",
   "pygments_lexer": "ipython3",
   "version": "3.7.6"
  }
 },
 "nbformat": 4,
 "nbformat_minor": 4
}
