{
 "cells": [
  {
   "cell_type": "code",
   "execution_count": 1,
   "metadata": {},
   "outputs": [],
   "source": [
    "import pandas as pd\n",
    "import numpy as np\n",
    "from cvxopt import matrix, solvers\n",
    "from cvxopt.modeling import variable\n",
    "from sklearn.svm import SVC"
   ]
  },
  {
   "cell_type": "code",
   "execution_count": 15,
   "metadata": {},
   "outputs": [],
   "source": [
    "data = pd.read_csv('2019EE10577.csv', header = None)\n",
    "\n",
    "t1 = 3\n",
    "t2 = 7\n",
    "num_f = 25\n",
    "train_ex = 550\n",
    "\n",
    "bin_data = data[(data[25] == t1) | (data[25] == t2)].sample(frac=1)\n",
    "X_bin = np.array(bin_data.loc[:,:num_f-1])\n",
    "t_bin = np.array(bin_data.loc[:,25])\n",
    "t_bin[t_bin == t1] = -1\n",
    "t_bin[t_bin==t2] = 1\n",
    "\n",
    "X_bin_train = X_bin[:train_ex]\n",
    "t_bin_train = t_bin[:train_ex]\n",
    "X_bin_val = X_bin[train_ex:]\n",
    "t_bin_val = t_bin[train_ex:]"
   ]
  },
  {
   "cell_type": "code",
   "execution_count": null,
   "metadata": {},
   "outputs": [],
   "source": []
  },
  {
   "cell_type": "code",
   "execution_count": 17,
   "metadata": {},
   "outputs": [
    {
     "name": "stdout",
     "output_type": "stream",
     "text": [
      "     pcost       dcost       gap    pres   dres\n",
      " 0: -4.9528e+01 -1.1100e+02  2e+03  2e+01  4e-16\n",
      " 1: -3.1886e+01 -9.9382e+01  1e+02  6e-01  4e-16\n",
      " 2: -2.8786e+01 -4.5140e+01  2e+01  1e-15  5e-16\n",
      " 3: -3.0766e+01 -3.3423e+01  3e+00  1e-15  3e-16\n",
      " 4: -3.1597e+01 -3.2178e+01  6e-01  3e-16  2e-16\n",
      " 5: -3.1824e+01 -3.1874e+01  5e-02  6e-16  3e-16\n",
      " 6: -3.1847e+01 -3.1849e+01  2e-03  7e-16  3e-16\n",
      " 7: -3.1848e+01 -3.1848e+01  6e-05  2e-16  3e-16\n",
      " 8: -3.1848e+01 -3.1848e+01  2e-06  3e-16  3e-16\n",
      "Optimal solution found.\n"
     ]
    }
   ],
   "source": [
    "ker = 'rbf'\n",
    "if ker is 'linear':\n",
    "    C = 0.01\n",
    "if ker is 'rbf':\n",
    "    C = 0.1\n",
    "    gamma = 0.1\n",
    "\n",
    "n_samples, n_features = X_bin_train.shape\n",
    "K = np.zeros((n_samples, n_samples))\n",
    "\n",
    "for i in range(n_samples):\n",
    "    for j in range(n_samples):\n",
    "        if ker is 'linear':\n",
    "            K[i,j] = np.dot(X_bin_train[i],np.transpose(X_bin_train[j]))\n",
    "        if ker is 'rbf':\n",
    "            K[i,j] = np.exp(-1*gamma*np.sum(np.square(X_bin_train[i]-X_bin_train[j])))\n",
    "\n",
    "P = matrix(np.outer(t_bin_train,t_bin_train) * K)\n",
    "q = matrix(np.ones(n_samples) * -1)\n",
    "A = matrix(t_bin_train, (1,n_samples))\n",
    "A = matrix(A,(1,n_samples),'d')\n",
    "b = matrix(0.0)\n",
    "G = matrix(np.vstack((np.diag(np.ones(n_samples) * -1), np.identity(n_samples))))\n",
    "h = matrix(np.hstack((np.zeros(n_samples), np.ones(n_samples) * C)))\n",
    "solution = solvers.qp(P, q, G, h, A, b)\n",
    "a = np.ravel(solution['x'])\n",
    "sv = a > 1e-5"
   ]
  },
  {
   "cell_type": "code",
   "execution_count": 18,
   "metadata": {},
   "outputs": [],
   "source": [
    "\n",
    "\n",
    "lm = a[sv]\n",
    "lm = lm.reshape(len(lm),1)\n",
    "sv_t = t_bin_train[sv]\n",
    "sv_t = sv_t.reshape(len(sv_t),1)\n",
    "sv_x = X_bin_train[sv]\n",
    "\n"
   ]
  },
  {
   "cell_type": "code",
   "execution_count": 19,
   "metadata": {},
   "outputs": [
    {
     "name": "stdout",
     "output_type": "stream",
     "text": [
      "w = [-30.48453053  88.72882281  29.2280091    8.51882917 -32.67431905\n",
      "  21.51407817  27.35737663  -6.2340093   -1.53189171   8.37425632\n",
      " -11.55679634 -21.14731712   9.28183891  -1.23713614  -4.27008555\n",
      "   4.24755615   5.53982768  -2.16756143   1.1195974    7.07656947\n",
      "  -1.72789216   5.02643467   0.96919255  -2.3020067    3.77825609]\n"
     ]
    }
   ],
   "source": [
    "w = np.sum(lm*sv_t*sv_x,axis=0)\n",
    "print('w =', w)"
   ]
  },
  {
   "cell_type": "code",
   "execution_count": 20,
   "metadata": {},
   "outputs": [
    {
     "name": "stdout",
     "output_type": "stream",
     "text": [
      "b = -8.609506062503877\n"
     ]
    }
   ],
   "source": [
    "b = np.mean(t_bin_train - np.dot(X_bin_train,w))\n",
    "print('b =', b)"
   ]
  },
  {
   "cell_type": "code",
   "execution_count": 21,
   "metadata": {},
   "outputs": [],
   "source": [
    "y_train = np.dot(X_bin_train,w) + b\n",
    "y_val = np.dot(X_bin_val,w)+b\n",
    "y_train[y_train<0] = -1\n",
    "y_train[y_train>=0] = 1\n",
    "y_val[y_val<0] = -1\n",
    "y_val[y_val>=0] = 1\n",
    "y_train = y_train.astype(int)\n",
    "y_val = y_val.astype(int)"
   ]
  },
  {
   "cell_type": "code",
   "execution_count": 22,
   "metadata": {},
   "outputs": [
    {
     "name": "stdout",
     "output_type": "stream",
     "text": [
      "Training score = 0.9618181818181818\n",
      "Validation score = 0.9923076923076923\n",
      "481 support vectors using CVXOPT: [0, 1, 2, 3, 4, 6, 7, 8, 9, 10, 11, 12, 13, 14, 15, 16, 17, 19, 20, 21, 22, 23, 24, 25, 26, 27, 28, 29, 30, 31, 32, 33, 34, 35, 37, 38, 39, 41, 42, 43, 44, 45, 46, 47, 48, 50, 51, 52, 53, 54, 55, 56, 57, 58, 59, 60, 61, 62, 64, 65, 66, 67, 68, 69, 70, 72, 73, 74, 75, 76, 80, 81, 82, 83, 85, 86, 88, 89, 90, 91, 92, 93, 94, 96, 97, 98, 99, 100, 101, 102, 103, 104, 105, 106, 107, 108, 109, 111, 112, 113, 114, 115, 116, 118, 119, 120, 121, 122, 123, 124, 125, 126, 127, 128, 129, 130, 131, 133, 134, 135, 136, 137, 138, 139, 140, 141, 142, 143, 144, 145, 146, 148, 149, 150, 151, 152, 153, 154, 155, 156, 157, 158, 159, 161, 162, 163, 164, 165, 166, 167, 169, 170, 171, 172, 173, 174, 175, 176, 177, 178, 179, 180, 181, 183, 186, 187, 188, 189, 190, 192, 193, 196, 198, 200, 202, 203, 204, 206, 207, 208, 209, 210, 211, 212, 214, 215, 216, 217, 218, 219, 220, 221, 223, 224, 225, 226, 227, 228, 229, 230, 231, 232, 233, 234, 235, 236, 237, 241, 242, 244, 247, 248, 249, 250, 251, 252, 254, 255, 256, 257, 258, 259, 260, 261, 262, 264, 265, 266, 268, 269, 270, 271, 272, 273, 274, 275, 276, 277, 278, 279, 280, 281, 282, 283, 284, 285, 286, 288, 289, 290, 291, 293, 294, 295, 296, 297, 298, 299, 300, 301, 302, 303, 304, 305, 306, 307, 308, 309, 310, 312, 313, 314, 315, 316, 317, 319, 320, 321, 322, 323, 324, 326, 327, 328, 330, 331, 332, 334, 335, 337, 339, 340, 341, 342, 343, 344, 345, 347, 348, 349, 350, 351, 352, 353, 354, 355, 356, 357, 358, 359, 360, 361, 362, 363, 365, 366, 367, 368, 369, 371, 372, 373, 374, 375, 376, 377, 378, 379, 380, 381, 382, 383, 384, 385, 386, 387, 388, 389, 390, 391, 392, 393, 394, 395, 396, 397, 398, 399, 401, 402, 403, 405, 406, 407, 408, 409, 410, 411, 413, 415, 416, 417, 418, 419, 420, 421, 422, 423, 424, 425, 426, 427, 429, 430, 431, 432, 433, 434, 435, 436, 437, 438, 439, 440, 441, 442, 443, 444, 445, 446, 447, 448, 449, 450, 451, 452, 453, 454, 455, 456, 458, 459, 460, 461, 463, 464, 465, 466, 469, 470, 471, 472, 475, 476, 477, 478, 479, 480, 482, 483, 484, 485, 486, 487, 488, 489, 490, 491, 492, 493, 494, 495, 497, 498, 499, 500, 501, 502, 504, 505, 506, 507, 508, 509, 510, 511, 512, 513, 514, 515, 516, 517, 518, 519, 520, 521, 522, 523, 524, 525, 526, 528, 529, 530, 531, 532, 533, 534, 535, 536, 537, 538, 539, 540, 542, 543, 544, 545, 547, 548, 549]\n"
     ]
    }
   ],
   "source": [
    "\n",
    "\n",
    "res1 = (y_train == t_bin_train)\n",
    "res2 = (y_val == t_bin_val)\n",
    "print('Training score =',(res1==True).sum()/len(res1))\n",
    "print('Validation score =',(res2==True).sum()/len(res2))\n",
    "print(str(len(sv_x))+' support vectors using CVXOPT:', np.where(sv==True)[0].tolist())\n",
    "\n"
   ]
  },
  {
   "cell_type": "code",
   "execution_count": 24,
   "metadata": {},
   "outputs": [
    {
     "name": "stdout",
     "output_type": "stream",
     "text": [
      "Training score using SVC = 0.9636363636363636\n",
      "Validation score using SVC = 0.9230769230769231\n",
      "478 support vectors using SVC: [0, 1, 2, 3, 4, 6, 7, 8, 9, 10, 11, 12, 13, 14, 15, 16, 17, 19, 20, 21, 22, 24, 25, 26, 27, 28, 29, 30, 31, 32, 33, 34, 35, 37, 38, 39, 41, 42, 43, 44, 45, 46, 47, 48, 50, 51, 52, 53, 54, 55, 56, 57, 58, 59, 60, 61, 62, 64, 65, 66, 67, 68, 69, 70, 72, 73, 74, 75, 76, 80, 81, 82, 83, 85, 86, 88, 89, 90, 91, 92, 93, 94, 96, 97, 98, 99, 100, 101, 102, 103, 104, 105, 106, 107, 108, 109, 111, 112, 113, 114, 115, 116, 118, 119, 120, 121, 122, 123, 124, 125, 126, 127, 128, 129, 130, 131, 133, 134, 135, 136, 137, 138, 139, 140, 141, 142, 143, 144, 145, 146, 148, 149, 150, 151, 152, 153, 154, 155, 156, 157, 158, 159, 161, 162, 163, 164, 165, 166, 167, 169, 170, 171, 172, 173, 174, 175, 176, 177, 178, 179, 180, 181, 183, 186, 187, 188, 189, 190, 192, 193, 196, 198, 200, 202, 203, 204, 206, 207, 208, 209, 210, 212, 214, 215, 216, 217, 218, 219, 220, 221, 223, 224, 225, 226, 227, 228, 229, 230, 231, 232, 233, 234, 235, 236, 237, 241, 242, 244, 247, 248, 249, 250, 251, 252, 254, 255, 256, 257, 258, 259, 260, 261, 262, 264, 265, 266, 268, 269, 270, 271, 272, 273, 274, 275, 276, 277, 278, 279, 280, 281, 282, 283, 284, 285, 288, 289, 290, 291, 293, 294, 295, 296, 297, 298, 299, 300, 301, 302, 303, 304, 305, 306, 307, 308, 309, 310, 312, 313, 314, 315, 316, 317, 319, 320, 321, 322, 323, 324, 326, 327, 328, 330, 331, 332, 334, 335, 337, 339, 340, 341, 342, 343, 344, 345, 347, 348, 349, 350, 351, 352, 353, 354, 355, 356, 357, 358, 359, 360, 361, 362, 363, 365, 366, 367, 368, 369, 371, 372, 373, 374, 375, 376, 377, 378, 379, 380, 381, 382, 383, 384, 385, 386, 387, 388, 389, 390, 391, 392, 393, 394, 395, 396, 397, 398, 399, 401, 402, 403, 405, 406, 407, 408, 409, 410, 411, 413, 415, 416, 417, 418, 419, 420, 421, 422, 423, 424, 425, 426, 427, 429, 430, 431, 432, 433, 434, 435, 436, 437, 438, 439, 440, 441, 442, 443, 444, 445, 446, 447, 448, 449, 450, 451, 452, 453, 454, 455, 456, 458, 459, 460, 461, 463, 464, 465, 466, 469, 470, 471, 472, 475, 476, 477, 478, 479, 480, 482, 483, 484, 485, 486, 487, 488, 489, 490, 491, 492, 493, 494, 495, 497, 498, 499, 500, 501, 502, 504, 505, 506, 507, 508, 509, 510, 511, 512, 513, 514, 515, 516, 517, 518, 519, 520, 521, 522, 523, 524, 525, 526, 528, 529, 530, 531, 532, 533, 534, 535, 536, 537, 538, 539, 540, 542, 543, 544, 545, 547, 548, 549]\n"
     ]
    }
   ],
   "source": [
    "if ker is 'linear':\n",
    "    s = SVC(kernel='linear',C = 1)\n",
    "if ker is 'rbf':\n",
    "    s = SVC(kernel='rbf', C=0.1, gamma=0.1)\n",
    "s.fit(X_bin_train,t_bin_train)\n",
    "print('Training score using SVC =',s.score(X_bin_train,t_bin_train))\n",
    "print('Validation score using SVC =',s.score(X_bin_val,t_bin_val))\n",
    "print(str(len(s.support_))+' support vectors using SVC:', sorted(s.support_))"
   ]
  },
  {
   "cell_type": "code",
   "execution_count": null,
   "metadata": {},
   "outputs": [],
   "source": []
  }
 ],
 "metadata": {
  "kernelspec": {
   "display_name": "Python 3",
   "language": "python",
   "name": "python3"
  },
  "language_info": {
   "codemirror_mode": {
    "name": "ipython",
    "version": 3
   },
   "file_extension": ".py",
   "mimetype": "text/x-python",
   "name": "python",
   "nbconvert_exporter": "python",
   "pygments_lexer": "ipython3",
   "version": "3.7.6"
  }
 },
 "nbformat": 4,
 "nbformat_minor": 4
}
