{
 "cells": [
  {
   "cell_type": "code",
   "execution_count": 269,
   "metadata": {},
   "outputs": [],
   "source": [
    "import numpy as np\n",
    "import pandas as pd\n",
    "import matplotlib.pyplot as plt\n",
    "from tqdm.notebook import tqdm\n",
    "import seaborn as sns\n",
    "import time\n",
    "sns.set_theme()\n",
    "import random\n",
    "random.seed(42)\n",
    "np.random.seed(42)"
   ]
  },
  {
   "cell_type": "code",
   "execution_count": 13,
   "metadata": {},
   "outputs": [],
   "source": [
    "df = pd.read_csv('2019EE10577.csv',header=None)"
   ]
  },
  {
   "cell_type": "code",
   "execution_count": 14,
   "metadata": {},
   "outputs": [],
   "source": [
    "NUM_FEATURES = 784"
   ]
  },
  {
   "cell_type": "code",
   "execution_count": 15,
   "metadata": {},
   "outputs": [],
   "source": [
    "def getData():\n",
    "    X,y = [],[]\n",
    "    for i,row in df.iterrows():\n",
    "        X.append(row[:NUM_FEATURES])\n",
    "        y.append(int(row[NUM_FEATURES]))\n",
    "    return X,y"
   ]
  },
  {
   "cell_type": "code",
   "execution_count": 123,
   "metadata": {},
   "outputs": [],
   "source": [
    "Xorig,Yorig = getData()"
   ]
  },
  {
   "cell_type": "code",
   "execution_count": 179,
   "metadata": {},
   "outputs": [],
   "source": [
    "def plot_acc(train_acc_list,test_acc_list):\n",
    "    xa = np.linspace(1,len(train_acc_list),len(train_acc_list),dtype=int)\n",
    "    plt.figure()\n",
    "    train_acc_list = np.array(train_acc_list) * 100\n",
    "    test_acc_list = np.array(test_acc_list) * 100\n",
    "    plt.plot(xa,train_acc_list,color=\"g\",label = \"Training accuracy\")\n",
    "    plt.plot(xa,test_acc_list,color=\"r\", label = \"Testing accuracy\")\n",
    "    plt.xlabel('Iterations')\n",
    "    plt.ylabel('Accuracy')\n",
    "    plt.title('Accuracy vs Iterations')\n",
    "    plt.legend()\n",
    "    plt.show()"
   ]
  },
  {
   "cell_type": "code",
   "execution_count": 220,
   "metadata": {},
   "outputs": [],
   "source": [
    "def plot_error(train_err_list,test_err_list):\n",
    "    xa = np.linspace(1,len(train_err_list),len(train_err_list),dtype=int)\n",
    "    plt.figure()\n",
    "    plt.plot(xa,train_err_list,color=\"g\",label=\"Training error\")\n",
    "    plt.plot(xa,test_err_list,color=\"r\",label=\"Testing error\")\n",
    "    plt.xlabel('Iterations')\n",
    "    plt.ylabel('Error')\n",
    "    plt.title('Error vs Iterations')\n",
    "    plt.legend()\n",
    "    plt.show()"
   ]
  },
  {
   "cell_type": "code",
   "execution_count": 85,
   "metadata": {},
   "outputs": [],
   "source": [
    "def relu(x): # 1\n",
    "    return np.maximum(0,x)\n",
    "\n",
    "def relu_der(x):\n",
    "    x[x>0] = 1\n",
    "    x[x<=0] = 0\n",
    "    return np.array(x)\n",
    "\n",
    "def sigmoid(x): # 2\n",
    "    return 1/(1+np.exp(-1.*x))\n",
    "\n",
    "def sigmoid_der(x):\n",
    "    return sigmoid(x)*(1-sigmoid(x))\n",
    "\n",
    "def tanh(x): # 3\n",
    "    return np.tanh(x)\n",
    "\n",
    "def tanh_der(x):\n",
    "    return 1-np.square(np.tanh(x))\n",
    "\n",
    "def softmax(x):\n",
    "    return np.exp(x) / np.sum(np.exp(x), axis=1, keepdims=True)"
   ]
  },
  {
   "cell_type": "code",
   "execution_count": 72,
   "metadata": {},
   "outputs": [],
   "source": [
    "def chunkarr(arr, n):\n",
    "    return [arr[i:i + n] for i in range(0, len(arr), n)]"
   ]
  },
  {
   "cell_type": "code",
   "execution_count": 110,
   "metadata": {},
   "outputs": [],
   "source": [
    "def getAccuracy(y,t):\n",
    "    y = np.argmax(y,axis=1)\n",
    "    t = np.argmax(t,axis=1)\n",
    "    return np.sum((y==t))/len(y)"
   ]
  },
  {
   "cell_type": "code",
   "execution_count": 275,
   "metadata": {},
   "outputs": [],
   "source": [
    "class NN:\n",
    "    def __init__(self,epochs=100,layers=2,nodes=[50,75],alpha=0.0003,bs=16,eps=0.001,activation=1,reg=1,lam =0):\n",
    "        np.random.seed(42)\n",
    "        self.epochs = epochs\n",
    "        self.layers = layers\n",
    "        self.nodes = nodes\n",
    "        self.alpha = alpha\n",
    "        self.bs = bs\n",
    "        self.eps = eps\n",
    "        self.activation = activation\n",
    "        self.reg = reg\n",
    "        self.lam = lam\n",
    "        self.w = [np.random.randn(NUM_FEATURES,self.nodes[0])]\n",
    "        self.b = [np.random.randn(self.nodes[0])]\n",
    "        self.z = [0] * (self.layers +1)\n",
    "        self.a = [0] * (self.layers)\n",
    "        self.delta = [0]*(self.layers+1)\n",
    "        self.dw = [0]*(self.layers+1)\n",
    "        self.db = [0]*(self.layers+1)\n",
    "        \n",
    "        for i in range(1,self.layers):\n",
    "            self.w.append(np.random.randn(self.nodes[i-1],self.nodes[i]))\n",
    "            self.b.append(np.random.randn(self.nodes[i]))\n",
    "        \n",
    "        self.w.append(0.1*np.random.randn(self.nodes[self.layers-1],10))\n",
    "        self.b.append(np.random.randn(10))\n",
    "        \n",
    "    \n",
    "    def activation_fn(self,x):\n",
    "        if self.activation == 1:\n",
    "            return relu(x)\n",
    "        elif self.activation == 2:\n",
    "            return sigmoid(x)\n",
    "        elif self.activation == 3:\n",
    "            return tanh(x)\n",
    "    \n",
    "    def der_activation_fn(self,x):\n",
    "        if self.activation == 1:\n",
    "            return relu_der(x)\n",
    "        elif self.activation == 2:\n",
    "            return sigmoid_der(x)\n",
    "        elif self.activation == 3:\n",
    "            return tanh_der(x)\n",
    "    \n",
    "    def f_prop(self,X):\n",
    "        self.z[0] = np.dot(X,self.w[0]) + self.b[0]\n",
    "        self.a[0] = self.activation_fn(self.z[0])\n",
    "        for i in range(1,self.layers):\n",
    "            self.z[i] = np.dot(self.a[i-1],self.w[i]) + self.b[i]\n",
    "            self.a[i] = self.activation_fn(self.z[i])\n",
    "        self.z[self.layers] = np.dot(self.a[self.layers-1],self.w[self.layers]) + self.b[self.layers]\n",
    "    \n",
    "    def back_prop(self,X,t,y):\n",
    "        self.delta[self.layers] = y-t\n",
    "        self.dw[self.layers] = (np.dot(self.a[self.layers-1].T,self.delta[self.layers])+ \n",
    "                                self.lam*self.w[self.layers])/self.bs                                \n",
    "        self.db[self.layers] = (np.sum(self.delta[self.layers],axis=0))/self.bs\n",
    "        \n",
    "        for i in range(self.layers-1,-1,-1):\n",
    "            aux = np.dot(self.delta[i+1],self.w[i+1].T)\n",
    "            der = self.der_activation_fn(self.a[i])\n",
    "            self.delta[i] = aux*der\n",
    "            if i>0:\n",
    "                self.dw[i] = (np.dot(self.a[i-1].T,self.delta[i]) + self.lam*self.w[i])/self.bs\n",
    "            else:\n",
    "                self.dw[0] = (np.dot(X.T,self.delta[0]) + self.lam*self.w[0])/self.bs\n",
    "            self.db[i] = np.sum(self.delta[i],axis=0)/self.bs\n",
    "        \n",
    "    def train(self,X,t,log=False):\n",
    "        t_onehot = np.zeros((len(t),10))\n",
    "        t_onehot[np.arange(len(t_onehot)),t] = 1\n",
    "        t = t_onehot\n",
    "        trainX = np.array(X[:2700])\n",
    "        traint = np.array(t[:2700])\n",
    "        testX = np.array(X[2700:])\n",
    "        testt = np.array(t[2700:])\n",
    "        \n",
    "        Xchunks = chunkarr(trainX, self.bs)\n",
    "        tchunks = chunkarr(traint, self.bs)\n",
    "        \n",
    "        # calculate accuracy here\n",
    "        train_acc_list = []\n",
    "        train_error_list = []\n",
    "        test_acc_list = []\n",
    "        test_error_list = []\n",
    "        train_pred = self.predict(trainX)\n",
    "        test_pred = self.predict(testX)\n",
    "        \n",
    "        trainacc = getAccuracy(train_pred,traint)\n",
    "        testacc = getAccuracy(test_pred,testt)\n",
    "        trainerror = -1*np.sum(traint*np.log(train_pred))/len(trainX)\n",
    "        testerror = -1*np.sum(testt*np.log(test_pred))/len(testX)\n",
    "        \n",
    "        train_acc_list.append(trainacc)\n",
    "        test_acc_list.append(testacc)\n",
    "        train_error_list.append(trainerror)\n",
    "        test_error_list.append(testerror)\n",
    "        \n",
    "        \n",
    "        \n",
    "        for epoch in tqdm(range(self.epochs)):\n",
    "            t1 = time.time()\n",
    "            for chunk in range(len(Xchunks)):\n",
    "                Xcon = Xchunks[chunk]\n",
    "                tcon = tchunks[chunk]\n",
    "                \n",
    "                self.f_prop(Xcon)\n",
    "                y = softmax(self.z[self.layers])\n",
    "                \n",
    "                # call backprop here\n",
    "                self.back_prop(Xcon,tcon,y)\n",
    "                \n",
    "                for i in range(self.layers+1):\n",
    "                    self.w[i] -= self.alpha * self.dw[i]\n",
    "                    self.b[i] -= self.alpha * self.db[i]\n",
    "            \n",
    "            t2 = time.time()\n",
    "            \n",
    "            # calculate accuracies here\n",
    "            train_pred = self.predict(trainX)\n",
    "            test_pred = self.predict(testX)\n",
    "\n",
    "            trainacc = getAccuracy(train_pred,traint)\n",
    "            testacc = getAccuracy(test_pred,testt)\n",
    "            trainerror = -1*np.sum(traint*np.log(train_pred))/len(trainX)\n",
    "            testerror = -1*np.sum(testt*np.log(test_pred))/len(testX)\n",
    "\n",
    "            train_acc_list.append(trainacc)\n",
    "            test_acc_list.append(testacc)\n",
    "            train_error_list.append(trainerror)\n",
    "            test_error_list.append(testerror)\n",
    "            \n",
    "            if log:\n",
    "                print(f\"epoch: {epoch+1}/{self.epochs}\")\n",
    "                print(f\"time: {round(t2-t1,4)}, training_acc: {round(trainacc,4)}, test_acc: {round(testacc,4)}\")\n",
    "            \n",
    "        return train_acc_list,test_acc_list,train_error_list,test_error_list\n",
    "                \n",
    "    def predict(self,X):\n",
    "        self.z = [0] * (self.layers +1)\n",
    "        self.a = [0] * (self.layers)\n",
    "        self.f_prop(X)\n",
    "        return softmax(self.z[self.layers])\n",
    "        \n",
    "    "
   ]
  },
  {
   "cell_type": "code",
   "execution_count": null,
   "metadata": {},
   "outputs": [],
   "source": []
  },
  {
   "cell_type": "code",
   "execution_count": 276,
   "metadata": {},
   "outputs": [],
   "source": [
    "nn = NN(epochs = 100,alpha=0.004,layers=2,nodes=[100,64],lam=1e-5)"
   ]
  },
  {
   "cell_type": "code",
   "execution_count": 277,
   "metadata": {},
   "outputs": [
    {
     "data": {
      "application/vnd.jupyter.widget-view+json": {
       "model_id": "b3d25175108f48d1b95b81449cd8ea42",
       "version_major": 2,
       "version_minor": 0
      },
      "text/plain": [
       "HBox(children=(FloatProgress(value=0.0), HTML(value='')))"
      ]
     },
     "metadata": {},
     "output_type": "display_data"
    },
    {
     "name": "stdout",
     "output_type": "stream",
     "text": [
      "epoch: 1/100\n",
      "time: 0.17, training_acc: 0.6537, test_acc: 0.5733\n",
      "epoch: 2/100\n",
      "time: 0.16, training_acc: 0.7041, test_acc: 0.6433\n",
      "epoch: 3/100\n",
      "time: 0.19, training_acc: 0.7159, test_acc: 0.6433\n",
      "epoch: 4/100\n",
      "time: 0.18, training_acc: 0.7448, test_acc: 0.6733\n",
      "epoch: 5/100\n",
      "time: 0.16, training_acc: 0.7252, test_acc: 0.66\n",
      "epoch: 6/100\n",
      "time: 0.17, training_acc: 0.7411, test_acc: 0.6933\n",
      "epoch: 7/100\n",
      "time: 0.16, training_acc: 0.7219, test_acc: 0.6767\n",
      "epoch: 8/100\n",
      "time: 0.15, training_acc: 0.7344, test_acc: 0.6867\n",
      "epoch: 9/100\n",
      "time: 0.16, training_acc: 0.7419, test_acc: 0.6967\n",
      "epoch: 10/100\n",
      "time: 0.16, training_acc: 0.7333, test_acc: 0.6733\n",
      "epoch: 11/100\n",
      "time: 0.16, training_acc: 0.7541, test_acc: 0.69\n",
      "epoch: 12/100\n",
      "time: 0.16, training_acc: 0.7511, test_acc: 0.69\n",
      "epoch: 13/100\n",
      "time: 0.16, training_acc: 0.7656, test_acc: 0.7067\n",
      "epoch: 14/100\n",
      "time: 0.16, training_acc: 0.7533, test_acc: 0.69\n",
      "epoch: 15/100\n",
      "time: 0.16, training_acc: 0.7715, test_acc: 0.7033\n",
      "epoch: 16/100\n",
      "time: 0.17, training_acc: 0.7726, test_acc: 0.71\n",
      "epoch: 17/100\n",
      "time: 0.16, training_acc: 0.7852, test_acc: 0.7233\n",
      "epoch: 18/100\n",
      "time: 0.17, training_acc: 0.7881, test_acc: 0.7167\n",
      "epoch: 19/100\n",
      "time: 0.16, training_acc: 0.7948, test_acc: 0.72\n",
      "epoch: 20/100\n",
      "time: 0.16, training_acc: 0.8181, test_acc: 0.7367\n",
      "epoch: 21/100\n",
      "time: 0.17, training_acc: 0.8093, test_acc: 0.7167\n",
      "epoch: 22/100\n",
      "time: 0.17, training_acc: 0.8244, test_acc: 0.72\n",
      "epoch: 23/100\n",
      "time: 0.17, training_acc: 0.8141, test_acc: 0.73\n",
      "epoch: 24/100\n",
      "time: 0.17, training_acc: 0.8356, test_acc: 0.7233\n",
      "epoch: 25/100\n",
      "time: 0.17, training_acc: 0.8148, test_acc: 0.72\n",
      "epoch: 26/100\n",
      "time: 0.16, training_acc: 0.83, test_acc: 0.7167\n",
      "epoch: 27/100\n",
      "time: 0.19, training_acc: 0.8422, test_acc: 0.7467\n",
      "epoch: 28/100\n",
      "time: 0.17, training_acc: 0.8222, test_acc: 0.72\n",
      "epoch: 29/100\n",
      "time: 0.17, training_acc: 0.8293, test_acc: 0.7167\n",
      "epoch: 30/100\n",
      "time: 0.15, training_acc: 0.8459, test_acc: 0.7067\n",
      "epoch: 31/100\n",
      "time: 0.16, training_acc: 0.8422, test_acc: 0.7233\n",
      "epoch: 32/100\n",
      "time: 0.16, training_acc: 0.8578, test_acc: 0.7333\n",
      "epoch: 33/100\n",
      "time: 0.19, training_acc: 0.8585, test_acc: 0.7267\n",
      "epoch: 34/100\n",
      "time: 0.19, training_acc: 0.8715, test_acc: 0.7433\n",
      "epoch: 35/100\n",
      "time: 0.19, training_acc: 0.8652, test_acc: 0.74\n",
      "epoch: 36/100\n",
      "time: 0.17, training_acc: 0.8611, test_acc: 0.7133\n",
      "epoch: 37/100\n",
      "time: 0.17, training_acc: 0.8867, test_acc: 0.7433\n",
      "epoch: 38/100\n",
      "time: 0.18, training_acc: 0.8689, test_acc: 0.73\n",
      "epoch: 39/100\n",
      "time: 0.17, training_acc: 0.8856, test_acc: 0.7533\n",
      "epoch: 40/100\n",
      "time: 0.16, training_acc: 0.8711, test_acc: 0.7467\n",
      "epoch: 41/100\n",
      "time: 0.17, training_acc: 0.8919, test_acc: 0.76\n",
      "epoch: 42/100\n",
      "time: 0.15, training_acc: 0.8893, test_acc: 0.7633\n",
      "epoch: 43/100\n",
      "time: 0.16, training_acc: 0.8956, test_acc: 0.77\n",
      "epoch: 44/100\n",
      "time: 0.16, training_acc: 0.8974, test_acc: 0.7633\n",
      "epoch: 45/100\n",
      "time: 0.16, training_acc: 0.8981, test_acc: 0.77\n",
      "epoch: 46/100\n",
      "time: 0.16, training_acc: 0.9089, test_acc: 0.77\n",
      "epoch: 47/100\n",
      "time: 0.16, training_acc: 0.9104, test_acc: 0.7733\n",
      "epoch: 48/100\n",
      "time: 0.16, training_acc: 0.9215, test_acc: 0.77\n",
      "epoch: 49/100\n",
      "time: 0.16, training_acc: 0.9041, test_acc: 0.7567\n",
      "epoch: 50/100\n",
      "time: 0.16, training_acc: 0.9196, test_acc: 0.7733\n",
      "epoch: 51/100\n",
      "time: 0.16, training_acc: 0.9263, test_acc: 0.7767\n",
      "epoch: 52/100\n",
      "time: 0.16, training_acc: 0.9289, test_acc: 0.7667\n",
      "epoch: 53/100\n",
      "time: 0.14, training_acc: 0.9274, test_acc: 0.78\n",
      "epoch: 54/100\n",
      "time: 0.16, training_acc: 0.9333, test_acc: 0.77\n",
      "epoch: 55/100\n",
      "time: 0.16, training_acc: 0.9422, test_acc: 0.78\n",
      "epoch: 56/100\n",
      "time: 0.17, training_acc: 0.9289, test_acc: 0.78\n",
      "epoch: 57/100\n",
      "time: 0.17, training_acc: 0.9289, test_acc: 0.7767\n",
      "epoch: 58/100\n",
      "time: 0.17, training_acc: 0.9341, test_acc: 0.7767\n",
      "epoch: 59/100\n",
      "time: 0.16, training_acc: 0.95, test_acc: 0.7633\n",
      "epoch: 60/100\n",
      "time: 0.17, training_acc: 0.9511, test_acc: 0.78\n",
      "epoch: 61/100\n",
      "time: 0.16, training_acc: 0.947, test_acc: 0.7867\n",
      "epoch: 62/100\n",
      "time: 0.16, training_acc: 0.9574, test_acc: 0.78\n",
      "epoch: 63/100\n",
      "time: 0.16, training_acc: 0.9637, test_acc: 0.78\n",
      "epoch: 64/100\n",
      "time: 0.16, training_acc: 0.9552, test_acc: 0.78\n",
      "epoch: 65/100\n",
      "time: 0.15, training_acc: 0.9593, test_acc: 0.7867\n",
      "epoch: 66/100\n",
      "time: 0.16, training_acc: 0.9674, test_acc: 0.7867\n",
      "epoch: 67/100\n",
      "time: 0.16, training_acc: 0.9667, test_acc: 0.7867\n",
      "epoch: 68/100\n",
      "time: 0.17, training_acc: 0.9719, test_acc: 0.78\n",
      "epoch: 69/100\n",
      "time: 0.19, training_acc: 0.9763, test_acc: 0.78\n",
      "epoch: 70/100\n",
      "time: 0.19, training_acc: 0.9752, test_acc: 0.7833\n",
      "epoch: 71/100\n",
      "time: 0.19, training_acc: 0.9793, test_acc: 0.7833\n",
      "epoch: 72/100\n",
      "time: 0.17, training_acc: 0.9811, test_acc: 0.7833\n",
      "epoch: 73/100\n",
      "time: 0.17, training_acc: 0.9807, test_acc: 0.78\n",
      "epoch: 74/100\n",
      "time: 0.16, training_acc: 0.983, test_acc: 0.78\n",
      "epoch: 75/100\n",
      "time: 0.16, training_acc: 0.9848, test_acc: 0.78\n",
      "epoch: 76/100\n",
      "time: 0.17, training_acc: 0.9844, test_acc: 0.78\n",
      "epoch: 77/100\n",
      "time: 0.17, training_acc: 0.9881, test_acc: 0.78\n",
      "epoch: 78/100\n",
      "time: 0.17, training_acc: 0.9878, test_acc: 0.7767\n",
      "epoch: 79/100\n",
      "time: 0.16, training_acc: 0.9915, test_acc: 0.7833\n",
      "epoch: 80/100\n",
      "time: 0.17, training_acc: 0.9915, test_acc: 0.7833\n",
      "epoch: 81/100\n",
      "time: 0.16, training_acc: 0.9922, test_acc: 0.7833\n",
      "epoch: 82/100\n",
      "time: 0.17, training_acc: 0.993, test_acc: 0.7833\n",
      "epoch: 83/100\n",
      "time: 0.18, training_acc: 0.9937, test_acc: 0.7867\n",
      "epoch: 84/100\n",
      "time: 0.16, training_acc: 0.9956, test_acc: 0.7867\n",
      "epoch: 85/100\n",
      "time: 0.15, training_acc: 0.9959, test_acc: 0.7867\n",
      "epoch: 86/100\n",
      "time: 0.17, training_acc: 0.9974, test_acc: 0.7867\n",
      "epoch: 87/100\n",
      "time: 0.16, training_acc: 0.9985, test_acc: 0.7867\n",
      "epoch: 88/100\n",
      "time: 0.16, training_acc: 0.9985, test_acc: 0.7867\n",
      "epoch: 89/100\n",
      "time: 0.16, training_acc: 0.9989, test_acc: 0.7867\n",
      "epoch: 90/100\n",
      "time: 0.18, training_acc: 0.9993, test_acc: 0.7833\n",
      "epoch: 91/100\n",
      "time: 0.16, training_acc: 0.9993, test_acc: 0.7833\n",
      "epoch: 92/100\n",
      "time: 0.17, training_acc: 0.9996, test_acc: 0.7833\n",
      "epoch: 93/100\n",
      "time: 0.16, training_acc: 0.9996, test_acc: 0.7833\n",
      "epoch: 94/100\n",
      "time: 0.17, training_acc: 0.9996, test_acc: 0.7833\n",
      "epoch: 95/100\n",
      "time: 0.1703, training_acc: 1.0, test_acc: 0.7833\n",
      "epoch: 96/100\n",
      "time: 0.16, training_acc: 1.0, test_acc: 0.7833\n",
      "epoch: 97/100\n",
      "time: 0.15, training_acc: 1.0, test_acc: 0.7867\n",
      "epoch: 98/100\n",
      "time: 0.16, training_acc: 1.0, test_acc: 0.7867\n",
      "epoch: 99/100\n",
      "time: 0.16, training_acc: 1.0, test_acc: 0.7867\n",
      "epoch: 100/100\n",
      "time: 0.16, training_acc: 1.0, test_acc: 0.7867\n",
      "\n"
     ]
    }
   ],
   "source": [
    "train_acc_list,test_acc_list,train_error_list,test_error_list = nn.train(Xorig,Yorig,log=True)"
   ]
  },
  {
   "cell_type": "code",
   "execution_count": 278,
   "metadata": {},
   "outputs": [
    {
     "data": {
      "image/png": "[encoded data removed]",
      "text/plain": [
       "<Figure size 432x288 with 1 Axes>"
      ]
     },
     "metadata": {},
     "output_type": "display_data"
    }
   ],
   "source": [
    "plot_acc(train_acc_list,test_acc_list)"
   ]
  },
  {
   "cell_type": "code",
   "execution_count": 279,
   "metadata": {},
   "outputs": [
    {
     "data": {
      "image/png": "[encoded data removed]",
      "text/plain": [
       "<Figure size 432x288 with 1 Axes>"
      ]
     },
     "metadata": {},
     "output_type": "display_data"
    }
   ],
   "source": [
    "plot_error(train_error_list,test_error_list)"
   ]
  },
  {
   "cell_type": "code",
   "execution_count": 193,
   "metadata": {},
   "outputs": [
    {
     "data": {
      "text/plain": [
       "(0.9796296296296296, 0.7)"
      ]
     },
     "execution_count": 193,
     "metadata": {},
     "output_type": "execute_result"
    }
   ],
   "source": [
    "train_acc_list[-1],test_acc_list[-1]"
   ]
  },
  {
   "cell_type": "code",
   "execution_count": 258,
   "metadata": {},
   "outputs": [
    {
     "data": {
      "text/plain": [
       "(<matplotlib.image.AxesImage at 0x26b019e8c08>, 5)"
      ]
     },
     "execution_count": 258,
     "metadata": {},
     "output_type": "execute_result"
    },
    {
     "data": {
      "image/png": "[encoded data removed]",
      "text/plain": [
       "<Figure size 432x288 with 1 Axes>"
      ]
     },
     "metadata": {},
     "output_type": "display_data"
    }
   ],
   "source": [
    "idx = 1\n",
    "plt.imshow(np.array(Xorig[idx]).reshape(28,28)),Yorig[idx]"
   ]
  },
  {
   "cell_type": "code",
   "execution_count": 259,
   "metadata": {},
   "outputs": [],
   "source": [
    "nn.f_prop(Xorig[1][:])"
   ]
  },
  {
   "cell_type": "code",
   "execution_count": null,
   "metadata": {},
   "outputs": [],
   "source": []
  },
  {
   "cell_type": "code",
   "execution_count": 264,
   "metadata": {},
   "outputs": [
    {
     "data": {
      "text/plain": [
       "<matplotlib.image.AxesImage at 0x26b01b64d08>"
      ]
     },
     "execution_count": 264,
     "metadata": {},
     "output_type": "execute_result"
    },
    {
     "data": {
      "image/png": "[encoded data removed]",
      "text/plain": [
       "<Figure size 432x288 with 1 Axes>"
      ]
     },
     "metadata": {},
     "output_type": "display_data"
    }
   ],
   "source": [
    "plt.imshow(np.array(nn.z[0]).reshape(10,10))"
   ]
  },
  {
   "cell_type": "code",
   "execution_count": 262,
   "metadata": {},
   "outputs": [
    {
     "data": {
      "text/plain": [
       "<matplotlib.image.AxesImage at 0x26b01a9a408>"
      ]
     },
     "execution_count": 262,
     "metadata": {},
     "output_type": "execute_result"
    },
    {
     "data": {
      "image/png": "[encoded data removed]",
      "text/plain": [
       "<Figure size 432x288 with 1 Axes>"
      ]
     },
     "metadata": {},
     "output_type": "display_data"
    }
   ],
   "source": [
    "plt.imshow(np.array(nn.z[1]).reshape(8,8))"
   ]
  },
  {
   "cell_type": "code",
   "execution_count": null,
   "metadata": {},
   "outputs": [],
   "source": []
  },
  {
   "cell_type": "code",
   "execution_count": null,
   "metadata": {},
   "outputs": [],
   "source": []
  },
  {
   "cell_type": "code",
   "execution_count": null,
   "metadata": {},
   "outputs": [],
   "source": []
  }
 ],
 "metadata": {
  "kernelspec": {
   "display_name": "Python 3",
   "language": "python",
   "name": "python3"
  },
  "language_info": {
   "codemirror_mode": {
    "name": "ipython",
    "version": 3
   },
   "file_extension": ".py",
   "mimetype": "text/x-python",
   "name": "python",
   "nbconvert_exporter": "python",
   "pygments_lexer": "ipython3",
   "version": "3.7.6"
  }
 },
 "nbformat": 4,
 "nbformat_minor": 4
}
