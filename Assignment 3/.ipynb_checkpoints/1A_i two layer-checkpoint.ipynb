{
 "cells": [
  {
   "cell_type": "code",
   "execution_count": 168,
   "metadata": {},
   "outputs": [],
   "source": [
    "import numpy as np\n",
    "import pandas as pd\n",
    "import matplotlib.pyplot as plt\n",
    "from tqdm.notebook import tqdm\n",
    "import seaborn as sns\n",
    "import time\n",
    "sns.set_theme()\n",
    "import random\n",
    "random.seed(42)\n",
    "np.random.seed(42)"
   ]
  },
  {
   "cell_type": "code",
   "execution_count": 2,
   "metadata": {},
   "outputs": [],
   "source": [
    "df = pd.read_csv('2019EE10577.csv',header=None)"
   ]
  },
  {
   "cell_type": "code",
   "execution_count": 3,
   "metadata": {},
   "outputs": [],
   "source": [
    "NUM_FEATURES = 784"
   ]
  },
  {
   "cell_type": "code",
   "execution_count": 4,
   "metadata": {},
   "outputs": [],
   "source": [
    "def getData():\n",
    "    X,y = [],[]\n",
    "    for i,row in df.iterrows():\n",
    "        X.append(row[:NUM_FEATURES])\n",
    "        y.append(int(row[NUM_FEATURES]))\n",
    "    return X,y"
   ]
  },
  {
   "cell_type": "code",
   "execution_count": 5,
   "metadata": {},
   "outputs": [],
   "source": [
    "Xorig,Yorig = getData()"
   ]
  },
  {
   "cell_type": "code",
   "execution_count": 6,
   "metadata": {},
   "outputs": [],
   "source": [
    "def plot_acc(train_acc_list,test_acc_list,name):\n",
    "    xa = np.linspace(1,len(train_acc_list),len(train_acc_list),dtype=int)\n",
    "    plt.figure()\n",
    "    train_acc_list = np.array(train_acc_list) * 100\n",
    "    test_acc_list = np.array(test_acc_list) * 100\n",
    "    plt.plot(xa,train_acc_list,color=\"g\",label = \"Training accuracy\")\n",
    "    plt.plot(xa,test_acc_list,color=\"r\", label = \"Testing accuracy\")\n",
    "    plt.xlabel('Iterations')\n",
    "    plt.ylabel('Accuracy')\n",
    "    plt.title('Accuracy vs Iterations')\n",
    "    plt.legend()\n",
    "    plt.savefig(f'Accuracy_{name}.png',dpi=1200)\n",
    "    plt.show()"
   ]
  },
  {
   "cell_type": "code",
   "execution_count": 7,
   "metadata": {},
   "outputs": [],
   "source": [
    "def plot_error(train_err_list,test_err_list,name):\n",
    "    xa = np.linspace(1,len(train_err_list),len(train_err_list),dtype=int)\n",
    "    plt.figure()\n",
    "    plt.plot(xa,train_err_list,color=\"g\",label=\"Training error\")\n",
    "    plt.plot(xa,test_err_list,color=\"r\",label=\"Testing error\")\n",
    "    plt.xlabel('Iterations')\n",
    "    plt.ylabel('Error')\n",
    "    plt.title('Error vs Iterations')\n",
    "    plt.legend()\n",
    "    plt.savefig(f'Error_{name}.png',dpi=1200)\n",
    "    plt.show()"
   ]
  },
  {
   "cell_type": "code",
   "execution_count": 8,
   "metadata": {},
   "outputs": [],
   "source": [
    "def relu(x): # 1\n",
    "    return np.maximum(0,x)\n",
    "\n",
    "def relu_der(x):\n",
    "    x[x>0] = 1\n",
    "    x[x<=0] = 0\n",
    "    return np.array(x)\n",
    "\n",
    "def sigmoid(x): # 2\n",
    "    return 1/(1+np.exp(-1.*x))\n",
    "\n",
    "def sigmoid_der(x):\n",
    "    return sigmoid(x)*(1-sigmoid(x))\n",
    "\n",
    "def tanh(x): # 3\n",
    "    return np.tanh(x)\n",
    "\n",
    "def tanh_der(x):\n",
    "    return 1-np.square(np.tanh(x))\n",
    "\n",
    "def softmax(x):\n",
    "    return np.exp(x) / np.sum(np.exp(x), axis=1, keepdims=True)"
   ]
  },
  {
   "cell_type": "code",
   "execution_count": 9,
   "metadata": {},
   "outputs": [],
   "source": [
    "def chunkarr(arr, n):\n",
    "    return [arr[i:i + n] for i in range(0, len(arr), n)]"
   ]
  },
  {
   "cell_type": "code",
   "execution_count": 10,
   "metadata": {},
   "outputs": [],
   "source": [
    "def getAccuracy(y,t):\n",
    "    y = np.argmax(y,axis=1)\n",
    "    t = np.argmax(t,axis=1)\n",
    "    return np.sum((y==t))/len(y)"
   ]
  },
  {
   "cell_type": "code",
   "execution_count": 95,
   "metadata": {},
   "outputs": [],
   "source": [
    "class NN:\n",
    "    def __init__(self,early = True,epochs=100,layers=2,nodes=[50,75],alpha=0.0003,bs=16,eps=0.0005,activation=1,reg=1,lam =0):\n",
    "        np.random.seed(42)\n",
    "        self.epochs = epochs\n",
    "        self.layers = layers\n",
    "        self.nodes = nodes\n",
    "        self.alpha = alpha\n",
    "        self.bs = bs\n",
    "        self.eps = eps\n",
    "        self.activation = activation\n",
    "        self.reg = reg\n",
    "        self.lam = lam\n",
    "        self.w = [np.random.randn(NUM_FEATURES,self.nodes[0])]\n",
    "        self.b = [np.random.randn(self.nodes[0])]\n",
    "        self.z = [0] * (self.layers +1)\n",
    "        self.a = [0] * (self.layers)\n",
    "        self.dw = [0]*(self.layers+1)\n",
    "        self.db = [0]*(self.layers+1)\n",
    "        self.early = early\n",
    "        \n",
    "        for i in range(1,self.layers):\n",
    "            self.w.append(np.random.randn(self.nodes[i-1],self.nodes[i]))\n",
    "            self.b.append(np.random.randn(self.nodes[i]))\n",
    "        \n",
    "        self.w.append(0.1*np.random.randn(self.nodes[self.layers-1],10))\n",
    "        self.b.append(np.random.randn(10))\n",
    "        \n",
    "    \n",
    "    def activation_fn(self,x):\n",
    "        if self.activation == 1:\n",
    "            return relu(x)\n",
    "        elif self.activation == 2:\n",
    "            return sigmoid(x)\n",
    "        elif self.activation == 3:\n",
    "            return tanh(x)\n",
    "    \n",
    "    def der_activation_fn(self,x):\n",
    "        if self.activation == 1:\n",
    "            return relu_der(x)\n",
    "        elif self.activation == 2:\n",
    "            return sigmoid_der(x)\n",
    "        elif self.activation == 3:\n",
    "            return tanh_der(x)\n",
    "    \n",
    "    def f_prop(self,X):\n",
    "        self.z[0] = np.dot(X,self.w[0]) + self.b[0]\n",
    "        self.a[0] = self.activation_fn(self.z[0])\n",
    "        for i in range(1,self.layers):\n",
    "            self.z[i] = np.dot(self.a[i-1],self.w[i]) + self.b[i]\n",
    "            self.a[i] = self.activation_fn(self.z[i])\n",
    "        self.z[self.layers] = np.dot(self.a[self.layers-1],self.w[self.layers]) + self.b[self.layers]\n",
    "    \n",
    "    def back_prop(self,X,t,y):\n",
    "        temp = y-t\n",
    "        self.dw[self.layers] = (np.dot(self.a[self.layers-1].T,temp)+ \n",
    "                                self.lam*self.w[self.layers])/self.bs                                \n",
    "        self.db[self.layers] = (np.sum(temp,axis=0))/self.bs\n",
    "        \n",
    "        for i in range(self.layers-1,-1,-1):\n",
    "            aux = np.dot(temp,self.w[i+1].T)\n",
    "            der = self.der_activation_fn(self.a[i])\n",
    "            temp = aux*der\n",
    "            if i>0:\n",
    "                self.dw[i] = (np.dot(self.a[i-1].T,temp) + self.lam*self.w[i])/self.bs\n",
    "            else:\n",
    "                self.dw[0] = (np.dot(X.T,temp) + self.lam*self.w[0])/self.bs\n",
    "            self.db[i] = np.sum(temp,axis=0)/self.bs\n",
    "        \n",
    "    def train(self,X,t,log=False):\n",
    "        t_onehot = np.zeros((len(t),10))\n",
    "        t_onehot[np.arange(len(t_onehot)),t] = 1\n",
    "        t = t_onehot\n",
    "        trainX = np.array(X[:2700])\n",
    "        traint = np.array(t[:2700])\n",
    "        testX = np.array(X[2700:])\n",
    "        testt = np.array(t[2700:])\n",
    "        \n",
    "        Xchunks = chunkarr(trainX, self.bs)\n",
    "        tchunks = chunkarr(traint, self.bs)\n",
    "        \n",
    "        # calculate accuracy here\n",
    "        train_acc_list = []\n",
    "        train_error_list = []\n",
    "        test_acc_list = []\n",
    "        test_error_list = []\n",
    "        train_pred = self.predict(trainX)\n",
    "        test_pred = self.predict(testX)\n",
    "        \n",
    "        trainacc = getAccuracy(train_pred,traint)\n",
    "        testacc = getAccuracy(test_pred,testt)\n",
    "        trainerror = -1*np.sum(traint*np.log(train_pred))/len(trainX)\n",
    "        testerror = -1*np.sum(testt*np.log(test_pred))/len(testX)\n",
    "        \n",
    "        train_acc_list.append(trainacc)\n",
    "        test_acc_list.append(testacc)\n",
    "        train_error_list.append(trainerror)\n",
    "        test_error_list.append(testerror)\n",
    "        \n",
    "        \n",
    "        \n",
    "        for epoch in (range(self.epochs)):\n",
    "            t1 = time.time()\n",
    "            for chunk in range(len(Xchunks)):\n",
    "                Xcon = Xchunks[chunk]\n",
    "                tcon = tchunks[chunk]\n",
    "                \n",
    "                self.f_prop(Xcon)\n",
    "                y = softmax(self.z[self.layers])\n",
    "                \n",
    "                # call backprop here\n",
    "                self.back_prop(Xcon,tcon,y)\n",
    "                \n",
    "                for i in range(self.layers+1):\n",
    "                    self.w[i] -= self.alpha * self.dw[i]\n",
    "                    self.b[i] -= self.alpha * self.db[i]\n",
    "            \n",
    "            t2 = time.time()\n",
    "            \n",
    "            # calculate accuracies here\n",
    "            train_pred = self.predict(trainX)\n",
    "            test_pred = self.predict(testX)\n",
    "\n",
    "            trainacc = getAccuracy(train_pred,traint)\n",
    "            testacc = getAccuracy(test_pred,testt)\n",
    "            trainerror = -1*np.sum(traint*np.log(train_pred))/len(trainX)\n",
    "            testerror = -1*np.sum(testt*np.log(test_pred))/len(testX)\n",
    "\n",
    "            train_acc_list.append(trainacc)\n",
    "            test_acc_list.append(testacc)\n",
    "            train_error_list.append(trainerror)\n",
    "            test_error_list.append(testerror)\n",
    "            \n",
    "            if self.early:\n",
    "                if trainacc >0.7:\n",
    "                    if abs(train_acc_list[-1] - train_acc_list[-2]) < self.eps:\n",
    "                        if abs(train_acc_list[-2] - train_acc_list[-3]) < self.eps:\n",
    "                            if abs(train_acc_list[-3] - train_acc_list[-4]) < self.eps:\n",
    "                                break\n",
    "            \n",
    "            if log:\n",
    "                print(f\"epoch: {epoch+1}/{self.epochs}\")\n",
    "                print(f\"time: {round(t2-t1,4)}, training_acc: {round(trainacc,4)}, test_acc: {round(testacc,4)}\")\n",
    "            \n",
    "        return train_acc_list,test_acc_list,train_error_list,test_error_list\n",
    "                \n",
    "    def predict(self,X):\n",
    "        self.z = [0] * (self.layers +1)\n",
    "        self.a = [0] * (self.layers)\n",
    "        self.f_prop(X)\n",
    "        return softmax(self.z[self.layers])\n",
    "        \n",
    "    "
   ]
  },
  {
   "cell_type": "code",
   "execution_count": null,
   "metadata": {},
   "outputs": [],
   "source": []
  },
  {
   "cell_type": "code",
   "execution_count": 67,
   "metadata": {},
   "outputs": [],
   "source": [
    "nn = NN(epochs = 100,alpha=0.004,layers=2,nodes=[100,64],lam=1e-5)"
   ]
  },
  {
   "cell_type": "code",
   "execution_count": 68,
   "metadata": {},
   "outputs": [
    {
     "name": "stdout",
     "output_type": "stream",
     "text": [
      "epoch: 1/100\n",
      "time: 0.18, training_acc: 0.6537, test_acc: 0.5733\n",
      "epoch: 2/100\n",
      "time: 0.15, training_acc: 0.7041, test_acc: 0.6433\n",
      "epoch: 3/100\n",
      "time: 0.1601, training_acc: 0.7159, test_acc: 0.6433\n",
      "epoch: 4/100\n",
      "time: 0.16, training_acc: 0.7448, test_acc: 0.6733\n",
      "epoch: 5/100\n",
      "time: 0.17, training_acc: 0.7252, test_acc: 0.66\n",
      "epoch: 6/100\n",
      "time: 0.16, training_acc: 0.7411, test_acc: 0.6933\n",
      "epoch: 7/100\n",
      "time: 0.16, training_acc: 0.7219, test_acc: 0.6767\n",
      "epoch: 8/100\n",
      "time: 0.16, training_acc: 0.7344, test_acc: 0.6867\n",
      "epoch: 9/100\n",
      "time: 0.15, training_acc: 0.7419, test_acc: 0.6967\n",
      "epoch: 10/100\n",
      "time: 0.15, training_acc: 0.7333, test_acc: 0.6733\n",
      "epoch: 11/100\n",
      "time: 0.17, training_acc: 0.7541, test_acc: 0.69\n",
      "epoch: 12/100\n",
      "time: 0.17, training_acc: 0.7511, test_acc: 0.69\n",
      "epoch: 13/100\n",
      "time: 0.17, training_acc: 0.7656, test_acc: 0.7067\n",
      "epoch: 14/100\n",
      "time: 0.17, training_acc: 0.7533, test_acc: 0.69\n",
      "epoch: 15/100\n",
      "time: 0.16, training_acc: 0.7715, test_acc: 0.7033\n",
      "epoch: 16/100\n",
      "time: 0.16, training_acc: 0.7726, test_acc: 0.71\n",
      "epoch: 17/100\n",
      "time: 0.1603, training_acc: 0.7852, test_acc: 0.7233\n",
      "epoch: 18/100\n",
      "time: 0.15, training_acc: 0.7881, test_acc: 0.7167\n",
      "epoch: 19/100\n",
      "time: 0.16, training_acc: 0.7948, test_acc: 0.72\n",
      "epoch: 20/100\n",
      "time: 0.14, training_acc: 0.8181, test_acc: 0.7367\n",
      "epoch: 21/100\n",
      "time: 0.15, training_acc: 0.8093, test_acc: 0.7167\n",
      "epoch: 22/100\n",
      "time: 0.14, training_acc: 0.8244, test_acc: 0.72\n",
      "epoch: 23/100\n",
      "time: 0.15, training_acc: 0.8141, test_acc: 0.73\n",
      "epoch: 24/100\n",
      "time: 0.15, training_acc: 0.8356, test_acc: 0.7233\n",
      "epoch: 25/100\n",
      "time: 0.16, training_acc: 0.8148, test_acc: 0.72\n",
      "epoch: 26/100\n",
      "time: 0.16, training_acc: 0.83, test_acc: 0.7167\n",
      "epoch: 27/100\n",
      "time: 0.16, training_acc: 0.8422, test_acc: 0.7467\n",
      "epoch: 28/100\n",
      "time: 0.16, training_acc: 0.8222, test_acc: 0.72\n",
      "epoch: 29/100\n",
      "time: 0.17, training_acc: 0.8293, test_acc: 0.7167\n",
      "epoch: 30/100\n",
      "time: 0.16, training_acc: 0.8459, test_acc: 0.7067\n",
      "epoch: 31/100\n",
      "time: 0.17, training_acc: 0.8422, test_acc: 0.7233\n",
      "epoch: 32/100\n",
      "time: 0.16, training_acc: 0.8578, test_acc: 0.7333\n",
      "epoch: 33/100\n",
      "time: 0.15, training_acc: 0.8585, test_acc: 0.7267\n",
      "epoch: 34/100\n",
      "time: 0.16, training_acc: 0.8715, test_acc: 0.7433\n",
      "epoch: 35/100\n",
      "time: 0.16, training_acc: 0.8652, test_acc: 0.74\n",
      "epoch: 36/100\n",
      "time: 0.1593, training_acc: 0.8611, test_acc: 0.7133\n",
      "epoch: 37/100\n",
      "time: 0.17, training_acc: 0.8867, test_acc: 0.7433\n",
      "epoch: 38/100\n",
      "time: 0.16, training_acc: 0.8689, test_acc: 0.73\n",
      "epoch: 39/100\n",
      "time: 0.16, training_acc: 0.8856, test_acc: 0.7533\n",
      "epoch: 40/100\n",
      "time: 0.15, training_acc: 0.8711, test_acc: 0.7467\n",
      "epoch: 41/100\n",
      "time: 0.16, training_acc: 0.8919, test_acc: 0.76\n",
      "epoch: 42/100\n",
      "time: 0.1537, training_acc: 0.8893, test_acc: 0.7633\n",
      "epoch: 43/100\n",
      "time: 0.1501, training_acc: 0.8956, test_acc: 0.77\n",
      "epoch: 44/100\n",
      "time: 0.15, training_acc: 0.8974, test_acc: 0.7633\n",
      "epoch: 45/100\n",
      "time: 0.14, training_acc: 0.8981, test_acc: 0.77\n",
      "epoch: 46/100\n",
      "time: 0.15, training_acc: 0.9089, test_acc: 0.77\n",
      "epoch: 47/100\n",
      "time: 0.16, training_acc: 0.9104, test_acc: 0.7733\n",
      "epoch: 48/100\n",
      "time: 0.15, training_acc: 0.9215, test_acc: 0.77\n",
      "epoch: 49/100\n",
      "time: 0.1752, training_acc: 0.9041, test_acc: 0.7567\n",
      "epoch: 50/100\n",
      "time: 0.15, training_acc: 0.9196, test_acc: 0.7733\n",
      "epoch: 51/100\n",
      "time: 0.15, training_acc: 0.9263, test_acc: 0.7767\n",
      "epoch: 52/100\n",
      "time: 0.14, training_acc: 0.9289, test_acc: 0.7667\n",
      "epoch: 53/100\n",
      "time: 0.16, training_acc: 0.9274, test_acc: 0.78\n",
      "epoch: 54/100\n",
      "time: 0.17, training_acc: 0.9333, test_acc: 0.77\n",
      "epoch: 55/100\n",
      "time: 0.16, training_acc: 0.9422, test_acc: 0.78\n",
      "epoch: 56/100\n",
      "time: 0.15, training_acc: 0.9289, test_acc: 0.78\n",
      "epoch: 57/100\n",
      "time: 0.16, training_acc: 0.9289, test_acc: 0.7767\n",
      "epoch: 58/100\n",
      "time: 0.15, training_acc: 0.9341, test_acc: 0.7767\n",
      "epoch: 59/100\n",
      "time: 0.15, training_acc: 0.95, test_acc: 0.7633\n",
      "epoch: 60/100\n",
      "time: 0.16, training_acc: 0.9511, test_acc: 0.78\n",
      "epoch: 61/100\n",
      "time: 0.17, training_acc: 0.947, test_acc: 0.7867\n",
      "epoch: 62/100\n",
      "time: 0.16, training_acc: 0.9574, test_acc: 0.78\n",
      "epoch: 63/100\n",
      "time: 0.1601, training_acc: 0.9637, test_acc: 0.78\n",
      "epoch: 64/100\n",
      "time: 0.1501, training_acc: 0.9552, test_acc: 0.78\n",
      "epoch: 65/100\n",
      "time: 0.1702, training_acc: 0.9593, test_acc: 0.7867\n",
      "epoch: 66/100\n",
      "time: 0.1602, training_acc: 0.9674, test_acc: 0.7867\n",
      "epoch: 67/100\n",
      "time: 0.16, training_acc: 0.9667, test_acc: 0.7867\n",
      "epoch: 68/100\n",
      "time: 0.1702, training_acc: 0.9719, test_acc: 0.78\n",
      "epoch: 69/100\n",
      "time: 0.1602, training_acc: 0.9763, test_acc: 0.78\n",
      "epoch: 70/100\n",
      "time: 0.1701, training_acc: 0.9752, test_acc: 0.7833\n",
      "epoch: 71/100\n",
      "time: 0.17, training_acc: 0.9793, test_acc: 0.7833\n",
      "epoch: 72/100\n",
      "time: 0.16, training_acc: 0.9811, test_acc: 0.7833\n",
      "epoch: 73/100\n",
      "time: 0.16, training_acc: 0.9807, test_acc: 0.78\n",
      "epoch: 74/100\n",
      "time: 0.14, training_acc: 0.983, test_acc: 0.78\n",
      "epoch: 75/100\n",
      "time: 0.16, training_acc: 0.9848, test_acc: 0.78\n",
      "epoch: 76/100\n",
      "time: 0.16, training_acc: 0.9844, test_acc: 0.78\n",
      "epoch: 77/100\n",
      "time: 0.17, training_acc: 0.9881, test_acc: 0.78\n",
      "epoch: 78/100\n",
      "time: 0.1665, training_acc: 0.9878, test_acc: 0.7767\n",
      "epoch: 79/100\n",
      "time: 0.14, training_acc: 0.9915, test_acc: 0.7833\n",
      "epoch: 80/100\n",
      "time: 0.14, training_acc: 0.9915, test_acc: 0.7833\n",
      "epoch: 81/100\n",
      "time: 0.1702, training_acc: 0.9922, test_acc: 0.7833\n",
      "epoch: 82/100\n",
      "time: 0.1501, training_acc: 0.993, test_acc: 0.7833\n",
      "epoch: 83/100\n",
      "time: 0.1602, training_acc: 0.9937, test_acc: 0.7867\n",
      "epoch: 84/100\n",
      "time: 0.1602, training_acc: 0.9956, test_acc: 0.7867\n",
      "epoch: 85/100\n",
      "time: 0.1701, training_acc: 0.9959, test_acc: 0.7867\n",
      "epoch: 86/100\n",
      "time: 0.1518, training_acc: 0.9974, test_acc: 0.7867\n",
      "epoch: 87/100\n",
      "time: 0.17, training_acc: 0.9985, test_acc: 0.7867\n",
      "epoch: 88/100\n",
      "time: 0.17, training_acc: 0.9985, test_acc: 0.7867\n",
      "epoch: 89/100\n",
      "time: 0.18, training_acc: 0.9989, test_acc: 0.7867\n"
     ]
    }
   ],
   "source": [
    "train_acc_list,test_acc_list,train_error_list,test_error_list = nn.train(Xorig,Yorig,log=True)"
   ]
  },
  {
   "cell_type": "code",
   "execution_count": 69,
   "metadata": {},
   "outputs": [
    {
     "data": {
      "application/vnd.jupyter.widget-view+json": {
       "model_id": "d2f157be391a401e8ac68c6f262f8bbf",
       "version_major": 2,
       "version_minor": 0
      },
      "text/plain": [
       "HBox(children=(FloatProgress(value=0.0, max=6.0), HTML(value='')))"
      ]
     },
     "metadata": {},
     "output_type": "display_data"
    },
    {
     "name": "stderr",
     "output_type": "stream",
     "text": [
      "c:\\users\\kshitij alwadhi\\appdata\\local\\programs\\python\\python37\\lib\\site-packages\\ipykernel_launcher.py:22: RuntimeWarning: overflow encountered in exp\n",
      "c:\\users\\kshitij alwadhi\\appdata\\local\\programs\\python\\python37\\lib\\site-packages\\ipykernel_launcher.py:22: RuntimeWarning: invalid value encountered in true_divide\n",
      "c:\\users\\kshitij alwadhi\\appdata\\local\\programs\\python\\python37\\lib\\site-packages\\ipykernel_launcher.py:5: RuntimeWarning: invalid value encountered in greater\n",
      "  \"\"\"\n",
      "c:\\users\\kshitij alwadhi\\appdata\\local\\programs\\python\\python37\\lib\\site-packages\\ipykernel_launcher.py:6: RuntimeWarning: invalid value encountered in less_equal\n",
      "  \n"
     ]
    },
    {
     "name": "stdout",
     "output_type": "stream",
     "text": [
      "\n"
     ]
    }
   ],
   "source": [
    "train_list = []\n",
    "test_list = []\n",
    "time_list = []\n",
    "for reg in tqdm([1e-14,1e-10,1e-6,1e-2,1e2,1e6]):\n",
    "    t1 = time.time()\n",
    "    nn = NN(epochs = 100,alpha=0.004,layers=2,nodes=[100,64],lam=reg)\n",
    "    train_acc_list,test_acc_list,train_error_list,test_error_list = nn.train(Xorig,Yorig,log=False)\n",
    "    t2 = time.time()\n",
    "    time_list.append(t2-t1)\n",
    "    train_list.append(train_acc_list[-1])\n",
    "    test_list.append(test_acc_list[-1])"
   ]
  },
  {
   "cell_type": "code",
   "execution_count": 70,
   "metadata": {},
   "outputs": [
    {
     "data": {
      "image/png": "[encoded data removed]",
      "text/plain": [
       "<Figure size 432x288 with 1 Axes>"
      ]
     },
     "metadata": {},
     "output_type": "display_data"
    }
   ],
   "source": [
    "X = [-14,-10,-6,-2,2,6]\n",
    "plt.plot(X,train_list, label=\"Train Accuracy\")\n",
    "plt.plot(X,test_list,label=\"Test Accuracy\")\n",
    "plt.xlabel('Log(Lambda)')\n",
    "plt.ylabel('Accuracy')\n",
    "plt.title('Accuracy vs Lambda)')\n",
    "plt.legend()\n",
    "plt.savefig('Plots/Accuracy vs Lambda_1.png',dpi=1200)\n",
    "plt.show()"
   ]
  },
  {
   "cell_type": "code",
   "execution_count": 71,
   "metadata": {},
   "outputs": [
    {
     "data": {
      "image/png": "[encoded data removed]",
      "text/plain": [
       "<Figure size 432x288 with 1 Axes>"
      ]
     },
     "metadata": {},
     "output_type": "display_data"
    }
   ],
   "source": [
    "X = [-14,-10,-6,-2,2,6]\n",
    "plt.plot(X,time_list, label=\"Time taken\")\n",
    "plt.xlabel('Log(Lambda)')\n",
    "plt.ylabel('Time taken(sec)')\n",
    "plt.title('Time vs Lambda)')\n",
    "plt.savefig('Plots/Time vs Lambda_1.png',dpi=1200)\n",
    "plt.show()"
   ]
  },
  {
   "cell_type": "code",
   "execution_count": 72,
   "metadata": {},
   "outputs": [
    {
     "data": {
      "text/html": [
       "<div>\n",
       "<style scoped>\n",
       "    .dataframe tbody tr th:only-of-type {\n",
       "        vertical-align: middle;\n",
       "    }\n",
       "\n",
       "    .dataframe tbody tr th {\n",
       "        vertical-align: top;\n",
       "    }\n",
       "\n",
       "    .dataframe thead th {\n",
       "        text-align: right;\n",
       "    }\n",
       "</style>\n",
       "<table border=\"1\" class=\"dataframe\">\n",
       "  <thead>\n",
       "    <tr style=\"text-align: right;\">\n",
       "      <th></th>\n",
       "      <th>lam</th>\n",
       "      <th>train_acc</th>\n",
       "      <th>test_acc</th>\n",
       "      <th>time_taken</th>\n",
       "    </tr>\n",
       "  </thead>\n",
       "  <tbody>\n",
       "    <tr>\n",
       "      <th>0</th>\n",
       "      <td>-14</td>\n",
       "      <td>0.998519</td>\n",
       "      <td>0.790000</td>\n",
       "      <td>15.902141</td>\n",
       "    </tr>\n",
       "    <tr>\n",
       "      <th>1</th>\n",
       "      <td>-10</td>\n",
       "      <td>0.998148</td>\n",
       "      <td>0.803333</td>\n",
       "      <td>14.956310</td>\n",
       "    </tr>\n",
       "    <tr>\n",
       "      <th>2</th>\n",
       "      <td>-6</td>\n",
       "      <td>0.999259</td>\n",
       "      <td>0.803333</td>\n",
       "      <td>15.590128</td>\n",
       "    </tr>\n",
       "    <tr>\n",
       "      <th>3</th>\n",
       "      <td>-2</td>\n",
       "      <td>0.997778</td>\n",
       "      <td>0.810000</td>\n",
       "      <td>16.014454</td>\n",
       "    </tr>\n",
       "    <tr>\n",
       "      <th>4</th>\n",
       "      <td>2</td>\n",
       "      <td>0.111111</td>\n",
       "      <td>0.113333</td>\n",
       "      <td>16.522977</td>\n",
       "    </tr>\n",
       "    <tr>\n",
       "      <th>5</th>\n",
       "      <td>6</td>\n",
       "      <td>0.101481</td>\n",
       "      <td>0.080000</td>\n",
       "      <td>18.006861</td>\n",
       "    </tr>\n",
       "  </tbody>\n",
       "</table>\n",
       "</div>"
      ],
      "text/plain": [
       "   lam  train_acc  test_acc  time_taken\n",
       "0  -14   0.998519  0.790000   15.902141\n",
       "1  -10   0.998148  0.803333   14.956310\n",
       "2   -6   0.999259  0.803333   15.590128\n",
       "3   -2   0.997778  0.810000   16.014454\n",
       "4    2   0.111111  0.113333   16.522977\n",
       "5    6   0.101481  0.080000   18.006861"
      ]
     },
     "execution_count": 72,
     "metadata": {},
     "output_type": "execute_result"
    }
   ],
   "source": [
    "tempdf = pd.DataFrame({'lam':[-14,-10,-6,-2,2,6],'train_acc':train_list,'test_acc':test_list,'time_taken':time_list})\n",
    "tempdf"
   ]
  },
  {
   "cell_type": "code",
   "execution_count": null,
   "metadata": {},
   "outputs": [],
   "source": []
  },
  {
   "cell_type": "code",
   "execution_count": 73,
   "metadata": {},
   "outputs": [
    {
     "data": {
      "application/vnd.jupyter.widget-view+json": {
       "model_id": "91c437f6a39240be92521e18fefc71cd",
       "version_major": 2,
       "version_minor": 0
      },
      "text/plain": [
       "HBox(children=(FloatProgress(value=0.0, max=6.0), HTML(value='')))"
      ]
     },
     "metadata": {},
     "output_type": "display_data"
    },
    {
     "name": "stdout",
     "output_type": "stream",
     "text": [
      "\n"
     ]
    }
   ],
   "source": [
    "train_list = []\n",
    "test_list = []\n",
    "time_list = []\n",
    "for reg in tqdm([0.01,0.05,0.1,0.5,1,5]):\n",
    "    t1 = time.time()\n",
    "    nn = NN(epochs = 100,alpha=0.004,layers=2,nodes=[100,64],lam=reg)\n",
    "    train_acc_list,test_acc_list,train_error_list,test_error_list = nn.train(Xorig,Yorig,log=False)\n",
    "    t2 = time.time()\n",
    "    time_list.append(t2-t1)\n",
    "    train_list.append(train_acc_list[-1])\n",
    "    test_list.append(test_acc_list[-1])"
   ]
  },
  {
   "cell_type": "code",
   "execution_count": 74,
   "metadata": {},
   "outputs": [
    {
     "data": {
      "image/png": "[encoded data removed]",
      "text/plain": [
       "<Figure size 432x288 with 1 Axes>"
      ]
     },
     "metadata": {},
     "output_type": "display_data"
    }
   ],
   "source": [
    "X = [0.01,0.05,0.1,0.5,1,5]\n",
    "plt.plot(X,train_list, label=\"Train Accuracy\")\n",
    "plt.plot(X,test_list,label=\"Test Accuracy\")\n",
    "plt.xlabel('(Lambda)')\n",
    "plt.ylabel('Accuracy')\n",
    "plt.title('Accuracy vs Lambda)')\n",
    "plt.legend()\n",
    "plt.savefig('Plots/Accuracy vs Lambda_2.png',dpi=1200)\n",
    "plt.show()"
   ]
  },
  {
   "cell_type": "code",
   "execution_count": 75,
   "metadata": {},
   "outputs": [
    {
     "data": {
      "image/png": "[encoded data removed]",
      "text/plain": [
       "<Figure size 432x288 with 1 Axes>"
      ]
     },
     "metadata": {},
     "output_type": "display_data"
    }
   ],
   "source": [
    "X = [0.01,0.05,0.1,0.5,1,5]\n",
    "plt.plot(X,time_list, label=\"Time taken\")\n",
    "plt.xlabel('Log(Lambda)')\n",
    "plt.ylabel('Time taken(sec)')\n",
    "plt.title('Time vs Lambda)')\n",
    "plt.savefig('Plots/Time vs Lambda_2.png',dpi=1200)\n",
    "plt.show()"
   ]
  },
  {
   "cell_type": "code",
   "execution_count": 76,
   "metadata": {},
   "outputs": [
    {
     "data": {
      "text/html": [
       "<div>\n",
       "<style scoped>\n",
       "    .dataframe tbody tr th:only-of-type {\n",
       "        vertical-align: middle;\n",
       "    }\n",
       "\n",
       "    .dataframe tbody tr th {\n",
       "        vertical-align: top;\n",
       "    }\n",
       "\n",
       "    .dataframe thead th {\n",
       "        text-align: right;\n",
       "    }\n",
       "</style>\n",
       "<table border=\"1\" class=\"dataframe\">\n",
       "  <thead>\n",
       "    <tr style=\"text-align: right;\">\n",
       "      <th></th>\n",
       "      <th>lam</th>\n",
       "      <th>train_acc</th>\n",
       "      <th>test_acc</th>\n",
       "      <th>time_taken</th>\n",
       "    </tr>\n",
       "  </thead>\n",
       "  <tbody>\n",
       "    <tr>\n",
       "      <th>0</th>\n",
       "      <td>0.01</td>\n",
       "      <td>0.997778</td>\n",
       "      <td>0.810000</td>\n",
       "      <td>16.045384</td>\n",
       "    </tr>\n",
       "    <tr>\n",
       "      <th>1</th>\n",
       "      <td>0.05</td>\n",
       "      <td>0.997037</td>\n",
       "      <td>0.786667</td>\n",
       "      <td>27.378482</td>\n",
       "    </tr>\n",
       "    <tr>\n",
       "      <th>2</th>\n",
       "      <td>0.10</td>\n",
       "      <td>0.994815</td>\n",
       "      <td>0.796667</td>\n",
       "      <td>27.799001</td>\n",
       "    </tr>\n",
       "    <tr>\n",
       "      <th>3</th>\n",
       "      <td>0.50</td>\n",
       "      <td>0.934074</td>\n",
       "      <td>0.886667</td>\n",
       "      <td>19.820700</td>\n",
       "    </tr>\n",
       "    <tr>\n",
       "      <th>4</th>\n",
       "      <td>1.00</td>\n",
       "      <td>0.887407</td>\n",
       "      <td>0.896667</td>\n",
       "      <td>16.145968</td>\n",
       "    </tr>\n",
       "    <tr>\n",
       "      <th>5</th>\n",
       "      <td>5.00</td>\n",
       "      <td>0.111111</td>\n",
       "      <td>0.113333</td>\n",
       "      <td>31.607286</td>\n",
       "    </tr>\n",
       "  </tbody>\n",
       "</table>\n",
       "</div>"
      ],
      "text/plain": [
       "    lam  train_acc  test_acc  time_taken\n",
       "0  0.01   0.997778  0.810000   16.045384\n",
       "1  0.05   0.997037  0.786667   27.378482\n",
       "2  0.10   0.994815  0.796667   27.799001\n",
       "3  0.50   0.934074  0.886667   19.820700\n",
       "4  1.00   0.887407  0.896667   16.145968\n",
       "5  5.00   0.111111  0.113333   31.607286"
      ]
     },
     "execution_count": 76,
     "metadata": {},
     "output_type": "execute_result"
    }
   ],
   "source": [
    "tempdf = pd.DataFrame({'lam':[0.01,0.05,0.1,0.5,1,5],'train_acc':train_list,'test_acc':test_list,'time_taken':time_list})\n",
    "tempdf"
   ]
  },
  {
   "cell_type": "code",
   "execution_count": null,
   "metadata": {},
   "outputs": [],
   "source": []
  },
  {
   "cell_type": "code",
   "execution_count": 77,
   "metadata": {},
   "outputs": [
    {
     "data": {
      "application/vnd.jupyter.widget-view+json": {
       "model_id": "92a6d9ea07ae4abda64f1b86a8168ec1",
       "version_major": 2,
       "version_minor": 0
      },
      "text/plain": [
       "HBox(children=(FloatProgress(value=0.0, max=7.0), HTML(value='')))"
      ]
     },
     "metadata": {},
     "output_type": "display_data"
    },
    {
     "name": "stdout",
     "output_type": "stream",
     "text": [
      "\n"
     ]
    }
   ],
   "source": [
    "train_list = []\n",
    "test_list = []\n",
    "time_list = []\n",
    "for alpha in tqdm([1e-8,1e-7,1e-6,1e-5,1e-4,1e-3,1e-2]):\n",
    "    t1 = time.time()\n",
    "    nn = NN(epochs = 100,alpha=alpha,layers=2,nodes=[100,64],lam=0.5)\n",
    "    train_acc_list,test_acc_list,train_error_list,test_error_list = nn.train(Xorig,Yorig,log=False)\n",
    "    t2 = time.time()\n",
    "    time_list.append(t2-t1)\n",
    "    train_list.append(train_acc_list[-1])\n",
    "    test_list.append(test_acc_list[-1])"
   ]
  },
  {
   "cell_type": "code",
   "execution_count": 78,
   "metadata": {},
   "outputs": [
    {
     "data": {
      "image/png": "[encoded data removed]",
      "text/plain": [
       "<Figure size 432x288 with 1 Axes>"
      ]
     },
     "metadata": {},
     "output_type": "display_data"
    }
   ],
   "source": [
    "X = [-8,-7,-6,-5,-4,-3,-2]\n",
    "plt.plot(X,train_list, label=\"Train Accuracy\")\n",
    "plt.plot(X,test_list,label=\"Test Accuracy\")\n",
    "plt.xlabel('log(learning rate)')\n",
    "plt.ylabel('Accuracy')\n",
    "plt.title('Accuracy vs Learning rate)')\n",
    "plt.legend()\n",
    "plt.savefig('Plots/Accuracy vs LR_1.png',dpi=1200)\n",
    "plt.show()"
   ]
  },
  {
   "cell_type": "code",
   "execution_count": 79,
   "metadata": {},
   "outputs": [
    {
     "data": {
      "image/png": "[encoded data removed]",
      "text/plain": [
       "<Figure size 432x288 with 1 Axes>"
      ]
     },
     "metadata": {},
     "output_type": "display_data"
    }
   ],
   "source": [
    "X = [-8,-7,-6,-5,-4,-3,-2]\n",
    "plt.plot(X,time_list, label=\"Time taken\")\n",
    "plt.xlabel('log(learning rate)')\n",
    "plt.ylabel('Time taken(sec)')\n",
    "plt.title('Time vs Lambda)')\n",
    "plt.savefig('Plots/Time vs LR_1.png',dpi=1200)\n",
    "plt.show()"
   ]
  },
  {
   "cell_type": "code",
   "execution_count": 80,
   "metadata": {},
   "outputs": [
    {
     "data": {
      "text/html": [
       "<div>\n",
       "<style scoped>\n",
       "    .dataframe tbody tr th:only-of-type {\n",
       "        vertical-align: middle;\n",
       "    }\n",
       "\n",
       "    .dataframe tbody tr th {\n",
       "        vertical-align: top;\n",
       "    }\n",
       "\n",
       "    .dataframe thead th {\n",
       "        text-align: right;\n",
       "    }\n",
       "</style>\n",
       "<table border=\"1\" class=\"dataframe\">\n",
       "  <thead>\n",
       "    <tr style=\"text-align: right;\">\n",
       "      <th></th>\n",
       "      <th>LR</th>\n",
       "      <th>train_acc</th>\n",
       "      <th>test_acc</th>\n",
       "      <th>time_taken</th>\n",
       "    </tr>\n",
       "  </thead>\n",
       "  <tbody>\n",
       "    <tr>\n",
       "      <th>0</th>\n",
       "      <td>1.000000e-08</td>\n",
       "      <td>0.102593</td>\n",
       "      <td>0.080000</td>\n",
       "      <td>34.551819</td>\n",
       "    </tr>\n",
       "    <tr>\n",
       "      <th>1</th>\n",
       "      <td>1.000000e-07</td>\n",
       "      <td>0.090370</td>\n",
       "      <td>0.083333</td>\n",
       "      <td>29.931592</td>\n",
       "    </tr>\n",
       "    <tr>\n",
       "      <th>2</th>\n",
       "      <td>1.000000e-06</td>\n",
       "      <td>0.219630</td>\n",
       "      <td>0.210000</td>\n",
       "      <td>18.679262</td>\n",
       "    </tr>\n",
       "    <tr>\n",
       "      <th>3</th>\n",
       "      <td>1.000000e-05</td>\n",
       "      <td>0.635185</td>\n",
       "      <td>0.600000</td>\n",
       "      <td>21.738911</td>\n",
       "    </tr>\n",
       "    <tr>\n",
       "      <th>4</th>\n",
       "      <td>1.000000e-04</td>\n",
       "      <td>0.719259</td>\n",
       "      <td>0.666667</td>\n",
       "      <td>9.415470</td>\n",
       "    </tr>\n",
       "    <tr>\n",
       "      <th>5</th>\n",
       "      <td>1.000000e-03</td>\n",
       "      <td>0.743333</td>\n",
       "      <td>0.716667</td>\n",
       "      <td>10.381021</td>\n",
       "    </tr>\n",
       "    <tr>\n",
       "      <th>6</th>\n",
       "      <td>1.000000e-02</td>\n",
       "      <td>0.927037</td>\n",
       "      <td>0.883333</td>\n",
       "      <td>7.037894</td>\n",
       "    </tr>\n",
       "  </tbody>\n",
       "</table>\n",
       "</div>"
      ],
      "text/plain": [
       "             LR  train_acc  test_acc  time_taken\n",
       "0  1.000000e-08   0.102593  0.080000   34.551819\n",
       "1  1.000000e-07   0.090370  0.083333   29.931592\n",
       "2  1.000000e-06   0.219630  0.210000   18.679262\n",
       "3  1.000000e-05   0.635185  0.600000   21.738911\n",
       "4  1.000000e-04   0.719259  0.666667    9.415470\n",
       "5  1.000000e-03   0.743333  0.716667   10.381021\n",
       "6  1.000000e-02   0.927037  0.883333    7.037894"
      ]
     },
     "execution_count": 80,
     "metadata": {},
     "output_type": "execute_result"
    }
   ],
   "source": [
    "tempdf = pd.DataFrame({'LR':[1e-8,1e-7,1e-6,1e-5,1e-4,1e-3,1e-2],'train_acc':train_list,'test_acc':test_list,'time_taken':time_list})\n",
    "tempdf"
   ]
  },
  {
   "cell_type": "code",
   "execution_count": null,
   "metadata": {},
   "outputs": [],
   "source": []
  },
  {
   "cell_type": "code",
   "execution_count": 81,
   "metadata": {},
   "outputs": [
    {
     "data": {
      "application/vnd.jupyter.widget-view+json": {
       "model_id": "b314b332a02b4a248306c2f3f9561eac",
       "version_major": 2,
       "version_minor": 0
      },
      "text/plain": [
       "HBox(children=(FloatProgress(value=0.0, max=7.0), HTML(value='')))"
      ]
     },
     "metadata": {},
     "output_type": "display_data"
    },
    {
     "name": "stdout",
     "output_type": "stream",
     "text": [
      "\n"
     ]
    }
   ],
   "source": [
    "train_list = []\n",
    "test_list = []\n",
    "time_list = []\n",
    "for alpha in tqdm([1e-3,2e-3,3e-3,4e-3,5e-3,6e-3,7e-3]):\n",
    "    t1 = time.time()\n",
    "    nn = NN(epochs = 100,alpha=alpha,layers=2,nodes=[100,64],lam=0.5)\n",
    "    train_acc_list,test_acc_list,train_error_list,test_error_list = nn.train(Xorig,Yorig,log=False)\n",
    "    t2 = time.time()\n",
    "    time_list.append(t2-t1)\n",
    "    train_list.append(train_acc_list[-1])\n",
    "    test_list.append(test_acc_list[-1])"
   ]
  },
  {
   "cell_type": "code",
   "execution_count": 82,
   "metadata": {},
   "outputs": [
    {
     "data": {
      "image/png": "[encoded data removed]",
      "text/plain": [
       "<Figure size 432x288 with 1 Axes>"
      ]
     },
     "metadata": {},
     "output_type": "display_data"
    }
   ],
   "source": [
    "X = [1,2,3,4,5,6,7]\n",
    "plt.plot(X,train_list, label=\"Train Accuracy\")\n",
    "plt.plot(X,test_list,label=\"Test Accuracy\")\n",
    "plt.xlabel('log(learning rate * 1e-3)')\n",
    "plt.ylabel('Accuracy')\n",
    "plt.title('Accuracy vs Learning rate)')\n",
    "plt.legend()\n",
    "plt.savefig('Plots/Accuracy vs LR_2.png',dpi=1200)\n",
    "plt.show()"
   ]
  },
  {
   "cell_type": "code",
   "execution_count": 83,
   "metadata": {},
   "outputs": [
    {
     "data": {
      "image/png": "[encoded data removed]",
      "text/plain": [
       "<Figure size 432x288 with 1 Axes>"
      ]
     },
     "metadata": {},
     "output_type": "display_data"
    }
   ],
   "source": [
    "plt.plot(X,time_list, label=\"Time taken\")\n",
    "plt.xlabel('log(learning rate)')\n",
    "plt.ylabel('Time taken(sec)')\n",
    "plt.title('Time vs Lambda)')\n",
    "plt.savefig('Plots/Time vs LR_2.png',dpi=1200)\n",
    "plt.show()"
   ]
  },
  {
   "cell_type": "code",
   "execution_count": 84,
   "metadata": {},
   "outputs": [
    {
     "data": {
      "text/html": [
       "<div>\n",
       "<style scoped>\n",
       "    .dataframe tbody tr th:only-of-type {\n",
       "        vertical-align: middle;\n",
       "    }\n",
       "\n",
       "    .dataframe tbody tr th {\n",
       "        vertical-align: top;\n",
       "    }\n",
       "\n",
       "    .dataframe thead th {\n",
       "        text-align: right;\n",
       "    }\n",
       "</style>\n",
       "<table border=\"1\" class=\"dataframe\">\n",
       "  <thead>\n",
       "    <tr style=\"text-align: right;\">\n",
       "      <th></th>\n",
       "      <th>LR</th>\n",
       "      <th>train_acc</th>\n",
       "      <th>test_acc</th>\n",
       "      <th>time_taken</th>\n",
       "    </tr>\n",
       "  </thead>\n",
       "  <tbody>\n",
       "    <tr>\n",
       "      <th>0</th>\n",
       "      <td>0.001</td>\n",
       "      <td>0.743333</td>\n",
       "      <td>0.716667</td>\n",
       "      <td>9.007805</td>\n",
       "    </tr>\n",
       "    <tr>\n",
       "      <th>1</th>\n",
       "      <td>0.002</td>\n",
       "      <td>0.923333</td>\n",
       "      <td>0.843333</td>\n",
       "      <td>22.419587</td>\n",
       "    </tr>\n",
       "    <tr>\n",
       "      <th>2</th>\n",
       "      <td>0.003</td>\n",
       "      <td>0.934815</td>\n",
       "      <td>0.880000</td>\n",
       "      <td>22.394939</td>\n",
       "    </tr>\n",
       "    <tr>\n",
       "      <th>3</th>\n",
       "      <td>0.004</td>\n",
       "      <td>0.934074</td>\n",
       "      <td>0.886667</td>\n",
       "      <td>18.418861</td>\n",
       "    </tr>\n",
       "    <tr>\n",
       "      <th>4</th>\n",
       "      <td>0.005</td>\n",
       "      <td>0.932222</td>\n",
       "      <td>0.886667</td>\n",
       "      <td>19.071711</td>\n",
       "    </tr>\n",
       "    <tr>\n",
       "      <th>5</th>\n",
       "      <td>0.006</td>\n",
       "      <td>0.928148</td>\n",
       "      <td>0.900000</td>\n",
       "      <td>18.239354</td>\n",
       "    </tr>\n",
       "    <tr>\n",
       "      <th>6</th>\n",
       "      <td>0.007</td>\n",
       "      <td>0.928519</td>\n",
       "      <td>0.883333</td>\n",
       "      <td>11.061211</td>\n",
       "    </tr>\n",
       "  </tbody>\n",
       "</table>\n",
       "</div>"
      ],
      "text/plain": [
       "      LR  train_acc  test_acc  time_taken\n",
       "0  0.001   0.743333  0.716667    9.007805\n",
       "1  0.002   0.923333  0.843333   22.419587\n",
       "2  0.003   0.934815  0.880000   22.394939\n",
       "3  0.004   0.934074  0.886667   18.418861\n",
       "4  0.005   0.932222  0.886667   19.071711\n",
       "5  0.006   0.928148  0.900000   18.239354\n",
       "6  0.007   0.928519  0.883333   11.061211"
      ]
     },
     "execution_count": 84,
     "metadata": {},
     "output_type": "execute_result"
    }
   ],
   "source": [
    "tempdf = pd.DataFrame({'LR':[1e-3,2e-3,3e-3,4e-3,5e-3,6e-3,7e-3],'train_acc':train_list,'test_acc':test_list,'time_taken':time_list})\n",
    "tempdf"
   ]
  },
  {
   "cell_type": "code",
   "execution_count": null,
   "metadata": {},
   "outputs": [],
   "source": []
  },
  {
   "cell_type": "code",
   "execution_count": 86,
   "metadata": {},
   "outputs": [
    {
     "data": {
      "application/vnd.jupyter.widget-view+json": {
       "model_id": "c2a24d60d82748dfafb61d61ecde9772",
       "version_major": 2,
       "version_minor": 0
      },
      "text/plain": [
       "HBox(children=(FloatProgress(value=0.0, max=4.0), HTML(value='')))"
      ]
     },
     "metadata": {},
     "output_type": "display_data"
    },
    {
     "name": "stdout",
     "output_type": "stream",
     "text": [
      "\n"
     ]
    }
   ],
   "source": [
    "train_list = []\n",
    "test_list = []\n",
    "time_list = []\n",
    "for bs in tqdm([8,16,32,64]):\n",
    "    t1 = time.time()\n",
    "    nn = NN(epochs = 100,alpha=5e-3,layers=2,nodes=[100,64],lam=0.5,bs=bs)\n",
    "    train_acc_list,test_acc_list,train_error_list,test_error_list = nn.train(Xorig,Yorig,log=False)\n",
    "    t2 = time.time()\n",
    "    time_list.append(t2-t1)\n",
    "    train_list.append(train_acc_list[-1])\n",
    "    test_list.append(test_acc_list[-1])"
   ]
  },
  {
   "cell_type": "code",
   "execution_count": 87,
   "metadata": {},
   "outputs": [
    {
     "data": {
      "image/png": "[encoded data removed]",
      "text/plain": [
       "<Figure size 432x288 with 1 Axes>"
      ]
     },
     "metadata": {},
     "output_type": "display_data"
    }
   ],
   "source": [
    "X = [8,16,32,64]\n",
    "plt.plot(X,train_list, label=\"Train Accuracy\")\n",
    "plt.plot(X,test_list,label=\"Test Accuracy\")\n",
    "plt.xlabel('Batch Size')\n",
    "plt.ylabel('Accuracy')\n",
    "plt.title('Accuracy vs Batch Size)')\n",
    "plt.legend()\n",
    "plt.savefig('Plots/Accuracy vs BS_1.png',dpi=1200)\n",
    "plt.show()"
   ]
  },
  {
   "cell_type": "code",
   "execution_count": 88,
   "metadata": {},
   "outputs": [
    {
     "data": {
      "image/png": "[encoded data removed]",
      "text/plain": [
       "<Figure size 432x288 with 1 Axes>"
      ]
     },
     "metadata": {},
     "output_type": "display_data"
    }
   ],
   "source": [
    "plt.plot(X,time_list, label=\"Time taken\")\n",
    "plt.xlabel('Batch size')\n",
    "plt.ylabel('Time taken(sec)')\n",
    "plt.title('Time vs Lambda)')\n",
    "plt.savefig('Plots/Time vs BS_1.png',dpi=1200)\n",
    "plt.show()"
   ]
  },
  {
   "cell_type": "code",
   "execution_count": 89,
   "metadata": {},
   "outputs": [
    {
     "data": {
      "text/html": [
       "<div>\n",
       "<style scoped>\n",
       "    .dataframe tbody tr th:only-of-type {\n",
       "        vertical-align: middle;\n",
       "    }\n",
       "\n",
       "    .dataframe tbody tr th {\n",
       "        vertical-align: top;\n",
       "    }\n",
       "\n",
       "    .dataframe thead th {\n",
       "        text-align: right;\n",
       "    }\n",
       "</style>\n",
       "<table border=\"1\" class=\"dataframe\">\n",
       "  <thead>\n",
       "    <tr style=\"text-align: right;\">\n",
       "      <th></th>\n",
       "      <th>BS</th>\n",
       "      <th>train_acc</th>\n",
       "      <th>test_acc</th>\n",
       "      <th>time_taken</th>\n",
       "    </tr>\n",
       "  </thead>\n",
       "  <tbody>\n",
       "    <tr>\n",
       "      <th>0</th>\n",
       "      <td>8</td>\n",
       "      <td>0.875556</td>\n",
       "      <td>0.880000</td>\n",
       "      <td>20.737143</td>\n",
       "    </tr>\n",
       "    <tr>\n",
       "      <th>1</th>\n",
       "      <td>16</td>\n",
       "      <td>0.932222</td>\n",
       "      <td>0.886667</td>\n",
       "      <td>31.194967</td>\n",
       "    </tr>\n",
       "    <tr>\n",
       "      <th>2</th>\n",
       "      <td>32</td>\n",
       "      <td>0.945926</td>\n",
       "      <td>0.820000</td>\n",
       "      <td>29.021666</td>\n",
       "    </tr>\n",
       "    <tr>\n",
       "      <th>3</th>\n",
       "      <td>64</td>\n",
       "      <td>0.831111</td>\n",
       "      <td>0.763333</td>\n",
       "      <td>26.515240</td>\n",
       "    </tr>\n",
       "  </tbody>\n",
       "</table>\n",
       "</div>"
      ],
      "text/plain": [
       "   BS  train_acc  test_acc  time_taken\n",
       "0   8   0.875556  0.880000   20.737143\n",
       "1  16   0.932222  0.886667   31.194967\n",
       "2  32   0.945926  0.820000   29.021666\n",
       "3  64   0.831111  0.763333   26.515240"
      ]
     },
     "execution_count": 89,
     "metadata": {},
     "output_type": "execute_result"
    }
   ],
   "source": [
    "tempdf = pd.DataFrame({'BS':[8,16,32,64],'train_acc':train_list,'test_acc':test_list,'time_taken':time_list})\n",
    "tempdf"
   ]
  },
  {
   "cell_type": "code",
   "execution_count": null,
   "metadata": {},
   "outputs": [],
   "source": []
  },
  {
   "cell_type": "code",
   "execution_count": null,
   "metadata": {},
   "outputs": [],
   "source": []
  },
  {
   "cell_type": "code",
   "execution_count": 98,
   "metadata": {},
   "outputs": [
    {
     "data": {
      "application/vnd.jupyter.widget-view+json": {
       "model_id": "bb699e1557de4c119991b44ddcd0d8d7",
       "version_major": 2,
       "version_minor": 0
      },
      "text/plain": [
       "HBox(children=(FloatProgress(value=0.0, max=6.0), HTML(value='')))"
      ]
     },
     "metadata": {},
     "output_type": "display_data"
    },
    {
     "name": "stdout",
     "output_type": "stream",
     "text": [
      "\n"
     ]
    },
    {
     "data": {
      "application/vnd.jupyter.widget-view+json": {
       "model_id": "6838ca1e1955410da41993e36f37f11c",
       "version_major": 2,
       "version_minor": 0
      },
      "text/plain": [
       "HBox(children=(FloatProgress(value=0.0, max=6.0), HTML(value='')))"
      ]
     },
     "metadata": {},
     "output_type": "display_data"
    },
    {
     "name": "stdout",
     "output_type": "stream",
     "text": [
      "\n"
     ]
    },
    {
     "data": {
      "application/vnd.jupyter.widget-view+json": {
       "model_id": "f73c7e91b6a44962a0320476eff9a9f5",
       "version_major": 2,
       "version_minor": 0
      },
      "text/plain": [
       "HBox(children=(FloatProgress(value=0.0, max=6.0), HTML(value='')))"
      ]
     },
     "metadata": {},
     "output_type": "display_data"
    },
    {
     "name": "stdout",
     "output_type": "stream",
     "text": [
      "\n"
     ]
    },
    {
     "data": {
      "application/vnd.jupyter.widget-view+json": {
       "model_id": "0f5bcdbf8fab42539cbc762a93a3bba6",
       "version_major": 2,
       "version_minor": 0
      },
      "text/plain": [
       "HBox(children=(FloatProgress(value=0.0, max=6.0), HTML(value='')))"
      ]
     },
     "metadata": {},
     "output_type": "display_data"
    },
    {
     "name": "stdout",
     "output_type": "stream",
     "text": [
      "\n"
     ]
    },
    {
     "data": {
      "application/vnd.jupyter.widget-view+json": {
       "model_id": "c0b9dca3ccfc45dabe673595b280e549",
       "version_major": 2,
       "version_minor": 0
      },
      "text/plain": [
       "HBox(children=(FloatProgress(value=0.0, max=6.0), HTML(value='')))"
      ]
     },
     "metadata": {},
     "output_type": "display_data"
    },
    {
     "name": "stdout",
     "output_type": "stream",
     "text": [
      "\n"
     ]
    },
    {
     "data": {
      "application/vnd.jupyter.widget-view+json": {
       "model_id": "c9525fc7f43c48c296cd5a48a67a82b7",
       "version_major": 2,
       "version_minor": 0
      },
      "text/plain": [
       "HBox(children=(FloatProgress(value=0.0, max=6.0), HTML(value='')))"
      ]
     },
     "metadata": {},
     "output_type": "display_data"
    },
    {
     "name": "stdout",
     "output_type": "stream",
     "text": [
      "\n"
     ]
    }
   ],
   "source": [
    "df = pd.DataFrame()\n",
    "bestLayer, bestLd, bestact = 0,0,0\n",
    "bestAcc = 0\n",
    "for layer in [1,2]:\n",
    "    for activation in [1,2,3]:\n",
    "        for lbd in tqdm([1e-8,1e-4,1e-2,5e-2,1e-1,5e-1]):\n",
    "            try:\n",
    "                nn = NN(epochs = 100,alpha=0.004,layers=layer,nodes=[100,64],lam=lbd,activation=activation,early=False)\n",
    "                train_acc_list,test_acc_list,train_error_list,test_error_list = nn.train(Xorig,Yorig,log=False)\n",
    "                test_acc = test_acc_list[-1]\n",
    "                train_acc = train_acc_list[-1]\n",
    "                if test_acc>bestAcc:\n",
    "                    bestLayer = layer\n",
    "                    bestLd = lbd\n",
    "                    bestact = activation\n",
    "                    bestAcc = test_acc\n",
    "                it = {'Layer':layer,'Activation':activation,'Lambd':lbd,'trainAcc':train_acc, 'testAcc':test_acc}\n",
    "                df = df.append(it,ignore_index=True)\n",
    "            except:\n",
    "                continue\n",
    "        df.to_csv('grid_pt1.csv',index=False)"
   ]
  },
  {
   "cell_type": "code",
   "execution_count": null,
   "metadata": {},
   "outputs": [],
   "source": []
  },
  {
   "cell_type": "code",
   "execution_count": null,
   "metadata": {},
   "outputs": [],
   "source": []
  },
  {
   "cell_type": "code",
   "execution_count": null,
   "metadata": {},
   "outputs": [],
   "source": []
  },
  {
   "cell_type": "code",
   "execution_count": null,
   "metadata": {},
   "outputs": [],
   "source": []
  },
  {
   "cell_type": "code",
   "execution_count": null,
   "metadata": {},
   "outputs": [],
   "source": []
  },
  {
   "cell_type": "code",
   "execution_count": null,
   "metadata": {},
   "outputs": [],
   "source": []
  },
  {
   "cell_type": "code",
   "execution_count": 100,
   "metadata": {},
   "outputs": [
    {
     "name": "stdout",
     "output_type": "stream",
     "text": [
      "epoch: 1/100\n",
      "time: 0.2994, training_acc: 0.6426, test_acc: 0.57\n",
      "epoch: 2/100\n",
      "time: 0.301, training_acc: 0.6915, test_acc: 0.6333\n",
      "epoch: 3/100\n",
      "time: 0.2915, training_acc: 0.7256, test_acc: 0.6867\n",
      "epoch: 4/100\n",
      "time: 0.301, training_acc: 0.7248, test_acc: 0.6567\n",
      "epoch: 5/100\n",
      "time: 0.2979, training_acc: 0.7307, test_acc: 0.67\n",
      "epoch: 6/100\n",
      "time: 0.2849, training_acc: 0.7389, test_acc: 0.6833\n",
      "epoch: 7/100\n",
      "time: 0.2727, training_acc: 0.7459, test_acc: 0.7\n",
      "epoch: 8/100\n",
      "time: 0.284, training_acc: 0.7393, test_acc: 0.67\n",
      "epoch: 9/100\n",
      "time: 0.2598, training_acc: 0.7452, test_acc: 0.6967\n",
      "epoch: 10/100\n",
      "time: 0.249, training_acc: 0.7485, test_acc: 0.71\n",
      "epoch: 11/100\n",
      "time: 0.273, training_acc: 0.7478, test_acc: 0.71\n",
      "epoch: 12/100\n",
      "time: 0.2628, training_acc: 0.7611, test_acc: 0.7233\n",
      "epoch: 13/100\n",
      "time: 0.2623, training_acc: 0.7644, test_acc: 0.72\n",
      "epoch: 14/100\n",
      "time: 0.2626, training_acc: 0.7741, test_acc: 0.72\n",
      "epoch: 15/100\n",
      "time: 0.2766, training_acc: 0.7841, test_acc: 0.72\n",
      "epoch: 16/100\n",
      "time: 0.2647, training_acc: 0.7896, test_acc: 0.73\n",
      "epoch: 17/100\n",
      "time: 0.2608, training_acc: 0.7996, test_acc: 0.7333\n",
      "epoch: 18/100\n",
      "time: 0.2932, training_acc: 0.807, test_acc: 0.7367\n",
      "epoch: 19/100\n",
      "time: 0.2787, training_acc: 0.8144, test_acc: 0.75\n",
      "epoch: 20/100\n",
      "time: 0.2595, training_acc: 0.8215, test_acc: 0.75\n",
      "epoch: 21/100\n",
      "time: 0.2662, training_acc: 0.8267, test_acc: 0.7567\n",
      "epoch: 22/100\n",
      "time: 0.2749, training_acc: 0.8315, test_acc: 0.7633\n",
      "epoch: 23/100\n",
      "time: 0.2535, training_acc: 0.8367, test_acc: 0.7633\n",
      "epoch: 24/100\n",
      "time: 0.2863, training_acc: 0.8419, test_acc: 0.7667\n",
      "epoch: 25/100\n",
      "time: 0.2601, training_acc: 0.8489, test_acc: 0.7667\n",
      "epoch: 26/100\n",
      "time: 0.2834, training_acc: 0.8519, test_acc: 0.7667\n",
      "epoch: 27/100\n",
      "time: 0.2552, training_acc: 0.8567, test_acc: 0.7733\n",
      "epoch: 28/100\n",
      "time: 0.2624, training_acc: 0.8641, test_acc: 0.7667\n",
      "epoch: 29/100\n",
      "time: 0.2797, training_acc: 0.8693, test_acc: 0.7767\n",
      "epoch: 30/100\n",
      "time: 0.251, training_acc: 0.8741, test_acc: 0.7767\n",
      "epoch: 31/100\n",
      "time: 0.2626, training_acc: 0.8778, test_acc: 0.7833\n",
      "epoch: 32/100\n",
      "time: 0.2738, training_acc: 0.8815, test_acc: 0.7933\n",
      "epoch: 33/100\n",
      "time: 0.2733, training_acc: 0.8856, test_acc: 0.7933\n",
      "epoch: 34/100\n",
      "time: 0.2642, training_acc: 0.8867, test_acc: 0.8\n",
      "epoch: 35/100\n",
      "time: 0.2644, training_acc: 0.8907, test_acc: 0.8\n",
      "epoch: 36/100\n",
      "time: 0.2821, training_acc: 0.8956, test_acc: 0.8067\n",
      "epoch: 37/100\n",
      "time: 0.2708, training_acc: 0.8993, test_acc: 0.8167\n",
      "epoch: 38/100\n",
      "time: 0.2472, training_acc: 0.9019, test_acc: 0.83\n",
      "epoch: 39/100\n",
      "time: 0.2624, training_acc: 0.9052, test_acc: 0.83\n",
      "epoch: 40/100\n",
      "time: 0.2594, training_acc: 0.9085, test_acc: 0.83\n",
      "epoch: 41/100\n",
      "time: 0.2662, training_acc: 0.9137, test_acc: 0.83\n",
      "epoch: 42/100\n",
      "time: 0.2798, training_acc: 0.9156, test_acc: 0.8333\n",
      "epoch: 43/100\n",
      "time: 0.2502, training_acc: 0.9152, test_acc: 0.8367\n",
      "epoch: 44/100\n",
      "time: 0.2834, training_acc: 0.9167, test_acc: 0.84\n",
      "epoch: 45/100\n",
      "time: 0.2664, training_acc: 0.9193, test_acc: 0.8433\n",
      "epoch: 46/100\n",
      "time: 0.2792, training_acc: 0.9226, test_acc: 0.8433\n",
      "epoch: 47/100\n",
      "time: 0.2757, training_acc: 0.9241, test_acc: 0.8467\n",
      "epoch: 48/100\n",
      "time: 0.2905, training_acc: 0.9259, test_acc: 0.84\n",
      "epoch: 49/100\n",
      "time: 0.2787, training_acc: 0.9274, test_acc: 0.84\n",
      "epoch: 50/100\n",
      "time: 0.2626, training_acc: 0.9285, test_acc: 0.84\n",
      "epoch: 51/100\n",
      "time: 0.262, training_acc: 0.9285, test_acc: 0.84\n",
      "epoch: 52/100\n",
      "time: 0.2516, training_acc: 0.9293, test_acc: 0.8467\n",
      "epoch: 53/100\n",
      "time: 0.2644, training_acc: 0.9289, test_acc: 0.8467\n",
      "epoch: 54/100\n",
      "time: 0.2555, training_acc: 0.9281, test_acc: 0.8433\n",
      "epoch: 55/100\n",
      "time: 0.282, training_acc: 0.9289, test_acc: 0.8467\n",
      "epoch: 56/100\n",
      "time: 0.2739, training_acc: 0.9285, test_acc: 0.8467\n",
      "epoch: 57/100\n",
      "time: 0.2532, training_acc: 0.9293, test_acc: 0.8467\n",
      "epoch: 58/100\n",
      "time: 0.2657, training_acc: 0.93, test_acc: 0.86\n",
      "epoch: 59/100\n",
      "time: 0.2757, training_acc: 0.9311, test_acc: 0.8633\n",
      "epoch: 60/100\n",
      "time: 0.2846, training_acc: 0.9319, test_acc: 0.8633\n",
      "epoch: 61/100\n",
      "time: 0.263, training_acc: 0.9319, test_acc: 0.87\n",
      "epoch: 62/100\n",
      "time: 0.2488, training_acc: 0.9319, test_acc: 0.87\n",
      "epoch: 63/100\n",
      "time: 0.2661, training_acc: 0.9326, test_acc: 0.87\n",
      "epoch: 64/100\n",
      "time: 0.2713, training_acc: 0.9322, test_acc: 0.8733\n",
      "epoch: 65/100\n",
      "time: 0.2683, training_acc: 0.9307, test_acc: 0.8767\n",
      "epoch: 66/100\n",
      "time: 0.264, training_acc: 0.9333, test_acc: 0.8767\n",
      "epoch: 67/100\n",
      "time: 0.2575, training_acc: 0.9333, test_acc: 0.88\n",
      "epoch: 68/100\n",
      "time: 0.2907, training_acc: 0.9337, test_acc: 0.88\n",
      "epoch: 69/100\n",
      "time: 0.2748, training_acc: 0.9341, test_acc: 0.8867\n",
      "epoch: 70/100\n",
      "time: 0.2677, training_acc: 0.9341, test_acc: 0.88\n",
      "epoch: 71/100\n",
      "time: 0.2822, training_acc: 0.9341, test_acc: 0.8833\n",
      "epoch: 72/100\n",
      "time: 0.2609, training_acc: 0.9333, test_acc: 0.8833\n",
      "epoch: 73/100\n",
      "time: 0.2695, training_acc: 0.9326, test_acc: 0.8867\n",
      "epoch: 74/100\n",
      "time: 0.2744, training_acc: 0.9333, test_acc: 0.89\n",
      "epoch: 75/100\n",
      "time: 0.2726, training_acc: 0.9326, test_acc: 0.89\n",
      "epoch: 76/100\n",
      "time: 0.2811, training_acc: 0.9311, test_acc: 0.89\n",
      "epoch: 77/100\n",
      "time: 0.2781, training_acc: 0.9315, test_acc: 0.89\n",
      "epoch: 78/100\n",
      "time: 0.2698, training_acc: 0.9307, test_acc: 0.89\n",
      "epoch: 79/100\n",
      "time: 0.2568, training_acc: 0.9311, test_acc: 0.8867\n",
      "epoch: 80/100\n",
      "time: 0.2541, training_acc: 0.933, test_acc: 0.8867\n",
      "epoch: 81/100\n",
      "time: 0.2774, training_acc: 0.9326, test_acc: 0.8867\n",
      "epoch: 82/100\n",
      "time: 0.2726, training_acc: 0.933, test_acc: 0.89\n",
      "epoch: 83/100\n",
      "time: 0.2935, training_acc: 0.9337, test_acc: 0.8933\n",
      "epoch: 84/100\n",
      "time: 0.2847, training_acc: 0.9326, test_acc: 0.89\n",
      "epoch: 85/100\n",
      "time: 0.2617, training_acc: 0.9326, test_acc: 0.89\n",
      "epoch: 86/100\n",
      "time: 0.2544, training_acc: 0.933, test_acc: 0.8867\n",
      "epoch: 87/100\n",
      "time: 0.2807, training_acc: 0.9326, test_acc: 0.89\n",
      "epoch: 88/100\n",
      "time: 0.2667, training_acc: 0.933, test_acc: 0.8867\n",
      "epoch: 89/100\n",
      "time: 0.2689, training_acc: 0.933, test_acc: 0.8867\n",
      "epoch: 90/100\n",
      "time: 0.2793, training_acc: 0.9333, test_acc: 0.8867\n",
      "epoch: 91/100\n",
      "time: 0.2724, training_acc: 0.9322, test_acc: 0.8867\n",
      "epoch: 92/100\n",
      "time: 0.2771, training_acc: 0.9326, test_acc: 0.8867\n",
      "epoch: 93/100\n",
      "time: 0.265, training_acc: 0.9319, test_acc: 0.8867\n",
      "epoch: 94/100\n",
      "time: 0.2725, training_acc: 0.9319, test_acc: 0.9\n",
      "epoch: 95/100\n",
      "time: 0.2635, training_acc: 0.9315, test_acc: 0.9\n",
      "epoch: 96/100\n",
      "time: 0.2661, training_acc: 0.9322, test_acc: 0.9\n",
      "epoch: 97/100\n",
      "time: 0.2769, training_acc: 0.933, test_acc: 0.9\n",
      "epoch: 98/100\n",
      "time: 0.2806, training_acc: 0.9326, test_acc: 0.9033\n",
      "epoch: 99/100\n",
      "time: 0.2707, training_acc: 0.9311, test_acc: 0.9033\n",
      "epoch: 100/100\n",
      "time: 0.265, training_acc: 0.9315, test_acc: 0.9033\n"
     ]
    }
   ],
   "source": [
    "nn = NN(epochs = 100,alpha=0.004,layers=2,nodes=[100,64],lam=0.5,early=False)\n",
    "train_acc_list,test_acc_list,train_error_list,test_error_list = nn.train(Xorig,Yorig,log=True)"
   ]
  },
  {
   "cell_type": "code",
   "execution_count": 101,
   "metadata": {},
   "outputs": [
    {
     "data": {
      "image/png": "[encoded data removed]",
      "text/plain": [
       "<Figure size 432x288 with 1 Axes>"
      ]
     },
     "metadata": {},
     "output_type": "display_data"
    }
   ],
   "source": [
    "plot_acc(train_acc_list,test_acc_list,'1')"
   ]
  },
  {
   "cell_type": "code",
   "execution_count": 102,
   "metadata": {},
   "outputs": [
    {
     "data": {
      "image/png": "[encoded data removed]",
      "text/plain": [
       "<Figure size 432x288 with 1 Axes>"
      ]
     },
     "metadata": {},
     "output_type": "display_data"
    }
   ],
   "source": [
    "plot_error(train_error_list,test_error_list,'1')"
   ]
  },
  {
   "cell_type": "code",
   "execution_count": 103,
   "metadata": {},
   "outputs": [
    {
     "data": {
      "text/plain": [
       "(0.9314814814814815, 0.9033333333333333)"
      ]
     },
     "execution_count": 103,
     "metadata": {},
     "output_type": "execute_result"
    }
   ],
   "source": [
    "train_acc_list[-1],test_acc_list[-1]"
   ]
  },
  {
   "cell_type": "code",
   "execution_count": 258,
   "metadata": {},
   "outputs": [
    {
     "data": {
      "text/plain": [
       "(<matplotlib.image.AxesImage at 0x26b019e8c08>, 5)"
      ]
     },
     "execution_count": 258,
     "metadata": {},
     "output_type": "execute_result"
    },
    {
     "data": {
      "image/png": "[encoded data removed]",
      "text/plain": [
       "<Figure size 432x288 with 1 Axes>"
      ]
     },
     "metadata": {},
     "output_type": "display_data"
    }
   ],
   "source": [
    "idx = 1\n",
    "plt.imshow(np.array(Xorig[idx]).reshape(28,28)),Yorig[idx]"
   ]
  },
  {
   "cell_type": "code",
   "execution_count": 259,
   "metadata": {},
   "outputs": [],
   "source": [
    "nn.f_prop(Xorig[1][:])"
   ]
  },
  {
   "cell_type": "code",
   "execution_count": 108,
   "metadata": {},
   "outputs": [
    {
     "data": {
      "text/plain": [
       "(784,)"
      ]
     },
     "execution_count": 108,
     "metadata": {},
     "output_type": "execute_result"
    }
   ],
   "source": [
    "np.array(Xorig[1][:]).shape"
   ]
  },
  {
   "cell_type": "code",
   "execution_count": 144,
   "metadata": {},
   "outputs": [],
   "source": [
    "preds = nn.predict(Xorig[:300])\n",
    "y_pred = []\n",
    "for p in preds:\n",
    "    y_pred.append(np.argmax(p))"
   ]
  },
  {
   "cell_type": "code",
   "execution_count": 145,
   "metadata": {},
   "outputs": [],
   "source": [
    "idx = []\n",
    "orig = Yorig[:300]\n",
    "for i in range(len(orig)):\n",
    "    if y_pred[i] != orig[i]:\n",
    "        idx.append(i)\n",
    "        if len(idx)==3:\n",
    "            break"
   ]
  },
  {
   "cell_type": "code",
   "execution_count": 126,
   "metadata": {},
   "outputs": [],
   "source": [
    "from sklearn.metrics import confusion_matrix, plot_confusion_matrix"
   ]
  },
  {
   "cell_type": "code",
   "execution_count": 136,
   "metadata": {},
   "outputs": [
    {
     "data": {
      "text/plain": [
       "array([[26,  0,  0,  2,  0,  1,  1,  0,  0,  0],\n",
       "       [ 0, 24,  0,  0,  0,  0,  0,  0,  1,  0],\n",
       "       [ 0,  1, 26,  1,  0,  0,  0,  0,  0,  0],\n",
       "       [ 0,  0,  0, 38,  0,  1,  0,  0,  1,  0],\n",
       "       [ 0,  0,  0,  0, 18,  0,  1,  0,  0,  2],\n",
       "       [ 0,  0,  0,  0,  0, 26,  2,  0,  1,  0],\n",
       "       [ 0,  0,  1,  0,  0,  0, 24,  0,  1,  0],\n",
       "       [ 0,  1,  1,  0,  0,  0,  0, 32,  0,  1],\n",
       "       [ 0,  1,  0,  0,  0,  2,  0,  0, 32,  0],\n",
       "       [ 0,  0,  0,  0,  3,  0,  0,  1,  0, 27]], dtype=int64)"
      ]
     },
     "execution_count": 136,
     "metadata": {},
     "output_type": "execute_result"
    }
   ],
   "source": [
    "confusion_matrix(y_pred[:300],Yorig[:300])"
   ]
  },
  {
   "cell_type": "code",
   "execution_count": 139,
   "metadata": {},
   "outputs": [],
   "source": [
    "df_confusion = pd.crosstab([Yorig[:300]], [y_pred[:300]], rownames=['Actual'], colnames=['Predicted'], margins=True)"
   ]
  },
  {
   "cell_type": "code",
   "execution_count": 140,
   "metadata": {},
   "outputs": [
    {
     "data": {
      "text/html": [
       "<div>\n",
       "<style scoped>\n",
       "    .dataframe tbody tr th:only-of-type {\n",
       "        vertical-align: middle;\n",
       "    }\n",
       "\n",
       "    .dataframe tbody tr th {\n",
       "        vertical-align: top;\n",
       "    }\n",
       "\n",
       "    .dataframe thead th {\n",
       "        text-align: right;\n",
       "    }\n",
       "</style>\n",
       "<table border=\"1\" class=\"dataframe\">\n",
       "  <thead>\n",
       "    <tr style=\"text-align: right;\">\n",
       "      <th>Predicted</th>\n",
       "      <th>0</th>\n",
       "      <th>1</th>\n",
       "      <th>2</th>\n",
       "      <th>3</th>\n",
       "      <th>4</th>\n",
       "      <th>5</th>\n",
       "      <th>6</th>\n",
       "      <th>7</th>\n",
       "      <th>8</th>\n",
       "      <th>9</th>\n",
       "      <th>All</th>\n",
       "    </tr>\n",
       "    <tr>\n",
       "      <th>Actual</th>\n",
       "      <th></th>\n",
       "      <th></th>\n",
       "      <th></th>\n",
       "      <th></th>\n",
       "      <th></th>\n",
       "      <th></th>\n",
       "      <th></th>\n",
       "      <th></th>\n",
       "      <th></th>\n",
       "      <th></th>\n",
       "      <th></th>\n",
       "    </tr>\n",
       "  </thead>\n",
       "  <tbody>\n",
       "    <tr>\n",
       "      <th>0</th>\n",
       "      <td>26</td>\n",
       "      <td>0</td>\n",
       "      <td>0</td>\n",
       "      <td>0</td>\n",
       "      <td>0</td>\n",
       "      <td>0</td>\n",
       "      <td>0</td>\n",
       "      <td>0</td>\n",
       "      <td>0</td>\n",
       "      <td>0</td>\n",
       "      <td>26</td>\n",
       "    </tr>\n",
       "    <tr>\n",
       "      <th>1</th>\n",
       "      <td>0</td>\n",
       "      <td>24</td>\n",
       "      <td>1</td>\n",
       "      <td>0</td>\n",
       "      <td>0</td>\n",
       "      <td>0</td>\n",
       "      <td>0</td>\n",
       "      <td>1</td>\n",
       "      <td>1</td>\n",
       "      <td>0</td>\n",
       "      <td>27</td>\n",
       "    </tr>\n",
       "    <tr>\n",
       "      <th>2</th>\n",
       "      <td>0</td>\n",
       "      <td>0</td>\n",
       "      <td>26</td>\n",
       "      <td>0</td>\n",
       "      <td>0</td>\n",
       "      <td>0</td>\n",
       "      <td>1</td>\n",
       "      <td>1</td>\n",
       "      <td>0</td>\n",
       "      <td>0</td>\n",
       "      <td>28</td>\n",
       "    </tr>\n",
       "    <tr>\n",
       "      <th>3</th>\n",
       "      <td>2</td>\n",
       "      <td>0</td>\n",
       "      <td>1</td>\n",
       "      <td>38</td>\n",
       "      <td>0</td>\n",
       "      <td>0</td>\n",
       "      <td>0</td>\n",
       "      <td>0</td>\n",
       "      <td>0</td>\n",
       "      <td>0</td>\n",
       "      <td>41</td>\n",
       "    </tr>\n",
       "    <tr>\n",
       "      <th>4</th>\n",
       "      <td>0</td>\n",
       "      <td>0</td>\n",
       "      <td>0</td>\n",
       "      <td>0</td>\n",
       "      <td>18</td>\n",
       "      <td>0</td>\n",
       "      <td>0</td>\n",
       "      <td>0</td>\n",
       "      <td>0</td>\n",
       "      <td>3</td>\n",
       "      <td>21</td>\n",
       "    </tr>\n",
       "    <tr>\n",
       "      <th>5</th>\n",
       "      <td>1</td>\n",
       "      <td>0</td>\n",
       "      <td>0</td>\n",
       "      <td>1</td>\n",
       "      <td>0</td>\n",
       "      <td>26</td>\n",
       "      <td>0</td>\n",
       "      <td>0</td>\n",
       "      <td>2</td>\n",
       "      <td>0</td>\n",
       "      <td>30</td>\n",
       "    </tr>\n",
       "    <tr>\n",
       "      <th>6</th>\n",
       "      <td>1</td>\n",
       "      <td>0</td>\n",
       "      <td>0</td>\n",
       "      <td>0</td>\n",
       "      <td>1</td>\n",
       "      <td>2</td>\n",
       "      <td>24</td>\n",
       "      <td>0</td>\n",
       "      <td>0</td>\n",
       "      <td>0</td>\n",
       "      <td>28</td>\n",
       "    </tr>\n",
       "    <tr>\n",
       "      <th>7</th>\n",
       "      <td>0</td>\n",
       "      <td>0</td>\n",
       "      <td>0</td>\n",
       "      <td>0</td>\n",
       "      <td>0</td>\n",
       "      <td>0</td>\n",
       "      <td>0</td>\n",
       "      <td>32</td>\n",
       "      <td>0</td>\n",
       "      <td>1</td>\n",
       "      <td>33</td>\n",
       "    </tr>\n",
       "    <tr>\n",
       "      <th>8</th>\n",
       "      <td>0</td>\n",
       "      <td>1</td>\n",
       "      <td>0</td>\n",
       "      <td>1</td>\n",
       "      <td>0</td>\n",
       "      <td>1</td>\n",
       "      <td>1</td>\n",
       "      <td>0</td>\n",
       "      <td>32</td>\n",
       "      <td>0</td>\n",
       "      <td>36</td>\n",
       "    </tr>\n",
       "    <tr>\n",
       "      <th>9</th>\n",
       "      <td>0</td>\n",
       "      <td>0</td>\n",
       "      <td>0</td>\n",
       "      <td>0</td>\n",
       "      <td>2</td>\n",
       "      <td>0</td>\n",
       "      <td>0</td>\n",
       "      <td>1</td>\n",
       "      <td>0</td>\n",
       "      <td>27</td>\n",
       "      <td>30</td>\n",
       "    </tr>\n",
       "    <tr>\n",
       "      <th>All</th>\n",
       "      <td>30</td>\n",
       "      <td>25</td>\n",
       "      <td>28</td>\n",
       "      <td>40</td>\n",
       "      <td>21</td>\n",
       "      <td>29</td>\n",
       "      <td>26</td>\n",
       "      <td>35</td>\n",
       "      <td>35</td>\n",
       "      <td>31</td>\n",
       "      <td>300</td>\n",
       "    </tr>\n",
       "  </tbody>\n",
       "</table>\n",
       "</div>"
      ],
      "text/plain": [
       "Predicted   0   1   2   3   4   5   6   7   8   9  All\n",
       "Actual                                                \n",
       "0          26   0   0   0   0   0   0   0   0   0   26\n",
       "1           0  24   1   0   0   0   0   1   1   0   27\n",
       "2           0   0  26   0   0   0   1   1   0   0   28\n",
       "3           2   0   1  38   0   0   0   0   0   0   41\n",
       "4           0   0   0   0  18   0   0   0   0   3   21\n",
       "5           1   0   0   1   0  26   0   0   2   0   30\n",
       "6           1   0   0   0   1   2  24   0   0   0   28\n",
       "7           0   0   0   0   0   0   0  32   0   1   33\n",
       "8           0   1   0   1   0   1   1   0  32   0   36\n",
       "9           0   0   0   0   2   0   0   1   0  27   30\n",
       "All        30  25  28  40  21  29  26  35  35  31  300"
      ]
     },
     "execution_count": 140,
     "metadata": {},
     "output_type": "execute_result"
    }
   ],
   "source": [
    "df_confusion"
   ]
  },
  {
   "cell_type": "code",
   "execution_count": null,
   "metadata": {},
   "outputs": [],
   "source": []
  },
  {
   "cell_type": "code",
   "execution_count": 169,
   "metadata": {},
   "outputs": [
    {
     "data": {
      "text/plain": [
       "(<matplotlib.image.AxesImage at 0x27dcc3e4e88>, 6, 4)"
      ]
     },
     "execution_count": 169,
     "metadata": {},
     "output_type": "execute_result"
    },
    {
     "data": {
      "image/png": "[encoded data removed]",
      "text/plain": [
       "<Figure size 640x480 with 1 Axes>"
      ]
     },
     "metadata": {},
     "output_type": "display_data"
    }
   ],
   "source": [
    "plt.imshow(np.array(Xorig[idx[0]]).reshape(28,28)),orig[idx[0]], y_pred[idx[0]]"
   ]
  },
  {
   "cell_type": "code",
   "execution_count": 156,
   "metadata": {},
   "outputs": [
    {
     "data": {
      "text/plain": [
       "(<matplotlib.image.AxesImage at 0x27dcbfb7408>, 5, 0)"
      ]
     },
     "execution_count": 156,
     "metadata": {},
     "output_type": "execute_result"
    },
    {
     "data": {
      "image/png": "[encoded data removed]",
      "text/plain": [
       "<Figure size 432x288 with 1 Axes>"
      ]
     },
     "metadata": {},
     "output_type": "display_data"
    }
   ],
   "source": [
    "plt.imshow(np.array(Xorig[idx[1]]).reshape(28,28)),orig[idx[1]], y_pred[idx[1]]"
   ]
  },
  {
   "cell_type": "code",
   "execution_count": 157,
   "metadata": {},
   "outputs": [
    {
     "data": {
      "text/plain": [
       "(<matplotlib.image.AxesImage at 0x27dcc056488>, 4, 9)"
      ]
     },
     "execution_count": 157,
     "metadata": {},
     "output_type": "execute_result"
    },
    {
     "data": {
      "image/png": "[encoded data removed]",
      "text/plain": [
       "<Figure size 432x288 with 1 Axes>"
      ]
     },
     "metadata": {},
     "output_type": "display_data"
    }
   ],
   "source": [
    "plt.imshow(np.array(Xorig[idx[2]]).reshape(28,28)),orig[idx[2]], y_pred[idx[2]]"
   ]
  },
  {
   "cell_type": "code",
   "execution_count": null,
   "metadata": {},
   "outputs": [],
   "source": []
  },
  {
   "cell_type": "code",
   "execution_count": 162,
   "metadata": {},
   "outputs": [
    {
     "data": {
      "text/plain": [
       "(<matplotlib.image.AxesImage at 0x27dcc179b08>, 9)"
      ]
     },
     "execution_count": 162,
     "metadata": {},
     "output_type": "execute_result"
    },
    {
     "data": {
      "image/png": "[encoded data removed]",
      "text/plain": [
       "<Figure size 432x288 with 1 Axes>"
      ]
     },
     "metadata": {},
     "output_type": "display_data"
    }
   ],
   "source": [
    "plt.imshow(np.array(Xorig[0]).reshape(28,28)),Yorig[0]"
   ]
  },
  {
   "cell_type": "code",
   "execution_count": 159,
   "metadata": {},
   "outputs": [],
   "source": [
    "nn.f_prop(Xorig[0])"
   ]
  },
  {
   "cell_type": "code",
   "execution_count": 160,
   "metadata": {},
   "outputs": [
    {
     "data": {
      "text/plain": [
       "<matplotlib.image.AxesImage at 0x27dcc0e0148>"
      ]
     },
     "execution_count": 160,
     "metadata": {},
     "output_type": "execute_result"
    },
    {
     "data": {
      "image/png": "[encoded data removed]",
      "text/plain": [
       "<Figure size 432x288 with 1 Axes>"
      ]
     },
     "metadata": {},
     "output_type": "display_data"
    }
   ],
   "source": [
    "plt.imshow(np.array(nn.z[0]).reshape(10,10))"
   ]
  },
  {
   "cell_type": "code",
   "execution_count": 161,
   "metadata": {},
   "outputs": [
    {
     "data": {
      "text/plain": [
       "<matplotlib.image.AxesImage at 0x27dcc122448>"
      ]
     },
     "execution_count": 161,
     "metadata": {},
     "output_type": "execute_result"
    },
    {
     "data": {
      "image/png": "[encoded data removed]",
      "text/plain": [
       "<Figure size 432x288 with 1 Axes>"
      ]
     },
     "metadata": {},
     "output_type": "display_data"
    }
   ],
   "source": [
    "plt.imshow(np.array(nn.z[1]).reshape(8,8))"
   ]
  },
  {
   "cell_type": "code",
   "execution_count": null,
   "metadata": {},
   "outputs": [],
   "source": []
  },
  {
   "cell_type": "code",
   "execution_count": null,
   "metadata": {},
   "outputs": [],
   "source": []
  },
  {
   "cell_type": "code",
   "execution_count": null,
   "metadata": {},
   "outputs": [],
   "source": []
  }
 ],
 "metadata": {
  "kernelspec": {
   "display_name": "Python 3",
   "language": "python",
   "name": "python3"
  },
  "language_info": {
   "codemirror_mode": {
    "name": "ipython",
    "version": 3
   },
   "file_extension": ".py",
   "mimetype": "text/x-python",
   "name": "python",
   "nbconvert_exporter": "python",
   "pygments_lexer": "ipython3",
   "version": "3.7.6"
  }
 },
 "nbformat": 4,
 "nbformat_minor": 4
}
