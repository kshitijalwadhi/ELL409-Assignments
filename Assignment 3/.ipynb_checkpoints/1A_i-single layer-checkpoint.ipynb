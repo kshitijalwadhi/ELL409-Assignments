{
 "cells": [
  {
   "cell_type": "code",
   "execution_count": 1,
   "metadata": {},
   "outputs": [],
   "source": [
    "import numpy as np\n",
    "import pandas as pd\n",
    "import matplotlib.pyplot as plt\n",
    "from tqdm.notebook import tqdm\n",
    "import seaborn as sns\n",
    "import time\n",
    "sns.set_theme()\n",
    "import random\n",
    "random.seed(42)\n",
    "np.random.seed(42)"
   ]
  },
  {
   "cell_type": "code",
   "execution_count": 2,
   "metadata": {},
   "outputs": [],
   "source": [
    "df = pd.read_csv('2019EE10577.csv',header=None)"
   ]
  },
  {
   "cell_type": "code",
   "execution_count": 3,
   "metadata": {},
   "outputs": [],
   "source": [
    "NUM_FEATURES = 784"
   ]
  },
  {
   "cell_type": "code",
   "execution_count": 4,
   "metadata": {},
   "outputs": [],
   "source": [
    "def getData():\n",
    "    X,y = [],[]\n",
    "    for i,row in df.iterrows():\n",
    "        X.append(row[:NUM_FEATURES])\n",
    "        y.append(int(row[NUM_FEATURES]))\n",
    "    return X,y"
   ]
  },
  {
   "cell_type": "code",
   "execution_count": 5,
   "metadata": {},
   "outputs": [],
   "source": [
    "Xorig,Yorig = getData()"
   ]
  },
  {
   "cell_type": "code",
   "execution_count": 6,
   "metadata": {},
   "outputs": [],
   "source": [
    "def plot_acc(train_acc_list,test_acc_list,name):\n",
    "    xa = np.linspace(1,len(train_acc_list),len(train_acc_list),dtype=int)\n",
    "    plt.figure()\n",
    "    train_acc_list = np.array(train_acc_list) * 100\n",
    "    test_acc_list = np.array(test_acc_list) * 100\n",
    "    plt.plot(xa,train_acc_list,color=\"g\",label = \"Training accuracy\")\n",
    "    plt.plot(xa,test_acc_list,color=\"r\", label = \"Testing accuracy\")\n",
    "    plt.xlabel('Iterations')\n",
    "    plt.ylabel('Accuracy')\n",
    "    plt.title('Accuracy vs Iterations')\n",
    "    plt.legend()\n",
    "    plt.savefig(f'Accuracy_{name}.png',dpi=1200)\n",
    "    plt.show()"
   ]
  },
  {
   "cell_type": "code",
   "execution_count": 7,
   "metadata": {},
   "outputs": [],
   "source": [
    "def plot_error(train_err_list,test_err_list,name):\n",
    "    xa = np.linspace(1,len(train_err_list),len(train_err_list),dtype=int)\n",
    "    plt.figure()\n",
    "    plt.plot(xa,train_err_list,color=\"g\",label=\"Training error\")\n",
    "    plt.plot(xa,test_err_list,color=\"r\",label=\"Testing error\")\n",
    "    plt.xlabel('Iterations')\n",
    "    plt.ylabel('Error')\n",
    "    plt.title('Error vs Iterations')\n",
    "    plt.legend()\n",
    "    plt.savefig(f'Error_{name}.png',dpi=1200)\n",
    "    plt.show()"
   ]
  },
  {
   "cell_type": "code",
   "execution_count": 8,
   "metadata": {},
   "outputs": [],
   "source": [
    "def relu(x): # 1\n",
    "    return np.maximum(0,x)\n",
    "\n",
    "def relu_der(x):\n",
    "    x[x>0] = 1\n",
    "    x[x<=0] = 0\n",
    "    return np.array(x)\n",
    "\n",
    "def sigmoid(x): # 2\n",
    "    return 1/(1+np.exp(-1.*x))\n",
    "\n",
    "def sigmoid_der(x):\n",
    "    return sigmoid(x)*(1-sigmoid(x))\n",
    "\n",
    "def tanh(x): # 3\n",
    "    return np.tanh(x)\n",
    "\n",
    "def tanh_der(x):\n",
    "    return 1-np.square(np.tanh(x))\n",
    "\n",
    "def softmax(x):\n",
    "    return np.exp(x) / np.sum(np.exp(x), axis=1, keepdims=True)"
   ]
  },
  {
   "cell_type": "code",
   "execution_count": 9,
   "metadata": {},
   "outputs": [],
   "source": [
    "def chunkarr(arr, n):\n",
    "    return [arr[i:i + n] for i in range(0, len(arr), n)]"
   ]
  },
  {
   "cell_type": "code",
   "execution_count": 10,
   "metadata": {},
   "outputs": [],
   "source": [
    "def getAccuracy(y,t):\n",
    "    y = np.argmax(y,axis=1)\n",
    "    t = np.argmax(t,axis=1)\n",
    "    return np.sum((y==t))/len(y)"
   ]
  },
  {
   "cell_type": "code",
   "execution_count": 37,
   "metadata": {},
   "outputs": [],
   "source": [
    "class NN:\n",
    "    def __init__(self,early = True,epochs=100,layers=2,nodes=[50,75],alpha=0.0003,bs=16,eps=0.0005,activation=1,reg=1,lam =0):\n",
    "        np.random.seed(42)\n",
    "        self.epochs = epochs\n",
    "        self.layers = layers\n",
    "        self.nodes = nodes\n",
    "        self.alpha = alpha\n",
    "        self.bs = bs\n",
    "        self.eps = eps\n",
    "        self.activation = activation\n",
    "        self.reg = reg\n",
    "        self.lam = lam\n",
    "        self.w = [np.random.randn(NUM_FEATURES,self.nodes[0])]\n",
    "        self.b = [np.random.randn(self.nodes[0])]\n",
    "        self.z = [0] * (self.layers +1)\n",
    "        self.a = [0] * (self.layers)\n",
    "        self.dw = [0]*(self.layers+1)\n",
    "        self.db = [0]*(self.layers+1)\n",
    "        self.early = early\n",
    "        \n",
    "        for i in range(1,self.layers):\n",
    "            self.w.append(np.random.randn(self.nodes[i-1],self.nodes[i]))\n",
    "            self.b.append(np.random.randn(self.nodes[i]))\n",
    "        \n",
    "        self.w.append(0.1*np.random.randn(self.nodes[self.layers-1],10))\n",
    "        self.b.append(np.random.randn(10))\n",
    "        \n",
    "    \n",
    "    def activation_fn(self,x):\n",
    "        if self.activation == 1:\n",
    "            return relu(x)\n",
    "        elif self.activation == 2:\n",
    "            return sigmoid(x)\n",
    "        elif self.activation == 3:\n",
    "            return tanh(x)\n",
    "    \n",
    "    def der_activation_fn(self,x):\n",
    "        if self.activation == 1:\n",
    "            return relu_der(x)\n",
    "        elif self.activation == 2:\n",
    "            return sigmoid_der(x)\n",
    "        elif self.activation == 3:\n",
    "            return tanh_der(x)\n",
    "    \n",
    "    def f_prop(self,X):\n",
    "        self.z[0] = np.dot(X,self.w[0]) + self.b[0]\n",
    "        self.a[0] = self.activation_fn(self.z[0])\n",
    "        for i in range(1,self.layers):\n",
    "            self.z[i] = np.dot(self.a[i-1],self.w[i]) + self.b[i]\n",
    "            self.a[i] = self.activation_fn(self.z[i])\n",
    "        self.z[self.layers] = np.dot(self.a[self.layers-1],self.w[self.layers]) + self.b[self.layers]\n",
    "    \n",
    "    def back_prop(self,X,t,y):\n",
    "        temp = y-t\n",
    "        self.dw[self.layers] = (np.dot(self.a[self.layers-1].T,temp)+ \n",
    "                                self.lam*self.w[self.layers])/self.bs                                \n",
    "        self.db[self.layers] = (np.sum(temp,axis=0))/self.bs\n",
    "        \n",
    "        for i in range(self.layers-1,-1,-1):\n",
    "            aux = np.dot(temp,self.w[i+1].T)\n",
    "            der = self.der_activation_fn(self.a[i])\n",
    "            temp = aux*der\n",
    "            if i>0:\n",
    "                self.dw[i] = (np.dot(self.a[i-1].T,temp) + self.lam*self.w[i])/self.bs\n",
    "            else:\n",
    "                self.dw[0] = (np.dot(X.T,temp) + self.lam*self.w[0])/self.bs\n",
    "            self.db[i] = np.sum(temp,axis=0)/self.bs\n",
    "        \n",
    "    def train(self,X,t,log=False):\n",
    "        t_onehot = np.zeros((len(t),10))\n",
    "        t_onehot[np.arange(len(t_onehot)),t] = 1\n",
    "        t = t_onehot\n",
    "        trainX = np.array(X[:2700])\n",
    "        traint = np.array(t[:2700])\n",
    "        testX = np.array(X[2700:])\n",
    "        testt = np.array(t[2700:])\n",
    "        \n",
    "        Xchunks = chunkarr(trainX, self.bs)\n",
    "        tchunks = chunkarr(traint, self.bs)\n",
    "        \n",
    "        # calculate accuracy here\n",
    "        train_acc_list = []\n",
    "        train_error_list = []\n",
    "        test_acc_list = []\n",
    "        test_error_list = []\n",
    "        train_pred = self.predict(trainX)\n",
    "        test_pred = self.predict(testX)\n",
    "        \n",
    "        trainacc = getAccuracy(train_pred,traint)\n",
    "        testacc = getAccuracy(test_pred,testt)\n",
    "        trainerror = -1*np.sum(traint*np.log(train_pred))/len(trainX)\n",
    "        testerror = -1*np.sum(testt*np.log(test_pred))/len(testX)\n",
    "        \n",
    "        train_acc_list.append(trainacc)\n",
    "        test_acc_list.append(testacc)\n",
    "        train_error_list.append(trainerror)\n",
    "        test_error_list.append(testerror)\n",
    "        \n",
    "        \n",
    "        \n",
    "        for epoch in (range(self.epochs)):\n",
    "            t1 = time.time()\n",
    "            for chunk in range(len(Xchunks)):\n",
    "                Xcon = Xchunks[chunk]\n",
    "                tcon = tchunks[chunk]\n",
    "                \n",
    "                self.f_prop(Xcon)\n",
    "                y = softmax(self.z[self.layers])\n",
    "                \n",
    "                # call backprop here\n",
    "                self.back_prop(Xcon,tcon,y)\n",
    "                \n",
    "                for i in range(self.layers+1):\n",
    "                    self.w[i] -= self.alpha * self.dw[i]\n",
    "                    self.b[i] -= self.alpha * self.db[i]\n",
    "            \n",
    "            t2 = time.time()\n",
    "            \n",
    "            # calculate accuracies here\n",
    "            train_pred = self.predict(trainX)\n",
    "            test_pred = self.predict(testX)\n",
    "\n",
    "            trainacc = getAccuracy(train_pred,traint)\n",
    "            testacc = getAccuracy(test_pred,testt)\n",
    "            trainerror = -1*np.sum(traint*np.log(train_pred))/len(trainX)\n",
    "            testerror = -1*np.sum(testt*np.log(test_pred))/len(testX)\n",
    "\n",
    "            train_acc_list.append(trainacc)\n",
    "            test_acc_list.append(testacc)\n",
    "            train_error_list.append(trainerror)\n",
    "            test_error_list.append(testerror)\n",
    "            \n",
    "            if self.early:\n",
    "                if trainacc >0.7:\n",
    "                    if abs(train_acc_list[-1] - train_acc_list[-2]) < self.eps:\n",
    "                        if abs(train_acc_list[-2] - train_acc_list[-3]) < self.eps:\n",
    "                            if abs(train_acc_list[-3] - train_acc_list[-4]) < self.eps:\n",
    "                                break\n",
    "            \n",
    "            if log:\n",
    "                print(f\"epoch: {epoch+1}/{self.epochs}\")\n",
    "                print(f\"time: {round(t2-t1,4)}, training_acc: {round(trainacc,4)}, test_acc: {round(testacc,4)}\")\n",
    "            \n",
    "        return train_acc_list,test_acc_list,train_error_list,test_error_list\n",
    "                \n",
    "    def predict(self,X):\n",
    "        self.z = [0] * (self.layers +1)\n",
    "        self.a = [0] * (self.layers)\n",
    "        self.f_prop(X)\n",
    "        return softmax(self.z[self.layers])\n",
    "        \n",
    "    "
   ]
  },
  {
   "cell_type": "code",
   "execution_count": null,
   "metadata": {},
   "outputs": [],
   "source": []
  },
  {
   "cell_type": "code",
   "execution_count": 67,
   "metadata": {},
   "outputs": [],
   "source": [
    "nn = NN(epochs = 100,alpha=0.004,layers=2,nodes=[100,64],lam=1e-5)"
   ]
  },
  {
   "cell_type": "code",
   "execution_count": 68,
   "metadata": {},
   "outputs": [
    {
     "name": "stdout",
     "output_type": "stream",
     "text": [
      "epoch: 1/100\n",
      "time: 0.18, training_acc: 0.6537, test_acc: 0.5733\n",
      "epoch: 2/100\n",
      "time: 0.15, training_acc: 0.7041, test_acc: 0.6433\n",
      "epoch: 3/100\n",
      "time: 0.1601, training_acc: 0.7159, test_acc: 0.6433\n",
      "epoch: 4/100\n",
      "time: 0.16, training_acc: 0.7448, test_acc: 0.6733\n",
      "epoch: 5/100\n",
      "time: 0.17, training_acc: 0.7252, test_acc: 0.66\n",
      "epoch: 6/100\n",
      "time: 0.16, training_acc: 0.7411, test_acc: 0.6933\n",
      "epoch: 7/100\n",
      "time: 0.16, training_acc: 0.7219, test_acc: 0.6767\n",
      "epoch: 8/100\n",
      "time: 0.16, training_acc: 0.7344, test_acc: 0.6867\n",
      "epoch: 9/100\n",
      "time: 0.15, training_acc: 0.7419, test_acc: 0.6967\n",
      "epoch: 10/100\n",
      "time: 0.15, training_acc: 0.7333, test_acc: 0.6733\n",
      "epoch: 11/100\n",
      "time: 0.17, training_acc: 0.7541, test_acc: 0.69\n",
      "epoch: 12/100\n",
      "time: 0.17, training_acc: 0.7511, test_acc: 0.69\n",
      "epoch: 13/100\n",
      "time: 0.17, training_acc: 0.7656, test_acc: 0.7067\n",
      "epoch: 14/100\n",
      "time: 0.17, training_acc: 0.7533, test_acc: 0.69\n",
      "epoch: 15/100\n",
      "time: 0.16, training_acc: 0.7715, test_acc: 0.7033\n",
      "epoch: 16/100\n",
      "time: 0.16, training_acc: 0.7726, test_acc: 0.71\n",
      "epoch: 17/100\n",
      "time: 0.1603, training_acc: 0.7852, test_acc: 0.7233\n",
      "epoch: 18/100\n",
      "time: 0.15, training_acc: 0.7881, test_acc: 0.7167\n",
      "epoch: 19/100\n",
      "time: 0.16, training_acc: 0.7948, test_acc: 0.72\n",
      "epoch: 20/100\n",
      "time: 0.14, training_acc: 0.8181, test_acc: 0.7367\n",
      "epoch: 21/100\n",
      "time: 0.15, training_acc: 0.8093, test_acc: 0.7167\n",
      "epoch: 22/100\n",
      "time: 0.14, training_acc: 0.8244, test_acc: 0.72\n",
      "epoch: 23/100\n",
      "time: 0.15, training_acc: 0.8141, test_acc: 0.73\n",
      "epoch: 24/100\n",
      "time: 0.15, training_acc: 0.8356, test_acc: 0.7233\n",
      "epoch: 25/100\n",
      "time: 0.16, training_acc: 0.8148, test_acc: 0.72\n",
      "epoch: 26/100\n",
      "time: 0.16, training_acc: 0.83, test_acc: 0.7167\n",
      "epoch: 27/100\n",
      "time: 0.16, training_acc: 0.8422, test_acc: 0.7467\n",
      "epoch: 28/100\n",
      "time: 0.16, training_acc: 0.8222, test_acc: 0.72\n",
      "epoch: 29/100\n",
      "time: 0.17, training_acc: 0.8293, test_acc: 0.7167\n",
      "epoch: 30/100\n",
      "time: 0.16, training_acc: 0.8459, test_acc: 0.7067\n",
      "epoch: 31/100\n",
      "time: 0.17, training_acc: 0.8422, test_acc: 0.7233\n",
      "epoch: 32/100\n",
      "time: 0.16, training_acc: 0.8578, test_acc: 0.7333\n",
      "epoch: 33/100\n",
      "time: 0.15, training_acc: 0.8585, test_acc: 0.7267\n",
      "epoch: 34/100\n",
      "time: 0.16, training_acc: 0.8715, test_acc: 0.7433\n",
      "epoch: 35/100\n",
      "time: 0.16, training_acc: 0.8652, test_acc: 0.74\n",
      "epoch: 36/100\n",
      "time: 0.1593, training_acc: 0.8611, test_acc: 0.7133\n",
      "epoch: 37/100\n",
      "time: 0.17, training_acc: 0.8867, test_acc: 0.7433\n",
      "epoch: 38/100\n",
      "time: 0.16, training_acc: 0.8689, test_acc: 0.73\n",
      "epoch: 39/100\n",
      "time: 0.16, training_acc: 0.8856, test_acc: 0.7533\n",
      "epoch: 40/100\n",
      "time: 0.15, training_acc: 0.8711, test_acc: 0.7467\n",
      "epoch: 41/100\n",
      "time: 0.16, training_acc: 0.8919, test_acc: 0.76\n",
      "epoch: 42/100\n",
      "time: 0.1537, training_acc: 0.8893, test_acc: 0.7633\n",
      "epoch: 43/100\n",
      "time: 0.1501, training_acc: 0.8956, test_acc: 0.77\n",
      "epoch: 44/100\n",
      "time: 0.15, training_acc: 0.8974, test_acc: 0.7633\n",
      "epoch: 45/100\n",
      "time: 0.14, training_acc: 0.8981, test_acc: 0.77\n",
      "epoch: 46/100\n",
      "time: 0.15, training_acc: 0.9089, test_acc: 0.77\n",
      "epoch: 47/100\n",
      "time: 0.16, training_acc: 0.9104, test_acc: 0.7733\n",
      "epoch: 48/100\n",
      "time: 0.15, training_acc: 0.9215, test_acc: 0.77\n",
      "epoch: 49/100\n",
      "time: 0.1752, training_acc: 0.9041, test_acc: 0.7567\n",
      "epoch: 50/100\n",
      "time: 0.15, training_acc: 0.9196, test_acc: 0.7733\n",
      "epoch: 51/100\n",
      "time: 0.15, training_acc: 0.9263, test_acc: 0.7767\n",
      "epoch: 52/100\n",
      "time: 0.14, training_acc: 0.9289, test_acc: 0.7667\n",
      "epoch: 53/100\n",
      "time: 0.16, training_acc: 0.9274, test_acc: 0.78\n",
      "epoch: 54/100\n",
      "time: 0.17, training_acc: 0.9333, test_acc: 0.77\n",
      "epoch: 55/100\n",
      "time: 0.16, training_acc: 0.9422, test_acc: 0.78\n",
      "epoch: 56/100\n",
      "time: 0.15, training_acc: 0.9289, test_acc: 0.78\n",
      "epoch: 57/100\n",
      "time: 0.16, training_acc: 0.9289, test_acc: 0.7767\n",
      "epoch: 58/100\n",
      "time: 0.15, training_acc: 0.9341, test_acc: 0.7767\n",
      "epoch: 59/100\n",
      "time: 0.15, training_acc: 0.95, test_acc: 0.7633\n",
      "epoch: 60/100\n",
      "time: 0.16, training_acc: 0.9511, test_acc: 0.78\n",
      "epoch: 61/100\n",
      "time: 0.17, training_acc: 0.947, test_acc: 0.7867\n",
      "epoch: 62/100\n",
      "time: 0.16, training_acc: 0.9574, test_acc: 0.78\n",
      "epoch: 63/100\n",
      "time: 0.1601, training_acc: 0.9637, test_acc: 0.78\n",
      "epoch: 64/100\n",
      "time: 0.1501, training_acc: 0.9552, test_acc: 0.78\n",
      "epoch: 65/100\n",
      "time: 0.1702, training_acc: 0.9593, test_acc: 0.7867\n",
      "epoch: 66/100\n",
      "time: 0.1602, training_acc: 0.9674, test_acc: 0.7867\n",
      "epoch: 67/100\n",
      "time: 0.16, training_acc: 0.9667, test_acc: 0.7867\n",
      "epoch: 68/100\n",
      "time: 0.1702, training_acc: 0.9719, test_acc: 0.78\n",
      "epoch: 69/100\n",
      "time: 0.1602, training_acc: 0.9763, test_acc: 0.78\n",
      "epoch: 70/100\n",
      "time: 0.1701, training_acc: 0.9752, test_acc: 0.7833\n",
      "epoch: 71/100\n",
      "time: 0.17, training_acc: 0.9793, test_acc: 0.7833\n",
      "epoch: 72/100\n",
      "time: 0.16, training_acc: 0.9811, test_acc: 0.7833\n",
      "epoch: 73/100\n",
      "time: 0.16, training_acc: 0.9807, test_acc: 0.78\n",
      "epoch: 74/100\n",
      "time: 0.14, training_acc: 0.983, test_acc: 0.78\n",
      "epoch: 75/100\n",
      "time: 0.16, training_acc: 0.9848, test_acc: 0.78\n",
      "epoch: 76/100\n",
      "time: 0.16, training_acc: 0.9844, test_acc: 0.78\n",
      "epoch: 77/100\n",
      "time: 0.17, training_acc: 0.9881, test_acc: 0.78\n",
      "epoch: 78/100\n",
      "time: 0.1665, training_acc: 0.9878, test_acc: 0.7767\n",
      "epoch: 79/100\n",
      "time: 0.14, training_acc: 0.9915, test_acc: 0.7833\n",
      "epoch: 80/100\n",
      "time: 0.14, training_acc: 0.9915, test_acc: 0.7833\n",
      "epoch: 81/100\n",
      "time: 0.1702, training_acc: 0.9922, test_acc: 0.7833\n",
      "epoch: 82/100\n",
      "time: 0.1501, training_acc: 0.993, test_acc: 0.7833\n",
      "epoch: 83/100\n",
      "time: 0.1602, training_acc: 0.9937, test_acc: 0.7867\n",
      "epoch: 84/100\n",
      "time: 0.1602, training_acc: 0.9956, test_acc: 0.7867\n",
      "epoch: 85/100\n",
      "time: 0.1701, training_acc: 0.9959, test_acc: 0.7867\n",
      "epoch: 86/100\n",
      "time: 0.1518, training_acc: 0.9974, test_acc: 0.7867\n",
      "epoch: 87/100\n",
      "time: 0.17, training_acc: 0.9985, test_acc: 0.7867\n",
      "epoch: 88/100\n",
      "time: 0.17, training_acc: 0.9985, test_acc: 0.7867\n",
      "epoch: 89/100\n",
      "time: 0.18, training_acc: 0.9989, test_acc: 0.7867\n"
     ]
    }
   ],
   "source": [
    "train_acc_list,test_acc_list,train_error_list,test_error_list = nn.train(Xorig,Yorig,log=True)"
   ]
  },
  {
   "cell_type": "code",
   "execution_count": 12,
   "metadata": {},
   "outputs": [
    {
     "data": {
      "application/vnd.jupyter.widget-view+json": {
       "model_id": "02ac82aec02a4ceea787b453140a3cb4",
       "version_major": 2,
       "version_minor": 0
      },
      "text/plain": [
       "HBox(children=(FloatProgress(value=0.0, max=6.0), HTML(value='')))"
      ]
     },
     "metadata": {},
     "output_type": "display_data"
    },
    {
     "name": "stderr",
     "output_type": "stream",
     "text": [
      "c:\\users\\kshitij alwadhi\\appdata\\local\\programs\\python\\python37\\lib\\site-packages\\ipykernel_launcher.py:22: RuntimeWarning: overflow encountered in exp\n",
      "c:\\users\\kshitij alwadhi\\appdata\\local\\programs\\python\\python37\\lib\\site-packages\\ipykernel_launcher.py:22: RuntimeWarning: invalid value encountered in true_divide\n",
      "c:\\users\\kshitij alwadhi\\appdata\\local\\programs\\python\\python37\\lib\\site-packages\\ipykernel_launcher.py:5: RuntimeWarning: invalid value encountered in greater\n",
      "  \"\"\"\n",
      "c:\\users\\kshitij alwadhi\\appdata\\local\\programs\\python\\python37\\lib\\site-packages\\ipykernel_launcher.py:6: RuntimeWarning: invalid value encountered in less_equal\n",
      "  \n"
     ]
    },
    {
     "name": "stdout",
     "output_type": "stream",
     "text": [
      "\n"
     ]
    }
   ],
   "source": [
    "train_list = []\n",
    "test_list = []\n",
    "time_list = []\n",
    "for reg in tqdm([1e-14,1e-10,1e-6,1e-2,1e2,1e6]):\n",
    "    t1 = time.time()\n",
    "    nn = NN(epochs = 100,alpha=0.004,layers=1,nodes=[100,64],lam=reg)\n",
    "    train_acc_list,test_acc_list,train_error_list,test_error_list = nn.train(Xorig,Yorig,log=False)\n",
    "    t2 = time.time()\n",
    "    time_list.append(t2-t1)\n",
    "    train_list.append(train_acc_list[-1])\n",
    "    test_list.append(test_acc_list[-1])"
   ]
  },
  {
   "cell_type": "code",
   "execution_count": 13,
   "metadata": {},
   "outputs": [
    {
     "data": {
      "image/png": "[encoded data removed]",
      "text/plain": [
       "<Figure size 432x288 with 1 Axes>"
      ]
     },
     "metadata": {},
     "output_type": "display_data"
    }
   ],
   "source": [
    "X = [-14,-10,-6,-2,2,6]\n",
    "plt.plot(X,train_list, label=\"Train Accuracy\")\n",
    "plt.plot(X,test_list,label=\"Test Accuracy\")\n",
    "plt.xlabel('Log(Lambda)')\n",
    "plt.ylabel('Accuracy')\n",
    "plt.title('Accuracy vs Lambda)')\n",
    "plt.legend()\n",
    "plt.savefig('Plots/Accuracy vs Lambda_1.png',dpi=1200)\n",
    "plt.show()"
   ]
  },
  {
   "cell_type": "code",
   "execution_count": 14,
   "metadata": {},
   "outputs": [
    {
     "data": {
      "image/png": "[encoded data removed]",
      "text/plain": [
       "<Figure size 432x288 with 1 Axes>"
      ]
     },
     "metadata": {},
     "output_type": "display_data"
    }
   ],
   "source": [
    "X = [-14,-10,-6,-2,2,6]\n",
    "plt.plot(X,time_list, label=\"Time taken\")\n",
    "plt.xlabel('Log(Lambda)')\n",
    "plt.ylabel('Time taken(sec)')\n",
    "plt.title('Time vs Lambda)')\n",
    "plt.savefig('Plots/Time vs Lambda_1.png',dpi=1200)\n",
    "plt.show()"
   ]
  },
  {
   "cell_type": "code",
   "execution_count": 15,
   "metadata": {},
   "outputs": [
    {
     "data": {
      "text/html": [
       "<div>\n",
       "<style scoped>\n",
       "    .dataframe tbody tr th:only-of-type {\n",
       "        vertical-align: middle;\n",
       "    }\n",
       "\n",
       "    .dataframe tbody tr th {\n",
       "        vertical-align: top;\n",
       "    }\n",
       "\n",
       "    .dataframe thead th {\n",
       "        text-align: right;\n",
       "    }\n",
       "</style>\n",
       "<table border=\"1\" class=\"dataframe\">\n",
       "  <thead>\n",
       "    <tr style=\"text-align: right;\">\n",
       "      <th></th>\n",
       "      <th>lam</th>\n",
       "      <th>train_acc</th>\n",
       "      <th>test_acc</th>\n",
       "      <th>time_taken</th>\n",
       "    </tr>\n",
       "  </thead>\n",
       "  <tbody>\n",
       "    <tr>\n",
       "      <th>0</th>\n",
       "      <td>-14</td>\n",
       "      <td>0.920000</td>\n",
       "      <td>0.833333</td>\n",
       "      <td>9.401528</td>\n",
       "    </tr>\n",
       "    <tr>\n",
       "      <th>1</th>\n",
       "      <td>-10</td>\n",
       "      <td>0.920000</td>\n",
       "      <td>0.833333</td>\n",
       "      <td>9.230801</td>\n",
       "    </tr>\n",
       "    <tr>\n",
       "      <th>2</th>\n",
       "      <td>-6</td>\n",
       "      <td>0.920000</td>\n",
       "      <td>0.833333</td>\n",
       "      <td>9.419060</td>\n",
       "    </tr>\n",
       "    <tr>\n",
       "      <th>3</th>\n",
       "      <td>-2</td>\n",
       "      <td>0.928519</td>\n",
       "      <td>0.840000</td>\n",
       "      <td>11.055267</td>\n",
       "    </tr>\n",
       "    <tr>\n",
       "      <th>4</th>\n",
       "      <td>2</td>\n",
       "      <td>0.111111</td>\n",
       "      <td>0.113333</td>\n",
       "      <td>14.246521</td>\n",
       "    </tr>\n",
       "    <tr>\n",
       "      <th>5</th>\n",
       "      <td>6</td>\n",
       "      <td>0.101481</td>\n",
       "      <td>0.080000</td>\n",
       "      <td>13.951764</td>\n",
       "    </tr>\n",
       "  </tbody>\n",
       "</table>\n",
       "</div>"
      ],
      "text/plain": [
       "   lam  train_acc  test_acc  time_taken\n",
       "0  -14   0.920000  0.833333    9.401528\n",
       "1  -10   0.920000  0.833333    9.230801\n",
       "2   -6   0.920000  0.833333    9.419060\n",
       "3   -2   0.928519  0.840000   11.055267\n",
       "4    2   0.111111  0.113333   14.246521\n",
       "5    6   0.101481  0.080000   13.951764"
      ]
     },
     "execution_count": 15,
     "metadata": {},
     "output_type": "execute_result"
    }
   ],
   "source": [
    "tempdf = pd.DataFrame({'lam':[-14,-10,-6,-2,2,6],'train_acc':train_list,'test_acc':test_list,'time_taken':time_list})\n",
    "tempdf"
   ]
  },
  {
   "cell_type": "code",
   "execution_count": null,
   "metadata": {},
   "outputs": [],
   "source": []
  },
  {
   "cell_type": "code",
   "execution_count": 16,
   "metadata": {},
   "outputs": [
    {
     "data": {
      "application/vnd.jupyter.widget-view+json": {
       "model_id": "62456a687694472081da774c31fbcb12",
       "version_major": 2,
       "version_minor": 0
      },
      "text/plain": [
       "HBox(children=(FloatProgress(value=0.0, max=6.0), HTML(value='')))"
      ]
     },
     "metadata": {},
     "output_type": "display_data"
    },
    {
     "name": "stdout",
     "output_type": "stream",
     "text": [
      "\n"
     ]
    }
   ],
   "source": [
    "train_list = []\n",
    "test_list = []\n",
    "time_list = []\n",
    "for reg in tqdm([0.01,0.05,0.1,0.5,1,5]):\n",
    "    t1 = time.time()\n",
    "    nn = NN(epochs = 100,alpha=0.004,layers=1,nodes=[100,64],lam=reg)\n",
    "    train_acc_list,test_acc_list,train_error_list,test_error_list = nn.train(Xorig,Yorig,log=False)\n",
    "    t2 = time.time()\n",
    "    time_list.append(t2-t1)\n",
    "    train_list.append(train_acc_list[-1])\n",
    "    test_list.append(test_acc_list[-1])"
   ]
  },
  {
   "cell_type": "code",
   "execution_count": 17,
   "metadata": {},
   "outputs": [
    {
     "data": {
      "image/png": "[encoded data removed]",
      "text/plain": [
       "<Figure size 432x288 with 1 Axes>"
      ]
     },
     "metadata": {},
     "output_type": "display_data"
    }
   ],
   "source": [
    "X = [0.01,0.05,0.1,0.5,1,5]\n",
    "plt.plot(X,train_list, label=\"Train Accuracy\")\n",
    "plt.plot(X,test_list,label=\"Test Accuracy\")\n",
    "plt.xlabel('(Lambda)')\n",
    "plt.ylabel('Accuracy')\n",
    "plt.title('Accuracy vs Lambda)')\n",
    "plt.legend()\n",
    "plt.savefig('Plots/Accuracy vs Lambda_2.png',dpi=1200)\n",
    "plt.show()"
   ]
  },
  {
   "cell_type": "code",
   "execution_count": 18,
   "metadata": {},
   "outputs": [
    {
     "data": {
      "image/png": "[encoded data removed]",
      "text/plain": [
       "<Figure size 432x288 with 1 Axes>"
      ]
     },
     "metadata": {},
     "output_type": "display_data"
    }
   ],
   "source": [
    "X = [0.01,0.05,0.1,0.5,1,5]\n",
    "plt.plot(X,time_list, label=\"Time taken\")\n",
    "plt.xlabel('Log(Lambda)')\n",
    "plt.ylabel('Time taken(sec)')\n",
    "plt.title('Time vs Lambda)')\n",
    "plt.savefig('Plots/Time vs Lambda_2.png',dpi=1200)\n",
    "plt.show()"
   ]
  },
  {
   "cell_type": "code",
   "execution_count": 19,
   "metadata": {},
   "outputs": [
    {
     "data": {
      "text/html": [
       "<div>\n",
       "<style scoped>\n",
       "    .dataframe tbody tr th:only-of-type {\n",
       "        vertical-align: middle;\n",
       "    }\n",
       "\n",
       "    .dataframe tbody tr th {\n",
       "        vertical-align: top;\n",
       "    }\n",
       "\n",
       "    .dataframe thead th {\n",
       "        text-align: right;\n",
       "    }\n",
       "</style>\n",
       "<table border=\"1\" class=\"dataframe\">\n",
       "  <thead>\n",
       "    <tr style=\"text-align: right;\">\n",
       "      <th></th>\n",
       "      <th>lam</th>\n",
       "      <th>train_acc</th>\n",
       "      <th>test_acc</th>\n",
       "      <th>time_taken</th>\n",
       "    </tr>\n",
       "  </thead>\n",
       "  <tbody>\n",
       "    <tr>\n",
       "      <th>0</th>\n",
       "      <td>0.01</td>\n",
       "      <td>0.928519</td>\n",
       "      <td>0.840000</td>\n",
       "      <td>16.044469</td>\n",
       "    </tr>\n",
       "    <tr>\n",
       "      <th>1</th>\n",
       "      <td>0.05</td>\n",
       "      <td>0.931852</td>\n",
       "      <td>0.856667</td>\n",
       "      <td>15.705497</td>\n",
       "    </tr>\n",
       "    <tr>\n",
       "      <th>2</th>\n",
       "      <td>0.10</td>\n",
       "      <td>0.929259</td>\n",
       "      <td>0.860000</td>\n",
       "      <td>17.658879</td>\n",
       "    </tr>\n",
       "    <tr>\n",
       "      <th>3</th>\n",
       "      <td>0.50</td>\n",
       "      <td>0.907037</td>\n",
       "      <td>0.883333</td>\n",
       "      <td>11.265135</td>\n",
       "    </tr>\n",
       "    <tr>\n",
       "      <th>4</th>\n",
       "      <td>1.00</td>\n",
       "      <td>0.880000</td>\n",
       "      <td>0.880000</td>\n",
       "      <td>7.890082</td>\n",
       "    </tr>\n",
       "    <tr>\n",
       "      <th>5</th>\n",
       "      <td>5.00</td>\n",
       "      <td>0.548148</td>\n",
       "      <td>0.536667</td>\n",
       "      <td>18.670657</td>\n",
       "    </tr>\n",
       "  </tbody>\n",
       "</table>\n",
       "</div>"
      ],
      "text/plain": [
       "    lam  train_acc  test_acc  time_taken\n",
       "0  0.01   0.928519  0.840000   16.044469\n",
       "1  0.05   0.931852  0.856667   15.705497\n",
       "2  0.10   0.929259  0.860000   17.658879\n",
       "3  0.50   0.907037  0.883333   11.265135\n",
       "4  1.00   0.880000  0.880000    7.890082\n",
       "5  5.00   0.548148  0.536667   18.670657"
      ]
     },
     "execution_count": 19,
     "metadata": {},
     "output_type": "execute_result"
    }
   ],
   "source": [
    "tempdf = pd.DataFrame({'lam':[0.01,0.05,0.1,0.5,1,5],'train_acc':train_list,'test_acc':test_list,'time_taken':time_list})\n",
    "tempdf"
   ]
  },
  {
   "cell_type": "code",
   "execution_count": null,
   "metadata": {},
   "outputs": [],
   "source": []
  },
  {
   "cell_type": "code",
   "execution_count": 20,
   "metadata": {},
   "outputs": [
    {
     "data": {
      "application/vnd.jupyter.widget-view+json": {
       "model_id": "93181ba4355e4afd8fb57e64188accee",
       "version_major": 2,
       "version_minor": 0
      },
      "text/plain": [
       "HBox(children=(FloatProgress(value=0.0, max=7.0), HTML(value='')))"
      ]
     },
     "metadata": {},
     "output_type": "display_data"
    },
    {
     "name": "stdout",
     "output_type": "stream",
     "text": [
      "\n"
     ]
    }
   ],
   "source": [
    "train_list = []\n",
    "test_list = []\n",
    "time_list = []\n",
    "for alpha in tqdm([1e-8,1e-7,1e-6,1e-5,1e-4,1e-3,1e-2]):\n",
    "    t1 = time.time()\n",
    "    nn = NN(epochs = 100,alpha=alpha,layers=1,nodes=[100,64],lam=0.5)\n",
    "    train_acc_list,test_acc_list,train_error_list,test_error_list = nn.train(Xorig,Yorig,log=False)\n",
    "    t2 = time.time()\n",
    "    time_list.append(t2-t1)\n",
    "    train_list.append(train_acc_list[-1])\n",
    "    test_list.append(test_acc_list[-1])"
   ]
  },
  {
   "cell_type": "code",
   "execution_count": 21,
   "metadata": {},
   "outputs": [
    {
     "data": {
      "image/png": "[encoded data removed]",
      "text/plain": [
       "<Figure size 432x288 with 1 Axes>"
      ]
     },
     "metadata": {},
     "output_type": "display_data"
    }
   ],
   "source": [
    "X = [-8,-7,-6,-5,-4,-3,-2]\n",
    "plt.plot(X,train_list, label=\"Train Accuracy\")\n",
    "plt.plot(X,test_list,label=\"Test Accuracy\")\n",
    "plt.xlabel('log(learning rate)')\n",
    "plt.ylabel('Accuracy')\n",
    "plt.title('Accuracy vs Learning rate)')\n",
    "plt.legend()\n",
    "plt.savefig('Plots/Accuracy vs LR_1.png',dpi=1200)\n",
    "plt.show()"
   ]
  },
  {
   "cell_type": "code",
   "execution_count": 22,
   "metadata": {},
   "outputs": [
    {
     "data": {
      "image/png": "[encoded data removed]",
      "text/plain": [
       "<Figure size 432x288 with 1 Axes>"
      ]
     },
     "metadata": {},
     "output_type": "display_data"
    }
   ],
   "source": [
    "X = [-8,-7,-6,-5,-4,-3,-2]\n",
    "plt.plot(X,time_list, label=\"Time taken\")\n",
    "plt.xlabel('log(learning rate)')\n",
    "plt.ylabel('Time taken(sec)')\n",
    "plt.title('Time vs Lambda)')\n",
    "plt.savefig('Plots/Time vs LR_1.png',dpi=1200)\n",
    "plt.show()"
   ]
  },
  {
   "cell_type": "code",
   "execution_count": 23,
   "metadata": {},
   "outputs": [
    {
     "data": {
      "text/html": [
       "<div>\n",
       "<style scoped>\n",
       "    .dataframe tbody tr th:only-of-type {\n",
       "        vertical-align: middle;\n",
       "    }\n",
       "\n",
       "    .dataframe tbody tr th {\n",
       "        vertical-align: top;\n",
       "    }\n",
       "\n",
       "    .dataframe thead th {\n",
       "        text-align: right;\n",
       "    }\n",
       "</style>\n",
       "<table border=\"1\" class=\"dataframe\">\n",
       "  <thead>\n",
       "    <tr style=\"text-align: right;\">\n",
       "      <th></th>\n",
       "      <th>LR</th>\n",
       "      <th>train_acc</th>\n",
       "      <th>test_acc</th>\n",
       "      <th>time_taken</th>\n",
       "    </tr>\n",
       "  </thead>\n",
       "  <tbody>\n",
       "    <tr>\n",
       "      <th>0</th>\n",
       "      <td>1.000000e-08</td>\n",
       "      <td>0.092222</td>\n",
       "      <td>0.103333</td>\n",
       "      <td>20.061172</td>\n",
       "    </tr>\n",
       "    <tr>\n",
       "      <th>1</th>\n",
       "      <td>1.000000e-07</td>\n",
       "      <td>0.090741</td>\n",
       "      <td>0.100000</td>\n",
       "      <td>27.785561</td>\n",
       "    </tr>\n",
       "    <tr>\n",
       "      <th>2</th>\n",
       "      <td>1.000000e-06</td>\n",
       "      <td>0.104815</td>\n",
       "      <td>0.100000</td>\n",
       "      <td>29.807645</td>\n",
       "    </tr>\n",
       "    <tr>\n",
       "      <th>3</th>\n",
       "      <td>1.000000e-05</td>\n",
       "      <td>0.386667</td>\n",
       "      <td>0.350000</td>\n",
       "      <td>32.541521</td>\n",
       "    </tr>\n",
       "    <tr>\n",
       "      <th>4</th>\n",
       "      <td>1.000000e-04</td>\n",
       "      <td>0.780741</td>\n",
       "      <td>0.773333</td>\n",
       "      <td>24.240064</td>\n",
       "    </tr>\n",
       "    <tr>\n",
       "      <th>5</th>\n",
       "      <td>1.000000e-03</td>\n",
       "      <td>0.870741</td>\n",
       "      <td>0.846667</td>\n",
       "      <td>12.096484</td>\n",
       "    </tr>\n",
       "    <tr>\n",
       "      <th>6</th>\n",
       "      <td>1.000000e-02</td>\n",
       "      <td>0.919630</td>\n",
       "      <td>0.906667</td>\n",
       "      <td>10.478140</td>\n",
       "    </tr>\n",
       "  </tbody>\n",
       "</table>\n",
       "</div>"
      ],
      "text/plain": [
       "             LR  train_acc  test_acc  time_taken\n",
       "0  1.000000e-08   0.092222  0.103333   20.061172\n",
       "1  1.000000e-07   0.090741  0.100000   27.785561\n",
       "2  1.000000e-06   0.104815  0.100000   29.807645\n",
       "3  1.000000e-05   0.386667  0.350000   32.541521\n",
       "4  1.000000e-04   0.780741  0.773333   24.240064\n",
       "5  1.000000e-03   0.870741  0.846667   12.096484\n",
       "6  1.000000e-02   0.919630  0.906667   10.478140"
      ]
     },
     "execution_count": 23,
     "metadata": {},
     "output_type": "execute_result"
    }
   ],
   "source": [
    "tempdf = pd.DataFrame({'LR':[1e-8,1e-7,1e-6,1e-5,1e-4,1e-3,1e-2],'train_acc':train_list,'test_acc':test_list,'time_taken':time_list})\n",
    "tempdf"
   ]
  },
  {
   "cell_type": "code",
   "execution_count": null,
   "metadata": {},
   "outputs": [],
   "source": []
  },
  {
   "cell_type": "code",
   "execution_count": 24,
   "metadata": {},
   "outputs": [
    {
     "data": {
      "application/vnd.jupyter.widget-view+json": {
       "model_id": "ca0b87c3f25e45b685c87a21ec159840",
       "version_major": 2,
       "version_minor": 0
      },
      "text/plain": [
       "HBox(children=(FloatProgress(value=0.0, max=7.0), HTML(value='')))"
      ]
     },
     "metadata": {},
     "output_type": "display_data"
    },
    {
     "name": "stdout",
     "output_type": "stream",
     "text": [
      "\n"
     ]
    }
   ],
   "source": [
    "train_list = []\n",
    "test_list = []\n",
    "time_list = []\n",
    "for alpha in tqdm([1e-3,2e-3,3e-3,4e-3,5e-3,6e-3,7e-3]):\n",
    "    t1 = time.time()\n",
    "    nn = NN(epochs = 100,alpha=alpha,layers=1,nodes=[100,64],lam=0.5)\n",
    "    train_acc_list,test_acc_list,train_error_list,test_error_list = nn.train(Xorig,Yorig,log=False)\n",
    "    t2 = time.time()\n",
    "    time_list.append(t2-t1)\n",
    "    train_list.append(train_acc_list[-1])\n",
    "    test_list.append(test_acc_list[-1])"
   ]
  },
  {
   "cell_type": "code",
   "execution_count": 25,
   "metadata": {},
   "outputs": [
    {
     "data": {
      "image/png": "[encoded data removed]",
      "text/plain": [
       "<Figure size 432x288 with 1 Axes>"
      ]
     },
     "metadata": {},
     "output_type": "display_data"
    }
   ],
   "source": [
    "X = [1,2,3,4,5,6,7]\n",
    "plt.plot(X,train_list, label=\"Train Accuracy\")\n",
    "plt.plot(X,test_list,label=\"Test Accuracy\")\n",
    "plt.xlabel('log(learning rate * 1e-3)')\n",
    "plt.ylabel('Accuracy')\n",
    "plt.title('Accuracy vs Learning rate)')\n",
    "plt.legend()\n",
    "plt.savefig('Plots/Accuracy vs LR_2.png',dpi=1200)\n",
    "plt.show()"
   ]
  },
  {
   "cell_type": "code",
   "execution_count": 26,
   "metadata": {},
   "outputs": [
    {
     "data": {
      "image/png": "[encoded data removed]",
      "text/plain": [
       "<Figure size 432x288 with 1 Axes>"
      ]
     },
     "metadata": {},
     "output_type": "display_data"
    }
   ],
   "source": [
    "plt.plot(X,time_list, label=\"Time taken\")\n",
    "plt.xlabel('log(learning rate)')\n",
    "plt.ylabel('Time taken(sec)')\n",
    "plt.title('Time vs Lambda)')\n",
    "plt.savefig('Plots/Time vs LR_2.png',dpi=1200)\n",
    "plt.show()"
   ]
  },
  {
   "cell_type": "code",
   "execution_count": 27,
   "metadata": {},
   "outputs": [
    {
     "data": {
      "text/html": [
       "<div>\n",
       "<style scoped>\n",
       "    .dataframe tbody tr th:only-of-type {\n",
       "        vertical-align: middle;\n",
       "    }\n",
       "\n",
       "    .dataframe tbody tr th {\n",
       "        vertical-align: top;\n",
       "    }\n",
       "\n",
       "    .dataframe thead th {\n",
       "        text-align: right;\n",
       "    }\n",
       "</style>\n",
       "<table border=\"1\" class=\"dataframe\">\n",
       "  <thead>\n",
       "    <tr style=\"text-align: right;\">\n",
       "      <th></th>\n",
       "      <th>LR</th>\n",
       "      <th>train_acc</th>\n",
       "      <th>test_acc</th>\n",
       "      <th>time_taken</th>\n",
       "    </tr>\n",
       "  </thead>\n",
       "  <tbody>\n",
       "    <tr>\n",
       "      <th>0</th>\n",
       "      <td>0.001</td>\n",
       "      <td>0.870741</td>\n",
       "      <td>0.846667</td>\n",
       "      <td>13.978901</td>\n",
       "    </tr>\n",
       "    <tr>\n",
       "      <th>1</th>\n",
       "      <td>0.002</td>\n",
       "      <td>0.885185</td>\n",
       "      <td>0.843333</td>\n",
       "      <td>10.872702</td>\n",
       "    </tr>\n",
       "    <tr>\n",
       "      <th>2</th>\n",
       "      <td>0.003</td>\n",
       "      <td>0.889630</td>\n",
       "      <td>0.850000</td>\n",
       "      <td>7.490244</td>\n",
       "    </tr>\n",
       "    <tr>\n",
       "      <th>3</th>\n",
       "      <td>0.004</td>\n",
       "      <td>0.907037</td>\n",
       "      <td>0.883333</td>\n",
       "      <td>16.960423</td>\n",
       "    </tr>\n",
       "    <tr>\n",
       "      <th>4</th>\n",
       "      <td>0.005</td>\n",
       "      <td>0.908148</td>\n",
       "      <td>0.880000</td>\n",
       "      <td>13.727301</td>\n",
       "    </tr>\n",
       "    <tr>\n",
       "      <th>5</th>\n",
       "      <td>0.006</td>\n",
       "      <td>0.917037</td>\n",
       "      <td>0.903333</td>\n",
       "      <td>16.368423</td>\n",
       "    </tr>\n",
       "    <tr>\n",
       "      <th>6</th>\n",
       "      <td>0.007</td>\n",
       "      <td>0.909630</td>\n",
       "      <td>0.890000</td>\n",
       "      <td>13.126486</td>\n",
       "    </tr>\n",
       "  </tbody>\n",
       "</table>\n",
       "</div>"
      ],
      "text/plain": [
       "      LR  train_acc  test_acc  time_taken\n",
       "0  0.001   0.870741  0.846667   13.978901\n",
       "1  0.002   0.885185  0.843333   10.872702\n",
       "2  0.003   0.889630  0.850000    7.490244\n",
       "3  0.004   0.907037  0.883333   16.960423\n",
       "4  0.005   0.908148  0.880000   13.727301\n",
       "5  0.006   0.917037  0.903333   16.368423\n",
       "6  0.007   0.909630  0.890000   13.126486"
      ]
     },
     "execution_count": 27,
     "metadata": {},
     "output_type": "execute_result"
    }
   ],
   "source": [
    "tempdf = pd.DataFrame({'LR':[1e-3,2e-3,3e-3,4e-3,5e-3,6e-3,7e-3],'train_acc':train_list,'test_acc':test_list,'time_taken':time_list})\n",
    "tempdf"
   ]
  },
  {
   "cell_type": "code",
   "execution_count": null,
   "metadata": {},
   "outputs": [],
   "source": []
  },
  {
   "cell_type": "code",
   "execution_count": 31,
   "metadata": {},
   "outputs": [
    {
     "data": {
      "application/vnd.jupyter.widget-view+json": {
       "model_id": "31d52bbfc97c4587a6ce3dc396dad199",
       "version_major": 2,
       "version_minor": 0
      },
      "text/plain": [
       "HBox(children=(FloatProgress(value=0.0, max=4.0), HTML(value='')))"
      ]
     },
     "metadata": {},
     "output_type": "display_data"
    },
    {
     "name": "stdout",
     "output_type": "stream",
     "text": [
      "\n"
     ]
    }
   ],
   "source": [
    "train_list = []\n",
    "test_list = []\n",
    "time_list = []\n",
    "for bs in tqdm([8,16,32,64]):\n",
    "    t1 = time.time()\n",
    "    nn = NN(epochs = 100,alpha=5e-3,layers=1,nodes=[100,64],lam=0.5,bs=bs)\n",
    "    train_acc_list,test_acc_list,train_error_list,test_error_list = nn.train(Xorig,Yorig,log=False)\n",
    "    t2 = time.time()\n",
    "    time_list.append(t2-t1)\n",
    "    train_list.append(train_acc_list[-1])\n",
    "    test_list.append(test_acc_list[-1])"
   ]
  },
  {
   "cell_type": "code",
   "execution_count": 32,
   "metadata": {},
   "outputs": [
    {
     "data": {
      "image/png": "[encoded data removed]",
      "text/plain": [
       "<Figure size 432x288 with 1 Axes>"
      ]
     },
     "metadata": {},
     "output_type": "display_data"
    }
   ],
   "source": [
    "X = [8,16,32,64]\n",
    "plt.plot(X,train_list, label=\"Train Accuracy\")\n",
    "plt.plot(X,test_list,label=\"Test Accuracy\")\n",
    "plt.xlabel('Batch Size')\n",
    "plt.ylabel('Accuracy')\n",
    "plt.title('Accuracy vs Batch Size)')\n",
    "plt.legend()\n",
    "plt.savefig('Plots/Accuracy vs BS_2.png',dpi=1200)\n",
    "plt.show()"
   ]
  },
  {
   "cell_type": "code",
   "execution_count": 33,
   "metadata": {},
   "outputs": [
    {
     "data": {
      "image/png": "[encoded data removed]",
      "text/plain": [
       "<Figure size 432x288 with 1 Axes>"
      ]
     },
     "metadata": {},
     "output_type": "display_data"
    }
   ],
   "source": [
    "plt.plot(X,time_list, label=\"Time taken\")\n",
    "plt.xlabel('Batch size')\n",
    "plt.ylabel('Time taken(sec)')\n",
    "plt.title('Time vs Lambda)')\n",
    "plt.savefig('Plots/Time vs BS_2.png',dpi=1200)\n",
    "plt.show()"
   ]
  },
  {
   "cell_type": "code",
   "execution_count": 36,
   "metadata": {},
   "outputs": [
    {
     "data": {
      "text/html": [
       "<div>\n",
       "<style scoped>\n",
       "    .dataframe tbody tr th:only-of-type {\n",
       "        vertical-align: middle;\n",
       "    }\n",
       "\n",
       "    .dataframe tbody tr th {\n",
       "        vertical-align: top;\n",
       "    }\n",
       "\n",
       "    .dataframe thead th {\n",
       "        text-align: right;\n",
       "    }\n",
       "</style>\n",
       "<table border=\"1\" class=\"dataframe\">\n",
       "  <thead>\n",
       "    <tr style=\"text-align: right;\">\n",
       "      <th></th>\n",
       "      <th>BS</th>\n",
       "      <th>train_acc</th>\n",
       "      <th>test_acc</th>\n",
       "      <th>time_taken</th>\n",
       "    </tr>\n",
       "  </thead>\n",
       "  <tbody>\n",
       "    <tr>\n",
       "      <th>0</th>\n",
       "      <td>8</td>\n",
       "      <td>0.882963</td>\n",
       "      <td>0.886667</td>\n",
       "      <td>10.944870</td>\n",
       "    </tr>\n",
       "    <tr>\n",
       "      <th>1</th>\n",
       "      <td>16</td>\n",
       "      <td>0.908148</td>\n",
       "      <td>0.880000</td>\n",
       "      <td>11.861279</td>\n",
       "    </tr>\n",
       "    <tr>\n",
       "      <th>2</th>\n",
       "      <td>32</td>\n",
       "      <td>0.912593</td>\n",
       "      <td>0.866667</td>\n",
       "      <td>8.223766</td>\n",
       "    </tr>\n",
       "    <tr>\n",
       "      <th>3</th>\n",
       "      <td>64</td>\n",
       "      <td>0.903704</td>\n",
       "      <td>0.843333</td>\n",
       "      <td>8.048591</td>\n",
       "    </tr>\n",
       "  </tbody>\n",
       "</table>\n",
       "</div>"
      ],
      "text/plain": [
       "   BS  train_acc  test_acc  time_taken\n",
       "0   8   0.882963  0.886667   10.944870\n",
       "1  16   0.908148  0.880000   11.861279\n",
       "2  32   0.912593  0.866667    8.223766\n",
       "3  64   0.903704  0.843333    8.048591"
      ]
     },
     "execution_count": 36,
     "metadata": {},
     "output_type": "execute_result"
    }
   ],
   "source": [
    "tempdf = pd.DataFrame({'BS':[8,16,32,64],'train_acc':train_list,'test_acc':test_list,'time_taken':time_list})\n",
    "tempdf"
   ]
  },
  {
   "cell_type": "code",
   "execution_count": null,
   "metadata": {},
   "outputs": [],
   "source": []
  },
  {
   "cell_type": "code",
   "execution_count": null,
   "metadata": {},
   "outputs": [],
   "source": []
  },
  {
   "cell_type": "code",
   "execution_count": 38,
   "metadata": {},
   "outputs": [
    {
     "data": {
      "application/vnd.jupyter.widget-view+json": {
       "model_id": "eea00d2963044531aca1a25050505911",
       "version_major": 2,
       "version_minor": 0
      },
      "text/plain": [
       "HBox(children=(FloatProgress(value=0.0, max=6.0), HTML(value='')))"
      ]
     },
     "metadata": {},
     "output_type": "display_data"
    },
    {
     "name": "stdout",
     "output_type": "stream",
     "text": [
      "\n"
     ]
    },
    {
     "data": {
      "application/vnd.jupyter.widget-view+json": {
       "model_id": "d5ad3d2a8f744233ae83fa5e470683ae",
       "version_major": 2,
       "version_minor": 0
      },
      "text/plain": [
       "HBox(children=(FloatProgress(value=0.0, max=6.0), HTML(value='')))"
      ]
     },
     "metadata": {},
     "output_type": "display_data"
    },
    {
     "name": "stdout",
     "output_type": "stream",
     "text": [
      "\n"
     ]
    },
    {
     "data": {
      "application/vnd.jupyter.widget-view+json": {
       "model_id": "a7d1cd534b874e8989dd95c4a45e941d",
       "version_major": 2,
       "version_minor": 0
      },
      "text/plain": [
       "HBox(children=(FloatProgress(value=0.0, max=6.0), HTML(value='')))"
      ]
     },
     "metadata": {},
     "output_type": "display_data"
    },
    {
     "name": "stdout",
     "output_type": "stream",
     "text": [
      "\n"
     ]
    },
    {
     "data": {
      "application/vnd.jupyter.widget-view+json": {
       "model_id": "035d641cc75e41ce80334c20cad26aaf",
       "version_major": 2,
       "version_minor": 0
      },
      "text/plain": [
       "HBox(children=(FloatProgress(value=0.0, max=6.0), HTML(value='')))"
      ]
     },
     "metadata": {},
     "output_type": "display_data"
    },
    {
     "name": "stdout",
     "output_type": "stream",
     "text": [
      "\n"
     ]
    },
    {
     "data": {
      "application/vnd.jupyter.widget-view+json": {
       "model_id": "b837f373cbaf4b6baaf2865d9f1b01dc",
       "version_major": 2,
       "version_minor": 0
      },
      "text/plain": [
       "HBox(children=(FloatProgress(value=0.0, max=6.0), HTML(value='')))"
      ]
     },
     "metadata": {},
     "output_type": "display_data"
    },
    {
     "name": "stdout",
     "output_type": "stream",
     "text": [
      "\n"
     ]
    },
    {
     "data": {
      "application/vnd.jupyter.widget-view+json": {
       "model_id": "d9557c9f553f44f69ab092d1879fe4ab",
       "version_major": 2,
       "version_minor": 0
      },
      "text/plain": [
       "HBox(children=(FloatProgress(value=0.0, max=6.0), HTML(value='')))"
      ]
     },
     "metadata": {},
     "output_type": "display_data"
    },
    {
     "name": "stdout",
     "output_type": "stream",
     "text": [
      "\n"
     ]
    }
   ],
   "source": [
    "df = pd.DataFrame()\n",
    "bestLayer, bestLd, bestact = 0,0,0\n",
    "bestAcc = 0\n",
    "for layer in [1,2]:\n",
    "    for activation in [1,2,3]:\n",
    "        for lbd in tqdm([1e-8,1e-4,1e-2,5e-2,1e-1,5e-1]):\n",
    "            try:\n",
    "                nn = NN(epochs = 100,alpha=0.004,layers=layer,nodes=[100,64],lam=lbd,activation=activation,early=False)\n",
    "                train_acc_list,test_acc_list,train_error_list,test_error_list = nn.train(Xorig,Yorig,log=False)\n",
    "                test_acc = test_acc_list[-1]\n",
    "                train_acc = train_acc_list[-1]\n",
    "                if test_acc>bestAcc:\n",
    "                    bestLayer = layer\n",
    "                    bestLd = lbd\n",
    "                    bestact = activation\n",
    "                    bestAcc = test_acc\n",
    "                it = {'Layer':layer,'Activation':activation,'Lambd':lbd,'trainAcc':train_acc, 'testAcc':test_acc}\n",
    "                df = df.append(it,ignore_index=True)\n",
    "            except:\n",
    "                continue\n",
    "        df.to_csv('grid_pt1_ii.csv',index=False)"
   ]
  },
  {
   "cell_type": "code",
   "execution_count": null,
   "metadata": {},
   "outputs": [],
   "source": []
  },
  {
   "cell_type": "code",
   "execution_count": null,
   "metadata": {},
   "outputs": [],
   "source": []
  },
  {
   "cell_type": "code",
   "execution_count": null,
   "metadata": {},
   "outputs": [],
   "source": []
  },
  {
   "cell_type": "code",
   "execution_count": 46,
   "metadata": {},
   "outputs": [
    {
     "name": "stdout",
     "output_type": "stream",
     "text": [
      "epoch: 1/300\n",
      "time: 0.2473, training_acc: 0.6426, test_acc: 0.57\n",
      "epoch: 2/300\n",
      "time: 0.2545, training_acc: 0.6915, test_acc: 0.6333\n",
      "epoch: 3/300\n",
      "time: 0.2438, training_acc: 0.7256, test_acc: 0.6867\n",
      "epoch: 4/300\n",
      "time: 0.2333, training_acc: 0.7248, test_acc: 0.6567\n",
      "epoch: 5/300\n",
      "time: 0.2243, training_acc: 0.7307, test_acc: 0.67\n",
      "epoch: 6/300\n",
      "time: 0.224, training_acc: 0.7389, test_acc: 0.6833\n",
      "epoch: 7/300\n",
      "time: 0.2245, training_acc: 0.7459, test_acc: 0.7\n",
      "epoch: 8/300\n",
      "time: 0.2021, training_acc: 0.7393, test_acc: 0.67\n",
      "epoch: 9/300\n",
      "time: 0.2033, training_acc: 0.7452, test_acc: 0.6967\n",
      "epoch: 10/300\n",
      "time: 0.2014, training_acc: 0.7485, test_acc: 0.71\n",
      "epoch: 11/300\n",
      "time: 0.1929, training_acc: 0.7478, test_acc: 0.71\n",
      "epoch: 12/300\n",
      "time: 0.1996, training_acc: 0.7611, test_acc: 0.7233\n",
      "epoch: 13/300\n",
      "time: 0.1902, training_acc: 0.7644, test_acc: 0.72\n",
      "epoch: 14/300\n",
      "time: 0.1804, training_acc: 0.7741, test_acc: 0.72\n",
      "epoch: 15/300\n",
      "time: 0.1995, training_acc: 0.7841, test_acc: 0.72\n",
      "epoch: 16/300\n",
      "time: 0.1933, training_acc: 0.7896, test_acc: 0.73\n",
      "epoch: 17/300\n",
      "time: 0.2011, training_acc: 0.7996, test_acc: 0.7333\n",
      "epoch: 18/300\n",
      "time: 0.192, training_acc: 0.807, test_acc: 0.7367\n",
      "epoch: 19/300\n",
      "time: 0.1994, training_acc: 0.8144, test_acc: 0.75\n",
      "epoch: 20/300\n",
      "time: 0.1951, training_acc: 0.8215, test_acc: 0.75\n",
      "epoch: 21/300\n",
      "time: 0.1943, training_acc: 0.8267, test_acc: 0.7567\n",
      "epoch: 22/300\n",
      "time: 0.2107, training_acc: 0.8315, test_acc: 0.7633\n",
      "epoch: 23/300\n",
      "time: 0.1881, training_acc: 0.8367, test_acc: 0.7633\n",
      "epoch: 24/300\n",
      "time: 0.201, training_acc: 0.8419, test_acc: 0.7667\n",
      "epoch: 25/300\n",
      "time: 0.2043, training_acc: 0.8489, test_acc: 0.7667\n",
      "epoch: 26/300\n",
      "time: 0.2068, training_acc: 0.8519, test_acc: 0.7667\n",
      "epoch: 27/300\n",
      "time: 0.1892, training_acc: 0.8567, test_acc: 0.7733\n",
      "epoch: 28/300\n",
      "time: 0.1889, training_acc: 0.8641, test_acc: 0.7667\n",
      "epoch: 29/300\n",
      "time: 0.2153, training_acc: 0.8693, test_acc: 0.7767\n",
      "epoch: 30/300\n",
      "time: 0.205, training_acc: 0.8741, test_acc: 0.7767\n",
      "epoch: 31/300\n",
      "time: 0.1915, training_acc: 0.8778, test_acc: 0.7833\n",
      "epoch: 32/300\n",
      "time: 0.1978, training_acc: 0.8815, test_acc: 0.7933\n",
      "epoch: 33/300\n",
      "time: 0.2104, training_acc: 0.8856, test_acc: 0.7933\n",
      "epoch: 34/300\n",
      "time: 0.1977, training_acc: 0.8867, test_acc: 0.8\n",
      "epoch: 35/300\n",
      "time: 0.2068, training_acc: 0.8907, test_acc: 0.8\n",
      "epoch: 36/300\n",
      "time: 0.1914, training_acc: 0.8956, test_acc: 0.8067\n",
      "epoch: 37/300\n",
      "time: 0.1974, training_acc: 0.8993, test_acc: 0.8167\n",
      "epoch: 38/300\n",
      "time: 0.2078, training_acc: 0.9019, test_acc: 0.83\n",
      "epoch: 39/300\n",
      "time: 0.1977, training_acc: 0.9052, test_acc: 0.83\n",
      "epoch: 40/300\n",
      "time: 0.1926, training_acc: 0.9085, test_acc: 0.83\n",
      "epoch: 41/300\n",
      "time: 0.1816, training_acc: 0.9137, test_acc: 0.83\n",
      "epoch: 42/300\n",
      "time: 0.2019, training_acc: 0.9156, test_acc: 0.8333\n",
      "epoch: 43/300\n",
      "time: 0.1955, training_acc: 0.9152, test_acc: 0.8367\n",
      "epoch: 44/300\n",
      "time: 0.1914, training_acc: 0.9167, test_acc: 0.84\n",
      "epoch: 45/300\n",
      "time: 0.2013, training_acc: 0.9193, test_acc: 0.8433\n",
      "epoch: 46/300\n",
      "time: 0.1931, training_acc: 0.9226, test_acc: 0.8433\n",
      "epoch: 47/300\n",
      "time: 0.2057, training_acc: 0.9241, test_acc: 0.8467\n",
      "epoch: 48/300\n",
      "time: 0.2042, training_acc: 0.9259, test_acc: 0.84\n",
      "epoch: 49/300\n",
      "time: 0.195, training_acc: 0.9274, test_acc: 0.84\n",
      "epoch: 50/300\n",
      "time: 0.1903, training_acc: 0.9285, test_acc: 0.84\n",
      "epoch: 51/300\n",
      "time: 0.2025, training_acc: 0.9285, test_acc: 0.84\n",
      "epoch: 52/300\n",
      "time: 0.1971, training_acc: 0.9293, test_acc: 0.8467\n",
      "epoch: 53/300\n",
      "time: 0.2055, training_acc: 0.9289, test_acc: 0.8467\n",
      "epoch: 54/300\n",
      "time: 0.2036, training_acc: 0.9281, test_acc: 0.8433\n",
      "epoch: 55/300\n",
      "time: 0.1858, training_acc: 0.9289, test_acc: 0.8467\n",
      "epoch: 56/300\n",
      "time: 0.2253, training_acc: 0.9285, test_acc: 0.8467\n",
      "epoch: 57/300\n",
      "time: 0.2755, training_acc: 0.9293, test_acc: 0.8467\n",
      "epoch: 58/300\n",
      "time: 0.248, training_acc: 0.93, test_acc: 0.86\n",
      "epoch: 59/300\n",
      "time: 0.2533, training_acc: 0.9311, test_acc: 0.8633\n",
      "epoch: 60/300\n",
      "time: 0.2619, training_acc: 0.9319, test_acc: 0.8633\n",
      "epoch: 61/300\n",
      "time: 0.2734, training_acc: 0.9319, test_acc: 0.87\n",
      "epoch: 62/300\n",
      "time: 0.2398, training_acc: 0.9319, test_acc: 0.87\n",
      "epoch: 63/300\n",
      "time: 0.2696, training_acc: 0.9326, test_acc: 0.87\n",
      "epoch: 64/300\n",
      "time: 0.2602, training_acc: 0.9322, test_acc: 0.8733\n",
      "epoch: 65/300\n",
      "time: 0.2378, training_acc: 0.9307, test_acc: 0.8767\n",
      "epoch: 66/300\n",
      "time: 0.2312, training_acc: 0.9333, test_acc: 0.8767\n",
      "epoch: 67/300\n",
      "time: 0.2359, training_acc: 0.9333, test_acc: 0.88\n",
      "epoch: 68/300\n",
      "time: 0.2474, training_acc: 0.9337, test_acc: 0.88\n",
      "epoch: 69/300\n",
      "time: 0.2605, training_acc: 0.9341, test_acc: 0.8867\n",
      "epoch: 70/300\n",
      "time: 0.2527, training_acc: 0.9341, test_acc: 0.88\n",
      "epoch: 71/300\n",
      "time: 0.2554, training_acc: 0.9341, test_acc: 0.8833\n",
      "epoch: 72/300\n",
      "time: 0.2613, training_acc: 0.9333, test_acc: 0.8833\n",
      "epoch: 73/300\n",
      "time: 0.2557, training_acc: 0.9326, test_acc: 0.8867\n",
      "epoch: 74/300\n",
      "time: 0.2439, training_acc: 0.9333, test_acc: 0.89\n",
      "epoch: 75/300\n",
      "time: 0.2497, training_acc: 0.9326, test_acc: 0.89\n",
      "epoch: 76/300\n",
      "time: 0.262, training_acc: 0.9311, test_acc: 0.89\n",
      "epoch: 77/300\n",
      "time: 0.2589, training_acc: 0.9315, test_acc: 0.89\n",
      "epoch: 78/300\n",
      "time: 0.2452, training_acc: 0.9307, test_acc: 0.89\n",
      "epoch: 79/300\n",
      "time: 0.2567, training_acc: 0.9311, test_acc: 0.8867\n",
      "epoch: 80/300\n",
      "time: 0.2646, training_acc: 0.933, test_acc: 0.8867\n",
      "epoch: 81/300\n",
      "time: 0.2428, training_acc: 0.9326, test_acc: 0.8867\n",
      "epoch: 82/300\n",
      "time: 0.2536, training_acc: 0.933, test_acc: 0.89\n",
      "epoch: 83/300\n",
      "time: 0.2678, training_acc: 0.9337, test_acc: 0.8933\n",
      "epoch: 84/300\n",
      "time: 0.3407, training_acc: 0.9326, test_acc: 0.89\n",
      "epoch: 85/300\n",
      "time: 0.332, training_acc: 0.9326, test_acc: 0.89\n",
      "epoch: 86/300\n",
      "time: 0.3244, training_acc: 0.933, test_acc: 0.8867\n",
      "epoch: 87/300\n",
      "time: 0.3169, training_acc: 0.9326, test_acc: 0.89\n",
      "epoch: 88/300\n",
      "time: 0.3267, training_acc: 0.933, test_acc: 0.8867\n",
      "epoch: 89/300\n",
      "time: 0.2706, training_acc: 0.933, test_acc: 0.8867\n",
      "epoch: 90/300\n",
      "time: 0.2686, training_acc: 0.9333, test_acc: 0.8867\n",
      "epoch: 91/300\n",
      "time: 0.2794, training_acc: 0.9322, test_acc: 0.8867\n",
      "epoch: 92/300\n",
      "time: 0.2858, training_acc: 0.9326, test_acc: 0.8867\n",
      "epoch: 93/300\n",
      "time: 0.2687, training_acc: 0.9319, test_acc: 0.8867\n",
      "epoch: 94/300\n",
      "time: 0.2821, training_acc: 0.9319, test_acc: 0.9\n",
      "epoch: 95/300\n",
      "time: 0.264, training_acc: 0.9315, test_acc: 0.9\n",
      "epoch: 96/300\n",
      "time: 0.2766, training_acc: 0.9322, test_acc: 0.9\n",
      "epoch: 97/300\n",
      "time: 0.2572, training_acc: 0.933, test_acc: 0.9\n",
      "epoch: 98/300\n",
      "time: 0.1997, training_acc: 0.9326, test_acc: 0.9033\n",
      "epoch: 99/300\n",
      "time: 0.2361, training_acc: 0.9311, test_acc: 0.9033\n",
      "epoch: 100/300\n",
      "time: 0.2362, training_acc: 0.9315, test_acc: 0.9033\n",
      "epoch: 101/300\n",
      "time: 0.2118, training_acc: 0.9315, test_acc: 0.9033\n",
      "epoch: 102/300\n",
      "time: 0.2208, training_acc: 0.9307, test_acc: 0.9033\n",
      "epoch: 103/300\n",
      "time: 0.2075, training_acc: 0.9311, test_acc: 0.9033\n",
      "epoch: 104/300\n",
      "time: 0.2339, training_acc: 0.9322, test_acc: 0.9067\n",
      "epoch: 105/300\n",
      "time: 0.2857, training_acc: 0.9319, test_acc: 0.9067\n",
      "epoch: 106/300\n",
      "time: 0.2472, training_acc: 0.9319, test_acc: 0.9033\n",
      "epoch: 107/300\n",
      "time: 0.2247, training_acc: 0.9319, test_acc: 0.9033\n",
      "epoch: 108/300\n",
      "time: 0.2004, training_acc: 0.9315, test_acc: 0.9033\n",
      "epoch: 109/300\n",
      "time: 0.1892, training_acc: 0.9315, test_acc: 0.9033\n",
      "epoch: 110/300\n",
      "time: 0.1818, training_acc: 0.9315, test_acc: 0.9033\n",
      "epoch: 111/300\n",
      "time: 0.196, training_acc: 0.9311, test_acc: 0.9033\n",
      "epoch: 112/300\n",
      "time: 0.1994, training_acc: 0.9311, test_acc: 0.9067\n",
      "epoch: 113/300\n",
      "time: 0.209, training_acc: 0.9315, test_acc: 0.9067\n",
      "epoch: 114/300\n",
      "time: 0.1886, training_acc: 0.9311, test_acc: 0.9067\n",
      "epoch: 115/300\n",
      "time: 0.1918, training_acc: 0.93, test_acc: 0.91\n",
      "epoch: 116/300\n",
      "time: 0.1993, training_acc: 0.9289, test_acc: 0.91\n",
      "epoch: 117/300\n",
      "time: 0.1992, training_acc: 0.9278, test_acc: 0.9067\n",
      "epoch: 118/300\n",
      "time: 0.1733, training_acc: 0.9274, test_acc: 0.9067\n",
      "epoch: 119/300\n",
      "time: 0.1853, training_acc: 0.9267, test_acc: 0.91\n",
      "epoch: 120/300\n",
      "time: 0.1912, training_acc: 0.9259, test_acc: 0.91\n",
      "epoch: 121/300\n",
      "time: 0.193, training_acc: 0.9256, test_acc: 0.91\n",
      "epoch: 122/300\n",
      "time: 0.2179, training_acc: 0.9256, test_acc: 0.91\n",
      "epoch: 123/300\n",
      "time: 0.2138, training_acc: 0.9259, test_acc: 0.91\n",
      "epoch: 124/300\n",
      "time: 0.2546, training_acc: 0.9256, test_acc: 0.91\n",
      "epoch: 125/300\n",
      "time: 0.2399, training_acc: 0.9244, test_acc: 0.91\n"
     ]
    },
    {
     "name": "stdout",
     "output_type": "stream",
     "text": [
      "epoch: 126/300\n",
      "time: 0.2472, training_acc: 0.9244, test_acc: 0.91\n",
      "epoch: 127/300\n",
      "time: 0.2689, training_acc: 0.9233, test_acc: 0.91\n",
      "epoch: 128/300\n",
      "time: 0.2482, training_acc: 0.9226, test_acc: 0.91\n",
      "epoch: 129/300\n",
      "time: 0.2506, training_acc: 0.923, test_acc: 0.9133\n",
      "epoch: 130/300\n",
      "time: 0.2497, training_acc: 0.9237, test_acc: 0.9133\n",
      "epoch: 131/300\n",
      "time: 0.2506, training_acc: 0.9237, test_acc: 0.9133\n",
      "epoch: 132/300\n",
      "time: 0.251, training_acc: 0.9237, test_acc: 0.9133\n",
      "epoch: 133/300\n",
      "time: 0.2594, training_acc: 0.9237, test_acc: 0.9133\n",
      "epoch: 134/300\n",
      "time: 0.2443, training_acc: 0.9233, test_acc: 0.9133\n",
      "epoch: 135/300\n",
      "time: 0.2345, training_acc: 0.923, test_acc: 0.9133\n",
      "epoch: 136/300\n",
      "time: 0.2499, training_acc: 0.923, test_acc: 0.9133\n",
      "epoch: 137/300\n",
      "time: 0.2625, training_acc: 0.923, test_acc: 0.9133\n",
      "epoch: 138/300\n",
      "time: 0.2495, training_acc: 0.923, test_acc: 0.91\n",
      "epoch: 139/300\n",
      "time: 0.2305, training_acc: 0.923, test_acc: 0.9133\n",
      "epoch: 140/300\n",
      "time: 0.2388, training_acc: 0.923, test_acc: 0.9133\n",
      "epoch: 141/300\n",
      "time: 0.272, training_acc: 0.923, test_acc: 0.9133\n",
      "epoch: 142/300\n",
      "time: 0.2339, training_acc: 0.9233, test_acc: 0.9133\n",
      "epoch: 143/300\n",
      "time: 0.2308, training_acc: 0.9233, test_acc: 0.9133\n",
      "epoch: 144/300\n",
      "time: 0.2456, training_acc: 0.9237, test_acc: 0.9167\n",
      "epoch: 145/300\n",
      "time: 0.2487, training_acc: 0.9237, test_acc: 0.9167\n",
      "epoch: 146/300\n",
      "time: 0.2253, training_acc: 0.9233, test_acc: 0.9167\n",
      "epoch: 147/300\n",
      "time: 0.2139, training_acc: 0.9233, test_acc: 0.9167\n",
      "epoch: 148/300\n",
      "time: 0.255, training_acc: 0.9226, test_acc: 0.9167\n",
      "epoch: 149/300\n",
      "time: 0.2386, training_acc: 0.9222, test_acc: 0.9167\n",
      "epoch: 150/300\n",
      "time: 0.2248, training_acc: 0.9219, test_acc: 0.9167\n",
      "epoch: 151/300\n",
      "time: 0.2303, training_acc: 0.9219, test_acc: 0.9167\n",
      "epoch: 152/300\n",
      "time: 0.2461, training_acc: 0.9219, test_acc: 0.9167\n",
      "epoch: 153/300\n",
      "time: 0.2429, training_acc: 0.9211, test_acc: 0.9167\n",
      "epoch: 154/300\n",
      "time: 0.2155, training_acc: 0.9204, test_acc: 0.9167\n",
      "epoch: 155/300\n",
      "time: 0.2324, training_acc: 0.92, test_acc: 0.9167\n",
      "epoch: 156/300\n",
      "time: 0.2421, training_acc: 0.9193, test_acc: 0.9167\n",
      "epoch: 157/300\n",
      "time: 0.2258, training_acc: 0.9189, test_acc: 0.9167\n",
      "epoch: 158/300\n",
      "time: 0.2174, training_acc: 0.9185, test_acc: 0.9167\n",
      "epoch: 159/300\n",
      "time: 0.2304, training_acc: 0.9181, test_acc: 0.9167\n",
      "epoch: 160/300\n",
      "time: 0.245, training_acc: 0.9181, test_acc: 0.9133\n",
      "epoch: 161/300\n",
      "time: 0.2615, training_acc: 0.9185, test_acc: 0.9133\n",
      "epoch: 162/300\n",
      "time: 0.2397, training_acc: 0.9185, test_acc: 0.9133\n",
      "epoch: 163/300\n",
      "time: 0.2257, training_acc: 0.9185, test_acc: 0.9133\n",
      "epoch: 164/300\n",
      "time: 0.2302, training_acc: 0.9181, test_acc: 0.9133\n",
      "epoch: 165/300\n",
      "time: 0.2307, training_acc: 0.9181, test_acc: 0.9133\n",
      "epoch: 166/300\n",
      "time: 0.2291, training_acc: 0.9178, test_acc: 0.9133\n",
      "epoch: 167/300\n",
      "time: 0.232, training_acc: 0.9178, test_acc: 0.9133\n",
      "epoch: 168/300\n",
      "time: 0.2397, training_acc: 0.9174, test_acc: 0.9133\n",
      "epoch: 169/300\n",
      "time: 0.2294, training_acc: 0.9174, test_acc: 0.9133\n",
      "epoch: 170/300\n",
      "time: 0.2122, training_acc: 0.9174, test_acc: 0.91\n",
      "epoch: 171/300\n",
      "time: 0.2214, training_acc: 0.9174, test_acc: 0.91\n",
      "epoch: 172/300\n",
      "time: 0.254, training_acc: 0.9174, test_acc: 0.9133\n",
      "epoch: 173/300\n",
      "time: 0.217, training_acc: 0.917, test_acc: 0.9133\n",
      "epoch: 174/300\n",
      "time: 0.2108, training_acc: 0.9174, test_acc: 0.9133\n",
      "epoch: 175/300\n",
      "time: 0.2336, training_acc: 0.9174, test_acc: 0.9133\n",
      "epoch: 176/300\n",
      "time: 0.2369, training_acc: 0.9174, test_acc: 0.9133\n",
      "epoch: 177/300\n",
      "time: 0.2421, training_acc: 0.9174, test_acc: 0.91\n",
      "epoch: 178/300\n",
      "time: 0.2242, training_acc: 0.9174, test_acc: 0.91\n",
      "epoch: 179/300\n",
      "time: 0.2273, training_acc: 0.9174, test_acc: 0.91\n",
      "epoch: 180/300\n",
      "time: 0.226, training_acc: 0.917, test_acc: 0.91\n",
      "epoch: 181/300\n",
      "time: 0.2237, training_acc: 0.917, test_acc: 0.91\n",
      "epoch: 182/300\n",
      "time: 0.2295, training_acc: 0.9174, test_acc: 0.91\n",
      "epoch: 183/300\n",
      "time: 0.2229, training_acc: 0.9167, test_acc: 0.9133\n",
      "epoch: 184/300\n",
      "time: 0.2264, training_acc: 0.9163, test_acc: 0.9133\n",
      "epoch: 185/300\n",
      "time: 0.2406, training_acc: 0.9163, test_acc: 0.9167\n",
      "epoch: 186/300\n",
      "time: 0.2418, training_acc: 0.9156, test_acc: 0.9167\n",
      "epoch: 187/300\n",
      "time: 0.2134, training_acc: 0.9156, test_acc: 0.9167\n",
      "epoch: 188/300\n",
      "time: 0.2515, training_acc: 0.9156, test_acc: 0.9167\n",
      "epoch: 189/300\n",
      "time: 0.2299, training_acc: 0.9159, test_acc: 0.9167\n",
      "epoch: 190/300\n",
      "time: 0.209, training_acc: 0.9156, test_acc: 0.9167\n",
      "epoch: 191/300\n",
      "time: 0.2317, training_acc: 0.9144, test_acc: 0.9167\n",
      "epoch: 192/300\n",
      "time: 0.2295, training_acc: 0.9144, test_acc: 0.9167\n",
      "epoch: 193/300\n",
      "time: 0.2331, training_acc: 0.9144, test_acc: 0.9167\n",
      "epoch: 194/300\n",
      "time: 0.2112, training_acc: 0.9148, test_acc: 0.9167\n",
      "epoch: 195/300\n",
      "time: 0.2336, training_acc: 0.9148, test_acc: 0.9167\n",
      "epoch: 196/300\n",
      "time: 0.2462, training_acc: 0.9148, test_acc: 0.9167\n",
      "epoch: 197/300\n",
      "time: 0.2346, training_acc: 0.9148, test_acc: 0.9167\n",
      "epoch: 198/300\n",
      "time: 0.2322, training_acc: 0.9148, test_acc: 0.9167\n",
      "epoch: 199/300\n",
      "time: 0.224, training_acc: 0.9144, test_acc: 0.9167\n",
      "epoch: 200/300\n",
      "time: 0.2383, training_acc: 0.9141, test_acc: 0.9133\n",
      "epoch: 201/300\n",
      "time: 0.2416, training_acc: 0.9141, test_acc: 0.9133\n",
      "epoch: 202/300\n",
      "time: 0.2527, training_acc: 0.9141, test_acc: 0.9133\n",
      "epoch: 203/300\n",
      "time: 0.227, training_acc: 0.9137, test_acc: 0.9133\n",
      "epoch: 204/300\n",
      "time: 0.2203, training_acc: 0.9137, test_acc: 0.9133\n",
      "epoch: 205/300\n",
      "time: 0.2292, training_acc: 0.9137, test_acc: 0.9133\n",
      "epoch: 206/300\n",
      "time: 0.227, training_acc: 0.9137, test_acc: 0.9133\n",
      "epoch: 207/300\n",
      "time: 0.2226, training_acc: 0.9137, test_acc: 0.91\n",
      "epoch: 208/300\n",
      "time: 0.2226, training_acc: 0.9137, test_acc: 0.9067\n",
      "epoch: 209/300\n",
      "time: 0.2331, training_acc: 0.9137, test_acc: 0.9067\n",
      "epoch: 210/300\n",
      "time: 0.2432, training_acc: 0.9137, test_acc: 0.9033\n",
      "epoch: 211/300\n",
      "time: 0.2351, training_acc: 0.9137, test_acc: 0.9033\n",
      "epoch: 212/300\n",
      "time: 0.2266, training_acc: 0.9137, test_acc: 0.9033\n",
      "epoch: 213/300\n",
      "time: 0.2261, training_acc: 0.9137, test_acc: 0.9033\n",
      "epoch: 214/300\n",
      "time: 0.2327, training_acc: 0.9133, test_acc: 0.9033\n",
      "epoch: 215/300\n",
      "time: 0.228, training_acc: 0.9133, test_acc: 0.9033\n",
      "epoch: 216/300\n",
      "time: 0.2325, training_acc: 0.9133, test_acc: 0.9033\n",
      "epoch: 217/300\n",
      "time: 0.2328, training_acc: 0.9133, test_acc: 0.9033\n",
      "epoch: 218/300\n",
      "time: 0.2248, training_acc: 0.9133, test_acc: 0.9033\n",
      "epoch: 219/300\n",
      "time: 0.2268, training_acc: 0.9137, test_acc: 0.9033\n",
      "epoch: 220/300\n",
      "time: 0.2565, training_acc: 0.913, test_acc: 0.9033\n",
      "epoch: 221/300\n",
      "time: 0.2382, training_acc: 0.9133, test_acc: 0.9033\n",
      "epoch: 222/300\n",
      "time: 0.2264, training_acc: 0.9137, test_acc: 0.9033\n",
      "epoch: 223/300\n",
      "time: 0.2259, training_acc: 0.9137, test_acc: 0.9033\n",
      "epoch: 224/300\n",
      "time: 0.2534, training_acc: 0.9141, test_acc: 0.9033\n",
      "epoch: 225/300\n",
      "time: 0.2322, training_acc: 0.9137, test_acc: 0.9033\n",
      "epoch: 226/300\n",
      "time: 0.2275, training_acc: 0.9141, test_acc: 0.9033\n",
      "epoch: 227/300\n",
      "time: 0.2195, training_acc: 0.9144, test_acc: 0.9033\n",
      "epoch: 228/300\n",
      "time: 0.2228, training_acc: 0.9141, test_acc: 0.9033\n",
      "epoch: 229/300\n",
      "time: 0.2307, training_acc: 0.9144, test_acc: 0.9033\n",
      "epoch: 230/300\n",
      "time: 0.2165, training_acc: 0.9144, test_acc: 0.9033\n",
      "epoch: 231/300\n",
      "time: 0.2189, training_acc: 0.9144, test_acc: 0.9033\n",
      "epoch: 232/300\n",
      "time: 0.2357, training_acc: 0.9144, test_acc: 0.9033\n",
      "epoch: 233/300\n",
      "time: 0.2464, training_acc: 0.9144, test_acc: 0.9033\n",
      "epoch: 234/300\n",
      "time: 0.2282, training_acc: 0.9141, test_acc: 0.9033\n",
      "epoch: 235/300\n",
      "time: 0.2317, training_acc: 0.9137, test_acc: 0.9\n",
      "epoch: 236/300\n",
      "time: 0.2332, training_acc: 0.9137, test_acc: 0.9\n",
      "epoch: 237/300\n",
      "time: 0.2417, training_acc: 0.9137, test_acc: 0.9\n",
      "epoch: 238/300\n",
      "time: 0.2264, training_acc: 0.9137, test_acc: 0.9033\n",
      "epoch: 239/300\n",
      "time: 0.2305, training_acc: 0.9137, test_acc: 0.9033\n",
      "epoch: 240/300\n",
      "time: 0.269, training_acc: 0.9137, test_acc: 0.9033\n",
      "epoch: 241/300\n",
      "time: 0.2333, training_acc: 0.9141, test_acc: 0.9033\n",
      "epoch: 242/300\n",
      "time: 0.2332, training_acc: 0.9141, test_acc: 0.9033\n",
      "epoch: 243/300\n",
      "time: 0.2286, training_acc: 0.9144, test_acc: 0.9033\n",
      "epoch: 244/300\n",
      "time: 0.2259, training_acc: 0.9144, test_acc: 0.9033\n",
      "epoch: 245/300\n",
      "time: 0.2375, training_acc: 0.9144, test_acc: 0.9033\n",
      "epoch: 246/300\n",
      "time: 0.238, training_acc: 0.9144, test_acc: 0.9033\n",
      "epoch: 247/300\n",
      "time: 0.22, training_acc: 0.9144, test_acc: 0.9033\n"
     ]
    },
    {
     "name": "stdout",
     "output_type": "stream",
     "text": [
      "epoch: 248/300\n",
      "time: 0.2571, training_acc: 0.9144, test_acc: 0.9033\n",
      "epoch: 249/300\n",
      "time: 0.2323, training_acc: 0.9144, test_acc: 0.9033\n",
      "epoch: 250/300\n",
      "time: 0.2182, training_acc: 0.9144, test_acc: 0.9033\n",
      "epoch: 251/300\n",
      "time: 0.2252, training_acc: 0.9141, test_acc: 0.9033\n",
      "epoch: 252/300\n",
      "time: 0.2272, training_acc: 0.9137, test_acc: 0.9033\n",
      "epoch: 253/300\n",
      "time: 0.2402, training_acc: 0.9137, test_acc: 0.9033\n",
      "epoch: 254/300\n",
      "time: 0.23, training_acc: 0.9137, test_acc: 0.9033\n",
      "epoch: 255/300\n",
      "time: 0.2374, training_acc: 0.9133, test_acc: 0.9033\n",
      "epoch: 256/300\n",
      "time: 0.2569, training_acc: 0.9133, test_acc: 0.9033\n",
      "epoch: 257/300\n",
      "time: 0.256, training_acc: 0.9133, test_acc: 0.9033\n",
      "epoch: 258/300\n",
      "time: 0.2422, training_acc: 0.9133, test_acc: 0.9033\n",
      "epoch: 259/300\n",
      "time: 0.238, training_acc: 0.9137, test_acc: 0.9033\n",
      "epoch: 260/300\n",
      "time: 0.2228, training_acc: 0.9137, test_acc: 0.9033\n",
      "epoch: 261/300\n",
      "time: 0.243, training_acc: 0.9133, test_acc: 0.9033\n",
      "epoch: 262/300\n",
      "time: 0.229, training_acc: 0.9133, test_acc: 0.9033\n",
      "epoch: 263/300\n",
      "time: 0.2217, training_acc: 0.9133, test_acc: 0.9033\n",
      "epoch: 264/300\n",
      "time: 0.2334, training_acc: 0.9133, test_acc: 0.9033\n",
      "epoch: 265/300\n",
      "time: 0.2373, training_acc: 0.9133, test_acc: 0.9033\n",
      "epoch: 266/300\n",
      "time: 0.247, training_acc: 0.9133, test_acc: 0.9033\n",
      "epoch: 267/300\n",
      "time: 0.2193, training_acc: 0.9133, test_acc: 0.9033\n",
      "epoch: 268/300\n",
      "time: 0.2354, training_acc: 0.913, test_acc: 0.9033\n",
      "epoch: 269/300\n",
      "time: 0.2274, training_acc: 0.9133, test_acc: 0.9033\n",
      "epoch: 270/300\n",
      "time: 0.2346, training_acc: 0.9133, test_acc: 0.9033\n",
      "epoch: 271/300\n",
      "time: 0.2432, training_acc: 0.9133, test_acc: 0.9033\n",
      "epoch: 272/300\n",
      "time: 0.245, training_acc: 0.9133, test_acc: 0.9033\n",
      "epoch: 273/300\n",
      "time: 0.2505, training_acc: 0.9133, test_acc: 0.9033\n",
      "epoch: 274/300\n",
      "time: 0.2336, training_acc: 0.9133, test_acc: 0.9033\n",
      "epoch: 275/300\n",
      "time: 0.2155, training_acc: 0.9133, test_acc: 0.9033\n",
      "epoch: 276/300\n",
      "time: 0.2437, training_acc: 0.9137, test_acc: 0.9033\n",
      "epoch: 277/300\n",
      "time: 0.2372, training_acc: 0.9137, test_acc: 0.9033\n",
      "epoch: 278/300\n",
      "time: 0.2328, training_acc: 0.9137, test_acc: 0.9033\n",
      "epoch: 279/300\n",
      "time: 0.2396, training_acc: 0.9137, test_acc: 0.9033\n",
      "epoch: 280/300\n",
      "time: 0.2458, training_acc: 0.9137, test_acc: 0.9033\n",
      "epoch: 281/300\n",
      "time: 0.2598, training_acc: 0.9137, test_acc: 0.9033\n",
      "epoch: 282/300\n",
      "time: 0.2214, training_acc: 0.9137, test_acc: 0.9033\n",
      "epoch: 283/300\n",
      "time: 0.2484, training_acc: 0.9137, test_acc: 0.9033\n",
      "epoch: 284/300\n",
      "time: 0.2267, training_acc: 0.9141, test_acc: 0.9033\n",
      "epoch: 285/300\n",
      "time: 0.238, training_acc: 0.9144, test_acc: 0.9033\n",
      "epoch: 286/300\n",
      "time: 0.2215, training_acc: 0.9144, test_acc: 0.9033\n",
      "epoch: 287/300\n",
      "time: 0.2228, training_acc: 0.9144, test_acc: 0.9033\n",
      "epoch: 288/300\n",
      "time: 0.2309, training_acc: 0.9144, test_acc: 0.9033\n",
      "epoch: 289/300\n",
      "time: 0.2389, training_acc: 0.9144, test_acc: 0.9033\n",
      "epoch: 290/300\n",
      "time: 0.236, training_acc: 0.9144, test_acc: 0.9033\n",
      "epoch: 291/300\n",
      "time: 0.2267, training_acc: 0.9144, test_acc: 0.9033\n",
      "epoch: 292/300\n",
      "time: 0.2507, training_acc: 0.9144, test_acc: 0.9033\n",
      "epoch: 293/300\n",
      "time: 0.2517, training_acc: 0.9144, test_acc: 0.9033\n",
      "epoch: 294/300\n",
      "time: 0.2309, training_acc: 0.9144, test_acc: 0.9033\n",
      "epoch: 295/300\n",
      "time: 0.2707, training_acc: 0.9144, test_acc: 0.9033\n",
      "epoch: 296/300\n",
      "time: 0.287, training_acc: 0.9144, test_acc: 0.9033\n",
      "epoch: 297/300\n",
      "time: 0.2617, training_acc: 0.9144, test_acc: 0.9033\n",
      "epoch: 298/300\n",
      "time: 0.2625, training_acc: 0.9141, test_acc: 0.9033\n",
      "epoch: 299/300\n",
      "time: 0.2887, training_acc: 0.9141, test_acc: 0.9033\n",
      "epoch: 300/300\n",
      "time: 0.3049, training_acc: 0.9141, test_acc: 0.9033\n"
     ]
    }
   ],
   "source": [
    "nn = NN(epochs = 300,alpha=0.004,layers=2,nodes=[100,64],lam=0.5)\n",
    "train_acc_list,test_acc_list,train_error_list,test_error_list = nn.train(Xorig,Yorig,log=True)"
   ]
  },
  {
   "cell_type": "code",
   "execution_count": 51,
   "metadata": {},
   "outputs": [
    {
     "data": {
      "image/png": "[encoded data removed]",
      "text/plain": [
       "<Figure size 432x288 with 1 Axes>"
      ]
     },
     "metadata": {},
     "output_type": "display_data"
    }
   ],
   "source": [
    "plot_acc(train_acc_list,test_acc_list,'1')"
   ]
  },
  {
   "cell_type": "code",
   "execution_count": 52,
   "metadata": {},
   "outputs": [
    {
     "data": {
      "image/png": "[encoded data removed]",
      "text/plain": [
       "<Figure size 432x288 with 1 Axes>"
      ]
     },
     "metadata": {},
     "output_type": "display_data"
    }
   ],
   "source": [
    "plot_error(train_error_list,test_error_list,'1')"
   ]
  },
  {
   "cell_type": "code",
   "execution_count": 193,
   "metadata": {},
   "outputs": [
    {
     "data": {
      "text/plain": [
       "(0.9796296296296296, 0.7)"
      ]
     },
     "execution_count": 193,
     "metadata": {},
     "output_type": "execute_result"
    }
   ],
   "source": [
    "train_acc_list[-1],test_acc_list[-1]"
   ]
  },
  {
   "cell_type": "code",
   "execution_count": 258,
   "metadata": {},
   "outputs": [
    {
     "data": {
      "text/plain": [
       "(<matplotlib.image.AxesImage at 0x26b019e8c08>, 5)"
      ]
     },
     "execution_count": 258,
     "metadata": {},
     "output_type": "execute_result"
    },
    {
     "data": {
      "image/png": "[encoded data removed]",
      "text/plain": [
       "<Figure size 432x288 with 1 Axes>"
      ]
     },
     "metadata": {},
     "output_type": "display_data"
    }
   ],
   "source": [
    "idx = 1\n",
    "plt.imshow(np.array(Xorig[idx]).reshape(28,28)),Yorig[idx]"
   ]
  },
  {
   "cell_type": "code",
   "execution_count": 259,
   "metadata": {},
   "outputs": [],
   "source": [
    "nn.f_prop(Xorig[1][:])"
   ]
  },
  {
   "cell_type": "code",
   "execution_count": null,
   "metadata": {},
   "outputs": [],
   "source": []
  },
  {
   "cell_type": "code",
   "execution_count": 264,
   "metadata": {},
   "outputs": [
    {
     "data": {
      "text/plain": [
       "<matplotlib.image.AxesImage at 0x26b01b64d08>"
      ]
     },
     "execution_count": 264,
     "metadata": {},
     "output_type": "execute_result"
    },
    {
     "data": {
      "image/png": "[encoded data removed]",
      "text/plain": [
       "<Figure size 432x288 with 1 Axes>"
      ]
     },
     "metadata": {},
     "output_type": "display_data"
    }
   ],
   "source": [
    "plt.imshow(np.array(nn.z[0]).reshape(10,10))"
   ]
  },
  {
   "cell_type": "code",
   "execution_count": 262,
   "metadata": {},
   "outputs": [
    {
     "data": {
      "text/plain": [
       "<matplotlib.image.AxesImage at 0x26b01a9a408>"
      ]
     },
     "execution_count": 262,
     "metadata": {},
     "output_type": "execute_result"
    },
    {
     "data": {
      "image/png": "[encoded data removed]",
      "text/plain": [
       "<Figure size 432x288 with 1 Axes>"
      ]
     },
     "metadata": {},
     "output_type": "display_data"
    }
   ],
   "source": [
    "plt.imshow(np.array(nn.z[1]).reshape(8,8))"
   ]
  },
  {
   "cell_type": "code",
   "execution_count": null,
   "metadata": {},
   "outputs": [],
   "source": []
  },
  {
   "cell_type": "code",
   "execution_count": null,
   "metadata": {},
   "outputs": [],
   "source": []
  },
  {
   "cell_type": "code",
   "execution_count": null,
   "metadata": {},
   "outputs": [],
   "source": []
  }
 ],
 "metadata": {
  "kernelspec": {
   "display_name": "Python 3",
   "language": "python",
   "name": "python3"
  },
  "language_info": {
   "codemirror_mode": {
    "name": "ipython",
    "version": 3
   },
   "file_extension": ".py",
   "mimetype": "text/x-python",
   "name": "python",
   "nbconvert_exporter": "python",
   "pygments_lexer": "ipython3",
   "version": "3.7.6"
  }
 },
 "nbformat": 4,
 "nbformat_minor": 4
}
