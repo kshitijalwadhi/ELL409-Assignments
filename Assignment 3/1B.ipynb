{
 "cells": [
  {
   "cell_type": "code",
   "execution_count": 2,
   "metadata": {},
   "outputs": [],
   "source": [
    "import numpy as np\n",
    "import pandas as pd\n",
    "import matplotlib.pyplot as plt\n",
    "from tqdm.notebook import tqdm\n",
    "import seaborn as sns\n",
    "sns.set_theme()"
   ]
  },
  {
   "cell_type": "code",
   "execution_count": 3,
   "metadata": {},
   "outputs": [],
   "source": [
    "df = pd.read_csv('2019EE10577_PCA.csv',header=None)"
   ]
  },
  {
   "cell_type": "code",
   "execution_count": 4,
   "metadata": {},
   "outputs": [],
   "source": [
    "NUM_FEATURES = 25"
   ]
  },
  {
   "cell_type": "code",
   "execution_count": 5,
   "metadata": {},
   "outputs": [],
   "source": [
    "def getData():\n",
    "    X,y = [],[]\n",
    "    for i,row in df.iterrows():\n",
    "        X.append(row[:NUM_FEATURES])\n",
    "        y.append(int(row[NUM_FEATURES]))\n",
    "    return X,y"
   ]
  },
  {
   "cell_type": "code",
   "execution_count": 6,
   "metadata": {},
   "outputs": [],
   "source": [
    "Xorig,Yorig = getData()"
   ]
  },
  {
   "cell_type": "code",
   "execution_count": 7,
   "metadata": {},
   "outputs": [],
   "source": [
    "def plot_acc(train_acc_list,test_acc_list):\n",
    "    xa = np.linspace(1,len(train_acc_list),len(train_acc_list),dtype=int)\n",
    "    plt.figure()\n",
    "    train_acc_list = np.array(train_acc_list) * 100\n",
    "    test_acc_list = np.array(test_acc_list) * 100\n",
    "    plt.plot(xa,train_acc_list,color=\"g\",label = \"Training accuracy\")\n",
    "    plt.plot(xa,test_acc_list,color=\"r\", label = \"Testing accuracy\")\n",
    "    plt.xlabel('Iterations')\n",
    "    plt.ylabel('Accuracy')\n",
    "    plt.title('Accuracy vs Iterations')\n",
    "    plt.legend()\n",
    "    plt.show()"
   ]
  },
  {
   "cell_type": "code",
   "execution_count": 8,
   "metadata": {},
   "outputs": [],
   "source": [
    "def relu(x): # 1\n",
    "    return np.maximum(0,x)\n",
    "\n",
    "def relu_der(x):\n",
    "    x[x>0] = 1\n",
    "    x[x<=0] = 0\n",
    "    return np.array(x)\n",
    "\n",
    "def sigmoid(x): # 2\n",
    "    return 1/(1+np.exp(-1.*x))\n",
    "\n",
    "def sigmoid_der(x):\n",
    "    return sigmoid(x)*(1-sigmoid(x))\n",
    "\n",
    "def tanh(x): # 3\n",
    "    return np.tanh(x)\n",
    "\n",
    "def tanh_der(x):\n",
    "    return 1-np.square(np.tanh(x))\n",
    "\n",
    "def softmax(x):\n",
    "    return np.exp(x) / np.sum(np.exp(x), axis=1, keepdims=True)"
   ]
  },
  {
   "cell_type": "code",
   "execution_count": 9,
   "metadata": {},
   "outputs": [],
   "source": [
    "def chunkarr(arr, n):\n",
    "    return [arr[i:i + n] for i in range(0, len(arr), n)]"
   ]
  },
  {
   "cell_type": "code",
   "execution_count": 10,
   "metadata": {},
   "outputs": [],
   "source": [
    "def getAccuracy(y,t):\n",
    "    y = np.argmax(y,axis=1)\n",
    "    t = np.argmax(t,axis=1)\n",
    "    return np.sum((y==t))/len(y)"
   ]
  },
  {
   "cell_type": "code",
   "execution_count": 1,
   "metadata": {},
   "outputs": [],
   "source": [
    "class NN:\n",
    "    def __init__(self,early = True,epochs=100,layers=2,nodes=[50,75],alpha=0.0003,bs=16,eps=0.0005,activation=1,reg=1,lam =0):\n",
    "        np.random.seed(42)\n",
    "        self.epochs = epochs\n",
    "        self.layers = layers\n",
    "        self.nodes = nodes\n",
    "        self.alpha = alpha\n",
    "        self.bs = bs\n",
    "        self.eps = eps\n",
    "        self.activation = activation\n",
    "        self.reg = reg\n",
    "        self.lam = lam\n",
    "        self.w = [np.random.randn(NUM_FEATURES,self.nodes[0])]\n",
    "        self.b = [np.random.randn(self.nodes[0])]\n",
    "        self.z = [0] * (self.layers +1)\n",
    "        self.a = [0] * (self.layers)\n",
    "        self.dw = [0]*(self.layers+1)\n",
    "        self.db = [0]*(self.layers+1)\n",
    "        self.early = early\n",
    "        \n",
    "        for i in range(1,self.layers):\n",
    "            self.w.append(np.random.randn(self.nodes[i-1],self.nodes[i]))\n",
    "            self.b.append(np.random.randn(self.nodes[i]))\n",
    "        \n",
    "        self.w.append(0.1*np.random.randn(self.nodes[self.layers-1],10))\n",
    "        self.b.append(np.random.randn(10))\n",
    "        \n",
    "    \n",
    "    def activation_fn(self,x):\n",
    "        if self.activation == 1:\n",
    "            return relu(x)\n",
    "        elif self.activation == 2:\n",
    "            return sigmoid(x)\n",
    "        elif self.activation == 3:\n",
    "            return tanh(x)\n",
    "    \n",
    "    def der_activation_fn(self,x):\n",
    "        if self.activation == 1:\n",
    "            return relu_der(x)\n",
    "        elif self.activation == 2:\n",
    "            return sigmoid_der(x)\n",
    "        elif self.activation == 3:\n",
    "            return tanh_der(x)\n",
    "    \n",
    "    def f_prop(self,X):\n",
    "        self.z[0] = np.dot(X,self.w[0]) + self.b[0]\n",
    "        self.a[0] = self.activation_fn(self.z[0])\n",
    "        for i in range(1,self.layers):\n",
    "            self.z[i] = np.dot(self.a[i-1],self.w[i]) + self.b[i]\n",
    "            self.a[i] = self.activation_fn(self.z[i])\n",
    "        self.z[self.layers] = np.dot(self.a[self.layers-1],self.w[self.layers]) + self.b[self.layers]\n",
    "    \n",
    "    def back_prop(self,X,t,y):\n",
    "        temp = y-t\n",
    "        self.dw[self.layers] = (np.dot(self.a[self.layers-1].T,temp)+ \n",
    "                                self.lam*self.w[self.layers])/self.bs                                \n",
    "        self.db[self.layers] = (np.sum(temp,axis=0))/self.bs\n",
    "        \n",
    "        for i in range(self.layers-1,-1,-1):\n",
    "            aux = np.dot(temp,self.w[i+1].T)\n",
    "            der = self.der_activation_fn(self.a[i])\n",
    "            temp = aux*der\n",
    "            if i>0:\n",
    "                self.dw[i] = (np.dot(self.a[i-1].T,temp) + self.lam*self.w[i])/self.bs\n",
    "            else:\n",
    "                self.dw[0] = (np.dot(X.T,temp) + self.lam*self.w[0])/self.bs\n",
    "            self.db[i] = np.sum(temp,axis=0)/self.bs\n",
    "        \n",
    "    def train(self,X,t,log=False):\n",
    "        t_onehot = np.zeros((len(t),10))\n",
    "        t_onehot[np.arange(len(t_onehot)),t] = 1\n",
    "        t = t_onehot\n",
    "        trainX = np.array(X[:2700])\n",
    "        traint = np.array(t[:2700])\n",
    "        testX = np.array(X[2700:])\n",
    "        testt = np.array(t[2700:])\n",
    "        \n",
    "        Xchunks = chunkarr(trainX, self.bs)\n",
    "        tchunks = chunkarr(traint, self.bs)\n",
    "        \n",
    "        # calculate accuracy here\n",
    "        train_acc_list = []\n",
    "        train_error_list = []\n",
    "        test_acc_list = []\n",
    "        test_error_list = []\n",
    "        train_pred = self.predict(trainX)\n",
    "        test_pred = self.predict(testX)\n",
    "        \n",
    "        trainacc = getAccuracy(train_pred,traint)\n",
    "        testacc = getAccuracy(test_pred,testt)\n",
    "        trainerror = -1*np.sum(traint*np.log(train_pred))/len(trainX)\n",
    "        testerror = -1*np.sum(testt*np.log(test_pred))/len(testX)\n",
    "        \n",
    "        train_acc_list.append(trainacc)\n",
    "        test_acc_list.append(testacc)\n",
    "        train_error_list.append(trainerror)\n",
    "        test_error_list.append(testerror)\n",
    "        \n",
    "        \n",
    "        \n",
    "        for epoch in (range(self.epochs)):\n",
    "            t1 = time.time()\n",
    "            for chunk in range(len(Xchunks)):\n",
    "                Xcon = Xchunks[chunk]\n",
    "                tcon = tchunks[chunk]\n",
    "                \n",
    "                self.f_prop(Xcon)\n",
    "                y = softmax(self.z[self.layers])\n",
    "                \n",
    "                # call backprop here\n",
    "                self.back_prop(Xcon,tcon,y)\n",
    "                \n",
    "                for i in range(self.layers+1):\n",
    "                    self.w[i] -= self.alpha * self.dw[i]\n",
    "                    self.b[i] -= self.alpha * self.db[i]\n",
    "            \n",
    "            t2 = time.time()\n",
    "            \n",
    "            # calculate accuracies here\n",
    "            train_pred = self.predict(trainX)\n",
    "            test_pred = self.predict(testX)\n",
    "\n",
    "            trainacc = getAccuracy(train_pred,traint)\n",
    "            testacc = getAccuracy(test_pred,testt)\n",
    "            trainerror = -1*np.sum(traint*np.log(train_pred))/len(trainX)\n",
    "            testerror = -1*np.sum(testt*np.log(test_pred))/len(testX)\n",
    "\n",
    "            train_acc_list.append(trainacc)\n",
    "            test_acc_list.append(testacc)\n",
    "            train_error_list.append(trainerror)\n",
    "            test_error_list.append(testerror)\n",
    "            \n",
    "            if self.early:\n",
    "                if trainacc >0.7:\n",
    "                    if abs(train_acc_list[-1] - train_acc_list[-2]) < self.eps:\n",
    "                        if abs(train_acc_list[-2] - train_acc_list[-3]) < self.eps:\n",
    "                            if abs(train_acc_list[-3] - train_acc_list[-4]) < self.eps:\n",
    "                                break\n",
    "            \n",
    "            if log:\n",
    "                print(f\"epoch: {epoch+1}/{self.epochs}\")\n",
    "                print(f\"time: {round(t2-t1,4)}, training_acc: {round(trainacc,4)}, test_acc: {round(testacc,4)}\")\n",
    "            \n",
    "        return train_acc_list,test_acc_list,train_error_list,test_error_list\n",
    "                \n",
    "    def predict(self,X):\n",
    "        self.z = [0] * (self.layers +1)\n",
    "        self.a = [0] * (self.layers)\n",
    "        self.f_prop(X)\n",
    "        return softmax(self.z[self.layers])\n",
    "        \n",
    "    "
   ]
  },
  {
   "cell_type": "code",
   "execution_count": null,
   "metadata": {},
   "outputs": [],
   "source": []
  },
  {
   "cell_type": "code",
   "execution_count": 12,
   "metadata": {},
   "outputs": [],
   "source": [
    "nn = NN(epochs = 100,alpha=0.004, )"
   ]
  },
  {
   "cell_type": "code",
   "execution_count": 13,
   "metadata": {},
   "outputs": [
    {
     "data": {
      "application/vnd.jupyter.widget-view+json": {
       "model_id": "5ec177fa77e64593ae024b842c917e19",
       "version_major": 2,
       "version_minor": 0
      },
      "text/plain": [
       "HBox(children=(FloatProgress(value=0.0), HTML(value='')))"
      ]
     },
     "metadata": {},
     "output_type": "display_data"
    },
    {
     "name": "stdout",
     "output_type": "stream",
     "text": [
      "\n"
     ]
    }
   ],
   "source": [
    "train_acc_list,test_acc_list = nn.train(Xorig,Yorig)"
   ]
  },
  {
   "cell_type": "code",
   "execution_count": 14,
   "metadata": {},
   "outputs": [
    {
     "data": {
      "image/png": "[encoded data removed]",
      "text/plain": [
       "<Figure size 432x288 with 1 Axes>"
      ]
     },
     "metadata": {},
     "output_type": "display_data"
    }
   ],
   "source": [
    "plot_acc(train_acc_list,test_acc_list)"
   ]
  },
  {
   "cell_type": "code",
   "execution_count": 15,
   "metadata": {},
   "outputs": [
    {
     "data": {
      "text/plain": [
       "(1.0, 0.8533333333333334)"
      ]
     },
     "execution_count": 15,
     "metadata": {},
     "output_type": "execute_result"
    }
   ],
   "source": [
    "train_acc_list[-1],test_acc_list[-1]"
   ]
  },
  {
   "cell_type": "code",
   "execution_count": null,
   "metadata": {},
   "outputs": [],
   "source": []
  }
 ],
 "metadata": {
  "kernelspec": {
   "display_name": "Python 3",
   "language": "python",
   "name": "python3"
  },
  "language_info": {
   "codemirror_mode": {
    "name": "ipython",
    "version": 3
   },
   "file_extension": ".py",
   "mimetype": "text/x-python",
   "name": "python",
   "nbconvert_exporter": "python",
   "pygments_lexer": "ipython3",
   "version": "3.7.6"
  }
 },
 "nbformat": 4,
 "nbformat_minor": 4
}
