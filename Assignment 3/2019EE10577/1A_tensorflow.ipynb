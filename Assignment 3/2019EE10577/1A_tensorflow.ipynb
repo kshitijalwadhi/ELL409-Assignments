{
 "cells": [
  {
   "cell_type": "code",
   "execution_count": 1,
   "metadata": {},
   "outputs": [],
   "source": [
    "import numpy as np\n",
    "import pandas as pd\n",
    "import matplotlib.pyplot as plt\n",
    "from tqdm.notebook import tqdm\n",
    "import seaborn as sns\n",
    "import time\n",
    "sns.set_theme()\n",
    "import random\n",
    "random.seed(42)\n",
    "np.random.seed(42)\n",
    "import tensorflow as tf\n",
    "from tensorflow.keras.layers import Dense\n",
    "from tensorflow.keras.models import Sequential\n",
    "from tensorflow.keras import optimizers"
   ]
  },
  {
   "cell_type": "code",
   "execution_count": 2,
   "metadata": {},
   "outputs": [],
   "source": [
    "df = pd.read_csv('2019EE10577.csv',header=None)"
   ]
  },
  {
   "cell_type": "code",
   "execution_count": 3,
   "metadata": {},
   "outputs": [],
   "source": [
    "NUM_FEATURES = 784"
   ]
  },
  {
   "cell_type": "code",
   "execution_count": 4,
   "metadata": {},
   "outputs": [],
   "source": [
    "def getData():\n",
    "    X,y = [],[]\n",
    "    for i,row in df.iterrows():\n",
    "        X.append(row[:NUM_FEATURES])\n",
    "        y.append(int(row[NUM_FEATURES]))\n",
    "    return X,y"
   ]
  },
  {
   "cell_type": "code",
   "execution_count": 5,
   "metadata": {},
   "outputs": [],
   "source": [
    "Xorig,Yorig = getData()"
   ]
  },
  {
   "cell_type": "code",
   "execution_count": 6,
   "metadata": {},
   "outputs": [],
   "source": [
    "t_onehot = np.zeros((len(Yorig),10))\n",
    "t_onehot[np.arange(len(t_onehot)),Yorig] = 1\n",
    "torig = t_onehot"
   ]
  },
  {
   "cell_type": "code",
   "execution_count": 7,
   "metadata": {},
   "outputs": [],
   "source": [
    "trainX = np.array(Xorig[:2700])\n",
    "traint = np.array(torig[:2700])\n",
    "testX = np.array(Xorig[2700:])\n",
    "testt = np.array(torig[2700:])"
   ]
  },
  {
   "cell_type": "code",
   "execution_count": 14,
   "metadata": {},
   "outputs": [],
   "source": [
    "model = Sequential()\n",
    "model.add(Dense(units=100,activation='relu',input_shape=(784,)))\n",
    "model.add(Dense(units=64,activation='relu'))\n",
    "model.add(Dense(units=10,activation='softmax'))"
   ]
  },
  {
   "cell_type": "code",
   "execution_count": 15,
   "metadata": {},
   "outputs": [],
   "source": [
    "opt = optimizers.SGD(lr=0.004)\n",
    "model.compile(optimizer=opt,loss='categorical_crossentropy',metrics=['accuracy'])"
   ]
  },
  {
   "cell_type": "code",
   "execution_count": 16,
   "metadata": {},
   "outputs": [
    {
     "name": "stdout",
     "output_type": "stream",
     "text": [
      "Model: \"sequential_1\"\n",
      "_________________________________________________________________\n",
      "Layer (type)                 Output Shape              Param #   \n",
      "=================================================================\n",
      "dense_3 (Dense)              (None, 100)               78500     \n",
      "_________________________________________________________________\n",
      "dense_4 (Dense)              (None, 64)                6464      \n",
      "_________________________________________________________________\n",
      "dense_5 (Dense)              (None, 10)                650       \n",
      "=================================================================\n",
      "Total params: 85,614\n",
      "Trainable params: 85,614\n",
      "Non-trainable params: 0\n",
      "_________________________________________________________________\n"
     ]
    }
   ],
   "source": [
    "model.summary()"
   ]
  },
  {
   "cell_type": "code",
   "execution_count": 17,
   "metadata": {},
   "outputs": [
    {
     "name": "stdout",
     "output_type": "stream",
     "text": [
      "Train on 2700 samples, validate on 300 samples\n",
      "Epoch 1/100\n",
      "2700/2700 [==============================] - 1s 424us/sample - loss: 2.2006 - accuracy: 0.2085 - val_loss: 2.0648 - val_accuracy: 0.3167\n",
      "Epoch 2/100\n",
      "2700/2700 [==============================] - 1s 204us/sample - loss: 1.9094 - accuracy: 0.4552 - val_loss: 1.7490 - val_accuracy: 0.5400\n",
      "Epoch 3/100\n",
      "2700/2700 [==============================] - 0s 152us/sample - loss: 1.5713 - accuracy: 0.6363 - val_loss: 1.3981 - val_accuracy: 0.7233\n",
      "Epoch 4/100\n",
      "2700/2700 [==============================] - 0s 118us/sample - loss: 1.2422 - accuracy: 0.7363 - val_loss: 1.1101 - val_accuracy: 0.7900\n",
      "Epoch 5/100\n",
      "2700/2700 [==============================] - 0s 121us/sample - loss: 0.9858 - accuracy: 0.7915 - val_loss: 0.8867 - val_accuracy: 0.8400\n",
      "Epoch 6/100\n",
      "2700/2700 [==============================] - 0s 118us/sample - loss: 0.8117 - accuracy: 0.8219 - val_loss: 0.7495 - val_accuracy: 0.8667\n",
      "Epoch 7/100\n",
      "2700/2700 [==============================] - 0s 127us/sample - loss: 0.6977 - accuracy: 0.8411 - val_loss: 0.6609 - val_accuracy: 0.8800\n",
      "Epoch 8/100\n",
      "2700/2700 [==============================] - 0s 105us/sample - loss: 0.6175 - accuracy: 0.8515 - val_loss: 0.5967 - val_accuracy: 0.8767\n",
      "Epoch 9/100\n",
      "2700/2700 [==============================] - 0s 112us/sample - loss: 0.5607 - accuracy: 0.8607 - val_loss: 0.5519 - val_accuracy: 0.8933\n",
      "Epoch 10/100\n",
      "2700/2700 [==============================] - 0s 118us/sample - loss: 0.5168 - accuracy: 0.8707 - val_loss: 0.5060 - val_accuracy: 0.8933\n",
      "Epoch 11/100\n",
      "2700/2700 [==============================] - 0s 116us/sample - loss: 0.4838 - accuracy: 0.8752 - val_loss: 0.4839 - val_accuracy: 0.8967\n",
      "Epoch 12/100\n",
      "2700/2700 [==============================] - 0s 122us/sample - loss: 0.4552 - accuracy: 0.8833 - val_loss: 0.4636 - val_accuracy: 0.8867\n",
      "Epoch 13/100\n",
      "2700/2700 [==============================] - 0s 120us/sample - loss: 0.4317 - accuracy: 0.8856 - val_loss: 0.4471 - val_accuracy: 0.9000\n",
      "Epoch 14/100\n",
      "2700/2700 [==============================] - 0s 115us/sample - loss: 0.4121 - accuracy: 0.8885 - val_loss: 0.4383 - val_accuracy: 0.9033\n",
      "Epoch 15/100\n",
      "2700/2700 [==============================] - 0s 121us/sample - loss: 0.3953 - accuracy: 0.8930 - val_loss: 0.4325 - val_accuracy: 0.9000\n",
      "Epoch 16/100\n",
      "2700/2700 [==============================] - 0s 116us/sample - loss: 0.3788 - accuracy: 0.8985 - val_loss: 0.4178 - val_accuracy: 0.8967\n",
      "Epoch 17/100\n",
      "2700/2700 [==============================] - 0s 122us/sample - loss: 0.3660 - accuracy: 0.9007 - val_loss: 0.4072 - val_accuracy: 0.9000\n",
      "Epoch 18/100\n",
      "2700/2700 [==============================] - 0s 117us/sample - loss: 0.3536 - accuracy: 0.9026 - val_loss: 0.4049 - val_accuracy: 0.9067\n",
      "Epoch 19/100\n",
      "2700/2700 [==============================] - 0s 121us/sample - loss: 0.3416 - accuracy: 0.9078 - val_loss: 0.3984 - val_accuracy: 0.8967\n",
      "Epoch 20/100\n",
      "2700/2700 [==============================] - 0s 113us/sample - loss: 0.3317 - accuracy: 0.9100 - val_loss: 0.3993 - val_accuracy: 0.9067\n",
      "Epoch 21/100\n",
      "2700/2700 [==============================] - 0s 112us/sample - loss: 0.3219 - accuracy: 0.9100 - val_loss: 0.3864 - val_accuracy: 0.9033\n",
      "Epoch 22/100\n",
      "2700/2700 [==============================] - 0s 115us/sample - loss: 0.3131 - accuracy: 0.9096 - val_loss: 0.3850 - val_accuracy: 0.9033\n",
      "Epoch 23/100\n",
      "2700/2700 [==============================] - 0s 118us/sample - loss: 0.3048 - accuracy: 0.9189 - val_loss: 0.3818 - val_accuracy: 0.9067\n",
      "Epoch 24/100\n",
      "2700/2700 [==============================] - 0s 114us/sample - loss: 0.2965 - accuracy: 0.9185 - val_loss: 0.3805 - val_accuracy: 0.9033\n",
      "Epoch 25/100\n",
      "2700/2700 [==============================] - 0s 115us/sample - loss: 0.2887 - accuracy: 0.9204 - val_loss: 0.3766 - val_accuracy: 0.9067\n",
      "Epoch 26/100\n",
      "2700/2700 [==============================] - ETA: 0s - loss: 0.2828 - accuracy: 0.92 - 0s 114us/sample - loss: 0.2821 - accuracy: 0.9215 - val_loss: 0.3737 - val_accuracy: 0.9033\n",
      "Epoch 27/100\n",
      "2700/2700 [==============================] - 0s 112us/sample - loss: 0.2748 - accuracy: 0.9248 - val_loss: 0.3718 - val_accuracy: 0.9000\n",
      "Epoch 28/100\n",
      "2700/2700 [==============================] - 0s 115us/sample - loss: 0.2691 - accuracy: 0.9222 - val_loss: 0.3673 - val_accuracy: 0.9067\n",
      "Epoch 29/100\n",
      "2700/2700 [==============================] - 0s 117us/sample - loss: 0.2623 - accuracy: 0.9244 - val_loss: 0.3747 - val_accuracy: 0.9000\n",
      "Epoch 30/100\n",
      "2700/2700 [==============================] - 0s 119us/sample - loss: 0.2573 - accuracy: 0.9244 - val_loss: 0.3636 - val_accuracy: 0.9200\n",
      "Epoch 31/100\n",
      "2700/2700 [==============================] - 0s 122us/sample - loss: 0.2510 - accuracy: 0.9278 - val_loss: 0.3597 - val_accuracy: 0.8967\n",
      "Epoch 32/100\n",
      "2700/2700 [==============================] - 0s 125us/sample - loss: 0.2451 - accuracy: 0.9285 - val_loss: 0.3681 - val_accuracy: 0.9033\n",
      "Epoch 33/100\n",
      "2700/2700 [==============================] - 0s 123us/sample - loss: 0.2404 - accuracy: 0.9293 - val_loss: 0.3636 - val_accuracy: 0.9033\n",
      "Epoch 34/100\n",
      "2700/2700 [==============================] - 0s 109us/sample - loss: 0.2350 - accuracy: 0.9300 - val_loss: 0.3602 - val_accuracy: 0.9100\n",
      "Epoch 35/100\n",
      "2700/2700 [==============================] - 0s 114us/sample - loss: 0.2303 - accuracy: 0.9341 - val_loss: 0.3509 - val_accuracy: 0.9067\n",
      "Epoch 36/100\n",
      "2700/2700 [==============================] - 0s 117us/sample - loss: 0.2255 - accuracy: 0.9322 - val_loss: 0.3531 - val_accuracy: 0.9167\n",
      "Epoch 37/100\n",
      "2700/2700 [==============================] - 0s 127us/sample - loss: 0.2216 - accuracy: 0.9352 - val_loss: 0.3508 - val_accuracy: 0.9133\n",
      "Epoch 38/100\n",
      "2700/2700 [==============================] - 0s 119us/sample - loss: 0.2158 - accuracy: 0.9363 - val_loss: 0.3505 - val_accuracy: 0.9100\n",
      "Epoch 39/100\n",
      "2700/2700 [==============================] - 0s 118us/sample - loss: 0.2114 - accuracy: 0.9370 - val_loss: 0.3552 - val_accuracy: 0.9100\n",
      "Epoch 40/100\n",
      "2700/2700 [==============================] - 0s 118us/sample - loss: 0.2069 - accuracy: 0.9430 - val_loss: 0.3545 - val_accuracy: 0.9067\n",
      "Epoch 41/100\n",
      "2700/2700 [==============================] - 0s 123us/sample - loss: 0.2031 - accuracy: 0.9407 - val_loss: 0.3494 - val_accuracy: 0.9100\n",
      "Epoch 42/100\n",
      "2700/2700 [==============================] - 0s 126us/sample - loss: 0.1989 - accuracy: 0.9411 - val_loss: 0.3444 - val_accuracy: 0.9167\n",
      "Epoch 43/100\n",
      "2700/2700 [==============================] - 0s 127us/sample - loss: 0.1943 - accuracy: 0.9459 - val_loss: 0.3428 - val_accuracy: 0.9167\n",
      "Epoch 44/100\n",
      "2700/2700 [==============================] - 0s 128us/sample - loss: 0.1910 - accuracy: 0.9474 - val_loss: 0.3431 - val_accuracy: 0.9167\n",
      "Epoch 45/100\n",
      "2700/2700 [==============================] - 0s 123us/sample - loss: 0.1859 - accuracy: 0.9470 - val_loss: 0.3458 - val_accuracy: 0.9100\n",
      "Epoch 46/100\n",
      "2700/2700 [==============================] - 0s 119us/sample - loss: 0.1821 - accuracy: 0.9485 - val_loss: 0.3490 - val_accuracy: 0.9100\n",
      "Epoch 47/100\n",
      "2700/2700 [==============================] - 0s 123us/sample - loss: 0.1794 - accuracy: 0.9489 - val_loss: 0.3461 - val_accuracy: 0.9067\n",
      "Epoch 48/100\n",
      "2700/2700 [==============================] - 0s 116us/sample - loss: 0.1757 - accuracy: 0.9504 - val_loss: 0.3411 - val_accuracy: 0.9133\n",
      "Epoch 49/100\n",
      "2700/2700 [==============================] - 0s 124us/sample - loss: 0.1726 - accuracy: 0.9533 - val_loss: 0.3429 - val_accuracy: 0.9067\n",
      "Epoch 50/100\n",
      "2700/2700 [==============================] - 0s 126us/sample - loss: 0.1676 - accuracy: 0.9537 - val_loss: 0.3481 - val_accuracy: 0.9033\n",
      "Epoch 51/100\n",
      "2700/2700 [==============================] - 0s 128us/sample - loss: 0.1654 - accuracy: 0.9548 - val_loss: 0.3416 - val_accuracy: 0.9067\n",
      "Epoch 52/100\n",
      "2700/2700 [==============================] - 0s 126us/sample - loss: 0.1614 - accuracy: 0.9570 - val_loss: 0.3362 - val_accuracy: 0.9133\n",
      "Epoch 53/100\n",
      "2700/2700 [==============================] - 0s 120us/sample - loss: 0.1593 - accuracy: 0.9578 - val_loss: 0.3391 - val_accuracy: 0.9133\n",
      "Epoch 54/100\n",
      "2700/2700 [==============================] - 0s 128us/sample - loss: 0.1553 - accuracy: 0.9585 - val_loss: 0.3341 - val_accuracy: 0.9133\n",
      "Epoch 55/100\n"
     ]
    },
    {
     "name": "stdout",
     "output_type": "stream",
     "text": [
      "2700/2700 [==============================] - 0s 122us/sample - loss: 0.1525 - accuracy: 0.9615 - val_loss: 0.3331 - val_accuracy: 0.9167\n",
      "Epoch 56/100\n",
      "2700/2700 [==============================] - 0s 121us/sample - loss: 0.1491 - accuracy: 0.9607 - val_loss: 0.3401 - val_accuracy: 0.9033\n",
      "Epoch 57/100\n",
      "2700/2700 [==============================] - 0s 113us/sample - loss: 0.1465 - accuracy: 0.9593 - val_loss: 0.3305 - val_accuracy: 0.9167\n",
      "Epoch 58/100\n",
      "2700/2700 [==============================] - 0s 112us/sample - loss: 0.1438 - accuracy: 0.9630 - val_loss: 0.3362 - val_accuracy: 0.9067\n",
      "Epoch 59/100\n",
      "2700/2700 [==============================] - 0s 114us/sample - loss: 0.1403 - accuracy: 0.9652 - val_loss: 0.3285 - val_accuracy: 0.9100\n",
      "Epoch 60/100\n",
      "2700/2700 [==============================] - 0s 117us/sample - loss: 0.1375 - accuracy: 0.9637 - val_loss: 0.3316 - val_accuracy: 0.9100\n",
      "Epoch 61/100\n",
      "2700/2700 [==============================] - 0s 119us/sample - loss: 0.1351 - accuracy: 0.9652 - val_loss: 0.3365 - val_accuracy: 0.9067\n",
      "Epoch 62/100\n",
      "2700/2700 [==============================] - 0s 119us/sample - loss: 0.1321 - accuracy: 0.9652 - val_loss: 0.3331 - val_accuracy: 0.9167\n",
      "Epoch 63/100\n",
      "2700/2700 [==============================] - 0s 119us/sample - loss: 0.1294 - accuracy: 0.9667 - val_loss: 0.3403 - val_accuracy: 0.9033\n",
      "Epoch 64/100\n",
      "2700/2700 [==============================] - 0s 125us/sample - loss: 0.1265 - accuracy: 0.9689 - val_loss: 0.3314 - val_accuracy: 0.9100\n",
      "Epoch 65/100\n",
      "2700/2700 [==============================] - 0s 113us/sample - loss: 0.1248 - accuracy: 0.9696 - val_loss: 0.3354 - val_accuracy: 0.9100\n",
      "Epoch 66/100\n",
      "2700/2700 [==============================] - 0s 122us/sample - loss: 0.1219 - accuracy: 0.9704 - val_loss: 0.3444 - val_accuracy: 0.9067\n",
      "Epoch 67/100\n",
      "2700/2700 [==============================] - 0s 118us/sample - loss: 0.1190 - accuracy: 0.9715 - val_loss: 0.3300 - val_accuracy: 0.9100\n",
      "Epoch 68/100\n",
      "2700/2700 [==============================] - 0s 116us/sample - loss: 0.1170 - accuracy: 0.9711 - val_loss: 0.3311 - val_accuracy: 0.9067\n",
      "Epoch 69/100\n",
      "2700/2700 [==============================] - 0s 116us/sample - loss: 0.1142 - accuracy: 0.9737 - val_loss: 0.3318 - val_accuracy: 0.9133\n",
      "Epoch 70/100\n",
      "2700/2700 [==============================] - 0s 117us/sample - loss: 0.1122 - accuracy: 0.9737 - val_loss: 0.3328 - val_accuracy: 0.9133\n",
      "Epoch 71/100\n",
      "2700/2700 [==============================] - 0s 109us/sample - loss: 0.1101 - accuracy: 0.9733 - val_loss: 0.3297 - val_accuracy: 0.9133\n",
      "Epoch 72/100\n",
      "2700/2700 [==============================] - 0s 117us/sample - loss: 0.1071 - accuracy: 0.9756 - val_loss: 0.3424 - val_accuracy: 0.9100\n",
      "Epoch 73/100\n",
      "2700/2700 [==============================] - 0s 117us/sample - loss: 0.1058 - accuracy: 0.9737 - val_loss: 0.3310 - val_accuracy: 0.9100\n",
      "Epoch 74/100\n",
      "2700/2700 [==============================] - 0s 116us/sample - loss: 0.1037 - accuracy: 0.9774 - val_loss: 0.3320 - val_accuracy: 0.9100\n",
      "Epoch 75/100\n",
      "2700/2700 [==============================] - 0s 118us/sample - loss: 0.1010 - accuracy: 0.9752 - val_loss: 0.3390 - val_accuracy: 0.9100\n",
      "Epoch 76/100\n",
      "2700/2700 [==============================] - 0s 119us/sample - loss: 0.0989 - accuracy: 0.9785 - val_loss: 0.3361 - val_accuracy: 0.9033\n",
      "Epoch 77/100\n",
      "2700/2700 [==============================] - 0s 115us/sample - loss: 0.0969 - accuracy: 0.9800 - val_loss: 0.3385 - val_accuracy: 0.9133\n",
      "Epoch 78/100\n",
      "2700/2700 [==============================] - 0s 116us/sample - loss: 0.0954 - accuracy: 0.9789 - val_loss: 0.3293 - val_accuracy: 0.9100\n",
      "Epoch 79/100\n",
      "2700/2700 [==============================] - 0s 122us/sample - loss: 0.0930 - accuracy: 0.9815 - val_loss: 0.3392 - val_accuracy: 0.9100\n",
      "Epoch 80/100\n",
      "2700/2700 [==============================] - 0s 118us/sample - loss: 0.0912 - accuracy: 0.9819 - val_loss: 0.3355 - val_accuracy: 0.9067\n",
      "Epoch 81/100\n",
      "2700/2700 [==============================] - 0s 115us/sample - loss: 0.0892 - accuracy: 0.9819 - val_loss: 0.3305 - val_accuracy: 0.9133\n",
      "Epoch 82/100\n",
      "2700/2700 [==============================] - 0s 118us/sample - loss: 0.0877 - accuracy: 0.9830 - val_loss: 0.3350 - val_accuracy: 0.9067\n",
      "Epoch 83/100\n",
      "2700/2700 [==============================] - 0s 116us/sample - loss: 0.0860 - accuracy: 0.9815 - val_loss: 0.3368 - val_accuracy: 0.9167\n",
      "Epoch 84/100\n",
      "2700/2700 [==============================] - 0s 109us/sample - loss: 0.0842 - accuracy: 0.9856 - val_loss: 0.3310 - val_accuracy: 0.9100\n",
      "Epoch 85/100\n",
      "2700/2700 [==============================] - 0s 123us/sample - loss: 0.0820 - accuracy: 0.9852 - val_loss: 0.3318 - val_accuracy: 0.9067\n",
      "Epoch 86/100\n",
      "2700/2700 [==============================] - 0s 120us/sample - loss: 0.0811 - accuracy: 0.9841 - val_loss: 0.3378 - val_accuracy: 0.9100\n",
      "Epoch 87/100\n",
      "2700/2700 [==============================] - 0s 113us/sample - loss: 0.0792 - accuracy: 0.9852 - val_loss: 0.3349 - val_accuracy: 0.9000\n",
      "Epoch 88/100\n",
      "2700/2700 [==============================] - 0s 114us/sample - loss: 0.0774 - accuracy: 0.9881 - val_loss: 0.3320 - val_accuracy: 0.9133\n",
      "Epoch 89/100\n",
      "2700/2700 [==============================] - 0s 115us/sample - loss: 0.0760 - accuracy: 0.9878 - val_loss: 0.3392 - val_accuracy: 0.9067\n",
      "Epoch 90/100\n",
      "2700/2700 [==============================] - 0s 113us/sample - loss: 0.0747 - accuracy: 0.9893 - val_loss: 0.3413 - val_accuracy: 0.9067\n",
      "Epoch 91/100\n",
      "2700/2700 [==============================] - 0s 116us/sample - loss: 0.0730 - accuracy: 0.9889 - val_loss: 0.3344 - val_accuracy: 0.9033\n",
      "Epoch 92/100\n",
      "2700/2700 [==============================] - 0s 114us/sample - loss: 0.0714 - accuracy: 0.9900 - val_loss: 0.3375 - val_accuracy: 0.9067\n",
      "Epoch 93/100\n",
      "2700/2700 [==============================] - 0s 121us/sample - loss: 0.0700 - accuracy: 0.9904 - val_loss: 0.3365 - val_accuracy: 0.9067\n",
      "Epoch 94/100\n",
      "2700/2700 [==============================] - 0s 116us/sample - loss: 0.0689 - accuracy: 0.9904 - val_loss: 0.3332 - val_accuracy: 0.9033\n",
      "Epoch 95/100\n",
      "2700/2700 [==============================] - 0s 117us/sample - loss: 0.0675 - accuracy: 0.9919 - val_loss: 0.3344 - val_accuracy: 0.9100\n",
      "Epoch 96/100\n",
      "2700/2700 [==============================] - 0s 117us/sample - loss: 0.0662 - accuracy: 0.9919 - val_loss: 0.3372 - val_accuracy: 0.9033\n",
      "Epoch 97/100\n",
      "2700/2700 [==============================] - 0s 111us/sample - loss: 0.0651 - accuracy: 0.9900 - val_loss: 0.3346 - val_accuracy: 0.9100\n",
      "Epoch 98/100\n",
      "2700/2700 [==============================] - 0s 119us/sample - loss: 0.0635 - accuracy: 0.9933 - val_loss: 0.3362 - val_accuracy: 0.9100\n",
      "Epoch 99/100\n",
      "2700/2700 [==============================] - 0s 121us/sample - loss: 0.0622 - accuracy: 0.9933 - val_loss: 0.3363 - val_accuracy: 0.9033\n",
      "Epoch 100/100\n",
      "2700/2700 [==============================] - 0s 114us/sample - loss: 0.0612 - accuracy: 0.9937 - val_loss: 0.3349 - val_accuracy: 0.9067\n"
     ]
    }
   ],
   "source": [
    "t1 = time.time()\n",
    "history = model.fit(trainX,traint,batch_size=16,epochs=100,verbose=1,validation_data=(testX,testt))\n",
    "t2 = time.time()"
   ]
  },
  {
   "cell_type": "code",
   "execution_count": 18,
   "metadata": {},
   "outputs": [
    {
     "data": {
      "text/plain": [
       "33.250147342681885"
      ]
     },
     "execution_count": 18,
     "metadata": {},
     "output_type": "execute_result"
    }
   ],
   "source": [
    "t2-t1"
   ]
  },
  {
   "cell_type": "code",
   "execution_count": 20,
   "metadata": {},
   "outputs": [
    {
     "data": {
      "text/plain": [
       "dict_keys(['loss', 'accuracy', 'val_loss', 'val_accuracy'])"
      ]
     },
     "execution_count": 20,
     "metadata": {},
     "output_type": "execute_result"
    }
   ],
   "source": [
    "history.history.keys()"
   ]
  },
  {
   "cell_type": "code",
   "execution_count": 21,
   "metadata": {},
   "outputs": [
    {
     "data": {
      "image/png": "[encoded data removed]",
      "text/plain": [
       "<Figure size 432x288 with 1 Axes>"
      ]
     },
     "metadata": {},
     "output_type": "display_data"
    }
   ],
   "source": [
    "plt.plot(history.history['accuracy'])\n",
    "plt.plot(history.history['val_accuracy'])\n",
    "plt.title('Accuracy')\n",
    "plt.xlabel('Epoch')\n",
    "plt.legend(['training', 'validation'], loc='best')\n",
    "plt.show()"
   ]
  },
  {
   "cell_type": "code",
   "execution_count": 22,
   "metadata": {},
   "outputs": [
    {
     "data": {
      "image/png": "[encoded data removed]",
      "text/plain": [
       "<Figure size 432x288 with 1 Axes>"
      ]
     },
     "metadata": {},
     "output_type": "display_data"
    }
   ],
   "source": [
    "plt.plot(history.history['loss'])\n",
    "plt.plot(history.history['val_loss'])\n",
    "plt.title('Error')\n",
    "plt.xlabel('epoch')\n",
    "plt.legend(['training', 'validation'], loc='best')\n",
    "plt.show()"
   ]
  },
  {
   "cell_type": "code",
   "execution_count": null,
   "metadata": {},
   "outputs": [],
   "source": []
  }
 ],
 "metadata": {
  "kernelspec": {
   "display_name": "Python 3",
   "language": "python",
   "name": "python3"
  },
  "language_info": {
   "codemirror_mode": {
    "name": "ipython",
    "version": 3
   },
   "file_extension": ".py",
   "mimetype": "text/x-python",
   "name": "python",
   "nbconvert_exporter": "python",
   "pygments_lexer": "ipython3",
   "version": "3.7.6"
  }
 },
 "nbformat": 4,
 "nbformat_minor": 4
}
