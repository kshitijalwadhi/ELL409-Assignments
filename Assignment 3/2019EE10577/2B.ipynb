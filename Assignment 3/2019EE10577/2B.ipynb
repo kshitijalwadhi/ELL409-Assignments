{
 "cells": [
  {
   "cell_type": "code",
   "execution_count": 15,
   "metadata": {},
   "outputs": [],
   "source": [
    "from tensorflow import keras\n",
    "from tensorflow.keras import layers,Model\n",
    "\n",
    "# This is the size of our encoded representations\n",
    "encoding_dim = 32  # 32 floats -> compression of factor 24.5, assuming the input is 784 floats\n",
    "\n",
    "# This is our input image\n",
    "input_img = keras.Input(shape=(784,))\n",
    "# \"encoded\" is the encoded representation of the input\n",
    "encoded = layers.Dense(encoding_dim, activation='relu')(input_img)\n",
    "# \"decoded\" is the lossy reconstruction of the input\n",
    "decoded = layers.Dense(784, activation='sigmoid')(encoded)\n",
    "\n",
    "# This model maps an input to its reconstruction\n",
    "autoencoder = keras.Model(input_img, decoded)"
   ]
  },
  {
   "cell_type": "code",
   "execution_count": 2,
   "metadata": {},
   "outputs": [],
   "source": [
    "# This model maps an input to its encoded representation\n",
    "encoder = keras.Model(input_img, encoded)"
   ]
  },
  {
   "cell_type": "code",
   "execution_count": 3,
   "metadata": {},
   "outputs": [],
   "source": [
    "# This is our encoded (32-dimensional) input\n",
    "encoded_input = keras.Input(shape=(encoding_dim,))\n",
    "# Retrieve the last layer of the autoencoder model\n",
    "decoder_layer = autoencoder.layers[-1]\n",
    "# Create the decoder model\n",
    "decoder = keras.Model(encoded_input, decoder_layer(encoded_input))"
   ]
  },
  {
   "cell_type": "code",
   "execution_count": 4,
   "metadata": {},
   "outputs": [],
   "source": [
    "autoencoder.compile(optimizer='adam', loss='binary_crossentropy')"
   ]
  },
  {
   "cell_type": "code",
   "execution_count": 6,
   "metadata": {},
   "outputs": [
    {
     "name": "stdout",
     "output_type": "stream",
     "text": [
      "Model: \"model_1\"\n",
      "_________________________________________________________________\n",
      "Layer (type)                 Output Shape              Param #   \n",
      "=================================================================\n",
      "input_1 (InputLayer)         [(None, 784)]             0         \n",
      "_________________________________________________________________\n",
      "dense (Dense)                (None, 32)                25120     \n",
      "=================================================================\n",
      "Total params: 25,120\n",
      "Trainable params: 25,120\n",
      "Non-trainable params: 0\n",
      "_________________________________________________________________\n"
     ]
    }
   ],
   "source": [
    "encoder.summary()"
   ]
  },
  {
   "cell_type": "code",
   "execution_count": 7,
   "metadata": {},
   "outputs": [
    {
     "name": "stdout",
     "output_type": "stream",
     "text": [
      "Model: \"model_2\"\n",
      "_________________________________________________________________\n",
      "Layer (type)                 Output Shape              Param #   \n",
      "=================================================================\n",
      "input_2 (InputLayer)         [(None, 32)]              0         \n",
      "_________________________________________________________________\n",
      "dense_1 (Dense)              (None, 784)               25872     \n",
      "=================================================================\n",
      "Total params: 25,872\n",
      "Trainable params: 25,872\n",
      "Non-trainable params: 0\n",
      "_________________________________________________________________\n"
     ]
    }
   ],
   "source": [
    "decoder.summary()"
   ]
  },
  {
   "cell_type": "code",
   "execution_count": 5,
   "metadata": {},
   "outputs": [
    {
     "name": "stdout",
     "output_type": "stream",
     "text": [
      "Model: \"model\"\n",
      "_________________________________________________________________\n",
      "Layer (type)                 Output Shape              Param #   \n",
      "=================================================================\n",
      "input_1 (InputLayer)         [(None, 784)]             0         \n",
      "_________________________________________________________________\n",
      "dense (Dense)                (None, 32)                25120     \n",
      "_________________________________________________________________\n",
      "dense_1 (Dense)              (None, 784)               25872     \n",
      "=================================================================\n",
      "Total params: 50,992\n",
      "Trainable params: 50,992\n",
      "Non-trainable params: 0\n",
      "_________________________________________________________________\n"
     ]
    }
   ],
   "source": [
    "autoencoder.summary()"
   ]
  },
  {
   "cell_type": "code",
   "execution_count": 8,
   "metadata": {},
   "outputs": [
    {
     "name": "stdout",
     "output_type": "stream",
     "text": [
      "(60000, 784)\n",
      "(10000, 784)\n"
     ]
    }
   ],
   "source": [
    "from tensorflow.keras.datasets import mnist\n",
    "import numpy as np\n",
    "(x_train, _), (x_test, _) = mnist.load_data()\n",
    "x_train = x_train.astype('float32') / 255.\n",
    "x_test = x_test.astype('float32') / 255.\n",
    "x_train = x_train.reshape((len(x_train), np.prod(x_train.shape[1:])))\n",
    "x_test = x_test.reshape((len(x_test), np.prod(x_test.shape[1:])))\n",
    "print(x_train.shape)\n",
    "print(x_test.shape)"
   ]
  },
  {
   "cell_type": "code",
   "execution_count": 9,
   "metadata": {},
   "outputs": [
    {
     "name": "stdout",
     "output_type": "stream",
     "text": [
      "Train on 60000 samples, validate on 10000 samples\n",
      "Epoch 1/10\n",
      "60000/60000 [==============================] - 18s 295us/sample - loss: 0.1398 - val_loss: 0.1009\n",
      "Epoch 2/10\n",
      "60000/60000 [==============================] - 18s 298us/sample - loss: 0.0980 - val_loss: 0.0948\n",
      "Epoch 3/10\n",
      "60000/60000 [==============================] - 18s 300us/sample - loss: 0.0956 - val_loss: 0.0938\n",
      "Epoch 4/10\n",
      "60000/60000 [==============================] - 21s 344us/sample - loss: 0.0950 - val_loss: 0.0934\n",
      "Epoch 5/10\n",
      "60000/60000 [==============================] - 24s 405us/sample - loss: 0.0947 - val_loss: 0.0930\n",
      "Epoch 6/10\n",
      "60000/60000 [==============================] - 30s 500us/sample - loss: 0.0945 - val_loss: 0.0931\n",
      "Epoch 7/10\n",
      "60000/60000 [==============================] - 33s 545us/sample - loss: 0.0943 - val_loss: 0.0929\n",
      "Epoch 8/10\n",
      "60000/60000 [==============================] - 15s 258us/sample - loss: 0.0942 - val_loss: 0.0927\n",
      "Epoch 9/10\n",
      "60000/60000 [==============================] - 15s 255us/sample - loss: 0.0940 - val_loss: 0.0929\n",
      "Epoch 10/10\n",
      "60000/60000 [==============================] - 13s 214us/sample - loss: 0.0939 - val_loss: 0.0929\n"
     ]
    },
    {
     "data": {
      "text/plain": [
       "<tensorflow.python.keras.callbacks.History at 0x29200077e48>"
      ]
     },
     "execution_count": 9,
     "metadata": {},
     "output_type": "execute_result"
    }
   ],
   "source": [
    "autoencoder.fit(x_train, x_train,\n",
    "                epochs=10,\n",
    "                batch_size=16,\n",
    "                shuffle=True,\n",
    "                validation_data=(x_test, x_test))"
   ]
  },
  {
   "cell_type": "code",
   "execution_count": 9,
   "metadata": {},
   "outputs": [],
   "source": [
    "encoded_imgs = encoder.predict(x_test)\n",
    "decoded_imgs = decoder.predict(encoded_imgs)"
   ]
  },
  {
   "cell_type": "code",
   "execution_count": 10,
   "metadata": {},
   "outputs": [
    {
     "data": {
      "image/png": "[encoded data removed]",
      "text/plain": [
       "<Figure size 1440x288 with 20 Axes>"
      ]
     },
     "metadata": {
      "needs_background": "light"
     },
     "output_type": "display_data"
    }
   ],
   "source": [
    "import matplotlib.pyplot as plt\n",
    "\n",
    "n = 10  # How many digits we will display\n",
    "plt.figure(figsize=(20, 4))\n",
    "for i in range(n):\n",
    "    # Display original\n",
    "    ax = plt.subplot(2, n, i + 1)\n",
    "    plt.imshow(x_test[i].reshape(28, 28))\n",
    "    plt.gray()\n",
    "    ax.get_xaxis().set_visible(False)\n",
    "    ax.get_yaxis().set_visible(False)\n",
    "\n",
    "    # Display reconstruction\n",
    "    ax = plt.subplot(2, n, i + 1 + n)\n",
    "    plt.imshow(decoded_imgs[i].reshape(28, 28))\n",
    "    plt.gray()\n",
    "    ax.get_xaxis().set_visible(False)\n",
    "    ax.get_yaxis().set_visible(False)\n",
    "plt.show()"
   ]
  },
  {
   "cell_type": "code",
   "execution_count": null,
   "metadata": {},
   "outputs": [],
   "source": []
  },
  {
   "cell_type": "code",
   "execution_count": 10,
   "metadata": {},
   "outputs": [],
   "source": [
    "model = autoencoder"
   ]
  },
  {
   "cell_type": "code",
   "execution_count": 13,
   "metadata": {},
   "outputs": [
    {
     "name": "stdout",
     "output_type": "stream",
     "text": [
      "input_1\n",
      "dense\n",
      "dense_1\n"
     ]
    }
   ],
   "source": [
    "for layer in model.layers:\n",
    "    print(layer.name)"
   ]
  },
  {
   "cell_type": "code",
   "execution_count": 30,
   "metadata": {},
   "outputs": [],
   "source": [
    "layer_name = 'dense'\n",
    "intermediate_layer_model = Model(inputs=model.input,\n",
    "                                 outputs=model.get_layer(layer_name).output)\n",
    "#intermediate_output = intermediate_layer_model.predict(data)"
   ]
  },
  {
   "cell_type": "code",
   "execution_count": 18,
   "metadata": {},
   "outputs": [],
   "source": [
    "import numpy as np\n",
    "import pandas as pd\n",
    "import matplotlib.pyplot as plt\n",
    "from tqdm.notebook import tqdm\n",
    "import seaborn as sns\n",
    "import time\n",
    "sns.set_theme()\n",
    "import random\n",
    "random.seed(42)\n",
    "np.random.seed(42)\n",
    "import tensorflow as tf\n",
    "from tensorflow.keras.layers import Dense\n",
    "from tensorflow.keras.models import Sequential\n",
    "from tensorflow.keras import optimizers"
   ]
  },
  {
   "cell_type": "code",
   "execution_count": 19,
   "metadata": {},
   "outputs": [],
   "source": [
    "df = pd.read_csv('2019EE10577.csv',header=None)"
   ]
  },
  {
   "cell_type": "code",
   "execution_count": 20,
   "metadata": {},
   "outputs": [],
   "source": [
    "NUM_FEATURES = 784"
   ]
  },
  {
   "cell_type": "code",
   "execution_count": 21,
   "metadata": {},
   "outputs": [],
   "source": [
    "def getData():\n",
    "    X,y = [],[]\n",
    "    for i,row in df.iterrows():\n",
    "        X.append(row[:NUM_FEATURES])\n",
    "        y.append(int(row[NUM_FEATURES]))\n",
    "    return X,y"
   ]
  },
  {
   "cell_type": "code",
   "execution_count": 22,
   "metadata": {},
   "outputs": [],
   "source": [
    "Xorig,Yorig = getData()"
   ]
  },
  {
   "cell_type": "code",
   "execution_count": 38,
   "metadata": {},
   "outputs": [],
   "source": [
    "Xorig = np.array(Xorig)"
   ]
  },
  {
   "cell_type": "code",
   "execution_count": 39,
   "metadata": {},
   "outputs": [],
   "source": [
    "output = intermediate_layer_model.predict(Xorig)"
   ]
  },
  {
   "cell_type": "code",
   "execution_count": 40,
   "metadata": {},
   "outputs": [
    {
     "data": {
      "text/plain": [
       "(3000, 32)"
      ]
     },
     "execution_count": 40,
     "metadata": {},
     "output_type": "execute_result"
    }
   ],
   "source": [
    "output.shape"
   ]
  },
  {
   "cell_type": "code",
   "execution_count": 41,
   "metadata": {},
   "outputs": [],
   "source": [
    "t_onehot = np.zeros((len(Yorig),10))\n",
    "t_onehot[np.arange(len(t_onehot)),Yorig] = 1\n",
    "torig = t_onehot"
   ]
  },
  {
   "cell_type": "code",
   "execution_count": 49,
   "metadata": {},
   "outputs": [],
   "source": [
    "trainX = np.array(output[:2700])\n",
    "traint = np.array(torig[:2700])\n",
    "testX = np.array(output[2700:])\n",
    "testt = np.array(torig[2700:])"
   ]
  },
  {
   "cell_type": "code",
   "execution_count": null,
   "metadata": {},
   "outputs": [],
   "source": []
  },
  {
   "cell_type": "code",
   "execution_count": 50,
   "metadata": {},
   "outputs": [],
   "source": [
    "model = Sequential()\n",
    "model.add(Dense(units=100,activation='relu',input_shape=(32,)))\n",
    "model.add(Dense(units=64,activation='relu'))\n",
    "model.add(Dense(units=10,activation='softmax'))"
   ]
  },
  {
   "cell_type": "code",
   "execution_count": 51,
   "metadata": {},
   "outputs": [],
   "source": [
    "opt = optimizers.SGD(lr=0.004)\n",
    "model.compile(optimizer=opt,loss='categorical_crossentropy',metrics=['accuracy'])"
   ]
  },
  {
   "cell_type": "code",
   "execution_count": 52,
   "metadata": {},
   "outputs": [
    {
     "name": "stdout",
     "output_type": "stream",
     "text": [
      "Model: \"sequential_1\"\n",
      "_________________________________________________________________\n",
      "Layer (type)                 Output Shape              Param #   \n",
      "=================================================================\n",
      "dense_7 (Dense)              (None, 100)               3300      \n",
      "_________________________________________________________________\n",
      "dense_8 (Dense)              (None, 64)                6464      \n",
      "_________________________________________________________________\n",
      "dense_9 (Dense)              (None, 10)                650       \n",
      "=================================================================\n",
      "Total params: 10,414\n",
      "Trainable params: 10,414\n",
      "Non-trainable params: 0\n",
      "_________________________________________________________________\n"
     ]
    }
   ],
   "source": [
    "model.summary()"
   ]
  },
  {
   "cell_type": "code",
   "execution_count": 54,
   "metadata": {},
   "outputs": [
    {
     "name": "stdout",
     "output_type": "stream",
     "text": [
      "Train on 2700 samples, validate on 300 samples\n",
      "Epoch 1/65\n",
      "2700/2700 [==============================] - 0s 74us/sample - loss: 0.0412 - accuracy: 0.9937 - val_loss: 0.2890 - val_accuracy: 0.9067\n",
      "Epoch 2/65\n",
      "2700/2700 [==============================] - 0s 74us/sample - loss: 0.0397 - accuracy: 0.9948 - val_loss: 0.2398 - val_accuracy: 0.9167\n",
      "Epoch 3/65\n",
      "2700/2700 [==============================] - 0s 74us/sample - loss: 0.0387 - accuracy: 0.9948 - val_loss: 0.2454 - val_accuracy: 0.9233\n",
      "Epoch 4/65\n",
      "2700/2700 [==============================] - 0s 85us/sample - loss: 0.0381 - accuracy: 0.9956 - val_loss: 0.2436 - val_accuracy: 0.9167\n",
      "Epoch 5/65\n",
      "2700/2700 [==============================] - 0s 74us/sample - loss: 0.0364 - accuracy: 0.9967 - val_loss: 0.2468 - val_accuracy: 0.9233\n",
      "Epoch 6/65\n",
      "2700/2700 [==============================] - 0s 74us/sample - loss: 0.0367 - accuracy: 0.9967 - val_loss: 0.2585 - val_accuracy: 0.9267\n",
      "Epoch 7/65\n",
      "2700/2700 [==============================] - 0s 74us/sample - loss: 0.0354 - accuracy: 0.9956 - val_loss: 0.2408 - val_accuracy: 0.9200\n",
      "Epoch 8/65\n",
      "2700/2700 [==============================] - 0s 70us/sample - loss: 0.0358 - accuracy: 0.9967 - val_loss: 0.2589 - val_accuracy: 0.9167\n",
      "Epoch 9/65\n",
      "2700/2700 [==============================] - 0s 78us/sample - loss: 0.0347 - accuracy: 0.9956 - val_loss: 0.2398 - val_accuracy: 0.9167\n",
      "Epoch 10/65\n",
      "2700/2700 [==============================] - 0s 78us/sample - loss: 0.0350 - accuracy: 0.9970 - val_loss: 0.2507 - val_accuracy: 0.9267\n",
      "Epoch 11/65\n",
      "2700/2700 [==============================] - 0s 74us/sample - loss: 0.0333 - accuracy: 0.9963 - val_loss: 0.2450 - val_accuracy: 0.9300\n",
      "Epoch 12/65\n",
      "2700/2700 [==============================] - 0s 74us/sample - loss: 0.0332 - accuracy: 0.9963 - val_loss: 0.2521 - val_accuracy: 0.9133\n",
      "Epoch 13/65\n",
      "2700/2700 [==============================] - 0s 74us/sample - loss: 0.0319 - accuracy: 0.9959 - val_loss: 0.2468 - val_accuracy: 0.9133\n",
      "Epoch 14/65\n",
      "2700/2700 [==============================] - 0s 74us/sample - loss: 0.0314 - accuracy: 0.9967 - val_loss: 0.2356 - val_accuracy: 0.9233\n",
      "Epoch 15/65\n",
      "2700/2700 [==============================] - 0s 74us/sample - loss: 0.0323 - accuracy: 0.9956 - val_loss: 0.2533 - val_accuracy: 0.9200\n",
      "Epoch 16/65\n",
      "2700/2700 [==============================] - 0s 70us/sample - loss: 0.0302 - accuracy: 0.9978 - val_loss: 0.2501 - val_accuracy: 0.9133\n",
      "Epoch 17/65\n",
      "2700/2700 [==============================] - 0s 74us/sample - loss: 0.0292 - accuracy: 0.9970 - val_loss: 0.2539 - val_accuracy: 0.9167\n",
      "Epoch 18/65\n",
      "2700/2700 [==============================] - 0s 74us/sample - loss: 0.0288 - accuracy: 0.9985 - val_loss: 0.2557 - val_accuracy: 0.9233\n",
      "Epoch 19/65\n",
      "2700/2700 [==============================] - 0s 70us/sample - loss: 0.0292 - accuracy: 0.9978 - val_loss: 0.2530 - val_accuracy: 0.9233\n",
      "Epoch 20/65\n",
      "2700/2700 [==============================] - 0s 67us/sample - loss: 0.0280 - accuracy: 0.9978 - val_loss: 0.2552 - val_accuracy: 0.9200\n",
      "Epoch 21/65\n",
      "2700/2700 [==============================] - 0s 67us/sample - loss: 0.0280 - accuracy: 0.9970 - val_loss: 0.2551 - val_accuracy: 0.9200\n",
      "Epoch 22/65\n",
      "2700/2700 [==============================] - 0s 74us/sample - loss: 0.0269 - accuracy: 0.9981 - val_loss: 0.2504 - val_accuracy: 0.9167\n",
      "Epoch 23/65\n",
      "2700/2700 [==============================] - 0s 74us/sample - loss: 0.0266 - accuracy: 0.9981 - val_loss: 0.2608 - val_accuracy: 0.9200\n",
      "Epoch 24/65\n",
      "2700/2700 [==============================] - 0s 74us/sample - loss: 0.0256 - accuracy: 0.9985 - val_loss: 0.2569 - val_accuracy: 0.9267\n",
      "Epoch 25/65\n",
      "2700/2700 [==============================] - 0s 70us/sample - loss: 0.0257 - accuracy: 0.9993 - val_loss: 0.2545 - val_accuracy: 0.9233\n",
      "Epoch 26/65\n",
      "2700/2700 [==============================] - 0s 78us/sample - loss: 0.0255 - accuracy: 0.9981 - val_loss: 0.2546 - val_accuracy: 0.9200\n",
      "Epoch 27/65\n",
      "2700/2700 [==============================] - 0s 70us/sample - loss: 0.0241 - accuracy: 0.9989 - val_loss: 0.2315 - val_accuracy: 0.9333\n",
      "Epoch 28/65\n",
      "2700/2700 [==============================] - 0s 74us/sample - loss: 0.0245 - accuracy: 0.9985 - val_loss: 0.2534 - val_accuracy: 0.9200\n",
      "Epoch 29/65\n",
      "2700/2700 [==============================] - 0s 85us/sample - loss: 0.0239 - accuracy: 0.9981 - val_loss: 0.2388 - val_accuracy: 0.9267\n",
      "Epoch 30/65\n",
      "2700/2700 [==============================] - 0s 70us/sample - loss: 0.0239 - accuracy: 0.9985 - val_loss: 0.2512 - val_accuracy: 0.9233\n",
      "Epoch 31/65\n",
      "2700/2700 [==============================] - 0s 63us/sample - loss: 0.0226 - accuracy: 0.9993 - val_loss: 0.2510 - val_accuracy: 0.9233\n",
      "Epoch 32/65\n",
      "2700/2700 [==============================] - 0s 70us/sample - loss: 0.0228 - accuracy: 0.9993 - val_loss: 0.2529 - val_accuracy: 0.9167\n",
      "Epoch 33/65\n",
      "2700/2700 [==============================] - 0s 74us/sample - loss: 0.0221 - accuracy: 0.9996 - val_loss: 0.2575 - val_accuracy: 0.9133\n",
      "Epoch 34/65\n",
      "2700/2700 [==============================] - 0s 74us/sample - loss: 0.0219 - accuracy: 0.9993 - val_loss: 0.2383 - val_accuracy: 0.9267\n",
      "Epoch 35/65\n",
      "2700/2700 [==============================] - 0s 70us/sample - loss: 0.0219 - accuracy: 0.9993 - val_loss: 0.2499 - val_accuracy: 0.9233\n",
      "Epoch 36/65\n",
      "2700/2700 [==============================] - 0s 74us/sample - loss: 0.0212 - accuracy: 0.9989 - val_loss: 0.2459 - val_accuracy: 0.9267\n",
      "Epoch 37/65\n",
      "2700/2700 [==============================] - 0s 70us/sample - loss: 0.0207 - accuracy: 0.9996 - val_loss: 0.2539 - val_accuracy: 0.9133\n",
      "Epoch 38/65\n",
      "2700/2700 [==============================] - 0s 70us/sample - loss: 0.0207 - accuracy: 0.9993 - val_loss: 0.2673 - val_accuracy: 0.9133\n",
      "Epoch 39/65\n",
      "2700/2700 [==============================] - 0s 70us/sample - loss: 0.0204 - accuracy: 0.9993 - val_loss: 0.2556 - val_accuracy: 0.9200\n",
      "Epoch 40/65\n",
      "2700/2700 [==============================] - 0s 70us/sample - loss: 0.0205 - accuracy: 0.9993 - val_loss: 0.2531 - val_accuracy: 0.9233\n",
      "Epoch 41/65\n",
      "2700/2700 [==============================] - 0s 67us/sample - loss: 0.0199 - accuracy: 0.9996 - val_loss: 0.2464 - val_accuracy: 0.9100\n",
      "Epoch 42/65\n",
      "2700/2700 [==============================] - 0s 70us/sample - loss: 0.0189 - accuracy: 0.9993 - val_loss: 0.2648 - val_accuracy: 0.9167\n",
      "Epoch 43/65\n",
      "2700/2700 [==============================] - 0s 78us/sample - loss: 0.0193 - accuracy: 0.9996 - val_loss: 0.2556 - val_accuracy: 0.9233\n",
      "Epoch 44/65\n",
      "2700/2700 [==============================] - 0s 78us/sample - loss: 0.0191 - accuracy: 0.9996 - val_loss: 0.2584 - val_accuracy: 0.9233\n",
      "Epoch 45/65\n",
      "2700/2700 [==============================] - 0s 74us/sample - loss: 0.0188 - accuracy: 0.9996 - val_loss: 0.2618 - val_accuracy: 0.9233\n",
      "Epoch 46/65\n",
      "2700/2700 [==============================] - 0s 78us/sample - loss: 0.0187 - accuracy: 0.9993 - val_loss: 0.2483 - val_accuracy: 0.9167\n",
      "Epoch 47/65\n",
      "2700/2700 [==============================] - 0s 70us/sample - loss: 0.0181 - accuracy: 0.9996 - val_loss: 0.2623 - val_accuracy: 0.9200\n",
      "Epoch 48/65\n",
      "2700/2700 [==============================] - 0s 74us/sample - loss: 0.0175 - accuracy: 0.9996 - val_loss: 0.2602 - val_accuracy: 0.9167\n",
      "Epoch 49/65\n",
      "2700/2700 [==============================] - 0s 78us/sample - loss: 0.0177 - accuracy: 0.9996 - val_loss: 0.2544 - val_accuracy: 0.9267\n",
      "Epoch 50/65\n",
      "2700/2700 [==============================] - 0s 74us/sample - loss: 0.0174 - accuracy: 0.9996 - val_loss: 0.2529 - val_accuracy: 0.9233\n",
      "Epoch 51/65\n",
      "2700/2700 [==============================] - 0s 70us/sample - loss: 0.0171 - accuracy: 0.9996 - val_loss: 0.2509 - val_accuracy: 0.9233\n",
      "Epoch 52/65\n",
      "2700/2700 [==============================] - 0s 74us/sample - loss: 0.0169 - accuracy: 0.9996 - val_loss: 0.2619 - val_accuracy: 0.9133\n",
      "Epoch 53/65\n",
      "2700/2700 [==============================] - 0s 74us/sample - loss: 0.0163 - accuracy: 0.9996 - val_loss: 0.2540 - val_accuracy: 0.9200\n",
      "Epoch 54/65\n",
      "2700/2700 [==============================] - 0s 74us/sample - loss: 0.0167 - accuracy: 0.9996 - val_loss: 0.2611 - val_accuracy: 0.9167\n",
      "Epoch 55/65\n",
      "2700/2700 [==============================] - 0s 85us/sample - loss: 0.0161 - accuracy: 0.9993 - val_loss: 0.2517 - val_accuracy: 0.9233\n",
      "Epoch 56/65\n"
     ]
    },
    {
     "name": "stdout",
     "output_type": "stream",
     "text": [
      "2700/2700 [==============================] - 0s 78us/sample - loss: 0.0157 - accuracy: 0.9996 - val_loss: 0.2552 - val_accuracy: 0.9167\n",
      "Epoch 57/65\n",
      "2700/2700 [==============================] - 0s 70us/sample - loss: 0.0157 - accuracy: 0.9996 - val_loss: 0.2555 - val_accuracy: 0.9233\n",
      "Epoch 58/65\n",
      "2700/2700 [==============================] - 0s 78us/sample - loss: 0.0154 - accuracy: 0.9996 - val_loss: 0.2587 - val_accuracy: 0.9300\n",
      "Epoch 59/65\n",
      "2700/2700 [==============================] - 0s 70us/sample - loss: 0.0155 - accuracy: 0.9996 - val_loss: 0.2577 - val_accuracy: 0.9200\n",
      "Epoch 60/65\n",
      "2700/2700 [==============================] - 0s 67us/sample - loss: 0.0150 - accuracy: 1.0000 - val_loss: 0.2640 - val_accuracy: 0.9167\n",
      "Epoch 61/65\n",
      "2700/2700 [==============================] - 0s 63us/sample - loss: 0.0152 - accuracy: 0.9996 - val_loss: 0.2631 - val_accuracy: 0.9200\n",
      "Epoch 62/65\n",
      "2700/2700 [==============================] - 0s 67us/sample - loss: 0.0150 - accuracy: 0.9996 - val_loss: 0.2590 - val_accuracy: 0.9200\n",
      "Epoch 63/65\n",
      "2700/2700 [==============================] - 0s 67us/sample - loss: 0.0145 - accuracy: 1.0000 - val_loss: 0.2563 - val_accuracy: 0.9333\n",
      "Epoch 64/65\n",
      "2700/2700 [==============================] - 0s 70us/sample - loss: 0.0146 - accuracy: 0.9996 - val_loss: 0.2539 - val_accuracy: 0.9200\n",
      "Epoch 65/65\n",
      "2700/2700 [==============================] - 0s 74us/sample - loss: 0.0142 - accuracy: 0.9996 - val_loss: 0.2483 - val_accuracy: 0.9267\n"
     ]
    }
   ],
   "source": [
    "t1 = time.time()\n",
    "history = model.fit(trainX,traint,batch_size=16,epochs=65,verbose=1,validation_data=(testX,testt))\n",
    "t2 = time.time()"
   ]
  },
  {
   "cell_type": "code",
   "execution_count": 55,
   "metadata": {},
   "outputs": [
    {
     "data": {
      "text/plain": [
       "12.910130023956299"
      ]
     },
     "execution_count": 55,
     "metadata": {},
     "output_type": "execute_result"
    }
   ],
   "source": [
    "t2-t1"
   ]
  },
  {
   "cell_type": "code",
   "execution_count": null,
   "metadata": {},
   "outputs": [],
   "source": []
  }
 ],
 "metadata": {
  "kernelspec": {
   "display_name": "Python 3",
   "language": "python",
   "name": "python3"
  },
  "language_info": {
   "codemirror_mode": {
    "name": "ipython",
    "version": 3
   },
   "file_extension": ".py",
   "mimetype": "text/x-python",
   "name": "python",
   "nbconvert_exporter": "python",
   "pygments_lexer": "ipython3",
   "version": "3.7.6"
  }
 },
 "nbformat": 4,
 "nbformat_minor": 4
}
