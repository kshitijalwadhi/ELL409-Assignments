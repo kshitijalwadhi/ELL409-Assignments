{
 "cells": [
  {
   "cell_type": "code",
   "execution_count": null,
   "metadata": {},
   "outputs": [],
   "source": [
    "df = pd.DataFrame()\n",
    "bestLayer, bestLd, bestact = 0,0,0\n",
    "bestAcc = 0\n",
    "for layer in [1,2]:\n",
    "    for activation in [1,2,3]:\n",
    "        for lbd in tqdm([1e-8,1e-4,1e-2,5e-2,1e-1,5e-1]):\n",
    "            try:\n",
    "                nn = NN(epochs = 100,alpha=0.004,layers=layer,nodes=[100,64],lam=lbd,activation=activation,early=False)\n",
    "                train_acc_list,test_acc_list,train_error_list,test_error_list = nn.train(Xorig,Yorig,log=False)\n",
    "                test_acc = test_acc_list[-1]\n",
    "                train_acc = train_acc_list[-1]\n",
    "                if test_acc>bestAcc:\n",
    "                    bestLayer = layer\n",
    "                    bestLd = lbd\n",
    "                    bestact = activation\n",
    "                    bestAcc = test_acc\n",
    "                it = {'Layer':layer,'Activation':activation,'Lambd':lbd,'trainAcc':train_acc, 'testAcc':test_acc}\n",
    "                df = df.append(it,ignore_index=True)\n",
    "            except:\n",
    "                continue\n",
    "        df.to_csv('grid_pt1.csv',index=False)"
   ]
  }
 ],
 "metadata": {
  "kernelspec": {
   "display_name": "Python 3",
   "language": "python",
   "name": "python3"
  },
  "language_info": {
   "codemirror_mode": {
    "name": "ipython",
    "version": 3
   },
   "file_extension": ".py",
   "mimetype": "text/x-python",
   "name": "python",
   "nbconvert_exporter": "python",
   "pygments_lexer": "ipython3",
   "version": "3.7.6"
  }
 },
 "nbformat": 4,
 "nbformat_minor": 4
}
